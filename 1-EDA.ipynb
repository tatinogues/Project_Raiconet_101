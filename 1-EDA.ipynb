{
 "cells": [
  {
   "cell_type": "markdown",
   "metadata": {},
   "source": [
    "# Project 101\n",
    "### PARTE 1 - EDA"
   ]
  },
  {
   "cell_type": "markdown",
   "metadata": {},
   "source": [
    "### Contenido\n",
    "- [Introducción](#intro)\n",
    "- [Extracción de datos](#1)\n",
    "- [EDA](#eda)\n",
    "\n",
    "    - [Análisis de kilos](#2)\n",
    "    - [Comparación Impo vs Expo](#3)\n",
    "    - [Porcentaje de variación mensual](#4)\n",
    "    - [Comparativo Kilos Semanales por Servicio](#5)\n",
    "    - [Variables Exógenas que afectan el análisis](#6)\n"
   ]
  },
  {
   "cell_type": "markdown",
   "metadata": {},
   "source": [
    "### Introducción <a id='intro'></a>"
   ]
  },
  {
   "cell_type": "markdown",
   "metadata": {},
   "source": [
    "En esta primera sección del proyecto el objetivo es lograr obtener, limpiar y realizar un analisis descriptivo de los datos extraídos de la base de datos. De esta forma, buscamos comprender y analizar de forma exhaustiva el comportamiento de las variables de interés a lo largo del tiempo, para luego en la siguiente sección, hallar el modelo que mejor interprete la relacinó de las variables en el tiempo y logre predecir su comportamiento futuro. \n",
    "\n",
    "Para este proyecto, utilizaremos la base de datos de Raiconet, la cual se encuentra dentro de una VPN. Dentro de esta base de datos, se ecuentran todas las tablas del sistema de gestion, courier y contable llamado \"Raquel\". De esta base de datos Microsoft SQL, nuestro analisis estará basado en la table GUIAS la cual consta de entradas de todas las guias procesadas desde el 2019 hasta la fecha. A su vez, como se observara en el query a continuación utilizaremos otras tablas anexas para obtener detalles sobre los clientes, servicios, rutas y demas detalles que serán utiles en el análisis. Así, es posible analizar toda la prestación de servicios de los últimos 5 años y analizar ciclos, ventas, servicios, vendedores, mejores clientes, por kilos y por momentos del año. \n",
    "\n",
    "EL objetivo de este proyecto es lograr realizar un modelo de serie de tiempo que prediga la cantidad de kilos que se van traer en los proximos 3 meses, para cada motivo de facturacion (servicio), por ello esta primer etapa es crucial en comprender mejor la informmación con la que trabajaremos. "
   ]
  },
  {
   "cell_type": "code",
   "execution_count": 68,
   "metadata": {},
   "outputs": [
    {
     "data": {
      "text/html": [
       "        <script type=\"text/javascript\">\n",
       "        window.PlotlyConfig = {MathJaxConfig: 'local'};\n",
       "        if (window.MathJax && window.MathJax.Hub && window.MathJax.Hub.Config) {window.MathJax.Hub.Config({SVG: {font: \"STIX-Web\"}});}\n",
       "        if (typeof require !== 'undefined') {\n",
       "        require.undef(\"plotly\");\n",
       "        requirejs.config({\n",
       "            paths: {\n",
       "                'plotly': ['https://cdn.plot.ly/plotly-2.18.2.min']\n",
       "            }\n",
       "        });\n",
       "        require(['plotly'], function(Plotly) {\n",
       "            window._Plotly = Plotly;\n",
       "        });\n",
       "        }\n",
       "        </script>\n",
       "        "
      ]
     },
     "metadata": {},
     "output_type": "display_data"
    }
   ],
   "source": [
    "import pandas as pd\n",
    "from database_credentials import UID, PWD\n",
    "from geopy.geocoders import Nominatim\n",
    "import pyodbc \n",
    "import numpy as np\n",
    "from plotly.subplots import make_subplots\n",
    "import plotly_express as px\n",
    "import plotly.graph_objects as go\n",
    "import plotly.figure_factory as ff\n",
    "import pandas as pd\n",
    "from matplotlib import pyplot as plt\n",
    "import plotly.io as pio\n",
    "pio.renderers\n",
    "from plotly.offline import plot, iplot, init_notebook_mode\n",
    "init_notebook_mode(connected=True)"
   ]
  },
  {
   "cell_type": "markdown",
   "metadata": {},
   "source": [
    "### Extracción de datos <a id='1'></a>"
   ]
  },
  {
   "cell_type": "markdown",
   "metadata": {},
   "source": [
    "##### Conexion a DB"
   ]
  },
  {
   "cell_type": "code",
   "execution_count": 69,
   "metadata": {},
   "outputs": [],
   "source": [
    "cnxn_str= (\"Driver={SQL Server};\"\n",
    "            \"Server=172.16.2.49;\"\n",
    "            \"Database=Raico;\"\n",
    "            f\"UID={UID};\"\n",
    "            f\"PWD={PWD};\")\n",
    "cnxn = pyodbc.connect(cnxn_str)"
   ]
  },
  {
   "cell_type": "code",
   "execution_count": 70,
   "metadata": {},
   "outputs": [
    {
     "name": "stderr",
     "output_type": "stream",
     "text": [
      "c:\\Users\\Bravo15\\anaconda3\\lib\\site-packages\\pandas\\io\\sql.py:761: UserWarning:\n",
      "\n",
      "pandas only support SQLAlchemy connectable(engine/connection) ordatabase string URI or sqlite3 DBAPI2 connectionother DBAPI2 objects are not tested, please consider using SQLAlchemy\n",
      "\n"
     ]
    },
    {
     "name": "stderr",
     "output_type": "stream",
     "text": [
      "c:\\Users\\Bravo15\\anaconda3\\lib\\site-packages\\pandas\\io\\sql.py:761: UserWarning:\n",
      "\n",
      "pandas only support SQLAlchemy connectable(engine/connection) ordatabase string URI or sqlite3 DBAPI2 connectionother DBAPI2 objects are not tested, please consider using SQLAlchemy\n",
      "\n",
      "c:\\Users\\Bravo15\\anaconda3\\lib\\site-packages\\pandas\\io\\sql.py:761: UserWarning:\n",
      "\n",
      "pandas only support SQLAlchemy connectable(engine/connection) ordatabase string URI or sqlite3 DBAPI2 connectionother DBAPI2 objects are not tested, please consider using SQLAlchemy\n",
      "\n",
      "c:\\Users\\Bravo15\\anaconda3\\lib\\site-packages\\pandas\\io\\sql.py:761: UserWarning:\n",
      "\n",
      "pandas only support SQLAlchemy connectable(engine/connection) ordatabase string URI or sqlite3 DBAPI2 connectionother DBAPI2 objects are not tested, please consider using SQLAlchemy\n",
      "\n",
      "c:\\Users\\Bravo15\\anaconda3\\lib\\site-packages\\pandas\\io\\sql.py:761: UserWarning:\n",
      "\n",
      "pandas only support SQLAlchemy connectable(engine/connection) ordatabase string URI or sqlite3 DBAPI2 connectionother DBAPI2 objects are not tested, please consider using SQLAlchemy\n",
      "\n",
      "c:\\Users\\Bravo15\\anaconda3\\lib\\site-packages\\pandas\\io\\sql.py:761: UserWarning:\n",
      "\n",
      "pandas only support SQLAlchemy connectable(engine/connection) ordatabase string URI or sqlite3 DBAPI2 connectionother DBAPI2 objects are not tested, please consider using SQLAlchemy\n",
      "\n"
     ]
    }
   ],
   "source": [
    "query_guias= '''\n",
    "    SELECT [Guias_Id]\n",
    "      ,[Guias_Numero]\n",
    "      ,[Guias_Fecha]\n",
    "      ,Guias.Motivos_Id\n",
    "      ,[Proveedores_Id]\n",
    "      ,[Guias_ContraGuia]\n",
    "      ,[Guias_GuiaMadre]\n",
    "      ,[Guias_Tracking]\n",
    "      ,[Paises_Id]\n",
    "      ,[Paises2_Id]\n",
    "      ,[Ciudades_Id]\n",
    "      ,[Ciudades2_Id]\n",
    "      ,[ZonasV_Id]\n",
    "      ,[ZonasIV_Id]\n",
    "      ,[Contenidos_Id]\n",
    "      ,[Guias_Bultos]\n",
    "      ,[Guias_Peso]\n",
    "      ,[Guias_VolLargo]\n",
    "      ,[Guias_VolAncho]\n",
    "      ,[Guias_VolAlto]\n",
    "      ,[Guias_PesoVol]\n",
    "      ,[Guias_FOB]\n",
    "      ,Guias.Clientes_Id\n",
    "      ,[Guias_ExpoTotVta]\n",
    "      ,[Guias_ImpoTotVta]\n",
    "      ,[Guias_VentaI]\n",
    "  FROM [Raico].[dbo].[Guias]\n",
    "  WHERE Guias_Fecha> '2019' \n",
    "  '''\n",
    "df_guias = pd.read_sql_query(query_guias, cnxn)\n",
    "\n",
    "query_motivos= '''\n",
    "select Motivos_Id, MotivosFac.MotivosFac_Id, MotivosFac_Nombre\n",
    "from motivos\n",
    "inner join MotivosFac\n",
    "on MotivosFac.MotivosFac_Id= Motivos.MotivosFac_Id\n",
    "'''\n",
    "df_motivos= pd.read_sql_query(query_motivos, cnxn)\n",
    "\n",
    "\n",
    "query_paises= '''\n",
    "select Paises_Id, Paises_Codigo, Paises_Nombre\n",
    "from Paises\n",
    "'''\n",
    "df_paises= pd.read_sql_query(query_paises, cnxn)\n",
    "\n",
    "quey_ciudades= '''\n",
    "select Ciudades_Id, Ciudades_Nombre\n",
    "from Ciudades\n",
    "'''\n",
    "df_ciudades= pd.read_sql_query(quey_ciudades, cnxn)\n",
    "\n",
    "query_proveedores= '''\n",
    "select Proveedores_Id, Proveedores_Nombre\n",
    "from Proveedores\n",
    "'''\n",
    "df_proveedores= pd.read_sql_query(query_proveedores, cnxn)\n",
    "\n",
    "query_clientes= '''select Clientes_Id, Clientes_Nombre\n",
    "from clientes'''\n",
    "df_clientes= pd.read_sql_query(query_clientes, cnxn)"
   ]
  },
  {
   "cell_type": "markdown",
   "metadata": {},
   "source": [
    "#### EDA <a id='eda'></a>"
   ]
  },
  {
   "cell_type": "code",
   "execution_count": 71,
   "metadata": {},
   "outputs": [
    {
     "data": {
      "text/html": [
       "<div>\n",
       "<style scoped>\n",
       "    .dataframe tbody tr th:only-of-type {\n",
       "        vertical-align: middle;\n",
       "    }\n",
       "\n",
       "    .dataframe tbody tr th {\n",
       "        vertical-align: top;\n",
       "    }\n",
       "\n",
       "    .dataframe thead th {\n",
       "        text-align: right;\n",
       "    }\n",
       "</style>\n",
       "<table border=\"1\" class=\"dataframe\">\n",
       "  <thead>\n",
       "    <tr style=\"text-align: right;\">\n",
       "      <th></th>\n",
       "      <th>Guias_Id</th>\n",
       "      <th>Guias_Numero</th>\n",
       "      <th>Guias_Fecha</th>\n",
       "      <th>Motivos_Id</th>\n",
       "      <th>Proveedores_Id</th>\n",
       "      <th>Guias_ContraGuia</th>\n",
       "      <th>Guias_GuiaMadre</th>\n",
       "      <th>Guias_Tracking</th>\n",
       "      <th>Paises_Id</th>\n",
       "      <th>Paises2_Id</th>\n",
       "      <th>...</th>\n",
       "      <th>Guias_Peso</th>\n",
       "      <th>Guias_VolLargo</th>\n",
       "      <th>Guias_VolAncho</th>\n",
       "      <th>Guias_VolAlto</th>\n",
       "      <th>Guias_PesoVol</th>\n",
       "      <th>Guias_FOB</th>\n",
       "      <th>Clientes_Id</th>\n",
       "      <th>Guias_ExpoTotVta</th>\n",
       "      <th>Guias_ImpoTotVta</th>\n",
       "      <th>Guias_VentaI</th>\n",
       "    </tr>\n",
       "  </thead>\n",
       "  <tbody>\n",
       "    <tr>\n",
       "      <th>0</th>\n",
       "      <td>404102</td>\n",
       "      <td>996-10129556</td>\n",
       "      <td>2019-08-30</td>\n",
       "      <td>160</td>\n",
       "      <td>5298.0</td>\n",
       "      <td>295-00001135</td>\n",
       "      <td>None</td>\n",
       "      <td>None</td>\n",
       "      <td>NaN</td>\n",
       "      <td>32.0</td>\n",
       "      <td>...</td>\n",
       "      <td>144.0</td>\n",
       "      <td>None</td>\n",
       "      <td>None</td>\n",
       "      <td>None</td>\n",
       "      <td>192.0</td>\n",
       "      <td>1528.20</td>\n",
       "      <td>42417</td>\n",
       "      <td>1298.1</td>\n",
       "      <td>NaN</td>\n",
       "      <td>0.00</td>\n",
       "    </tr>\n",
       "    <tr>\n",
       "      <th>1</th>\n",
       "      <td>406822</td>\n",
       "      <td>US00192167</td>\n",
       "      <td>2019-01-02</td>\n",
       "      <td>36</td>\n",
       "      <td>1830.0</td>\n",
       "      <td>None</td>\n",
       "      <td>None</td>\n",
       "      <td>None</td>\n",
       "      <td>91.0</td>\n",
       "      <td>NaN</td>\n",
       "      <td>...</td>\n",
       "      <td>13.0</td>\n",
       "      <td>None</td>\n",
       "      <td>None</td>\n",
       "      <td>None</td>\n",
       "      <td>2.0</td>\n",
       "      <td>237.50</td>\n",
       "      <td>33511</td>\n",
       "      <td>NaN</td>\n",
       "      <td>256.70</td>\n",
       "      <td>161.36</td>\n",
       "    </tr>\n",
       "    <tr>\n",
       "      <th>2</th>\n",
       "      <td>406824</td>\n",
       "      <td>I180974591</td>\n",
       "      <td>2019-01-02</td>\n",
       "      <td>128</td>\n",
       "      <td>4165.0</td>\n",
       "      <td>None</td>\n",
       "      <td>None</td>\n",
       "      <td>None</td>\n",
       "      <td>25.0</td>\n",
       "      <td>NaN</td>\n",
       "      <td>...</td>\n",
       "      <td>23.0</td>\n",
       "      <td>None</td>\n",
       "      <td>None</td>\n",
       "      <td>None</td>\n",
       "      <td>11.0</td>\n",
       "      <td>1785.78</td>\n",
       "      <td>33511</td>\n",
       "      <td>NaN</td>\n",
       "      <td>1150.81</td>\n",
       "      <td>434.01</td>\n",
       "    </tr>\n",
       "    <tr>\n",
       "      <th>3</th>\n",
       "      <td>406825</td>\n",
       "      <td>US00192152</td>\n",
       "      <td>2019-01-02</td>\n",
       "      <td>36</td>\n",
       "      <td>1830.0</td>\n",
       "      <td>None</td>\n",
       "      <td>None</td>\n",
       "      <td>None</td>\n",
       "      <td>91.0</td>\n",
       "      <td>NaN</td>\n",
       "      <td>...</td>\n",
       "      <td>1.0</td>\n",
       "      <td>None</td>\n",
       "      <td>None</td>\n",
       "      <td>None</td>\n",
       "      <td>1.0</td>\n",
       "      <td>84.65</td>\n",
       "      <td>30148</td>\n",
       "      <td>NaN</td>\n",
       "      <td>131.69</td>\n",
       "      <td>92.83</td>\n",
       "    </tr>\n",
       "    <tr>\n",
       "      <th>4</th>\n",
       "      <td>406826</td>\n",
       "      <td>RM00191696</td>\n",
       "      <td>2019-01-02</td>\n",
       "      <td>51</td>\n",
       "      <td>1870.0</td>\n",
       "      <td>None</td>\n",
       "      <td>725202626</td>\n",
       "      <td>None</td>\n",
       "      <td>76.0</td>\n",
       "      <td>NaN</td>\n",
       "      <td>...</td>\n",
       "      <td>32.0</td>\n",
       "      <td>None</td>\n",
       "      <td>None</td>\n",
       "      <td>None</td>\n",
       "      <td>35.0</td>\n",
       "      <td>1316.22</td>\n",
       "      <td>36568</td>\n",
       "      <td>NaN</td>\n",
       "      <td>1161.37</td>\n",
       "      <td>567.92</td>\n",
       "    </tr>\n",
       "  </tbody>\n",
       "</table>\n",
       "<p>5 rows × 26 columns</p>\n",
       "</div>"
      ],
      "text/plain": [
       "   Guias_Id  Guias_Numero Guias_Fecha  Motivos_Id  Proveedores_Id  \\\n",
       "0    404102  996-10129556  2019-08-30         160          5298.0   \n",
       "1    406822    US00192167  2019-01-02          36          1830.0   \n",
       "2    406824    I180974591  2019-01-02         128          4165.0   \n",
       "3    406825    US00192152  2019-01-02          36          1830.0   \n",
       "4    406826    RM00191696  2019-01-02          51          1870.0   \n",
       "\n",
       "  Guias_ContraGuia Guias_GuiaMadre Guias_Tracking  Paises_Id  Paises2_Id  ...  \\\n",
       "0     295-00001135            None           None        NaN        32.0  ...   \n",
       "1             None            None           None       91.0         NaN  ...   \n",
       "2             None            None           None       25.0         NaN  ...   \n",
       "3             None            None           None       91.0         NaN  ...   \n",
       "4             None       725202626           None       76.0         NaN  ...   \n",
       "\n",
       "   Guias_Peso  Guias_VolLargo  Guias_VolAncho Guias_VolAlto  Guias_PesoVol  \\\n",
       "0       144.0            None            None          None          192.0   \n",
       "1        13.0            None            None          None            2.0   \n",
       "2        23.0            None            None          None           11.0   \n",
       "3         1.0            None            None          None            1.0   \n",
       "4        32.0            None            None          None           35.0   \n",
       "\n",
       "   Guias_FOB  Clientes_Id Guias_ExpoTotVta Guias_ImpoTotVta Guias_VentaI  \n",
       "0    1528.20        42417           1298.1              NaN         0.00  \n",
       "1     237.50        33511              NaN           256.70       161.36  \n",
       "2    1785.78        33511              NaN          1150.81       434.01  \n",
       "3      84.65        30148              NaN           131.69        92.83  \n",
       "4    1316.22        36568              NaN          1161.37       567.92  \n",
       "\n",
       "[5 rows x 26 columns]"
      ]
     },
     "execution_count": 71,
     "metadata": {},
     "output_type": "execute_result"
    }
   ],
   "source": [
    "df_guias.head()"
   ]
  },
  {
   "cell_type": "markdown",
   "metadata": {},
   "source": [
    "Para el análisis de los kilos transportados, los kilos son medidos en \"Kilos Facturables\" que es el resultado entre el máximo entre el peso del envio y el peso volumétrico. Esto se debe a la naturaleza del negocio y a la forma en la que las compañías aereas cobran por el espacio en bodega y a su vez, la forma en la que los partners logísticos en las distintas sedes cobran por los pickups y transporte local. "
   ]
  },
  {
   "cell_type": "code",
   "execution_count": 72,
   "metadata": {},
   "outputs": [],
   "source": [
    "df_guias['kilos_facturables']= df_guias[[\"Guias_Peso\", \"Guias_PesoVol\"]].max(axis=1)"
   ]
  },
  {
   "cell_type": "code",
   "execution_count": 73,
   "metadata": {},
   "outputs": [
    {
     "data": {
      "text/html": [
       "<div>\n",
       "<style scoped>\n",
       "    .dataframe tbody tr th:only-of-type {\n",
       "        vertical-align: middle;\n",
       "    }\n",
       "\n",
       "    .dataframe tbody tr th {\n",
       "        vertical-align: top;\n",
       "    }\n",
       "\n",
       "    .dataframe thead th {\n",
       "        text-align: right;\n",
       "    }\n",
       "</style>\n",
       "<table border=\"1\" class=\"dataframe\">\n",
       "  <thead>\n",
       "    <tr style=\"text-align: right;\">\n",
       "      <th></th>\n",
       "      <th>Guias_Peso</th>\n",
       "      <th>Guias_PesoVol</th>\n",
       "      <th>kilos_facturables</th>\n",
       "    </tr>\n",
       "  </thead>\n",
       "  <tbody>\n",
       "    <tr>\n",
       "      <th>0</th>\n",
       "      <td>144.0</td>\n",
       "      <td>192.0</td>\n",
       "      <td>192.0</td>\n",
       "    </tr>\n",
       "    <tr>\n",
       "      <th>1</th>\n",
       "      <td>13.0</td>\n",
       "      <td>2.0</td>\n",
       "      <td>13.0</td>\n",
       "    </tr>\n",
       "    <tr>\n",
       "      <th>2</th>\n",
       "      <td>23.0</td>\n",
       "      <td>11.0</td>\n",
       "      <td>23.0</td>\n",
       "    </tr>\n",
       "    <tr>\n",
       "      <th>3</th>\n",
       "      <td>1.0</td>\n",
       "      <td>1.0</td>\n",
       "      <td>1.0</td>\n",
       "    </tr>\n",
       "    <tr>\n",
       "      <th>4</th>\n",
       "      <td>32.0</td>\n",
       "      <td>35.0</td>\n",
       "      <td>35.0</td>\n",
       "    </tr>\n",
       "  </tbody>\n",
       "</table>\n",
       "</div>"
      ],
      "text/plain": [
       "   Guias_Peso  Guias_PesoVol  kilos_facturables\n",
       "0       144.0          192.0              192.0\n",
       "1        13.0            2.0               13.0\n",
       "2        23.0           11.0               23.0\n",
       "3         1.0            1.0                1.0\n",
       "4        32.0           35.0               35.0"
      ]
     },
     "execution_count": 73,
     "metadata": {},
     "output_type": "execute_result"
    }
   ],
   "source": [
    "df_guias[['Guias_Peso', 'Guias_PesoVol', 'kilos_facturables']].head()"
   ]
  },
  {
   "cell_type": "code",
   "execution_count": 74,
   "metadata": {},
   "outputs": [
    {
     "data": {
      "text/plain": [
       "(141279, 27)"
      ]
     },
     "execution_count": 74,
     "metadata": {},
     "output_type": "execute_result"
    }
   ],
   "source": [
    "df_guias.shape"
   ]
  },
  {
   "cell_type": "code",
   "execution_count": 75,
   "metadata": {},
   "outputs": [
    {
     "data": {
      "text/html": [
       "<div>\n",
       "<style scoped>\n",
       "    .dataframe tbody tr th:only-of-type {\n",
       "        vertical-align: middle;\n",
       "    }\n",
       "\n",
       "    .dataframe tbody tr th {\n",
       "        vertical-align: top;\n",
       "    }\n",
       "\n",
       "    .dataframe thead th {\n",
       "        text-align: right;\n",
       "    }\n",
       "</style>\n",
       "<table border=\"1\" class=\"dataframe\">\n",
       "  <thead>\n",
       "    <tr style=\"text-align: right;\">\n",
       "      <th></th>\n",
       "      <th>Guias_Id</th>\n",
       "      <th>Motivos_Id</th>\n",
       "      <th>Proveedores_Id</th>\n",
       "      <th>Paises_Id</th>\n",
       "      <th>Paises2_Id</th>\n",
       "      <th>Ciudades_Id</th>\n",
       "      <th>Ciudades2_Id</th>\n",
       "      <th>ZonasV_Id</th>\n",
       "      <th>Contenidos_Id</th>\n",
       "      <th>Guias_Bultos</th>\n",
       "      <th>Guias_Peso</th>\n",
       "      <th>Guias_PesoVol</th>\n",
       "      <th>Guias_FOB</th>\n",
       "      <th>Clientes_Id</th>\n",
       "      <th>Guias_ExpoTotVta</th>\n",
       "      <th>Guias_ImpoTotVta</th>\n",
       "      <th>Guias_VentaI</th>\n",
       "      <th>kilos_facturables</th>\n",
       "    </tr>\n",
       "  </thead>\n",
       "  <tbody>\n",
       "    <tr>\n",
       "      <th>count</th>\n",
       "      <td>141279.000000</td>\n",
       "      <td>141279.000000</td>\n",
       "      <td>139271.000000</td>\n",
       "      <td>99293.000000</td>\n",
       "      <td>41948.000000</td>\n",
       "      <td>40071.000000</td>\n",
       "      <td>99618.000000</td>\n",
       "      <td>78968.000000</td>\n",
       "      <td>141279.000000</td>\n",
       "      <td>140823.000000</td>\n",
       "      <td>140788.000000</td>\n",
       "      <td>134492.000000</td>\n",
       "      <td>1.338180e+05</td>\n",
       "      <td>141279.000000</td>\n",
       "      <td>42406.000000</td>\n",
       "      <td>98708.000000</td>\n",
       "      <td>141279.000000</td>\n",
       "      <td>140806.000000</td>\n",
       "    </tr>\n",
       "    <tr>\n",
       "      <th>mean</th>\n",
       "      <td>482366.302324</td>\n",
       "      <td>93.926174</td>\n",
       "      <td>2256.161118</td>\n",
       "      <td>76.620134</td>\n",
       "      <td>64.167708</td>\n",
       "      <td>30.368770</td>\n",
       "      <td>2.854263</td>\n",
       "      <td>113.659204</td>\n",
       "      <td>2.926330</td>\n",
       "      <td>1.871704</td>\n",
       "      <td>19.948899</td>\n",
       "      <td>19.317211</td>\n",
       "      <td>1.062406e+03</td>\n",
       "      <td>37723.004657</td>\n",
       "      <td>192.439414</td>\n",
       "      <td>862.483145</td>\n",
       "      <td>255.083124</td>\n",
       "      <td>24.337335</td>\n",
       "    </tr>\n",
       "    <tr>\n",
       "      <th>std</th>\n",
       "      <td>43686.696214</td>\n",
       "      <td>52.194997</td>\n",
       "      <td>994.685803</td>\n",
       "      <td>29.858044</td>\n",
       "      <td>39.824973</td>\n",
       "      <td>80.618387</td>\n",
       "      <td>14.509737</td>\n",
       "      <td>106.275417</td>\n",
       "      <td>0.376714</td>\n",
       "      <td>6.142031</td>\n",
       "      <td>51.082843</td>\n",
       "      <td>59.828459</td>\n",
       "      <td>7.683175e+03</td>\n",
       "      <td>4900.078453</td>\n",
       "      <td>333.867240</td>\n",
       "      <td>2494.369691</td>\n",
       "      <td>313.281539</td>\n",
       "      <td>66.336982</td>\n",
       "    </tr>\n",
       "    <tr>\n",
       "      <th>min</th>\n",
       "      <td>404102.000000</td>\n",
       "      <td>24.000000</td>\n",
       "      <td>1226.000000</td>\n",
       "      <td>1.000000</td>\n",
       "      <td>1.000000</td>\n",
       "      <td>1.000000</td>\n",
       "      <td>1.000000</td>\n",
       "      <td>30.000000</td>\n",
       "      <td>1.000000</td>\n",
       "      <td>1.000000</td>\n",
       "      <td>0.000000</td>\n",
       "      <td>0.000000</td>\n",
       "      <td>1.000000e-01</td>\n",
       "      <td>27948.000000</td>\n",
       "      <td>3.200000</td>\n",
       "      <td>0.720000</td>\n",
       "      <td>0.000000</td>\n",
       "      <td>0.000000</td>\n",
       "    </tr>\n",
       "    <tr>\n",
       "      <th>25%</th>\n",
       "      <td>444111.500000</td>\n",
       "      <td>36.000000</td>\n",
       "      <td>1830.000000</td>\n",
       "      <td>76.000000</td>\n",
       "      <td>24.000000</td>\n",
       "      <td>2.000000</td>\n",
       "      <td>2.000000</td>\n",
       "      <td>76.000000</td>\n",
       "      <td>3.000000</td>\n",
       "      <td>1.000000</td>\n",
       "      <td>2.000000</td>\n",
       "      <td>4.500000</td>\n",
       "      <td>1.198500e+02</td>\n",
       "      <td>33511.000000</td>\n",
       "      <td>56.585000</td>\n",
       "      <td>456.412500</td>\n",
       "      <td>0.000000</td>\n",
       "      <td>4.500000</td>\n",
       "    </tr>\n",
       "    <tr>\n",
       "      <th>50%</th>\n",
       "      <td>482971.000000</td>\n",
       "      <td>120.000000</td>\n",
       "      <td>1830.000000</td>\n",
       "      <td>91.000000</td>\n",
       "      <td>91.000000</td>\n",
       "      <td>2.000000</td>\n",
       "      <td>2.000000</td>\n",
       "      <td>99.000000</td>\n",
       "      <td>3.000000</td>\n",
       "      <td>1.000000</td>\n",
       "      <td>9.000000</td>\n",
       "      <td>10.000000</td>\n",
       "      <td>7.097850e+02</td>\n",
       "      <td>39416.000000</td>\n",
       "      <td>105.900000</td>\n",
       "      <td>744.795000</td>\n",
       "      <td>167.800000</td>\n",
       "      <td>12.000000</td>\n",
       "    </tr>\n",
       "    <tr>\n",
       "      <th>75%</th>\n",
       "      <td>519975.500000</td>\n",
       "      <td>137.000000</td>\n",
       "      <td>2189.000000</td>\n",
       "      <td>91.000000</td>\n",
       "      <td>91.000000</td>\n",
       "      <td>2.000000</td>\n",
       "      <td>2.000000</td>\n",
       "      <td>101.000000</td>\n",
       "      <td>3.000000</td>\n",
       "      <td>2.000000</td>\n",
       "      <td>28.000000</td>\n",
       "      <td>21.000000</td>\n",
       "      <td>1.240820e+03</td>\n",
       "      <td>41217.000000</td>\n",
       "      <td>197.860000</td>\n",
       "      <td>1148.547500</td>\n",
       "      <td>391.225000</td>\n",
       "      <td>32.000000</td>\n",
       "    </tr>\n",
       "    <tr>\n",
       "      <th>max</th>\n",
       "      <td>557914.000000</td>\n",
       "      <td>177.000000</td>\n",
       "      <td>7638.000000</td>\n",
       "      <td>254.000000</td>\n",
       "      <td>311.000000</td>\n",
       "      <td>509.000000</td>\n",
       "      <td>510.000000</td>\n",
       "      <td>729.000000</td>\n",
       "      <td>3.000000</td>\n",
       "      <td>510.000000</td>\n",
       "      <td>4338.000000</td>\n",
       "      <td>8304.000000</td>\n",
       "      <td>1.539440e+06</td>\n",
       "      <td>46040.000000</td>\n",
       "      <td>12682.130000</td>\n",
       "      <td>476854.950000</td>\n",
       "      <td>25155.590000</td>\n",
       "      <td>8304.000000</td>\n",
       "    </tr>\n",
       "  </tbody>\n",
       "</table>\n",
       "</div>"
      ],
      "text/plain": [
       "            Guias_Id     Motivos_Id  Proveedores_Id     Paises_Id  \\\n",
       "count  141279.000000  141279.000000   139271.000000  99293.000000   \n",
       "mean   482366.302324      93.926174     2256.161118     76.620134   \n",
       "std     43686.696214      52.194997      994.685803     29.858044   \n",
       "min    404102.000000      24.000000     1226.000000      1.000000   \n",
       "25%    444111.500000      36.000000     1830.000000     76.000000   \n",
       "50%    482971.000000     120.000000     1830.000000     91.000000   \n",
       "75%    519975.500000     137.000000     2189.000000     91.000000   \n",
       "max    557914.000000     177.000000     7638.000000    254.000000   \n",
       "\n",
       "         Paises2_Id   Ciudades_Id  Ciudades2_Id     ZonasV_Id  Contenidos_Id  \\\n",
       "count  41948.000000  40071.000000  99618.000000  78968.000000  141279.000000   \n",
       "mean      64.167708     30.368770      2.854263    113.659204       2.926330   \n",
       "std       39.824973     80.618387     14.509737    106.275417       0.376714   \n",
       "min        1.000000      1.000000      1.000000     30.000000       1.000000   \n",
       "25%       24.000000      2.000000      2.000000     76.000000       3.000000   \n",
       "50%       91.000000      2.000000      2.000000     99.000000       3.000000   \n",
       "75%       91.000000      2.000000      2.000000    101.000000       3.000000   \n",
       "max      311.000000    509.000000    510.000000    729.000000       3.000000   \n",
       "\n",
       "        Guias_Bultos     Guias_Peso  Guias_PesoVol     Guias_FOB  \\\n",
       "count  140823.000000  140788.000000  134492.000000  1.338180e+05   \n",
       "mean        1.871704      19.948899      19.317211  1.062406e+03   \n",
       "std         6.142031      51.082843      59.828459  7.683175e+03   \n",
       "min         1.000000       0.000000       0.000000  1.000000e-01   \n",
       "25%         1.000000       2.000000       4.500000  1.198500e+02   \n",
       "50%         1.000000       9.000000      10.000000  7.097850e+02   \n",
       "75%         2.000000      28.000000      21.000000  1.240820e+03   \n",
       "max       510.000000    4338.000000    8304.000000  1.539440e+06   \n",
       "\n",
       "         Clientes_Id  Guias_ExpoTotVta  Guias_ImpoTotVta   Guias_VentaI  \\\n",
       "count  141279.000000      42406.000000      98708.000000  141279.000000   \n",
       "mean    37723.004657        192.439414        862.483145     255.083124   \n",
       "std      4900.078453        333.867240       2494.369691     313.281539   \n",
       "min     27948.000000          3.200000          0.720000       0.000000   \n",
       "25%     33511.000000         56.585000        456.412500       0.000000   \n",
       "50%     39416.000000        105.900000        744.795000     167.800000   \n",
       "75%     41217.000000        197.860000       1148.547500     391.225000   \n",
       "max     46040.000000      12682.130000     476854.950000   25155.590000   \n",
       "\n",
       "       kilos_facturables  \n",
       "count      140806.000000  \n",
       "mean           24.337335  \n",
       "std            66.336982  \n",
       "min             0.000000  \n",
       "25%             4.500000  \n",
       "50%            12.000000  \n",
       "75%            32.000000  \n",
       "max          8304.000000  "
      ]
     },
     "execution_count": 75,
     "metadata": {},
     "output_type": "execute_result"
    }
   ],
   "source": [
    "df_guias.describe()"
   ]
  },
  {
   "cell_type": "markdown",
   "metadata": {},
   "source": [
    "##### Análisis de kilos <a id='2'></a>"
   ]
  },
  {
   "cell_type": "markdown",
   "metadata": {},
   "source": [
    "Agrupamos los datos por mes para observar a grandes rasgos como es la distribucion mensual del total de kilos facturados en el periodo."
   ]
  },
  {
   "cell_type": "code",
   "execution_count": 76,
   "metadata": {},
   "outputs": [],
   "source": [
    "df_guias_group_mensual= df_guias.groupby(pd.Grouper(key='Guias_Fecha', axis=0, freq='M')).sum()"
   ]
  },
  {
   "cell_type": "code",
   "execution_count": 77,
   "metadata": {},
   "outputs": [
    {
     "data": {
      "application/vnd.plotly.v1+json": {
       "config": {
        "plotlyServerURL": "https://plot.ly"
       },
       "data": [
        {
         "hovertemplate": "Guias_Fecha=%{x}<br>Guias_Peso=%{y}<extra></extra>",
         "legendgroup": "",
         "line": {
          "color": "#636efa",
          "dash": "solid"
         },
         "marker": {
          "symbol": "circle"
         },
         "mode": "lines",
         "name": "",
         "orientation": "v",
         "showlegend": false,
         "type": "scatter",
         "x": [
          "2019-01-31T00:00:00",
          "2019-02-28T00:00:00",
          "2019-03-31T00:00:00",
          "2019-04-30T00:00:00",
          "2019-05-31T00:00:00",
          "2019-06-30T00:00:00",
          "2019-07-31T00:00:00",
          "2019-08-31T00:00:00",
          "2019-09-30T00:00:00",
          "2019-10-31T00:00:00",
          "2019-11-30T00:00:00",
          "2019-12-31T00:00:00",
          "2020-01-31T00:00:00",
          "2020-02-29T00:00:00",
          "2020-03-31T00:00:00",
          "2020-04-30T00:00:00",
          "2020-05-31T00:00:00",
          "2020-06-30T00:00:00",
          "2020-07-31T00:00:00",
          "2020-08-31T00:00:00",
          "2020-09-30T00:00:00",
          "2020-10-31T00:00:00",
          "2020-11-30T00:00:00",
          "2020-12-31T00:00:00",
          "2021-01-31T00:00:00",
          "2021-02-28T00:00:00",
          "2021-03-31T00:00:00",
          "2021-04-30T00:00:00",
          "2021-05-31T00:00:00",
          "2021-06-30T00:00:00",
          "2021-07-31T00:00:00",
          "2021-08-31T00:00:00",
          "2021-09-30T00:00:00",
          "2021-10-31T00:00:00",
          "2021-11-30T00:00:00",
          "2021-12-31T00:00:00",
          "2022-01-31T00:00:00",
          "2022-02-28T00:00:00",
          "2022-03-31T00:00:00",
          "2022-04-30T00:00:00",
          "2022-05-31T00:00:00",
          "2022-06-30T00:00:00",
          "2022-07-31T00:00:00",
          "2022-08-31T00:00:00",
          "2022-09-30T00:00:00",
          "2022-10-31T00:00:00",
          "2022-11-30T00:00:00",
          "2022-12-31T00:00:00",
          "2023-01-31T00:00:00",
          "2023-02-28T00:00:00",
          "2023-03-31T00:00:00",
          "2023-04-30T00:00:00",
          "2023-05-31T00:00:00",
          "2023-06-30T00:00:00",
          "2023-07-31T00:00:00",
          "2023-08-31T00:00:00",
          "2023-09-30T00:00:00",
          "2023-10-31T00:00:00",
          "2023-11-30T00:00:00",
          "2023-12-31T00:00:00"
         ],
         "xaxis": "x",
         "y": [
          36774.03,
          35270.03,
          38125.89,
          42887.21,
          52155.52,
          40808.43,
          52852.45,
          52179.19,
          48170,
          61357.07,
          41124.3,
          45599.03,
          47178.36,
          39498.64,
          36297.29,
          24331.49,
          27975.4,
          36059.74,
          39231.08,
          43905.78,
          53658.17,
          52911.41,
          56433.52,
          60105.23,
          45269.98,
          43850.5,
          61890.18,
          65987.39,
          63263.76,
          57641.57,
          61442.07,
          66261.81,
          67662.27,
          62156.49,
          61909.69,
          61197.16,
          55006.78,
          53291.67,
          56959.6,
          52647.09,
          59523.17,
          60001.33,
          54258.29,
          68814.46,
          52226.43,
          46964.29,
          40942.71,
          43162.23,
          49617.09,
          40295.71,
          55868.05,
          47752.67,
          67844.5,
          57591.46,
          61229.5,
          0,
          0,
          0,
          0,
          1146.5
         ],
         "yaxis": "y"
        }
       ],
       "layout": {
        "legend": {
         "tracegroupgap": 0
        },
        "template": {
         "data": {
          "bar": [
           {
            "error_x": {
             "color": "#2a3f5f"
            },
            "error_y": {
             "color": "#2a3f5f"
            },
            "marker": {
             "line": {
              "color": "#E5ECF6",
              "width": 0.5
             },
             "pattern": {
              "fillmode": "overlay",
              "size": 10,
              "solidity": 0.2
             }
            },
            "type": "bar"
           }
          ],
          "barpolar": [
           {
            "marker": {
             "line": {
              "color": "#E5ECF6",
              "width": 0.5
             },
             "pattern": {
              "fillmode": "overlay",
              "size": 10,
              "solidity": 0.2
             }
            },
            "type": "barpolar"
           }
          ],
          "carpet": [
           {
            "aaxis": {
             "endlinecolor": "#2a3f5f",
             "gridcolor": "white",
             "linecolor": "white",
             "minorgridcolor": "white",
             "startlinecolor": "#2a3f5f"
            },
            "baxis": {
             "endlinecolor": "#2a3f5f",
             "gridcolor": "white",
             "linecolor": "white",
             "minorgridcolor": "white",
             "startlinecolor": "#2a3f5f"
            },
            "type": "carpet"
           }
          ],
          "choropleth": [
           {
            "colorbar": {
             "outlinewidth": 0,
             "ticks": ""
            },
            "type": "choropleth"
           }
          ],
          "contour": [
           {
            "colorbar": {
             "outlinewidth": 0,
             "ticks": ""
            },
            "colorscale": [
             [
              0,
              "#0d0887"
             ],
             [
              0.1111111111111111,
              "#46039f"
             ],
             [
              0.2222222222222222,
              "#7201a8"
             ],
             [
              0.3333333333333333,
              "#9c179e"
             ],
             [
              0.4444444444444444,
              "#bd3786"
             ],
             [
              0.5555555555555556,
              "#d8576b"
             ],
             [
              0.6666666666666666,
              "#ed7953"
             ],
             [
              0.7777777777777778,
              "#fb9f3a"
             ],
             [
              0.8888888888888888,
              "#fdca26"
             ],
             [
              1,
              "#f0f921"
             ]
            ],
            "type": "contour"
           }
          ],
          "contourcarpet": [
           {
            "colorbar": {
             "outlinewidth": 0,
             "ticks": ""
            },
            "type": "contourcarpet"
           }
          ],
          "heatmap": [
           {
            "colorbar": {
             "outlinewidth": 0,
             "ticks": ""
            },
            "colorscale": [
             [
              0,
              "#0d0887"
             ],
             [
              0.1111111111111111,
              "#46039f"
             ],
             [
              0.2222222222222222,
              "#7201a8"
             ],
             [
              0.3333333333333333,
              "#9c179e"
             ],
             [
              0.4444444444444444,
              "#bd3786"
             ],
             [
              0.5555555555555556,
              "#d8576b"
             ],
             [
              0.6666666666666666,
              "#ed7953"
             ],
             [
              0.7777777777777778,
              "#fb9f3a"
             ],
             [
              0.8888888888888888,
              "#fdca26"
             ],
             [
              1,
              "#f0f921"
             ]
            ],
            "type": "heatmap"
           }
          ],
          "heatmapgl": [
           {
            "colorbar": {
             "outlinewidth": 0,
             "ticks": ""
            },
            "colorscale": [
             [
              0,
              "#0d0887"
             ],
             [
              0.1111111111111111,
              "#46039f"
             ],
             [
              0.2222222222222222,
              "#7201a8"
             ],
             [
              0.3333333333333333,
              "#9c179e"
             ],
             [
              0.4444444444444444,
              "#bd3786"
             ],
             [
              0.5555555555555556,
              "#d8576b"
             ],
             [
              0.6666666666666666,
              "#ed7953"
             ],
             [
              0.7777777777777778,
              "#fb9f3a"
             ],
             [
              0.8888888888888888,
              "#fdca26"
             ],
             [
              1,
              "#f0f921"
             ]
            ],
            "type": "heatmapgl"
           }
          ],
          "histogram": [
           {
            "marker": {
             "pattern": {
              "fillmode": "overlay",
              "size": 10,
              "solidity": 0.2
             }
            },
            "type": "histogram"
           }
          ],
          "histogram2d": [
           {
            "colorbar": {
             "outlinewidth": 0,
             "ticks": ""
            },
            "colorscale": [
             [
              0,
              "#0d0887"
             ],
             [
              0.1111111111111111,
              "#46039f"
             ],
             [
              0.2222222222222222,
              "#7201a8"
             ],
             [
              0.3333333333333333,
              "#9c179e"
             ],
             [
              0.4444444444444444,
              "#bd3786"
             ],
             [
              0.5555555555555556,
              "#d8576b"
             ],
             [
              0.6666666666666666,
              "#ed7953"
             ],
             [
              0.7777777777777778,
              "#fb9f3a"
             ],
             [
              0.8888888888888888,
              "#fdca26"
             ],
             [
              1,
              "#f0f921"
             ]
            ],
            "type": "histogram2d"
           }
          ],
          "histogram2dcontour": [
           {
            "colorbar": {
             "outlinewidth": 0,
             "ticks": ""
            },
            "colorscale": [
             [
              0,
              "#0d0887"
             ],
             [
              0.1111111111111111,
              "#46039f"
             ],
             [
              0.2222222222222222,
              "#7201a8"
             ],
             [
              0.3333333333333333,
              "#9c179e"
             ],
             [
              0.4444444444444444,
              "#bd3786"
             ],
             [
              0.5555555555555556,
              "#d8576b"
             ],
             [
              0.6666666666666666,
              "#ed7953"
             ],
             [
              0.7777777777777778,
              "#fb9f3a"
             ],
             [
              0.8888888888888888,
              "#fdca26"
             ],
             [
              1,
              "#f0f921"
             ]
            ],
            "type": "histogram2dcontour"
           }
          ],
          "mesh3d": [
           {
            "colorbar": {
             "outlinewidth": 0,
             "ticks": ""
            },
            "type": "mesh3d"
           }
          ],
          "parcoords": [
           {
            "line": {
             "colorbar": {
              "outlinewidth": 0,
              "ticks": ""
             }
            },
            "type": "parcoords"
           }
          ],
          "pie": [
           {
            "automargin": true,
            "type": "pie"
           }
          ],
          "scatter": [
           {
            "fillpattern": {
             "fillmode": "overlay",
             "size": 10,
             "solidity": 0.2
            },
            "type": "scatter"
           }
          ],
          "scatter3d": [
           {
            "line": {
             "colorbar": {
              "outlinewidth": 0,
              "ticks": ""
             }
            },
            "marker": {
             "colorbar": {
              "outlinewidth": 0,
              "ticks": ""
             }
            },
            "type": "scatter3d"
           }
          ],
          "scattercarpet": [
           {
            "marker": {
             "colorbar": {
              "outlinewidth": 0,
              "ticks": ""
             }
            },
            "type": "scattercarpet"
           }
          ],
          "scattergeo": [
           {
            "marker": {
             "colorbar": {
              "outlinewidth": 0,
              "ticks": ""
             }
            },
            "type": "scattergeo"
           }
          ],
          "scattergl": [
           {
            "marker": {
             "colorbar": {
              "outlinewidth": 0,
              "ticks": ""
             }
            },
            "type": "scattergl"
           }
          ],
          "scattermapbox": [
           {
            "marker": {
             "colorbar": {
              "outlinewidth": 0,
              "ticks": ""
             }
            },
            "type": "scattermapbox"
           }
          ],
          "scatterpolar": [
           {
            "marker": {
             "colorbar": {
              "outlinewidth": 0,
              "ticks": ""
             }
            },
            "type": "scatterpolar"
           }
          ],
          "scatterpolargl": [
           {
            "marker": {
             "colorbar": {
              "outlinewidth": 0,
              "ticks": ""
             }
            },
            "type": "scatterpolargl"
           }
          ],
          "scatterternary": [
           {
            "marker": {
             "colorbar": {
              "outlinewidth": 0,
              "ticks": ""
             }
            },
            "type": "scatterternary"
           }
          ],
          "surface": [
           {
            "colorbar": {
             "outlinewidth": 0,
             "ticks": ""
            },
            "colorscale": [
             [
              0,
              "#0d0887"
             ],
             [
              0.1111111111111111,
              "#46039f"
             ],
             [
              0.2222222222222222,
              "#7201a8"
             ],
             [
              0.3333333333333333,
              "#9c179e"
             ],
             [
              0.4444444444444444,
              "#bd3786"
             ],
             [
              0.5555555555555556,
              "#d8576b"
             ],
             [
              0.6666666666666666,
              "#ed7953"
             ],
             [
              0.7777777777777778,
              "#fb9f3a"
             ],
             [
              0.8888888888888888,
              "#fdca26"
             ],
             [
              1,
              "#f0f921"
             ]
            ],
            "type": "surface"
           }
          ],
          "table": [
           {
            "cells": {
             "fill": {
              "color": "#EBF0F8"
             },
             "line": {
              "color": "white"
             }
            },
            "header": {
             "fill": {
              "color": "#C8D4E3"
             },
             "line": {
              "color": "white"
             }
            },
            "type": "table"
           }
          ]
         },
         "layout": {
          "annotationdefaults": {
           "arrowcolor": "#2a3f5f",
           "arrowhead": 0,
           "arrowwidth": 1
          },
          "autotypenumbers": "strict",
          "coloraxis": {
           "colorbar": {
            "outlinewidth": 0,
            "ticks": ""
           }
          },
          "colorscale": {
           "diverging": [
            [
             0,
             "#8e0152"
            ],
            [
             0.1,
             "#c51b7d"
            ],
            [
             0.2,
             "#de77ae"
            ],
            [
             0.3,
             "#f1b6da"
            ],
            [
             0.4,
             "#fde0ef"
            ],
            [
             0.5,
             "#f7f7f7"
            ],
            [
             0.6,
             "#e6f5d0"
            ],
            [
             0.7,
             "#b8e186"
            ],
            [
             0.8,
             "#7fbc41"
            ],
            [
             0.9,
             "#4d9221"
            ],
            [
             1,
             "#276419"
            ]
           ],
           "sequential": [
            [
             0,
             "#0d0887"
            ],
            [
             0.1111111111111111,
             "#46039f"
            ],
            [
             0.2222222222222222,
             "#7201a8"
            ],
            [
             0.3333333333333333,
             "#9c179e"
            ],
            [
             0.4444444444444444,
             "#bd3786"
            ],
            [
             0.5555555555555556,
             "#d8576b"
            ],
            [
             0.6666666666666666,
             "#ed7953"
            ],
            [
             0.7777777777777778,
             "#fb9f3a"
            ],
            [
             0.8888888888888888,
             "#fdca26"
            ],
            [
             1,
             "#f0f921"
            ]
           ],
           "sequentialminus": [
            [
             0,
             "#0d0887"
            ],
            [
             0.1111111111111111,
             "#46039f"
            ],
            [
             0.2222222222222222,
             "#7201a8"
            ],
            [
             0.3333333333333333,
             "#9c179e"
            ],
            [
             0.4444444444444444,
             "#bd3786"
            ],
            [
             0.5555555555555556,
             "#d8576b"
            ],
            [
             0.6666666666666666,
             "#ed7953"
            ],
            [
             0.7777777777777778,
             "#fb9f3a"
            ],
            [
             0.8888888888888888,
             "#fdca26"
            ],
            [
             1,
             "#f0f921"
            ]
           ]
          },
          "colorway": [
           "#636efa",
           "#EF553B",
           "#00cc96",
           "#ab63fa",
           "#FFA15A",
           "#19d3f3",
           "#FF6692",
           "#B6E880",
           "#FF97FF",
           "#FECB52"
          ],
          "font": {
           "color": "#2a3f5f"
          },
          "geo": {
           "bgcolor": "white",
           "lakecolor": "white",
           "landcolor": "#E5ECF6",
           "showlakes": true,
           "showland": true,
           "subunitcolor": "white"
          },
          "hoverlabel": {
           "align": "left"
          },
          "hovermode": "closest",
          "mapbox": {
           "style": "light"
          },
          "paper_bgcolor": "white",
          "plot_bgcolor": "#E5ECF6",
          "polar": {
           "angularaxis": {
            "gridcolor": "white",
            "linecolor": "white",
            "ticks": ""
           },
           "bgcolor": "#E5ECF6",
           "radialaxis": {
            "gridcolor": "white",
            "linecolor": "white",
            "ticks": ""
           }
          },
          "scene": {
           "xaxis": {
            "backgroundcolor": "#E5ECF6",
            "gridcolor": "white",
            "gridwidth": 2,
            "linecolor": "white",
            "showbackground": true,
            "ticks": "",
            "zerolinecolor": "white"
           },
           "yaxis": {
            "backgroundcolor": "#E5ECF6",
            "gridcolor": "white",
            "gridwidth": 2,
            "linecolor": "white",
            "showbackground": true,
            "ticks": "",
            "zerolinecolor": "white"
           },
           "zaxis": {
            "backgroundcolor": "#E5ECF6",
            "gridcolor": "white",
            "gridwidth": 2,
            "linecolor": "white",
            "showbackground": true,
            "ticks": "",
            "zerolinecolor": "white"
           }
          },
          "shapedefaults": {
           "line": {
            "color": "#2a3f5f"
           }
          },
          "ternary": {
           "aaxis": {
            "gridcolor": "white",
            "linecolor": "white",
            "ticks": ""
           },
           "baxis": {
            "gridcolor": "white",
            "linecolor": "white",
            "ticks": ""
           },
           "bgcolor": "#E5ECF6",
           "caxis": {
            "gridcolor": "white",
            "linecolor": "white",
            "ticks": ""
           }
          },
          "title": {
           "x": 0.05
          },
          "xaxis": {
           "automargin": true,
           "gridcolor": "white",
           "linecolor": "white",
           "ticks": "",
           "title": {
            "standoff": 15
           },
           "zerolinecolor": "white",
           "zerolinewidth": 2
          },
          "yaxis": {
           "automargin": true,
           "gridcolor": "white",
           "linecolor": "white",
           "ticks": "",
           "title": {
            "standoff": 15
           },
           "zerolinecolor": "white",
           "zerolinewidth": 2
          }
         }
        },
        "title": {
         "text": "Total Kilos por Mes"
        },
        "xaxis": {
         "anchor": "y",
         "domain": [
          0,
          1
         ],
         "rangeselector": {
          "buttons": [
           {
            "count": 1,
            "label": "1m",
            "step": "month",
            "stepmode": "backward"
           },
           {
            "count": 6,
            "label": "6m",
            "step": "month",
            "stepmode": "backward"
           },
           {
            "count": 1,
            "label": "YTD",
            "step": "year",
            "stepmode": "todate"
           },
           {
            "count": 1,
            "label": "1y",
            "step": "year",
            "stepmode": "backward"
           },
           {
            "step": "all"
           }
          ]
         },
         "rangeslider": {
          "visible": true
         },
         "title": {
          "text": "Guias_Fecha"
         }
        },
        "yaxis": {
         "anchor": "x",
         "domain": [
          0,
          1
         ],
         "title": {
          "text": "Guias_Peso"
         }
        }
       }
      },
      "text/html": [
       "<div>                            <div id=\"41665c7c-410f-4361-bb3b-bb814586691d\" class=\"plotly-graph-div\" style=\"height:525px; width:100%;\"></div>            <script type=\"text/javascript\">                require([\"plotly\"], function(Plotly) {                    window.PLOTLYENV=window.PLOTLYENV || {};                                    if (document.getElementById(\"41665c7c-410f-4361-bb3b-bb814586691d\")) {                    Plotly.newPlot(                        \"41665c7c-410f-4361-bb3b-bb814586691d\",                        [{\"hovertemplate\":\"Guias_Fecha=%{x}<br>Guias_Peso=%{y}<extra></extra>\",\"legendgroup\":\"\",\"line\":{\"color\":\"#636efa\",\"dash\":\"solid\"},\"marker\":{\"symbol\":\"circle\"},\"mode\":\"lines\",\"name\":\"\",\"orientation\":\"v\",\"showlegend\":false,\"x\":[\"2019-01-31T00:00:00\",\"2019-02-28T00:00:00\",\"2019-03-31T00:00:00\",\"2019-04-30T00:00:00\",\"2019-05-31T00:00:00\",\"2019-06-30T00:00:00\",\"2019-07-31T00:00:00\",\"2019-08-31T00:00:00\",\"2019-09-30T00:00:00\",\"2019-10-31T00:00:00\",\"2019-11-30T00:00:00\",\"2019-12-31T00:00:00\",\"2020-01-31T00:00:00\",\"2020-02-29T00:00:00\",\"2020-03-31T00:00:00\",\"2020-04-30T00:00:00\",\"2020-05-31T00:00:00\",\"2020-06-30T00:00:00\",\"2020-07-31T00:00:00\",\"2020-08-31T00:00:00\",\"2020-09-30T00:00:00\",\"2020-10-31T00:00:00\",\"2020-11-30T00:00:00\",\"2020-12-31T00:00:00\",\"2021-01-31T00:00:00\",\"2021-02-28T00:00:00\",\"2021-03-31T00:00:00\",\"2021-04-30T00:00:00\",\"2021-05-31T00:00:00\",\"2021-06-30T00:00:00\",\"2021-07-31T00:00:00\",\"2021-08-31T00:00:00\",\"2021-09-30T00:00:00\",\"2021-10-31T00:00:00\",\"2021-11-30T00:00:00\",\"2021-12-31T00:00:00\",\"2022-01-31T00:00:00\",\"2022-02-28T00:00:00\",\"2022-03-31T00:00:00\",\"2022-04-30T00:00:00\",\"2022-05-31T00:00:00\",\"2022-06-30T00:00:00\",\"2022-07-31T00:00:00\",\"2022-08-31T00:00:00\",\"2022-09-30T00:00:00\",\"2022-10-31T00:00:00\",\"2022-11-30T00:00:00\",\"2022-12-31T00:00:00\",\"2023-01-31T00:00:00\",\"2023-02-28T00:00:00\",\"2023-03-31T00:00:00\",\"2023-04-30T00:00:00\",\"2023-05-31T00:00:00\",\"2023-06-30T00:00:00\",\"2023-07-31T00:00:00\",\"2023-08-31T00:00:00\",\"2023-09-30T00:00:00\",\"2023-10-31T00:00:00\",\"2023-11-30T00:00:00\",\"2023-12-31T00:00:00\"],\"xaxis\":\"x\",\"y\":[36774.03,35270.03,38125.89,42887.21,52155.52,40808.43,52852.45,52179.19,48170.0,61357.07,41124.3,45599.03,47178.36,39498.64,36297.29,24331.49,27975.4,36059.74,39231.08,43905.78,53658.17,52911.41,56433.52,60105.23,45269.98,43850.5,61890.18,65987.39,63263.76,57641.57,61442.07,66261.81,67662.27,62156.49,61909.69,61197.16,55006.78,53291.67,56959.6,52647.09,59523.17,60001.33,54258.29,68814.46,52226.43,46964.29,40942.71,43162.23,49617.09,40295.71,55868.05,47752.67,67844.5,57591.46,61229.5,0.0,0.0,0.0,0.0,1146.5],\"yaxis\":\"y\",\"type\":\"scatter\"}],                        {\"template\":{\"data\":{\"histogram2dcontour\":[{\"type\":\"histogram2dcontour\",\"colorbar\":{\"outlinewidth\":0,\"ticks\":\"\"},\"colorscale\":[[0.0,\"#0d0887\"],[0.1111111111111111,\"#46039f\"],[0.2222222222222222,\"#7201a8\"],[0.3333333333333333,\"#9c179e\"],[0.4444444444444444,\"#bd3786\"],[0.5555555555555556,\"#d8576b\"],[0.6666666666666666,\"#ed7953\"],[0.7777777777777778,\"#fb9f3a\"],[0.8888888888888888,\"#fdca26\"],[1.0,\"#f0f921\"]]}],\"choropleth\":[{\"type\":\"choropleth\",\"colorbar\":{\"outlinewidth\":0,\"ticks\":\"\"}}],\"histogram2d\":[{\"type\":\"histogram2d\",\"colorbar\":{\"outlinewidth\":0,\"ticks\":\"\"},\"colorscale\":[[0.0,\"#0d0887\"],[0.1111111111111111,\"#46039f\"],[0.2222222222222222,\"#7201a8\"],[0.3333333333333333,\"#9c179e\"],[0.4444444444444444,\"#bd3786\"],[0.5555555555555556,\"#d8576b\"],[0.6666666666666666,\"#ed7953\"],[0.7777777777777778,\"#fb9f3a\"],[0.8888888888888888,\"#fdca26\"],[1.0,\"#f0f921\"]]}],\"heatmap\":[{\"type\":\"heatmap\",\"colorbar\":{\"outlinewidth\":0,\"ticks\":\"\"},\"colorscale\":[[0.0,\"#0d0887\"],[0.1111111111111111,\"#46039f\"],[0.2222222222222222,\"#7201a8\"],[0.3333333333333333,\"#9c179e\"],[0.4444444444444444,\"#bd3786\"],[0.5555555555555556,\"#d8576b\"],[0.6666666666666666,\"#ed7953\"],[0.7777777777777778,\"#fb9f3a\"],[0.8888888888888888,\"#fdca26\"],[1.0,\"#f0f921\"]]}],\"heatmapgl\":[{\"type\":\"heatmapgl\",\"colorbar\":{\"outlinewidth\":0,\"ticks\":\"\"},\"colorscale\":[[0.0,\"#0d0887\"],[0.1111111111111111,\"#46039f\"],[0.2222222222222222,\"#7201a8\"],[0.3333333333333333,\"#9c179e\"],[0.4444444444444444,\"#bd3786\"],[0.5555555555555556,\"#d8576b\"],[0.6666666666666666,\"#ed7953\"],[0.7777777777777778,\"#fb9f3a\"],[0.8888888888888888,\"#fdca26\"],[1.0,\"#f0f921\"]]}],\"contourcarpet\":[{\"type\":\"contourcarpet\",\"colorbar\":{\"outlinewidth\":0,\"ticks\":\"\"}}],\"contour\":[{\"type\":\"contour\",\"colorbar\":{\"outlinewidth\":0,\"ticks\":\"\"},\"colorscale\":[[0.0,\"#0d0887\"],[0.1111111111111111,\"#46039f\"],[0.2222222222222222,\"#7201a8\"],[0.3333333333333333,\"#9c179e\"],[0.4444444444444444,\"#bd3786\"],[0.5555555555555556,\"#d8576b\"],[0.6666666666666666,\"#ed7953\"],[0.7777777777777778,\"#fb9f3a\"],[0.8888888888888888,\"#fdca26\"],[1.0,\"#f0f921\"]]}],\"surface\":[{\"type\":\"surface\",\"colorbar\":{\"outlinewidth\":0,\"ticks\":\"\"},\"colorscale\":[[0.0,\"#0d0887\"],[0.1111111111111111,\"#46039f\"],[0.2222222222222222,\"#7201a8\"],[0.3333333333333333,\"#9c179e\"],[0.4444444444444444,\"#bd3786\"],[0.5555555555555556,\"#d8576b\"],[0.6666666666666666,\"#ed7953\"],[0.7777777777777778,\"#fb9f3a\"],[0.8888888888888888,\"#fdca26\"],[1.0,\"#f0f921\"]]}],\"mesh3d\":[{\"type\":\"mesh3d\",\"colorbar\":{\"outlinewidth\":0,\"ticks\":\"\"}}],\"scatter\":[{\"fillpattern\":{\"fillmode\":\"overlay\",\"size\":10,\"solidity\":0.2},\"type\":\"scatter\"}],\"parcoords\":[{\"type\":\"parcoords\",\"line\":{\"colorbar\":{\"outlinewidth\":0,\"ticks\":\"\"}}}],\"scatterpolargl\":[{\"type\":\"scatterpolargl\",\"marker\":{\"colorbar\":{\"outlinewidth\":0,\"ticks\":\"\"}}}],\"bar\":[{\"error_x\":{\"color\":\"#2a3f5f\"},\"error_y\":{\"color\":\"#2a3f5f\"},\"marker\":{\"line\":{\"color\":\"#E5ECF6\",\"width\":0.5},\"pattern\":{\"fillmode\":\"overlay\",\"size\":10,\"solidity\":0.2}},\"type\":\"bar\"}],\"scattergeo\":[{\"type\":\"scattergeo\",\"marker\":{\"colorbar\":{\"outlinewidth\":0,\"ticks\":\"\"}}}],\"scatterpolar\":[{\"type\":\"scatterpolar\",\"marker\":{\"colorbar\":{\"outlinewidth\":0,\"ticks\":\"\"}}}],\"histogram\":[{\"marker\":{\"pattern\":{\"fillmode\":\"overlay\",\"size\":10,\"solidity\":0.2}},\"type\":\"histogram\"}],\"scattergl\":[{\"type\":\"scattergl\",\"marker\":{\"colorbar\":{\"outlinewidth\":0,\"ticks\":\"\"}}}],\"scatter3d\":[{\"type\":\"scatter3d\",\"line\":{\"colorbar\":{\"outlinewidth\":0,\"ticks\":\"\"}},\"marker\":{\"colorbar\":{\"outlinewidth\":0,\"ticks\":\"\"}}}],\"scattermapbox\":[{\"type\":\"scattermapbox\",\"marker\":{\"colorbar\":{\"outlinewidth\":0,\"ticks\":\"\"}}}],\"scatterternary\":[{\"type\":\"scatterternary\",\"marker\":{\"colorbar\":{\"outlinewidth\":0,\"ticks\":\"\"}}}],\"scattercarpet\":[{\"type\":\"scattercarpet\",\"marker\":{\"colorbar\":{\"outlinewidth\":0,\"ticks\":\"\"}}}],\"carpet\":[{\"aaxis\":{\"endlinecolor\":\"#2a3f5f\",\"gridcolor\":\"white\",\"linecolor\":\"white\",\"minorgridcolor\":\"white\",\"startlinecolor\":\"#2a3f5f\"},\"baxis\":{\"endlinecolor\":\"#2a3f5f\",\"gridcolor\":\"white\",\"linecolor\":\"white\",\"minorgridcolor\":\"white\",\"startlinecolor\":\"#2a3f5f\"},\"type\":\"carpet\"}],\"table\":[{\"cells\":{\"fill\":{\"color\":\"#EBF0F8\"},\"line\":{\"color\":\"white\"}},\"header\":{\"fill\":{\"color\":\"#C8D4E3\"},\"line\":{\"color\":\"white\"}},\"type\":\"table\"}],\"barpolar\":[{\"marker\":{\"line\":{\"color\":\"#E5ECF6\",\"width\":0.5},\"pattern\":{\"fillmode\":\"overlay\",\"size\":10,\"solidity\":0.2}},\"type\":\"barpolar\"}],\"pie\":[{\"automargin\":true,\"type\":\"pie\"}]},\"layout\":{\"autotypenumbers\":\"strict\",\"colorway\":[\"#636efa\",\"#EF553B\",\"#00cc96\",\"#ab63fa\",\"#FFA15A\",\"#19d3f3\",\"#FF6692\",\"#B6E880\",\"#FF97FF\",\"#FECB52\"],\"font\":{\"color\":\"#2a3f5f\"},\"hovermode\":\"closest\",\"hoverlabel\":{\"align\":\"left\"},\"paper_bgcolor\":\"white\",\"plot_bgcolor\":\"#E5ECF6\",\"polar\":{\"bgcolor\":\"#E5ECF6\",\"angularaxis\":{\"gridcolor\":\"white\",\"linecolor\":\"white\",\"ticks\":\"\"},\"radialaxis\":{\"gridcolor\":\"white\",\"linecolor\":\"white\",\"ticks\":\"\"}},\"ternary\":{\"bgcolor\":\"#E5ECF6\",\"aaxis\":{\"gridcolor\":\"white\",\"linecolor\":\"white\",\"ticks\":\"\"},\"baxis\":{\"gridcolor\":\"white\",\"linecolor\":\"white\",\"ticks\":\"\"},\"caxis\":{\"gridcolor\":\"white\",\"linecolor\":\"white\",\"ticks\":\"\"}},\"coloraxis\":{\"colorbar\":{\"outlinewidth\":0,\"ticks\":\"\"}},\"colorscale\":{\"sequential\":[[0.0,\"#0d0887\"],[0.1111111111111111,\"#46039f\"],[0.2222222222222222,\"#7201a8\"],[0.3333333333333333,\"#9c179e\"],[0.4444444444444444,\"#bd3786\"],[0.5555555555555556,\"#d8576b\"],[0.6666666666666666,\"#ed7953\"],[0.7777777777777778,\"#fb9f3a\"],[0.8888888888888888,\"#fdca26\"],[1.0,\"#f0f921\"]],\"sequentialminus\":[[0.0,\"#0d0887\"],[0.1111111111111111,\"#46039f\"],[0.2222222222222222,\"#7201a8\"],[0.3333333333333333,\"#9c179e\"],[0.4444444444444444,\"#bd3786\"],[0.5555555555555556,\"#d8576b\"],[0.6666666666666666,\"#ed7953\"],[0.7777777777777778,\"#fb9f3a\"],[0.8888888888888888,\"#fdca26\"],[1.0,\"#f0f921\"]],\"diverging\":[[0,\"#8e0152\"],[0.1,\"#c51b7d\"],[0.2,\"#de77ae\"],[0.3,\"#f1b6da\"],[0.4,\"#fde0ef\"],[0.5,\"#f7f7f7\"],[0.6,\"#e6f5d0\"],[0.7,\"#b8e186\"],[0.8,\"#7fbc41\"],[0.9,\"#4d9221\"],[1,\"#276419\"]]},\"xaxis\":{\"gridcolor\":\"white\",\"linecolor\":\"white\",\"ticks\":\"\",\"title\":{\"standoff\":15},\"zerolinecolor\":\"white\",\"automargin\":true,\"zerolinewidth\":2},\"yaxis\":{\"gridcolor\":\"white\",\"linecolor\":\"white\",\"ticks\":\"\",\"title\":{\"standoff\":15},\"zerolinecolor\":\"white\",\"automargin\":true,\"zerolinewidth\":2},\"scene\":{\"xaxis\":{\"backgroundcolor\":\"#E5ECF6\",\"gridcolor\":\"white\",\"linecolor\":\"white\",\"showbackground\":true,\"ticks\":\"\",\"zerolinecolor\":\"white\",\"gridwidth\":2},\"yaxis\":{\"backgroundcolor\":\"#E5ECF6\",\"gridcolor\":\"white\",\"linecolor\":\"white\",\"showbackground\":true,\"ticks\":\"\",\"zerolinecolor\":\"white\",\"gridwidth\":2},\"zaxis\":{\"backgroundcolor\":\"#E5ECF6\",\"gridcolor\":\"white\",\"linecolor\":\"white\",\"showbackground\":true,\"ticks\":\"\",\"zerolinecolor\":\"white\",\"gridwidth\":2}},\"shapedefaults\":{\"line\":{\"color\":\"#2a3f5f\"}},\"annotationdefaults\":{\"arrowcolor\":\"#2a3f5f\",\"arrowhead\":0,\"arrowwidth\":1},\"geo\":{\"bgcolor\":\"white\",\"landcolor\":\"#E5ECF6\",\"subunitcolor\":\"white\",\"showland\":true,\"showlakes\":true,\"lakecolor\":\"white\"},\"title\":{\"x\":0.05},\"mapbox\":{\"style\":\"light\"}}},\"xaxis\":{\"anchor\":\"y\",\"domain\":[0.0,1.0],\"title\":{\"text\":\"Guias_Fecha\"},\"rangeslider\":{\"visible\":true},\"rangeselector\":{\"buttons\":[{\"count\":1,\"label\":\"1m\",\"step\":\"month\",\"stepmode\":\"backward\"},{\"count\":6,\"label\":\"6m\",\"step\":\"month\",\"stepmode\":\"backward\"},{\"count\":1,\"label\":\"YTD\",\"step\":\"year\",\"stepmode\":\"todate\"},{\"count\":1,\"label\":\"1y\",\"step\":\"year\",\"stepmode\":\"backward\"},{\"step\":\"all\"}]}},\"yaxis\":{\"anchor\":\"x\",\"domain\":[0.0,1.0],\"title\":{\"text\":\"Guias_Peso\"}},\"legend\":{\"tracegroupgap\":0},\"title\":{\"text\":\"Total Kilos por Mes\"}},                        {\"responsive\": true}                    ).then(function(){\n",
       "                            \n",
       "var gd = document.getElementById('41665c7c-410f-4361-bb3b-bb814586691d');\n",
       "var x = new MutationObserver(function (mutations, observer) {{\n",
       "        var display = window.getComputedStyle(gd).display;\n",
       "        if (!display || display === 'none') {{\n",
       "            console.log([gd, 'removed!']);\n",
       "            Plotly.purge(gd);\n",
       "            observer.disconnect();\n",
       "        }}\n",
       "}});\n",
       "\n",
       "// Listen for the removal of the full notebook cells\n",
       "var notebookContainer = gd.closest('#notebook-container');\n",
       "if (notebookContainer) {{\n",
       "    x.observe(notebookContainer, {childList: true});\n",
       "}}\n",
       "\n",
       "// Listen for the clearing of the current output cell\n",
       "var outputEl = gd.closest('.output');\n",
       "if (outputEl) {{\n",
       "    x.observe(outputEl, {childList: true});\n",
       "}}\n",
       "\n",
       "                        })                };                });            </script>        </div>"
      ]
     },
     "metadata": {},
     "output_type": "display_data"
    }
   ],
   "source": [
    "fig = px.line(df_guias_group_mensual, x=df_guias_group_mensual.index, y='Guias_Peso', title='Total Kilos por Mes', )\n",
    "\n",
    "fig.update_xaxes(\n",
    "    rangeslider_visible=True,\n",
    "    rangeselector=dict(\n",
    "        buttons=list([\n",
    "                dict(count=1, label=\"1m\", step=\"month\", stepmode=\"backward\"),\n",
    "                dict(count=6, label=\"6m\", step=\"month\", stepmode=\"backward\"),\n",
    "                dict(count=1, label=\"YTD\", step=\"year\", stepmode=\"todate\"),\n",
    "                dict(count=1, label=\"1y\", step=\"year\", stepmode=\"backward\"),\n",
    "                dict(step=\"all\")\n",
    "            ])\n",
    "        )\n",
    "    )\n",
    "\n",
    "fig.show()"
   ]
  },
  {
   "cell_type": "markdown",
   "metadata": {},
   "source": [
    "Con este tipo de gráfica no solo se puede observar la evolución general de los kilos transportados por mes sino tambien el outlier que se encuentra en diciembre 2023. Ademas observamos que mensualmente la evolución de kilos transportados posee variaciones y las tendencias varian año a año, aunque se observa claramente el impacto de la pandemia en el 2020 y como luego de unos meses comenzo a aumentar el volumen de kilos transportados. Por otro lado, se observa que el maximo de kilos transportados fue mas de 68.000 en agosto de 2022, y el segundo maximo fue en mayo de 2023 con mas de 67.800 kilos. \n",
    "\n",
    "Si comparamos el comienzo del 2023 con el 2022, observamos como el año anterior fue mucho mas estable la evolución de kilos de carga, mientras que este año presentó mayores fluctuaciones de kilos entre los meses con una variación aproximada de +-30%. Esto se puede deber a la inestabilidad política y económica que presento esto año en particular, con las elecciones presidenciales en Octubre y con una volatilidad del dólar mucho mayor a la del año anterior. Este hecho repercute de forma directa en la capacidad de los clientes para importar mercadería para comercializar o exportar sus productos. Debemos considerar que la suba del dolar no es aislada a mayores restricciones en aduana y complicaciones para pagar en el exterior lo que perjudica la capacidad de compra, y pagos en el exterior que no solo afecta a los clientes, ergo a los kilos transportados, sino tambien pone en riesgo la capacidad de Raico de pagarle a sus proveedores en el exterior, principalmente las compañías aéreas (Aerolineas Argentinas, Iberia, American Airlines, IFS), agentes (UPS, FEDEX, Geobox) o incluso los pickups domésticos en Europa y Asia. \n"
   ]
  },
  {
   "cell_type": "markdown",
   "metadata": {},
   "source": [
    "##### Comparación Impo vs Expo <a id='3'></a>"
   ]
  },
  {
   "cell_type": "markdown",
   "metadata": {},
   "source": [
    "El negocio se divide en dos sectores principales ya que si bien los servicios logísticos son parecidos, su gestion y procesos son realizados por separado. De esta forma, la empresa se divide en dos grandes sectores: Importación y Exportación. Los procesos de ambos estan ilustrados debajo para mayor comprension del análisis, pero en resumidas cuentas son inversos entre si y en ambos intervienen los mismo agenntes. Aun asi por politicas gubernamentales, y de acuerdo al partido que gobierne es el regimen que se vera favorecido. Si comparamos impo vs expo, se observa que durante la presidencia de Macri el regimen de exportacion se vio favorecido lo que represento mayor protagonismo de las exportaciones sobre las importaciones, pero en cambio con la llegada del nuevo regimen en 2019, el regimen de importación logró mayor popularidad representando hoy mas de 80% de las ventas y logrando records en la cantidad de kilos transportados para este servicio. \n",
    "\n",
    "Al ser un negocio fuertemente vinculado con los regimenes aduaneros que varian drasticamente de acuerdo a las politicas economicas o de gobierno, la adaptabilidad es un factor clave, donde la posibilidad de prestar ambos servicios es una gran ventaja ya que cuando uno de ellos es desfavorecido el segundo no lo es, por lo que permite orientar rapidamente la estrategia hacia el sector no afectado, de esta forma es un negocio que se amolda a las necesidades de los clientes y a las condiciones del pais, permitiendo sobrepasar tormentas y momentos donde la logistica es fuertemente afectada. \n"
   ]
  },
  {
   "cell_type": "code",
   "execution_count": 78,
   "metadata": {},
   "outputs": [],
   "source": [
    "df_guias_expo= df_guias.dropna(subset=['Guias_ExpoTotVta'])\n",
    "df_guias_impo= df_guias.dropna(subset=['Guias_ImpoTotVta'])"
   ]
  },
  {
   "cell_type": "code",
   "execution_count": 79,
   "metadata": {},
   "outputs": [
    {
     "data": {
      "text/html": [
       "<div>\n",
       "<style scoped>\n",
       "    .dataframe tbody tr th:only-of-type {\n",
       "        vertical-align: middle;\n",
       "    }\n",
       "\n",
       "    .dataframe tbody tr th {\n",
       "        vertical-align: top;\n",
       "    }\n",
       "\n",
       "    .dataframe thead th {\n",
       "        text-align: right;\n",
       "    }\n",
       "</style>\n",
       "<table border=\"1\" class=\"dataframe\">\n",
       "  <thead>\n",
       "    <tr style=\"text-align: right;\">\n",
       "      <th></th>\n",
       "      <th>Guias_Id</th>\n",
       "      <th>Motivos_Id</th>\n",
       "      <th>Proveedores_Id</th>\n",
       "      <th>Paises_Id</th>\n",
       "      <th>Paises2_Id</th>\n",
       "      <th>Ciudades_Id</th>\n",
       "      <th>Ciudades2_Id</th>\n",
       "      <th>ZonasV_Id</th>\n",
       "      <th>Contenidos_Id</th>\n",
       "      <th>Guias_Bultos</th>\n",
       "      <th>Guias_Peso</th>\n",
       "      <th>Guias_PesoVol</th>\n",
       "      <th>Guias_FOB</th>\n",
       "      <th>Clientes_Id</th>\n",
       "      <th>Guias_ExpoTotVta</th>\n",
       "      <th>Guias_ImpoTotVta</th>\n",
       "      <th>Guias_VentaI</th>\n",
       "      <th>kilos_facturables</th>\n",
       "    </tr>\n",
       "  </thead>\n",
       "  <tbody>\n",
       "    <tr>\n",
       "      <th>count</th>\n",
       "      <td>42406.000000</td>\n",
       "      <td>42406.000000</td>\n",
       "      <td>40906.000000</td>\n",
       "      <td>965.000000</td>\n",
       "      <td>41911.000000</td>\n",
       "      <td>40034.000000</td>\n",
       "      <td>789.000000</td>\n",
       "      <td>42406.000000</td>\n",
       "      <td>42406.000000</td>\n",
       "      <td>42405.000000</td>\n",
       "      <td>42364.000000</td>\n",
       "      <td>36225.000000</td>\n",
       "      <td>3.635500e+04</td>\n",
       "      <td>42406.000000</td>\n",
       "      <td>42406.000000</td>\n",
       "      <td>3.000000</td>\n",
       "      <td>42406.0</td>\n",
       "      <td>42380.000000</td>\n",
       "    </tr>\n",
       "    <tr>\n",
       "      <th>mean</th>\n",
       "      <td>475317.765175</td>\n",
       "      <td>113.127411</td>\n",
       "      <td>1866.080746</td>\n",
       "      <td>3.821762</td>\n",
       "      <td>64.184415</td>\n",
       "      <td>30.374382</td>\n",
       "      <td>104.114068</td>\n",
       "      <td>125.182451</td>\n",
       "      <td>2.755789</td>\n",
       "      <td>1.499281</td>\n",
       "      <td>19.870580</td>\n",
       "      <td>22.687450</td>\n",
       "      <td>9.645111e+02</td>\n",
       "      <td>40427.835000</td>\n",
       "      <td>192.439414</td>\n",
       "      <td>184.000000</td>\n",
       "      <td>0.0</td>\n",
       "      <td>25.339526</td>\n",
       "    </tr>\n",
       "    <tr>\n",
       "      <th>std</th>\n",
       "      <td>41040.008821</td>\n",
       "      <td>40.590487</td>\n",
       "      <td>961.995605</td>\n",
       "      <td>14.560838</td>\n",
       "      <td>39.814481</td>\n",
       "      <td>80.618152</td>\n",
       "      <td>118.518433</td>\n",
       "      <td>143.450013</td>\n",
       "      <td>0.654823</td>\n",
       "      <td>2.854840</td>\n",
       "      <td>88.018156</td>\n",
       "      <td>105.321718</td>\n",
       "      <td>1.467682e+04</td>\n",
       "      <td>2873.223494</td>\n",
       "      <td>333.867240</td>\n",
       "      <td>46.765372</td>\n",
       "      <td>0.0</td>\n",
       "      <td>112.412574</td>\n",
       "    </tr>\n",
       "    <tr>\n",
       "      <th>min</th>\n",
       "      <td>404102.000000</td>\n",
       "      <td>24.000000</td>\n",
       "      <td>1226.000000</td>\n",
       "      <td>1.000000</td>\n",
       "      <td>1.000000</td>\n",
       "      <td>1.000000</td>\n",
       "      <td>1.000000</td>\n",
       "      <td>55.000000</td>\n",
       "      <td>1.000000</td>\n",
       "      <td>1.000000</td>\n",
       "      <td>0.050000</td>\n",
       "      <td>0.100000</td>\n",
       "      <td>1.000000e-01</td>\n",
       "      <td>27948.000000</td>\n",
       "      <td>3.200000</td>\n",
       "      <td>130.000000</td>\n",
       "      <td>0.0</td>\n",
       "      <td>0.050000</td>\n",
       "    </tr>\n",
       "    <tr>\n",
       "      <th>25%</th>\n",
       "      <td>438798.250000</td>\n",
       "      <td>97.000000</td>\n",
       "      <td>1226.000000</td>\n",
       "      <td>1.000000</td>\n",
       "      <td>24.000000</td>\n",
       "      <td>2.000000</td>\n",
       "      <td>2.000000</td>\n",
       "      <td>65.000000</td>\n",
       "      <td>3.000000</td>\n",
       "      <td>1.000000</td>\n",
       "      <td>1.000000</td>\n",
       "      <td>4.500000</td>\n",
       "      <td>1.000000e+01</td>\n",
       "      <td>40542.000000</td>\n",
       "      <td>56.585000</td>\n",
       "      <td>170.500000</td>\n",
       "      <td>0.0</td>\n",
       "      <td>2.500000</td>\n",
       "    </tr>\n",
       "    <tr>\n",
       "      <th>50%</th>\n",
       "      <td>475133.500000</td>\n",
       "      <td>137.000000</td>\n",
       "      <td>1519.000000</td>\n",
       "      <td>1.000000</td>\n",
       "      <td>91.000000</td>\n",
       "      <td>2.000000</td>\n",
       "      <td>58.000000</td>\n",
       "      <td>76.000000</td>\n",
       "      <td>3.000000</td>\n",
       "      <td>1.000000</td>\n",
       "      <td>1.600000</td>\n",
       "      <td>4.500000</td>\n",
       "      <td>1.000000e+01</td>\n",
       "      <td>40542.000000</td>\n",
       "      <td>105.900000</td>\n",
       "      <td>211.000000</td>\n",
       "      <td>0.0</td>\n",
       "      <td>4.500000</td>\n",
       "    </tr>\n",
       "    <tr>\n",
       "      <th>75%</th>\n",
       "      <td>508262.750000</td>\n",
       "      <td>137.000000</td>\n",
       "      <td>1547.000000</td>\n",
       "      <td>1.000000</td>\n",
       "      <td>91.000000</td>\n",
       "      <td>2.000000</td>\n",
       "      <td>187.000000</td>\n",
       "      <td>99.000000</td>\n",
       "      <td>3.000000</td>\n",
       "      <td>1.000000</td>\n",
       "      <td>7.500000</td>\n",
       "      <td>12.000000</td>\n",
       "      <td>1.360000e+02</td>\n",
       "      <td>42024.000000</td>\n",
       "      <td>197.860000</td>\n",
       "      <td>211.000000</td>\n",
       "      <td>0.0</td>\n",
       "      <td>12.000000</td>\n",
       "    </tr>\n",
       "    <tr>\n",
       "      <th>max</th>\n",
       "      <td>557872.000000</td>\n",
       "      <td>172.000000</td>\n",
       "      <td>7360.000000</td>\n",
       "      <td>91.000000</td>\n",
       "      <td>311.000000</td>\n",
       "      <td>509.000000</td>\n",
       "      <td>510.000000</td>\n",
       "      <td>729.000000</td>\n",
       "      <td>3.000000</td>\n",
       "      <td>134.000000</td>\n",
       "      <td>4338.000000</td>\n",
       "      <td>8304.000000</td>\n",
       "      <td>1.539440e+06</td>\n",
       "      <td>46025.000000</td>\n",
       "      <td>12682.130000</td>\n",
       "      <td>211.000000</td>\n",
       "      <td>0.0</td>\n",
       "      <td>8304.000000</td>\n",
       "    </tr>\n",
       "  </tbody>\n",
       "</table>\n",
       "</div>"
      ],
      "text/plain": [
       "            Guias_Id    Motivos_Id  Proveedores_Id   Paises_Id    Paises2_Id  \\\n",
       "count   42406.000000  42406.000000    40906.000000  965.000000  41911.000000   \n",
       "mean   475317.765175    113.127411     1866.080746    3.821762     64.184415   \n",
       "std     41040.008821     40.590487      961.995605   14.560838     39.814481   \n",
       "min    404102.000000     24.000000     1226.000000    1.000000      1.000000   \n",
       "25%    438798.250000     97.000000     1226.000000    1.000000     24.000000   \n",
       "50%    475133.500000    137.000000     1519.000000    1.000000     91.000000   \n",
       "75%    508262.750000    137.000000     1547.000000    1.000000     91.000000   \n",
       "max    557872.000000    172.000000     7360.000000   91.000000    311.000000   \n",
       "\n",
       "        Ciudades_Id  Ciudades2_Id     ZonasV_Id  Contenidos_Id  Guias_Bultos  \\\n",
       "count  40034.000000    789.000000  42406.000000   42406.000000  42405.000000   \n",
       "mean      30.374382    104.114068    125.182451       2.755789      1.499281   \n",
       "std       80.618152    118.518433    143.450013       0.654823      2.854840   \n",
       "min        1.000000      1.000000     55.000000       1.000000      1.000000   \n",
       "25%        2.000000      2.000000     65.000000       3.000000      1.000000   \n",
       "50%        2.000000     58.000000     76.000000       3.000000      1.000000   \n",
       "75%        2.000000    187.000000     99.000000       3.000000      1.000000   \n",
       "max      509.000000    510.000000    729.000000       3.000000    134.000000   \n",
       "\n",
       "         Guias_Peso  Guias_PesoVol     Guias_FOB   Clientes_Id  \\\n",
       "count  42364.000000   36225.000000  3.635500e+04  42406.000000   \n",
       "mean      19.870580      22.687450  9.645111e+02  40427.835000   \n",
       "std       88.018156     105.321718  1.467682e+04   2873.223494   \n",
       "min        0.050000       0.100000  1.000000e-01  27948.000000   \n",
       "25%        1.000000       4.500000  1.000000e+01  40542.000000   \n",
       "50%        1.600000       4.500000  1.000000e+01  40542.000000   \n",
       "75%        7.500000      12.000000  1.360000e+02  42024.000000   \n",
       "max     4338.000000    8304.000000  1.539440e+06  46025.000000   \n",
       "\n",
       "       Guias_ExpoTotVta  Guias_ImpoTotVta  Guias_VentaI  kilos_facturables  \n",
       "count      42406.000000          3.000000       42406.0       42380.000000  \n",
       "mean         192.439414        184.000000           0.0          25.339526  \n",
       "std          333.867240         46.765372           0.0         112.412574  \n",
       "min            3.200000        130.000000           0.0           0.050000  \n",
       "25%           56.585000        170.500000           0.0           2.500000  \n",
       "50%          105.900000        211.000000           0.0           4.500000  \n",
       "75%          197.860000        211.000000           0.0          12.000000  \n",
       "max        12682.130000        211.000000           0.0        8304.000000  "
      ]
     },
     "execution_count": 79,
     "metadata": {},
     "output_type": "execute_result"
    }
   ],
   "source": [
    "df_guias_expo.describe()"
   ]
  },
  {
   "cell_type": "code",
   "execution_count": 80,
   "metadata": {},
   "outputs": [
    {
     "data": {
      "text/html": [
       "<div>\n",
       "<style scoped>\n",
       "    .dataframe tbody tr th:only-of-type {\n",
       "        vertical-align: middle;\n",
       "    }\n",
       "\n",
       "    .dataframe tbody tr th {\n",
       "        vertical-align: top;\n",
       "    }\n",
       "\n",
       "    .dataframe thead th {\n",
       "        text-align: right;\n",
       "    }\n",
       "</style>\n",
       "<table border=\"1\" class=\"dataframe\">\n",
       "  <thead>\n",
       "    <tr style=\"text-align: right;\">\n",
       "      <th></th>\n",
       "      <th>Guias_Id</th>\n",
       "      <th>Motivos_Id</th>\n",
       "      <th>Proveedores_Id</th>\n",
       "      <th>Paises_Id</th>\n",
       "      <th>Paises2_Id</th>\n",
       "      <th>Ciudades_Id</th>\n",
       "      <th>Ciudades2_Id</th>\n",
       "      <th>ZonasV_Id</th>\n",
       "      <th>Contenidos_Id</th>\n",
       "      <th>Guias_Bultos</th>\n",
       "      <th>Guias_Peso</th>\n",
       "      <th>Guias_PesoVol</th>\n",
       "      <th>Guias_FOB</th>\n",
       "      <th>Clientes_Id</th>\n",
       "      <th>Guias_ExpoTotVta</th>\n",
       "      <th>Guias_ImpoTotVta</th>\n",
       "      <th>Guias_VentaI</th>\n",
       "      <th>kilos_facturables</th>\n",
       "    </tr>\n",
       "  </thead>\n",
       "  <tbody>\n",
       "    <tr>\n",
       "      <th>count</th>\n",
       "      <td>98708.000000</td>\n",
       "      <td>98708.000000</td>\n",
       "      <td>98209.000000</td>\n",
       "      <td>98196.000000</td>\n",
       "      <td>4.00000</td>\n",
       "      <td>4.000000</td>\n",
       "      <td>98699.000000</td>\n",
       "      <td>36403.000000</td>\n",
       "      <td>98708.000000</td>\n",
       "      <td>98253.000000</td>\n",
       "      <td>98264.000000</td>\n",
       "      <td>98125.000000</td>\n",
       "      <td>97431.000000</td>\n",
       "      <td>98708.000000</td>\n",
       "      <td>3.000000</td>\n",
       "      <td>98708.000000</td>\n",
       "      <td>98708.000000</td>\n",
       "      <td>98266.000000</td>\n",
       "    </tr>\n",
       "    <tr>\n",
       "      <th>mean</th>\n",
       "      <td>485415.303218</td>\n",
       "      <td>85.590560</td>\n",
       "      <td>2416.476484</td>\n",
       "      <td>77.372021</td>\n",
       "      <td>150.50000</td>\n",
       "      <td>54.500000</td>\n",
       "      <td>1.985218</td>\n",
       "      <td>99.923468</td>\n",
       "      <td>2.999696</td>\n",
       "      <td>2.031307</td>\n",
       "      <td>19.984398</td>\n",
       "      <td>18.049421</td>\n",
       "      <td>1098.285894</td>\n",
       "      <td>36555.284040</td>\n",
       "      <td>442.866667</td>\n",
       "      <td>862.483145</td>\n",
       "      <td>364.304749</td>\n",
       "      <td>23.888487</td>\n",
       "    </tr>\n",
       "    <tr>\n",
       "      <th>std</th>\n",
       "      <td>44445.051115</td>\n",
       "      <td>54.394139</td>\n",
       "      <td>959.957661</td>\n",
       "      <td>29.021760</td>\n",
       "      <td>126.13617</td>\n",
       "      <td>89.116029</td>\n",
       "      <td>0.969397</td>\n",
       "      <td>5.496103</td>\n",
       "      <td>0.024653</td>\n",
       "      <td>7.097137</td>\n",
       "      <td>19.925610</td>\n",
       "      <td>28.061448</td>\n",
       "      <td>830.995342</td>\n",
       "      <td>5127.108851</td>\n",
       "      <td>36.030173</td>\n",
       "      <td>2494.369691</td>\n",
       "      <td>316.557835</td>\n",
       "      <td>28.938130</td>\n",
       "    </tr>\n",
       "    <tr>\n",
       "      <th>min</th>\n",
       "      <td>406822.000000</td>\n",
       "      <td>36.000000</td>\n",
       "      <td>1226.000000</td>\n",
       "      <td>1.000000</td>\n",
       "      <td>1.00000</td>\n",
       "      <td>2.000000</td>\n",
       "      <td>1.000000</td>\n",
       "      <td>30.000000</td>\n",
       "      <td>1.000000</td>\n",
       "      <td>1.000000</td>\n",
       "      <td>0.000000</td>\n",
       "      <td>0.000000</td>\n",
       "      <td>0.100000</td>\n",
       "      <td>27948.000000</td>\n",
       "      <td>420.000000</td>\n",
       "      <td>0.720000</td>\n",
       "      <td>0.000000</td>\n",
       "      <td>0.000000</td>\n",
       "    </tr>\n",
       "    <tr>\n",
       "      <th>25%</th>\n",
       "      <td>446797.750000</td>\n",
       "      <td>36.000000</td>\n",
       "      <td>1830.000000</td>\n",
       "      <td>76.000000</td>\n",
       "      <td>68.50000</td>\n",
       "      <td>2.000000</td>\n",
       "      <td>2.000000</td>\n",
       "      <td>99.000000</td>\n",
       "      <td>3.000000</td>\n",
       "      <td>1.000000</td>\n",
       "      <td>5.000000</td>\n",
       "      <td>4.000000</td>\n",
       "      <td>476.700000</td>\n",
       "      <td>31205.000000</td>\n",
       "      <td>422.100000</td>\n",
       "      <td>456.412500</td>\n",
       "      <td>152.710000</td>\n",
       "      <td>7.000000</td>\n",
       "    </tr>\n",
       "    <tr>\n",
       "      <th>50%</th>\n",
       "      <td>486583.500000</td>\n",
       "      <td>36.000000</td>\n",
       "      <td>1830.000000</td>\n",
       "      <td>91.000000</td>\n",
       "      <td>173.00000</td>\n",
       "      <td>14.500000</td>\n",
       "      <td>2.000000</td>\n",
       "      <td>101.000000</td>\n",
       "      <td>3.000000</td>\n",
       "      <td>1.000000</td>\n",
       "      <td>16.000000</td>\n",
       "      <td>11.000000</td>\n",
       "      <td>932.350000</td>\n",
       "      <td>36910.000000</td>\n",
       "      <td>424.200000</td>\n",
       "      <td>744.795000</td>\n",
       "      <td>286.560000</td>\n",
       "      <td>18.500000</td>\n",
       "    </tr>\n",
       "    <tr>\n",
       "      <th>75%</th>\n",
       "      <td>525027.250000</td>\n",
       "      <td>136.000000</td>\n",
       "      <td>3780.000000</td>\n",
       "      <td>91.000000</td>\n",
       "      <td>255.00000</td>\n",
       "      <td>67.000000</td>\n",
       "      <td>2.000000</td>\n",
       "      <td>102.000000</td>\n",
       "      <td>3.000000</td>\n",
       "      <td>2.000000</td>\n",
       "      <td>33.000000</td>\n",
       "      <td>24.000000</td>\n",
       "      <td>1510.385000</td>\n",
       "      <td>40882.000000</td>\n",
       "      <td>454.300000</td>\n",
       "      <td>1148.547500</td>\n",
       "      <td>502.730000</td>\n",
       "      <td>37.000000</td>\n",
       "    </tr>\n",
       "    <tr>\n",
       "      <th>max</th>\n",
       "      <td>557914.000000</td>\n",
       "      <td>177.000000</td>\n",
       "      <td>7638.000000</td>\n",
       "      <td>254.000000</td>\n",
       "      <td>255.00000</td>\n",
       "      <td>187.000000</td>\n",
       "      <td>206.000000</td>\n",
       "      <td>167.000000</td>\n",
       "      <td>3.000000</td>\n",
       "      <td>510.000000</td>\n",
       "      <td>923.000000</td>\n",
       "      <td>1604.000000</td>\n",
       "      <td>4169.560000</td>\n",
       "      <td>46040.000000</td>\n",
       "      <td>484.400000</td>\n",
       "      <td>476854.950000</td>\n",
       "      <td>25155.590000</td>\n",
       "      <td>1604.000000</td>\n",
       "    </tr>\n",
       "  </tbody>\n",
       "</table>\n",
       "</div>"
      ],
      "text/plain": [
       "            Guias_Id    Motivos_Id  Proveedores_Id     Paises_Id  Paises2_Id  \\\n",
       "count   98708.000000  98708.000000    98209.000000  98196.000000     4.00000   \n",
       "mean   485415.303218     85.590560     2416.476484     77.372021   150.50000   \n",
       "std     44445.051115     54.394139      959.957661     29.021760   126.13617   \n",
       "min    406822.000000     36.000000     1226.000000      1.000000     1.00000   \n",
       "25%    446797.750000     36.000000     1830.000000     76.000000    68.50000   \n",
       "50%    486583.500000     36.000000     1830.000000     91.000000   173.00000   \n",
       "75%    525027.250000    136.000000     3780.000000     91.000000   255.00000   \n",
       "max    557914.000000    177.000000     7638.000000    254.000000   255.00000   \n",
       "\n",
       "       Ciudades_Id  Ciudades2_Id     ZonasV_Id  Contenidos_Id  Guias_Bultos  \\\n",
       "count     4.000000  98699.000000  36403.000000   98708.000000  98253.000000   \n",
       "mean     54.500000      1.985218     99.923468       2.999696      2.031307   \n",
       "std      89.116029      0.969397      5.496103       0.024653      7.097137   \n",
       "min       2.000000      1.000000     30.000000       1.000000      1.000000   \n",
       "25%       2.000000      2.000000     99.000000       3.000000      1.000000   \n",
       "50%      14.500000      2.000000    101.000000       3.000000      1.000000   \n",
       "75%      67.000000      2.000000    102.000000       3.000000      2.000000   \n",
       "max     187.000000    206.000000    167.000000       3.000000    510.000000   \n",
       "\n",
       "         Guias_Peso  Guias_PesoVol     Guias_FOB   Clientes_Id  \\\n",
       "count  98264.000000   98125.000000  97431.000000  98708.000000   \n",
       "mean      19.984398      18.049421   1098.285894  36555.284040   \n",
       "std       19.925610      28.061448    830.995342   5127.108851   \n",
       "min        0.000000       0.000000      0.100000  27948.000000   \n",
       "25%        5.000000       4.000000    476.700000  31205.000000   \n",
       "50%       16.000000      11.000000    932.350000  36910.000000   \n",
       "75%       33.000000      24.000000   1510.385000  40882.000000   \n",
       "max      923.000000    1604.000000   4169.560000  46040.000000   \n",
       "\n",
       "       Guias_ExpoTotVta  Guias_ImpoTotVta  Guias_VentaI  kilos_facturables  \n",
       "count          3.000000      98708.000000  98708.000000       98266.000000  \n",
       "mean         442.866667        862.483145    364.304749          23.888487  \n",
       "std           36.030173       2494.369691    316.557835          28.938130  \n",
       "min          420.000000          0.720000      0.000000           0.000000  \n",
       "25%          422.100000        456.412500    152.710000           7.000000  \n",
       "50%          424.200000        744.795000    286.560000          18.500000  \n",
       "75%          454.300000       1148.547500    502.730000          37.000000  \n",
       "max          484.400000     476854.950000  25155.590000        1604.000000  "
      ]
     },
     "execution_count": 80,
     "metadata": {},
     "output_type": "execute_result"
    }
   ],
   "source": [
    "df_guias_impo.describe()"
   ]
  },
  {
   "cell_type": "markdown",
   "metadata": {},
   "source": [
    "**Agrupamos los dos por mes**"
   ]
  },
  {
   "cell_type": "code",
   "execution_count": 81,
   "metadata": {},
   "outputs": [],
   "source": [
    "df_guias_impo_group_mensual= df_guias_impo.groupby(pd.Grouper(key='Guias_Fecha', axis=0, \n",
    "                      freq='M')).sum()\n",
    "df_guias_expo_group_mensual= df_guias_expo.groupby(pd.Grouper(key='Guias_Fecha', axis=0, \n",
    "                      freq='M')).sum()"
   ]
  },
  {
   "cell_type": "code",
   "execution_count": 82,
   "metadata": {},
   "outputs": [],
   "source": [
    "##Arreglamos el outlier de expo \n",
    "num_dic_2022= df_guias_expo_group_mensual.loc['2022-12-31']['Guias_Peso'] + df_guias_expo_group_mensual.loc['2023-12-31']['Guias_Peso'] \n",
    "df_guias_expo_group_mensual.loc['2022-12-31','Guias_Peso']= num_dic_2022"
   ]
  },
  {
   "cell_type": "code",
   "execution_count": 83,
   "metadata": {},
   "outputs": [],
   "source": [
    "df_mensual_comparativo= df_guias_expo_group_mensual[['Guias_Peso']]"
   ]
  },
  {
   "cell_type": "code",
   "execution_count": 84,
   "metadata": {},
   "outputs": [
    {
     "data": {
      "application/vnd.plotly.v1+json": {
       "config": {
        "plotlyServerURL": "https://plot.ly"
       },
       "data": [
        {
         "hovertemplate": " =Kilos Expo<br>Mes=%{x}<br>Kilos=%{y}<extra></extra>",
         "legendgroup": "Kilos Expo",
         "line": {
          "color": "#636efa",
          "dash": "solid"
         },
         "marker": {
          "symbol": "circle"
         },
         "mode": "lines",
         "name": "Kilos Expo",
         "orientation": "v",
         "showlegend": true,
         "type": "scatter",
         "x": [
          "2019-01-31T00:00:00",
          "2019-02-28T00:00:00",
          "2019-03-31T00:00:00",
          "2019-04-30T00:00:00",
          "2019-05-31T00:00:00",
          "2019-06-30T00:00:00",
          "2019-07-31T00:00:00",
          "2019-08-31T00:00:00",
          "2019-09-30T00:00:00",
          "2019-10-31T00:00:00",
          "2019-11-30T00:00:00",
          "2019-12-31T00:00:00",
          "2020-01-31T00:00:00",
          "2020-02-29T00:00:00",
          "2020-03-31T00:00:00",
          "2020-04-30T00:00:00",
          "2020-05-31T00:00:00",
          "2020-06-30T00:00:00",
          "2020-07-31T00:00:00",
          "2020-08-31T00:00:00",
          "2020-09-30T00:00:00",
          "2020-10-31T00:00:00",
          "2020-11-30T00:00:00",
          "2020-12-31T00:00:00",
          "2021-01-31T00:00:00",
          "2021-02-28T00:00:00",
          "2021-03-31T00:00:00",
          "2021-04-30T00:00:00",
          "2021-05-31T00:00:00",
          "2021-06-30T00:00:00",
          "2021-07-31T00:00:00",
          "2021-08-31T00:00:00",
          "2021-09-30T00:00:00",
          "2021-10-31T00:00:00",
          "2021-11-30T00:00:00",
          "2021-12-31T00:00:00",
          "2022-01-31T00:00:00",
          "2022-02-28T00:00:00",
          "2022-03-31T00:00:00",
          "2022-04-30T00:00:00",
          "2022-05-31T00:00:00",
          "2022-06-30T00:00:00",
          "2022-07-31T00:00:00",
          "2022-08-31T00:00:00",
          "2022-09-30T00:00:00",
          "2022-10-31T00:00:00",
          "2022-11-30T00:00:00",
          "2022-12-31T00:00:00",
          "2023-01-31T00:00:00",
          "2023-02-28T00:00:00",
          "2023-03-31T00:00:00",
          "2023-04-30T00:00:00",
          "2023-05-31T00:00:00",
          "2023-06-30T00:00:00"
         ],
         "xaxis": "x",
         "y": [
          8834.23,
          9957.83,
          12480.15,
          15195.51,
          20159.62,
          14187.63,
          22410.46,
          22046.01,
          22648.1,
          30354.92,
          15816.47,
          20796.23,
          24576.76,
          18612.24,
          15884.84,
          10567.39,
          6624.6,
          12031.3,
          10238.06,
          10658.08,
          15904.67,
          14009.55,
          15971.14,
          19546.1,
          12860.65,
          8929,
          22064.29,
          23902.7,
          18298.3,
          16390.48,
          18596.25,
          19079.45,
          19159.2,
          17253.95,
          14625.8,
          17454.75,
          13586.35,
          18953.2,
          14519.6,
          15143.6,
          14280.28,
          14136.48,
          16266.45,
          17942.21,
          12199.25,
          13511.1,
          12756.31,
          11117.28,
          9251.26,
          5475.95,
          12544.95,
          8448.96,
          16044,
          8367
         ],
         "yaxis": "y"
        },
        {
         "hovertemplate": " =Kilos Impo<br>Mes=%{x}<br>Kilos=%{y}<extra></extra>",
         "legendgroup": "Kilos Impo",
         "line": {
          "color": "#EF553B",
          "dash": "solid"
         },
         "marker": {
          "symbol": "circle"
         },
         "mode": "lines",
         "name": "Kilos Impo",
         "orientation": "v",
         "showlegend": true,
         "type": "scatter",
         "x": [
          "2019-01-31T00:00:00",
          "2019-02-28T00:00:00",
          "2019-03-31T00:00:00",
          "2019-04-30T00:00:00",
          "2019-05-31T00:00:00",
          "2019-06-30T00:00:00",
          "2019-07-31T00:00:00",
          "2019-08-31T00:00:00",
          "2019-09-30T00:00:00",
          "2019-10-31T00:00:00",
          "2019-11-30T00:00:00",
          "2019-12-31T00:00:00",
          "2020-01-31T00:00:00",
          "2020-02-29T00:00:00",
          "2020-03-31T00:00:00",
          "2020-04-30T00:00:00",
          "2020-05-31T00:00:00",
          "2020-06-30T00:00:00",
          "2020-07-31T00:00:00",
          "2020-08-31T00:00:00",
          "2020-09-30T00:00:00",
          "2020-10-31T00:00:00",
          "2020-11-30T00:00:00",
          "2020-12-31T00:00:00",
          "2021-01-31T00:00:00",
          "2021-02-28T00:00:00",
          "2021-03-31T00:00:00",
          "2021-04-30T00:00:00",
          "2021-05-31T00:00:00",
          "2021-06-30T00:00:00",
          "2021-07-31T00:00:00",
          "2021-08-31T00:00:00",
          "2021-09-30T00:00:00",
          "2021-10-31T00:00:00",
          "2021-11-30T00:00:00",
          "2021-12-31T00:00:00",
          "2022-01-31T00:00:00",
          "2022-02-28T00:00:00",
          "2022-03-31T00:00:00",
          "2022-04-30T00:00:00",
          "2022-05-31T00:00:00",
          "2022-06-30T00:00:00",
          "2022-07-31T00:00:00",
          "2022-08-31T00:00:00",
          "2022-09-30T00:00:00",
          "2022-10-31T00:00:00",
          "2022-11-30T00:00:00",
          "2022-12-31T00:00:00",
          "2023-01-31T00:00:00",
          "2023-02-28T00:00:00",
          "2023-03-31T00:00:00",
          "2023-04-30T00:00:00",
          "2023-05-31T00:00:00",
          "2023-06-30T00:00:00"
         ],
         "xaxis": "x",
         "y": [
          27679.8,
          25112.7,
          25503.74,
          27662.7,
          31929.9,
          26545.3,
          30312.49,
          30063.66,
          25425.4,
          30950.15,
          25014.88,
          24594.4,
          22595.6,
          20860.4,
          20382.45,
          13728.1,
          21331.8,
          24016.44,
          28993.02,
          33245.7,
          37186.5,
          38899.86,
          40393.38,
          40525.13,
          32407.33,
          34832.08,
          39729.25,
          42013.69,
          44927.46,
          41243.09,
          42840.82,
          47171.36,
          48501.07,
          44839.54,
          47282.89,
          43676.41,
          41324.23,
          34337.07,
          42416,
          37502.49,
          45236.89,
          45862.85,
          37991.84,
          50872.25,
          40027.18,
          33453.19,
          28186.4,
          33153.45,
          40365.83,
          34819.76,
          43352.1,
          39299.71,
          51799.5,
          49224.46
         ],
         "yaxis": "y"
        }
       ],
       "layout": {
        "legend": {
         "title": {
          "text": " "
         },
         "tracegroupgap": 0
        },
        "template": {
         "data": {
          "bar": [
           {
            "error_x": {
             "color": "#2a3f5f"
            },
            "error_y": {
             "color": "#2a3f5f"
            },
            "marker": {
             "line": {
              "color": "#E5ECF6",
              "width": 0.5
             },
             "pattern": {
              "fillmode": "overlay",
              "size": 10,
              "solidity": 0.2
             }
            },
            "type": "bar"
           }
          ],
          "barpolar": [
           {
            "marker": {
             "line": {
              "color": "#E5ECF6",
              "width": 0.5
             },
             "pattern": {
              "fillmode": "overlay",
              "size": 10,
              "solidity": 0.2
             }
            },
            "type": "barpolar"
           }
          ],
          "carpet": [
           {
            "aaxis": {
             "endlinecolor": "#2a3f5f",
             "gridcolor": "white",
             "linecolor": "white",
             "minorgridcolor": "white",
             "startlinecolor": "#2a3f5f"
            },
            "baxis": {
             "endlinecolor": "#2a3f5f",
             "gridcolor": "white",
             "linecolor": "white",
             "minorgridcolor": "white",
             "startlinecolor": "#2a3f5f"
            },
            "type": "carpet"
           }
          ],
          "choropleth": [
           {
            "colorbar": {
             "outlinewidth": 0,
             "ticks": ""
            },
            "type": "choropleth"
           }
          ],
          "contour": [
           {
            "colorbar": {
             "outlinewidth": 0,
             "ticks": ""
            },
            "colorscale": [
             [
              0,
              "#0d0887"
             ],
             [
              0.1111111111111111,
              "#46039f"
             ],
             [
              0.2222222222222222,
              "#7201a8"
             ],
             [
              0.3333333333333333,
              "#9c179e"
             ],
             [
              0.4444444444444444,
              "#bd3786"
             ],
             [
              0.5555555555555556,
              "#d8576b"
             ],
             [
              0.6666666666666666,
              "#ed7953"
             ],
             [
              0.7777777777777778,
              "#fb9f3a"
             ],
             [
              0.8888888888888888,
              "#fdca26"
             ],
             [
              1,
              "#f0f921"
             ]
            ],
            "type": "contour"
           }
          ],
          "contourcarpet": [
           {
            "colorbar": {
             "outlinewidth": 0,
             "ticks": ""
            },
            "type": "contourcarpet"
           }
          ],
          "heatmap": [
           {
            "colorbar": {
             "outlinewidth": 0,
             "ticks": ""
            },
            "colorscale": [
             [
              0,
              "#0d0887"
             ],
             [
              0.1111111111111111,
              "#46039f"
             ],
             [
              0.2222222222222222,
              "#7201a8"
             ],
             [
              0.3333333333333333,
              "#9c179e"
             ],
             [
              0.4444444444444444,
              "#bd3786"
             ],
             [
              0.5555555555555556,
              "#d8576b"
             ],
             [
              0.6666666666666666,
              "#ed7953"
             ],
             [
              0.7777777777777778,
              "#fb9f3a"
             ],
             [
              0.8888888888888888,
              "#fdca26"
             ],
             [
              1,
              "#f0f921"
             ]
            ],
            "type": "heatmap"
           }
          ],
          "heatmapgl": [
           {
            "colorbar": {
             "outlinewidth": 0,
             "ticks": ""
            },
            "colorscale": [
             [
              0,
              "#0d0887"
             ],
             [
              0.1111111111111111,
              "#46039f"
             ],
             [
              0.2222222222222222,
              "#7201a8"
             ],
             [
              0.3333333333333333,
              "#9c179e"
             ],
             [
              0.4444444444444444,
              "#bd3786"
             ],
             [
              0.5555555555555556,
              "#d8576b"
             ],
             [
              0.6666666666666666,
              "#ed7953"
             ],
             [
              0.7777777777777778,
              "#fb9f3a"
             ],
             [
              0.8888888888888888,
              "#fdca26"
             ],
             [
              1,
              "#f0f921"
             ]
            ],
            "type": "heatmapgl"
           }
          ],
          "histogram": [
           {
            "marker": {
             "pattern": {
              "fillmode": "overlay",
              "size": 10,
              "solidity": 0.2
             }
            },
            "type": "histogram"
           }
          ],
          "histogram2d": [
           {
            "colorbar": {
             "outlinewidth": 0,
             "ticks": ""
            },
            "colorscale": [
             [
              0,
              "#0d0887"
             ],
             [
              0.1111111111111111,
              "#46039f"
             ],
             [
              0.2222222222222222,
              "#7201a8"
             ],
             [
              0.3333333333333333,
              "#9c179e"
             ],
             [
              0.4444444444444444,
              "#bd3786"
             ],
             [
              0.5555555555555556,
              "#d8576b"
             ],
             [
              0.6666666666666666,
              "#ed7953"
             ],
             [
              0.7777777777777778,
              "#fb9f3a"
             ],
             [
              0.8888888888888888,
              "#fdca26"
             ],
             [
              1,
              "#f0f921"
             ]
            ],
            "type": "histogram2d"
           }
          ],
          "histogram2dcontour": [
           {
            "colorbar": {
             "outlinewidth": 0,
             "ticks": ""
            },
            "colorscale": [
             [
              0,
              "#0d0887"
             ],
             [
              0.1111111111111111,
              "#46039f"
             ],
             [
              0.2222222222222222,
              "#7201a8"
             ],
             [
              0.3333333333333333,
              "#9c179e"
             ],
             [
              0.4444444444444444,
              "#bd3786"
             ],
             [
              0.5555555555555556,
              "#d8576b"
             ],
             [
              0.6666666666666666,
              "#ed7953"
             ],
             [
              0.7777777777777778,
              "#fb9f3a"
             ],
             [
              0.8888888888888888,
              "#fdca26"
             ],
             [
              1,
              "#f0f921"
             ]
            ],
            "type": "histogram2dcontour"
           }
          ],
          "mesh3d": [
           {
            "colorbar": {
             "outlinewidth": 0,
             "ticks": ""
            },
            "type": "mesh3d"
           }
          ],
          "parcoords": [
           {
            "line": {
             "colorbar": {
              "outlinewidth": 0,
              "ticks": ""
             }
            },
            "type": "parcoords"
           }
          ],
          "pie": [
           {
            "automargin": true,
            "type": "pie"
           }
          ],
          "scatter": [
           {
            "fillpattern": {
             "fillmode": "overlay",
             "size": 10,
             "solidity": 0.2
            },
            "type": "scatter"
           }
          ],
          "scatter3d": [
           {
            "line": {
             "colorbar": {
              "outlinewidth": 0,
              "ticks": ""
             }
            },
            "marker": {
             "colorbar": {
              "outlinewidth": 0,
              "ticks": ""
             }
            },
            "type": "scatter3d"
           }
          ],
          "scattercarpet": [
           {
            "marker": {
             "colorbar": {
              "outlinewidth": 0,
              "ticks": ""
             }
            },
            "type": "scattercarpet"
           }
          ],
          "scattergeo": [
           {
            "marker": {
             "colorbar": {
              "outlinewidth": 0,
              "ticks": ""
             }
            },
            "type": "scattergeo"
           }
          ],
          "scattergl": [
           {
            "marker": {
             "colorbar": {
              "outlinewidth": 0,
              "ticks": ""
             }
            },
            "type": "scattergl"
           }
          ],
          "scattermapbox": [
           {
            "marker": {
             "colorbar": {
              "outlinewidth": 0,
              "ticks": ""
             }
            },
            "type": "scattermapbox"
           }
          ],
          "scatterpolar": [
           {
            "marker": {
             "colorbar": {
              "outlinewidth": 0,
              "ticks": ""
             }
            },
            "type": "scatterpolar"
           }
          ],
          "scatterpolargl": [
           {
            "marker": {
             "colorbar": {
              "outlinewidth": 0,
              "ticks": ""
             }
            },
            "type": "scatterpolargl"
           }
          ],
          "scatterternary": [
           {
            "marker": {
             "colorbar": {
              "outlinewidth": 0,
              "ticks": ""
             }
            },
            "type": "scatterternary"
           }
          ],
          "surface": [
           {
            "colorbar": {
             "outlinewidth": 0,
             "ticks": ""
            },
            "colorscale": [
             [
              0,
              "#0d0887"
             ],
             [
              0.1111111111111111,
              "#46039f"
             ],
             [
              0.2222222222222222,
              "#7201a8"
             ],
             [
              0.3333333333333333,
              "#9c179e"
             ],
             [
              0.4444444444444444,
              "#bd3786"
             ],
             [
              0.5555555555555556,
              "#d8576b"
             ],
             [
              0.6666666666666666,
              "#ed7953"
             ],
             [
              0.7777777777777778,
              "#fb9f3a"
             ],
             [
              0.8888888888888888,
              "#fdca26"
             ],
             [
              1,
              "#f0f921"
             ]
            ],
            "type": "surface"
           }
          ],
          "table": [
           {
            "cells": {
             "fill": {
              "color": "#EBF0F8"
             },
             "line": {
              "color": "white"
             }
            },
            "header": {
             "fill": {
              "color": "#C8D4E3"
             },
             "line": {
              "color": "white"
             }
            },
            "type": "table"
           }
          ]
         },
         "layout": {
          "annotationdefaults": {
           "arrowcolor": "#2a3f5f",
           "arrowhead": 0,
           "arrowwidth": 1
          },
          "autotypenumbers": "strict",
          "coloraxis": {
           "colorbar": {
            "outlinewidth": 0,
            "ticks": ""
           }
          },
          "colorscale": {
           "diverging": [
            [
             0,
             "#8e0152"
            ],
            [
             0.1,
             "#c51b7d"
            ],
            [
             0.2,
             "#de77ae"
            ],
            [
             0.3,
             "#f1b6da"
            ],
            [
             0.4,
             "#fde0ef"
            ],
            [
             0.5,
             "#f7f7f7"
            ],
            [
             0.6,
             "#e6f5d0"
            ],
            [
             0.7,
             "#b8e186"
            ],
            [
             0.8,
             "#7fbc41"
            ],
            [
             0.9,
             "#4d9221"
            ],
            [
             1,
             "#276419"
            ]
           ],
           "sequential": [
            [
             0,
             "#0d0887"
            ],
            [
             0.1111111111111111,
             "#46039f"
            ],
            [
             0.2222222222222222,
             "#7201a8"
            ],
            [
             0.3333333333333333,
             "#9c179e"
            ],
            [
             0.4444444444444444,
             "#bd3786"
            ],
            [
             0.5555555555555556,
             "#d8576b"
            ],
            [
             0.6666666666666666,
             "#ed7953"
            ],
            [
             0.7777777777777778,
             "#fb9f3a"
            ],
            [
             0.8888888888888888,
             "#fdca26"
            ],
            [
             1,
             "#f0f921"
            ]
           ],
           "sequentialminus": [
            [
             0,
             "#0d0887"
            ],
            [
             0.1111111111111111,
             "#46039f"
            ],
            [
             0.2222222222222222,
             "#7201a8"
            ],
            [
             0.3333333333333333,
             "#9c179e"
            ],
            [
             0.4444444444444444,
             "#bd3786"
            ],
            [
             0.5555555555555556,
             "#d8576b"
            ],
            [
             0.6666666666666666,
             "#ed7953"
            ],
            [
             0.7777777777777778,
             "#fb9f3a"
            ],
            [
             0.8888888888888888,
             "#fdca26"
            ],
            [
             1,
             "#f0f921"
            ]
           ]
          },
          "colorway": [
           "#636efa",
           "#EF553B",
           "#00cc96",
           "#ab63fa",
           "#FFA15A",
           "#19d3f3",
           "#FF6692",
           "#B6E880",
           "#FF97FF",
           "#FECB52"
          ],
          "font": {
           "color": "#2a3f5f"
          },
          "geo": {
           "bgcolor": "white",
           "lakecolor": "white",
           "landcolor": "#E5ECF6",
           "showlakes": true,
           "showland": true,
           "subunitcolor": "white"
          },
          "hoverlabel": {
           "align": "left"
          },
          "hovermode": "closest",
          "mapbox": {
           "style": "light"
          },
          "paper_bgcolor": "white",
          "plot_bgcolor": "#E5ECF6",
          "polar": {
           "angularaxis": {
            "gridcolor": "white",
            "linecolor": "white",
            "ticks": ""
           },
           "bgcolor": "#E5ECF6",
           "radialaxis": {
            "gridcolor": "white",
            "linecolor": "white",
            "ticks": ""
           }
          },
          "scene": {
           "xaxis": {
            "backgroundcolor": "#E5ECF6",
            "gridcolor": "white",
            "gridwidth": 2,
            "linecolor": "white",
            "showbackground": true,
            "ticks": "",
            "zerolinecolor": "white"
           },
           "yaxis": {
            "backgroundcolor": "#E5ECF6",
            "gridcolor": "white",
            "gridwidth": 2,
            "linecolor": "white",
            "showbackground": true,
            "ticks": "",
            "zerolinecolor": "white"
           },
           "zaxis": {
            "backgroundcolor": "#E5ECF6",
            "gridcolor": "white",
            "gridwidth": 2,
            "linecolor": "white",
            "showbackground": true,
            "ticks": "",
            "zerolinecolor": "white"
           }
          },
          "shapedefaults": {
           "line": {
            "color": "#2a3f5f"
           }
          },
          "ternary": {
           "aaxis": {
            "gridcolor": "white",
            "linecolor": "white",
            "ticks": ""
           },
           "baxis": {
            "gridcolor": "white",
            "linecolor": "white",
            "ticks": ""
           },
           "bgcolor": "#E5ECF6",
           "caxis": {
            "gridcolor": "white",
            "linecolor": "white",
            "ticks": ""
           }
          },
          "title": {
           "x": 0.05
          },
          "xaxis": {
           "automargin": true,
           "gridcolor": "white",
           "linecolor": "white",
           "ticks": "",
           "title": {
            "standoff": 15
           },
           "zerolinecolor": "white",
           "zerolinewidth": 2
          },
          "yaxis": {
           "automargin": true,
           "gridcolor": "white",
           "linecolor": "white",
           "ticks": "",
           "title": {
            "standoff": 15
           },
           "zerolinecolor": "white",
           "zerolinewidth": 2
          }
         }
        },
        "title": {
         "text": "Comparativo Mensual Kilos de Carga por Servicio"
        },
        "xaxis": {
         "anchor": "y",
         "domain": [
          0,
          1
         ],
         "title": {
          "text": "Mes"
         }
        },
        "yaxis": {
         "anchor": "x",
         "domain": [
          0,
          1
         ],
         "title": {
          "text": "Kilos"
         }
        }
       }
      },
      "text/html": [
       "<div>                            <div id=\"7b4fca2f-322e-4f5b-ba6e-ca87fe13e55b\" class=\"plotly-graph-div\" style=\"height:525px; width:100%;\"></div>            <script type=\"text/javascript\">                require([\"plotly\"], function(Plotly) {                    window.PLOTLYENV=window.PLOTLYENV || {};                                    if (document.getElementById(\"7b4fca2f-322e-4f5b-ba6e-ca87fe13e55b\")) {                    Plotly.newPlot(                        \"7b4fca2f-322e-4f5b-ba6e-ca87fe13e55b\",                        [{\"hovertemplate\":\" =Kilos Expo<br>Mes=%{x}<br>Kilos=%{y}<extra></extra>\",\"legendgroup\":\"Kilos Expo\",\"line\":{\"color\":\"#636efa\",\"dash\":\"solid\"},\"marker\":{\"symbol\":\"circle\"},\"mode\":\"lines\",\"name\":\"Kilos Expo\",\"orientation\":\"v\",\"showlegend\":true,\"x\":[\"2019-01-31T00:00:00\",\"2019-02-28T00:00:00\",\"2019-03-31T00:00:00\",\"2019-04-30T00:00:00\",\"2019-05-31T00:00:00\",\"2019-06-30T00:00:00\",\"2019-07-31T00:00:00\",\"2019-08-31T00:00:00\",\"2019-09-30T00:00:00\",\"2019-10-31T00:00:00\",\"2019-11-30T00:00:00\",\"2019-12-31T00:00:00\",\"2020-01-31T00:00:00\",\"2020-02-29T00:00:00\",\"2020-03-31T00:00:00\",\"2020-04-30T00:00:00\",\"2020-05-31T00:00:00\",\"2020-06-30T00:00:00\",\"2020-07-31T00:00:00\",\"2020-08-31T00:00:00\",\"2020-09-30T00:00:00\",\"2020-10-31T00:00:00\",\"2020-11-30T00:00:00\",\"2020-12-31T00:00:00\",\"2021-01-31T00:00:00\",\"2021-02-28T00:00:00\",\"2021-03-31T00:00:00\",\"2021-04-30T00:00:00\",\"2021-05-31T00:00:00\",\"2021-06-30T00:00:00\",\"2021-07-31T00:00:00\",\"2021-08-31T00:00:00\",\"2021-09-30T00:00:00\",\"2021-10-31T00:00:00\",\"2021-11-30T00:00:00\",\"2021-12-31T00:00:00\",\"2022-01-31T00:00:00\",\"2022-02-28T00:00:00\",\"2022-03-31T00:00:00\",\"2022-04-30T00:00:00\",\"2022-05-31T00:00:00\",\"2022-06-30T00:00:00\",\"2022-07-31T00:00:00\",\"2022-08-31T00:00:00\",\"2022-09-30T00:00:00\",\"2022-10-31T00:00:00\",\"2022-11-30T00:00:00\",\"2022-12-31T00:00:00\",\"2023-01-31T00:00:00\",\"2023-02-28T00:00:00\",\"2023-03-31T00:00:00\",\"2023-04-30T00:00:00\",\"2023-05-31T00:00:00\",\"2023-06-30T00:00:00\"],\"xaxis\":\"x\",\"y\":[8834.23,9957.83,12480.15,15195.51,20159.62,14187.63,22410.46,22046.01,22648.1,30354.92,15816.47,20796.23,24576.76,18612.24,15884.84,10567.39,6624.6,12031.3,10238.06,10658.08,15904.67,14009.55,15971.14,19546.1,12860.65,8929.0,22064.29,23902.7,18298.3,16390.48,18596.25,19079.45,19159.2,17253.95,14625.8,17454.75,13586.35,18953.2,14519.6,15143.6,14280.28,14136.48,16266.45,17942.21,12199.25,13511.1,12756.31,11117.28,9251.26,5475.95,12544.95,8448.96,16044.0,8367.0],\"yaxis\":\"y\",\"type\":\"scatter\"},{\"hovertemplate\":\" =Kilos Impo<br>Mes=%{x}<br>Kilos=%{y}<extra></extra>\",\"legendgroup\":\"Kilos Impo\",\"line\":{\"color\":\"#EF553B\",\"dash\":\"solid\"},\"marker\":{\"symbol\":\"circle\"},\"mode\":\"lines\",\"name\":\"Kilos Impo\",\"orientation\":\"v\",\"showlegend\":true,\"x\":[\"2019-01-31T00:00:00\",\"2019-02-28T00:00:00\",\"2019-03-31T00:00:00\",\"2019-04-30T00:00:00\",\"2019-05-31T00:00:00\",\"2019-06-30T00:00:00\",\"2019-07-31T00:00:00\",\"2019-08-31T00:00:00\",\"2019-09-30T00:00:00\",\"2019-10-31T00:00:00\",\"2019-11-30T00:00:00\",\"2019-12-31T00:00:00\",\"2020-01-31T00:00:00\",\"2020-02-29T00:00:00\",\"2020-03-31T00:00:00\",\"2020-04-30T00:00:00\",\"2020-05-31T00:00:00\",\"2020-06-30T00:00:00\",\"2020-07-31T00:00:00\",\"2020-08-31T00:00:00\",\"2020-09-30T00:00:00\",\"2020-10-31T00:00:00\",\"2020-11-30T00:00:00\",\"2020-12-31T00:00:00\",\"2021-01-31T00:00:00\",\"2021-02-28T00:00:00\",\"2021-03-31T00:00:00\",\"2021-04-30T00:00:00\",\"2021-05-31T00:00:00\",\"2021-06-30T00:00:00\",\"2021-07-31T00:00:00\",\"2021-08-31T00:00:00\",\"2021-09-30T00:00:00\",\"2021-10-31T00:00:00\",\"2021-11-30T00:00:00\",\"2021-12-31T00:00:00\",\"2022-01-31T00:00:00\",\"2022-02-28T00:00:00\",\"2022-03-31T00:00:00\",\"2022-04-30T00:00:00\",\"2022-05-31T00:00:00\",\"2022-06-30T00:00:00\",\"2022-07-31T00:00:00\",\"2022-08-31T00:00:00\",\"2022-09-30T00:00:00\",\"2022-10-31T00:00:00\",\"2022-11-30T00:00:00\",\"2022-12-31T00:00:00\",\"2023-01-31T00:00:00\",\"2023-02-28T00:00:00\",\"2023-03-31T00:00:00\",\"2023-04-30T00:00:00\",\"2023-05-31T00:00:00\",\"2023-06-30T00:00:00\"],\"xaxis\":\"x\",\"y\":[27679.8,25112.7,25503.74,27662.7,31929.9,26545.3,30312.49,30063.66,25425.4,30950.15,25014.88,24594.4,22595.6,20860.4,20382.45,13728.1,21331.8,24016.44,28993.02,33245.7,37186.5,38899.86,40393.38,40525.13,32407.33,34832.08,39729.25,42013.69,44927.46,41243.09,42840.82,47171.36,48501.07,44839.54,47282.89,43676.41,41324.23,34337.07,42416.0,37502.49,45236.89,45862.85,37991.84,50872.25,40027.18,33453.19,28186.4,33153.45,40365.83,34819.76,43352.1,39299.71,51799.5,49224.46],\"yaxis\":\"y\",\"type\":\"scatter\"}],                        {\"template\":{\"data\":{\"histogram2dcontour\":[{\"type\":\"histogram2dcontour\",\"colorbar\":{\"outlinewidth\":0,\"ticks\":\"\"},\"colorscale\":[[0.0,\"#0d0887\"],[0.1111111111111111,\"#46039f\"],[0.2222222222222222,\"#7201a8\"],[0.3333333333333333,\"#9c179e\"],[0.4444444444444444,\"#bd3786\"],[0.5555555555555556,\"#d8576b\"],[0.6666666666666666,\"#ed7953\"],[0.7777777777777778,\"#fb9f3a\"],[0.8888888888888888,\"#fdca26\"],[1.0,\"#f0f921\"]]}],\"choropleth\":[{\"type\":\"choropleth\",\"colorbar\":{\"outlinewidth\":0,\"ticks\":\"\"}}],\"histogram2d\":[{\"type\":\"histogram2d\",\"colorbar\":{\"outlinewidth\":0,\"ticks\":\"\"},\"colorscale\":[[0.0,\"#0d0887\"],[0.1111111111111111,\"#46039f\"],[0.2222222222222222,\"#7201a8\"],[0.3333333333333333,\"#9c179e\"],[0.4444444444444444,\"#bd3786\"],[0.5555555555555556,\"#d8576b\"],[0.6666666666666666,\"#ed7953\"],[0.7777777777777778,\"#fb9f3a\"],[0.8888888888888888,\"#fdca26\"],[1.0,\"#f0f921\"]]}],\"heatmap\":[{\"type\":\"heatmap\",\"colorbar\":{\"outlinewidth\":0,\"ticks\":\"\"},\"colorscale\":[[0.0,\"#0d0887\"],[0.1111111111111111,\"#46039f\"],[0.2222222222222222,\"#7201a8\"],[0.3333333333333333,\"#9c179e\"],[0.4444444444444444,\"#bd3786\"],[0.5555555555555556,\"#d8576b\"],[0.6666666666666666,\"#ed7953\"],[0.7777777777777778,\"#fb9f3a\"],[0.8888888888888888,\"#fdca26\"],[1.0,\"#f0f921\"]]}],\"heatmapgl\":[{\"type\":\"heatmapgl\",\"colorbar\":{\"outlinewidth\":0,\"ticks\":\"\"},\"colorscale\":[[0.0,\"#0d0887\"],[0.1111111111111111,\"#46039f\"],[0.2222222222222222,\"#7201a8\"],[0.3333333333333333,\"#9c179e\"],[0.4444444444444444,\"#bd3786\"],[0.5555555555555556,\"#d8576b\"],[0.6666666666666666,\"#ed7953\"],[0.7777777777777778,\"#fb9f3a\"],[0.8888888888888888,\"#fdca26\"],[1.0,\"#f0f921\"]]}],\"contourcarpet\":[{\"type\":\"contourcarpet\",\"colorbar\":{\"outlinewidth\":0,\"ticks\":\"\"}}],\"contour\":[{\"type\":\"contour\",\"colorbar\":{\"outlinewidth\":0,\"ticks\":\"\"},\"colorscale\":[[0.0,\"#0d0887\"],[0.1111111111111111,\"#46039f\"],[0.2222222222222222,\"#7201a8\"],[0.3333333333333333,\"#9c179e\"],[0.4444444444444444,\"#bd3786\"],[0.5555555555555556,\"#d8576b\"],[0.6666666666666666,\"#ed7953\"],[0.7777777777777778,\"#fb9f3a\"],[0.8888888888888888,\"#fdca26\"],[1.0,\"#f0f921\"]]}],\"surface\":[{\"type\":\"surface\",\"colorbar\":{\"outlinewidth\":0,\"ticks\":\"\"},\"colorscale\":[[0.0,\"#0d0887\"],[0.1111111111111111,\"#46039f\"],[0.2222222222222222,\"#7201a8\"],[0.3333333333333333,\"#9c179e\"],[0.4444444444444444,\"#bd3786\"],[0.5555555555555556,\"#d8576b\"],[0.6666666666666666,\"#ed7953\"],[0.7777777777777778,\"#fb9f3a\"],[0.8888888888888888,\"#fdca26\"],[1.0,\"#f0f921\"]]}],\"mesh3d\":[{\"type\":\"mesh3d\",\"colorbar\":{\"outlinewidth\":0,\"ticks\":\"\"}}],\"scatter\":[{\"fillpattern\":{\"fillmode\":\"overlay\",\"size\":10,\"solidity\":0.2},\"type\":\"scatter\"}],\"parcoords\":[{\"type\":\"parcoords\",\"line\":{\"colorbar\":{\"outlinewidth\":0,\"ticks\":\"\"}}}],\"scatterpolargl\":[{\"type\":\"scatterpolargl\",\"marker\":{\"colorbar\":{\"outlinewidth\":0,\"ticks\":\"\"}}}],\"bar\":[{\"error_x\":{\"color\":\"#2a3f5f\"},\"error_y\":{\"color\":\"#2a3f5f\"},\"marker\":{\"line\":{\"color\":\"#E5ECF6\",\"width\":0.5},\"pattern\":{\"fillmode\":\"overlay\",\"size\":10,\"solidity\":0.2}},\"type\":\"bar\"}],\"scattergeo\":[{\"type\":\"scattergeo\",\"marker\":{\"colorbar\":{\"outlinewidth\":0,\"ticks\":\"\"}}}],\"scatterpolar\":[{\"type\":\"scatterpolar\",\"marker\":{\"colorbar\":{\"outlinewidth\":0,\"ticks\":\"\"}}}],\"histogram\":[{\"marker\":{\"pattern\":{\"fillmode\":\"overlay\",\"size\":10,\"solidity\":0.2}},\"type\":\"histogram\"}],\"scattergl\":[{\"type\":\"scattergl\",\"marker\":{\"colorbar\":{\"outlinewidth\":0,\"ticks\":\"\"}}}],\"scatter3d\":[{\"type\":\"scatter3d\",\"line\":{\"colorbar\":{\"outlinewidth\":0,\"ticks\":\"\"}},\"marker\":{\"colorbar\":{\"outlinewidth\":0,\"ticks\":\"\"}}}],\"scattermapbox\":[{\"type\":\"scattermapbox\",\"marker\":{\"colorbar\":{\"outlinewidth\":0,\"ticks\":\"\"}}}],\"scatterternary\":[{\"type\":\"scatterternary\",\"marker\":{\"colorbar\":{\"outlinewidth\":0,\"ticks\":\"\"}}}],\"scattercarpet\":[{\"type\":\"scattercarpet\",\"marker\":{\"colorbar\":{\"outlinewidth\":0,\"ticks\":\"\"}}}],\"carpet\":[{\"aaxis\":{\"endlinecolor\":\"#2a3f5f\",\"gridcolor\":\"white\",\"linecolor\":\"white\",\"minorgridcolor\":\"white\",\"startlinecolor\":\"#2a3f5f\"},\"baxis\":{\"endlinecolor\":\"#2a3f5f\",\"gridcolor\":\"white\",\"linecolor\":\"white\",\"minorgridcolor\":\"white\",\"startlinecolor\":\"#2a3f5f\"},\"type\":\"carpet\"}],\"table\":[{\"cells\":{\"fill\":{\"color\":\"#EBF0F8\"},\"line\":{\"color\":\"white\"}},\"header\":{\"fill\":{\"color\":\"#C8D4E3\"},\"line\":{\"color\":\"white\"}},\"type\":\"table\"}],\"barpolar\":[{\"marker\":{\"line\":{\"color\":\"#E5ECF6\",\"width\":0.5},\"pattern\":{\"fillmode\":\"overlay\",\"size\":10,\"solidity\":0.2}},\"type\":\"barpolar\"}],\"pie\":[{\"automargin\":true,\"type\":\"pie\"}]},\"layout\":{\"autotypenumbers\":\"strict\",\"colorway\":[\"#636efa\",\"#EF553B\",\"#00cc96\",\"#ab63fa\",\"#FFA15A\",\"#19d3f3\",\"#FF6692\",\"#B6E880\",\"#FF97FF\",\"#FECB52\"],\"font\":{\"color\":\"#2a3f5f\"},\"hovermode\":\"closest\",\"hoverlabel\":{\"align\":\"left\"},\"paper_bgcolor\":\"white\",\"plot_bgcolor\":\"#E5ECF6\",\"polar\":{\"bgcolor\":\"#E5ECF6\",\"angularaxis\":{\"gridcolor\":\"white\",\"linecolor\":\"white\",\"ticks\":\"\"},\"radialaxis\":{\"gridcolor\":\"white\",\"linecolor\":\"white\",\"ticks\":\"\"}},\"ternary\":{\"bgcolor\":\"#E5ECF6\",\"aaxis\":{\"gridcolor\":\"white\",\"linecolor\":\"white\",\"ticks\":\"\"},\"baxis\":{\"gridcolor\":\"white\",\"linecolor\":\"white\",\"ticks\":\"\"},\"caxis\":{\"gridcolor\":\"white\",\"linecolor\":\"white\",\"ticks\":\"\"}},\"coloraxis\":{\"colorbar\":{\"outlinewidth\":0,\"ticks\":\"\"}},\"colorscale\":{\"sequential\":[[0.0,\"#0d0887\"],[0.1111111111111111,\"#46039f\"],[0.2222222222222222,\"#7201a8\"],[0.3333333333333333,\"#9c179e\"],[0.4444444444444444,\"#bd3786\"],[0.5555555555555556,\"#d8576b\"],[0.6666666666666666,\"#ed7953\"],[0.7777777777777778,\"#fb9f3a\"],[0.8888888888888888,\"#fdca26\"],[1.0,\"#f0f921\"]],\"sequentialminus\":[[0.0,\"#0d0887\"],[0.1111111111111111,\"#46039f\"],[0.2222222222222222,\"#7201a8\"],[0.3333333333333333,\"#9c179e\"],[0.4444444444444444,\"#bd3786\"],[0.5555555555555556,\"#d8576b\"],[0.6666666666666666,\"#ed7953\"],[0.7777777777777778,\"#fb9f3a\"],[0.8888888888888888,\"#fdca26\"],[1.0,\"#f0f921\"]],\"diverging\":[[0,\"#8e0152\"],[0.1,\"#c51b7d\"],[0.2,\"#de77ae\"],[0.3,\"#f1b6da\"],[0.4,\"#fde0ef\"],[0.5,\"#f7f7f7\"],[0.6,\"#e6f5d0\"],[0.7,\"#b8e186\"],[0.8,\"#7fbc41\"],[0.9,\"#4d9221\"],[1,\"#276419\"]]},\"xaxis\":{\"gridcolor\":\"white\",\"linecolor\":\"white\",\"ticks\":\"\",\"title\":{\"standoff\":15},\"zerolinecolor\":\"white\",\"automargin\":true,\"zerolinewidth\":2},\"yaxis\":{\"gridcolor\":\"white\",\"linecolor\":\"white\",\"ticks\":\"\",\"title\":{\"standoff\":15},\"zerolinecolor\":\"white\",\"automargin\":true,\"zerolinewidth\":2},\"scene\":{\"xaxis\":{\"backgroundcolor\":\"#E5ECF6\",\"gridcolor\":\"white\",\"linecolor\":\"white\",\"showbackground\":true,\"ticks\":\"\",\"zerolinecolor\":\"white\",\"gridwidth\":2},\"yaxis\":{\"backgroundcolor\":\"#E5ECF6\",\"gridcolor\":\"white\",\"linecolor\":\"white\",\"showbackground\":true,\"ticks\":\"\",\"zerolinecolor\":\"white\",\"gridwidth\":2},\"zaxis\":{\"backgroundcolor\":\"#E5ECF6\",\"gridcolor\":\"white\",\"linecolor\":\"white\",\"showbackground\":true,\"ticks\":\"\",\"zerolinecolor\":\"white\",\"gridwidth\":2}},\"shapedefaults\":{\"line\":{\"color\":\"#2a3f5f\"}},\"annotationdefaults\":{\"arrowcolor\":\"#2a3f5f\",\"arrowhead\":0,\"arrowwidth\":1},\"geo\":{\"bgcolor\":\"white\",\"landcolor\":\"#E5ECF6\",\"subunitcolor\":\"white\",\"showland\":true,\"showlakes\":true,\"lakecolor\":\"white\"},\"title\":{\"x\":0.05},\"mapbox\":{\"style\":\"light\"}}},\"xaxis\":{\"anchor\":\"y\",\"domain\":[0.0,1.0],\"title\":{\"text\":\"Mes\"}},\"yaxis\":{\"anchor\":\"x\",\"domain\":[0.0,1.0],\"title\":{\"text\":\"Kilos\"}},\"legend\":{\"title\":{\"text\":\" \"},\"tracegroupgap\":0},\"title\":{\"text\":\"Comparativo Mensual Kilos de Carga por Servicio\"}},                        {\"responsive\": true}                    ).then(function(){\n",
       "                            \n",
       "var gd = document.getElementById('7b4fca2f-322e-4f5b-ba6e-ca87fe13e55b');\n",
       "var x = new MutationObserver(function (mutations, observer) {{\n",
       "        var display = window.getComputedStyle(gd).display;\n",
       "        if (!display || display === 'none') {{\n",
       "            console.log([gd, 'removed!']);\n",
       "            Plotly.purge(gd);\n",
       "            observer.disconnect();\n",
       "        }}\n",
       "}});\n",
       "\n",
       "// Listen for the removal of the full notebook cells\n",
       "var notebookContainer = gd.closest('#notebook-container');\n",
       "if (notebookContainer) {{\n",
       "    x.observe(notebookContainer, {childList: true});\n",
       "}}\n",
       "\n",
       "// Listen for the clearing of the current output cell\n",
       "var outputEl = gd.closest('.output');\n",
       "if (outputEl) {{\n",
       "    x.observe(outputEl, {childList: true});\n",
       "}}\n",
       "\n",
       "                        })                };                });            </script>        </div>"
      ]
     },
     "metadata": {},
     "output_type": "display_data"
    }
   ],
   "source": [
    "df_mensual_comparativo= df_guias_expo_group_mensual[['Guias_Peso']].loc[:'2023-06-30']\n",
    "df_mensual_comparativo[['Kilos Impo']]= df_guias_impo_group_mensual[['Guias_Peso']].loc[:'2023-06-30']\n",
    "df_mensual_comparativo.rename(columns={'Guias_Peso': 'Kilos Expo'}, inplace=True)\n",
    "\n",
    "fig = px.line(df_mensual_comparativo, x=df_mensual_comparativo.index, y=df_mensual_comparativo.columns,\n",
    "              #width=800, height=400,\n",
    "              title='Comparativo Mensual Kilos de Carga por Servicio', \n",
    "              labels={\n",
    "                     \"Guias_Fecha\": \"Mes\",\n",
    "                     \"value\": \"Kilos\",\n",
    "                     \"variable\": ' '\n",
    "                 })\n",
    "\n",
    "fig.show()"
   ]
  },
  {
   "cell_type": "markdown",
   "metadata": {},
   "source": [
    "#### Porcentaje de variación mensual <a id='4'></a>"
   ]
  },
  {
   "cell_type": "code",
   "execution_count": 85,
   "metadata": {},
   "outputs": [],
   "source": [
    "df_aumento_mensual = df_guias_impo_group_mensual[['Guias_Peso']].loc[:'2023-06-30'].pct_change()\n",
    "df_aumento_mensual.rename(columns={'Guias_Peso': 'Impo'}, inplace=True)\n",
    "df_aumento_mensual['Expo']= df_guias_expo_group_mensual[['Guias_Peso']].loc[:'2023-06-30'].pct_change()\n",
    "\n",
    "df_aumento_mensual= df_aumento_mensual.loc['2019-01-01':]\n",
    "df_aumento_mensual.rename_axis('Servicio', axis=1, inplace=True)"
   ]
  },
  {
   "cell_type": "code",
   "execution_count": 86,
   "metadata": {},
   "outputs": [
    {
     "data": {
      "application/vnd.plotly.v1+json": {
       "config": {
        "plotlyServerURL": "https://plot.ly"
       },
       "data": [
        {
         "fillpattern": {
          "shape": ""
         },
         "hovertemplate": "Servicio=Impo<br>Mes=%{x}<br>Variación=%{y}<extra></extra>",
         "legendgroup": "Impo",
         "line": {
          "color": "#636efa"
         },
         "marker": {
          "symbol": "circle"
         },
         "mode": "lines",
         "name": "Impo",
         "orientation": "v",
         "showlegend": true,
         "stackgroup": "1",
         "type": "scatter",
         "x": [
          "2019-01-31T00:00:00",
          "2019-02-28T00:00:00",
          "2019-03-31T00:00:00",
          "2019-04-30T00:00:00",
          "2019-05-31T00:00:00",
          "2019-06-30T00:00:00",
          "2019-07-31T00:00:00",
          "2019-08-31T00:00:00",
          "2019-09-30T00:00:00",
          "2019-10-31T00:00:00",
          "2019-11-30T00:00:00",
          "2019-12-31T00:00:00",
          "2020-01-31T00:00:00",
          "2020-02-29T00:00:00",
          "2020-03-31T00:00:00",
          "2020-04-30T00:00:00",
          "2020-05-31T00:00:00",
          "2020-06-30T00:00:00",
          "2020-07-31T00:00:00",
          "2020-08-31T00:00:00",
          "2020-09-30T00:00:00",
          "2020-10-31T00:00:00",
          "2020-11-30T00:00:00",
          "2020-12-31T00:00:00",
          "2021-01-31T00:00:00",
          "2021-02-28T00:00:00",
          "2021-03-31T00:00:00",
          "2021-04-30T00:00:00",
          "2021-05-31T00:00:00",
          "2021-06-30T00:00:00",
          "2021-07-31T00:00:00",
          "2021-08-31T00:00:00",
          "2021-09-30T00:00:00",
          "2021-10-31T00:00:00",
          "2021-11-30T00:00:00",
          "2021-12-31T00:00:00",
          "2022-01-31T00:00:00",
          "2022-02-28T00:00:00",
          "2022-03-31T00:00:00",
          "2022-04-30T00:00:00",
          "2022-05-31T00:00:00",
          "2022-06-30T00:00:00",
          "2022-07-31T00:00:00",
          "2022-08-31T00:00:00",
          "2022-09-30T00:00:00",
          "2022-10-31T00:00:00",
          "2022-11-30T00:00:00",
          "2022-12-31T00:00:00",
          "2023-01-31T00:00:00",
          "2023-02-28T00:00:00",
          "2023-03-31T00:00:00",
          "2023-04-30T00:00:00",
          "2023-05-31T00:00:00",
          "2023-06-30T00:00:00"
         ],
         "xaxis": "x",
         "y": [
          null,
          -0.09274272212949508,
          0.015571404110271025,
          0.08465268231247647,
          0.1542582611241854,
          -0.1686381729977232,
          0.14191551800130342,
          -0.00820882745033491,
          -0.15428128178671519,
          0.21729254996971537,
          -0.1917686990208448,
          -0.016809195167036606,
          -0.08127053312949306,
          -0.07679371205013352,
          -0.02291183294663579,
          -0.32647449153561026,
          0.5538785410945433,
          0.12585154557983858,
          0.20721555734321995,
          0.14667944215538764,
          0.11853563017172153,
          0.046074785204307966,
          0.038393968512997034,
          0.0032616730761327872,
          -0.20031521182041845,
          0.07482103585824573,
          0.14059367112156385,
          0.05750020450927229,
          0.0693528704572246,
          -0.08200708430879478,
          0.03873933791090822,
          0.10108443302439118,
          0.028188926501165,
          -0.07549379838424186,
          0.05449096935427966,
          -0.07627452552075387,
          -0.05385470097015754,
          -0.16908143237030682,
          0.2352830337591414,
          -0.11584095624292723,
          0.2062369725316906,
          0.013837379183228471,
          -0.17162060360400633,
          0.33903096033253477,
          -0.21318243246563695,
          -0.16423815017695476,
          -0.15743760161586984,
          0.17622151108335915,
          0.2175453836629373,
          -0.13739516814097463,
          0.2450430445241436,
          -0.09347620991831995,
          0.3180631612803251,
          -0.049711676753636636
         ],
         "yaxis": "y"
        },
        {
         "fillpattern": {
          "shape": ""
         },
         "hovertemplate": "Servicio=Expo<br>Mes=%{x}<br>Variación=%{y}<extra></extra>",
         "legendgroup": "Expo",
         "line": {
          "color": "#EF553B"
         },
         "marker": {
          "symbol": "circle"
         },
         "mode": "lines",
         "name": "Expo",
         "orientation": "v",
         "showlegend": true,
         "stackgroup": "1",
         "type": "scatter",
         "x": [
          "2019-01-31T00:00:00",
          "2019-02-28T00:00:00",
          "2019-03-31T00:00:00",
          "2019-04-30T00:00:00",
          "2019-05-31T00:00:00",
          "2019-06-30T00:00:00",
          "2019-07-31T00:00:00",
          "2019-08-31T00:00:00",
          "2019-09-30T00:00:00",
          "2019-10-31T00:00:00",
          "2019-11-30T00:00:00",
          "2019-12-31T00:00:00",
          "2020-01-31T00:00:00",
          "2020-02-29T00:00:00",
          "2020-03-31T00:00:00",
          "2020-04-30T00:00:00",
          "2020-05-31T00:00:00",
          "2020-06-30T00:00:00",
          "2020-07-31T00:00:00",
          "2020-08-31T00:00:00",
          "2020-09-30T00:00:00",
          "2020-10-31T00:00:00",
          "2020-11-30T00:00:00",
          "2020-12-31T00:00:00",
          "2021-01-31T00:00:00",
          "2021-02-28T00:00:00",
          "2021-03-31T00:00:00",
          "2021-04-30T00:00:00",
          "2021-05-31T00:00:00",
          "2021-06-30T00:00:00",
          "2021-07-31T00:00:00",
          "2021-08-31T00:00:00",
          "2021-09-30T00:00:00",
          "2021-10-31T00:00:00",
          "2021-11-30T00:00:00",
          "2021-12-31T00:00:00",
          "2022-01-31T00:00:00",
          "2022-02-28T00:00:00",
          "2022-03-31T00:00:00",
          "2022-04-30T00:00:00",
          "2022-05-31T00:00:00",
          "2022-06-30T00:00:00",
          "2022-07-31T00:00:00",
          "2022-08-31T00:00:00",
          "2022-09-30T00:00:00",
          "2022-10-31T00:00:00",
          "2022-11-30T00:00:00",
          "2022-12-31T00:00:00",
          "2023-01-31T00:00:00",
          "2023-02-28T00:00:00",
          "2023-03-31T00:00:00",
          "2023-04-30T00:00:00",
          "2023-05-31T00:00:00",
          "2023-06-30T00:00:00"
         ],
         "xaxis": "x2",
         "y": [
          null,
          0.1271870893105569,
          0.25330016680341005,
          0.2175743080011059,
          0.3266826845561617,
          -0.29623524649770183,
          0.5795774206121811,
          -0.016262495281221367,
          0.027310610854299755,
          0.34028549856279344,
          -0.4789487173743169,
          0.3148464859731659,
          0.1817891992923717,
          -0.24268943505978813,
          -0.14653797715911687,
          -0.3347499880389101,
          -0.3731091594045455,
          0.8161549376566131,
          -0.14904790006067503,
          0.04102535050585754,
          0.4922640850884963,
          -0.11915494002704874,
          0.14001805910967868,
          0.2238387491437681,
          -0.34203498396099474,
          -0.30571160866674696,
          1.4710818680703328,
          0.08332060537637975,
          -0.2344672359189548,
          -0.10426214457080707,
          0.13457629062724208,
          0.025983733279559162,
          0.004179889881521737,
          -0.09944308739404573,
          -0.15232164229060596,
          0.19342189828932432,
          -0.22162448617138597,
          0.395017793594306,
          -0.23392355908237128,
          0.04297639053417446,
          -0.0570089014501175,
          -0.010069830563546489,
          0.15067187871379595,
          0.10301940497158246,
          -0.3200809710732401,
          0.10753529930118666,
          -0.05586443738851765,
          -0.128487783692933,
          -0.16784861045147736,
          -0.4080860336862222,
          1.2909175576840553,
          -0.3265050877046143,
          0.8989319395523239,
          -0.4784966342557966
         ],
         "yaxis": "y2"
        }
       ],
       "layout": {
        "annotations": [
         {
          "font": {},
          "showarrow": false,
          "text": "Servicio=Impo",
          "x": 0.245,
          "xanchor": "center",
          "xref": "paper",
          "y": 1,
          "yanchor": "bottom",
          "yref": "paper"
         },
         {
          "font": {},
          "showarrow": false,
          "text": "Servicio=Expo",
          "x": 0.755,
          "xanchor": "center",
          "xref": "paper",
          "y": 1,
          "yanchor": "bottom",
          "yref": "paper"
         }
        ],
        "legend": {
         "title": {
          "text": "Servicio"
         },
         "tracegroupgap": 0
        },
        "template": {
         "data": {
          "bar": [
           {
            "error_x": {
             "color": "#2a3f5f"
            },
            "error_y": {
             "color": "#2a3f5f"
            },
            "marker": {
             "line": {
              "color": "#E5ECF6",
              "width": 0.5
             },
             "pattern": {
              "fillmode": "overlay",
              "size": 10,
              "solidity": 0.2
             }
            },
            "type": "bar"
           }
          ],
          "barpolar": [
           {
            "marker": {
             "line": {
              "color": "#E5ECF6",
              "width": 0.5
             },
             "pattern": {
              "fillmode": "overlay",
              "size": 10,
              "solidity": 0.2
             }
            },
            "type": "barpolar"
           }
          ],
          "carpet": [
           {
            "aaxis": {
             "endlinecolor": "#2a3f5f",
             "gridcolor": "white",
             "linecolor": "white",
             "minorgridcolor": "white",
             "startlinecolor": "#2a3f5f"
            },
            "baxis": {
             "endlinecolor": "#2a3f5f",
             "gridcolor": "white",
             "linecolor": "white",
             "minorgridcolor": "white",
             "startlinecolor": "#2a3f5f"
            },
            "type": "carpet"
           }
          ],
          "choropleth": [
           {
            "colorbar": {
             "outlinewidth": 0,
             "ticks": ""
            },
            "type": "choropleth"
           }
          ],
          "contour": [
           {
            "colorbar": {
             "outlinewidth": 0,
             "ticks": ""
            },
            "colorscale": [
             [
              0,
              "#0d0887"
             ],
             [
              0.1111111111111111,
              "#46039f"
             ],
             [
              0.2222222222222222,
              "#7201a8"
             ],
             [
              0.3333333333333333,
              "#9c179e"
             ],
             [
              0.4444444444444444,
              "#bd3786"
             ],
             [
              0.5555555555555556,
              "#d8576b"
             ],
             [
              0.6666666666666666,
              "#ed7953"
             ],
             [
              0.7777777777777778,
              "#fb9f3a"
             ],
             [
              0.8888888888888888,
              "#fdca26"
             ],
             [
              1,
              "#f0f921"
             ]
            ],
            "type": "contour"
           }
          ],
          "contourcarpet": [
           {
            "colorbar": {
             "outlinewidth": 0,
             "ticks": ""
            },
            "type": "contourcarpet"
           }
          ],
          "heatmap": [
           {
            "colorbar": {
             "outlinewidth": 0,
             "ticks": ""
            },
            "colorscale": [
             [
              0,
              "#0d0887"
             ],
             [
              0.1111111111111111,
              "#46039f"
             ],
             [
              0.2222222222222222,
              "#7201a8"
             ],
             [
              0.3333333333333333,
              "#9c179e"
             ],
             [
              0.4444444444444444,
              "#bd3786"
             ],
             [
              0.5555555555555556,
              "#d8576b"
             ],
             [
              0.6666666666666666,
              "#ed7953"
             ],
             [
              0.7777777777777778,
              "#fb9f3a"
             ],
             [
              0.8888888888888888,
              "#fdca26"
             ],
             [
              1,
              "#f0f921"
             ]
            ],
            "type": "heatmap"
           }
          ],
          "heatmapgl": [
           {
            "colorbar": {
             "outlinewidth": 0,
             "ticks": ""
            },
            "colorscale": [
             [
              0,
              "#0d0887"
             ],
             [
              0.1111111111111111,
              "#46039f"
             ],
             [
              0.2222222222222222,
              "#7201a8"
             ],
             [
              0.3333333333333333,
              "#9c179e"
             ],
             [
              0.4444444444444444,
              "#bd3786"
             ],
             [
              0.5555555555555556,
              "#d8576b"
             ],
             [
              0.6666666666666666,
              "#ed7953"
             ],
             [
              0.7777777777777778,
              "#fb9f3a"
             ],
             [
              0.8888888888888888,
              "#fdca26"
             ],
             [
              1,
              "#f0f921"
             ]
            ],
            "type": "heatmapgl"
           }
          ],
          "histogram": [
           {
            "marker": {
             "pattern": {
              "fillmode": "overlay",
              "size": 10,
              "solidity": 0.2
             }
            },
            "type": "histogram"
           }
          ],
          "histogram2d": [
           {
            "colorbar": {
             "outlinewidth": 0,
             "ticks": ""
            },
            "colorscale": [
             [
              0,
              "#0d0887"
             ],
             [
              0.1111111111111111,
              "#46039f"
             ],
             [
              0.2222222222222222,
              "#7201a8"
             ],
             [
              0.3333333333333333,
              "#9c179e"
             ],
             [
              0.4444444444444444,
              "#bd3786"
             ],
             [
              0.5555555555555556,
              "#d8576b"
             ],
             [
              0.6666666666666666,
              "#ed7953"
             ],
             [
              0.7777777777777778,
              "#fb9f3a"
             ],
             [
              0.8888888888888888,
              "#fdca26"
             ],
             [
              1,
              "#f0f921"
             ]
            ],
            "type": "histogram2d"
           }
          ],
          "histogram2dcontour": [
           {
            "colorbar": {
             "outlinewidth": 0,
             "ticks": ""
            },
            "colorscale": [
             [
              0,
              "#0d0887"
             ],
             [
              0.1111111111111111,
              "#46039f"
             ],
             [
              0.2222222222222222,
              "#7201a8"
             ],
             [
              0.3333333333333333,
              "#9c179e"
             ],
             [
              0.4444444444444444,
              "#bd3786"
             ],
             [
              0.5555555555555556,
              "#d8576b"
             ],
             [
              0.6666666666666666,
              "#ed7953"
             ],
             [
              0.7777777777777778,
              "#fb9f3a"
             ],
             [
              0.8888888888888888,
              "#fdca26"
             ],
             [
              1,
              "#f0f921"
             ]
            ],
            "type": "histogram2dcontour"
           }
          ],
          "mesh3d": [
           {
            "colorbar": {
             "outlinewidth": 0,
             "ticks": ""
            },
            "type": "mesh3d"
           }
          ],
          "parcoords": [
           {
            "line": {
             "colorbar": {
              "outlinewidth": 0,
              "ticks": ""
             }
            },
            "type": "parcoords"
           }
          ],
          "pie": [
           {
            "automargin": true,
            "type": "pie"
           }
          ],
          "scatter": [
           {
            "fillpattern": {
             "fillmode": "overlay",
             "size": 10,
             "solidity": 0.2
            },
            "type": "scatter"
           }
          ],
          "scatter3d": [
           {
            "line": {
             "colorbar": {
              "outlinewidth": 0,
              "ticks": ""
             }
            },
            "marker": {
             "colorbar": {
              "outlinewidth": 0,
              "ticks": ""
             }
            },
            "type": "scatter3d"
           }
          ],
          "scattercarpet": [
           {
            "marker": {
             "colorbar": {
              "outlinewidth": 0,
              "ticks": ""
             }
            },
            "type": "scattercarpet"
           }
          ],
          "scattergeo": [
           {
            "marker": {
             "colorbar": {
              "outlinewidth": 0,
              "ticks": ""
             }
            },
            "type": "scattergeo"
           }
          ],
          "scattergl": [
           {
            "marker": {
             "colorbar": {
              "outlinewidth": 0,
              "ticks": ""
             }
            },
            "type": "scattergl"
           }
          ],
          "scattermapbox": [
           {
            "marker": {
             "colorbar": {
              "outlinewidth": 0,
              "ticks": ""
             }
            },
            "type": "scattermapbox"
           }
          ],
          "scatterpolar": [
           {
            "marker": {
             "colorbar": {
              "outlinewidth": 0,
              "ticks": ""
             }
            },
            "type": "scatterpolar"
           }
          ],
          "scatterpolargl": [
           {
            "marker": {
             "colorbar": {
              "outlinewidth": 0,
              "ticks": ""
             }
            },
            "type": "scatterpolargl"
           }
          ],
          "scatterternary": [
           {
            "marker": {
             "colorbar": {
              "outlinewidth": 0,
              "ticks": ""
             }
            },
            "type": "scatterternary"
           }
          ],
          "surface": [
           {
            "colorbar": {
             "outlinewidth": 0,
             "ticks": ""
            },
            "colorscale": [
             [
              0,
              "#0d0887"
             ],
             [
              0.1111111111111111,
              "#46039f"
             ],
             [
              0.2222222222222222,
              "#7201a8"
             ],
             [
              0.3333333333333333,
              "#9c179e"
             ],
             [
              0.4444444444444444,
              "#bd3786"
             ],
             [
              0.5555555555555556,
              "#d8576b"
             ],
             [
              0.6666666666666666,
              "#ed7953"
             ],
             [
              0.7777777777777778,
              "#fb9f3a"
             ],
             [
              0.8888888888888888,
              "#fdca26"
             ],
             [
              1,
              "#f0f921"
             ]
            ],
            "type": "surface"
           }
          ],
          "table": [
           {
            "cells": {
             "fill": {
              "color": "#EBF0F8"
             },
             "line": {
              "color": "white"
             }
            },
            "header": {
             "fill": {
              "color": "#C8D4E3"
             },
             "line": {
              "color": "white"
             }
            },
            "type": "table"
           }
          ]
         },
         "layout": {
          "annotationdefaults": {
           "arrowcolor": "#2a3f5f",
           "arrowhead": 0,
           "arrowwidth": 1
          },
          "autotypenumbers": "strict",
          "coloraxis": {
           "colorbar": {
            "outlinewidth": 0,
            "ticks": ""
           }
          },
          "colorscale": {
           "diverging": [
            [
             0,
             "#8e0152"
            ],
            [
             0.1,
             "#c51b7d"
            ],
            [
             0.2,
             "#de77ae"
            ],
            [
             0.3,
             "#f1b6da"
            ],
            [
             0.4,
             "#fde0ef"
            ],
            [
             0.5,
             "#f7f7f7"
            ],
            [
             0.6,
             "#e6f5d0"
            ],
            [
             0.7,
             "#b8e186"
            ],
            [
             0.8,
             "#7fbc41"
            ],
            [
             0.9,
             "#4d9221"
            ],
            [
             1,
             "#276419"
            ]
           ],
           "sequential": [
            [
             0,
             "#0d0887"
            ],
            [
             0.1111111111111111,
             "#46039f"
            ],
            [
             0.2222222222222222,
             "#7201a8"
            ],
            [
             0.3333333333333333,
             "#9c179e"
            ],
            [
             0.4444444444444444,
             "#bd3786"
            ],
            [
             0.5555555555555556,
             "#d8576b"
            ],
            [
             0.6666666666666666,
             "#ed7953"
            ],
            [
             0.7777777777777778,
             "#fb9f3a"
            ],
            [
             0.8888888888888888,
             "#fdca26"
            ],
            [
             1,
             "#f0f921"
            ]
           ],
           "sequentialminus": [
            [
             0,
             "#0d0887"
            ],
            [
             0.1111111111111111,
             "#46039f"
            ],
            [
             0.2222222222222222,
             "#7201a8"
            ],
            [
             0.3333333333333333,
             "#9c179e"
            ],
            [
             0.4444444444444444,
             "#bd3786"
            ],
            [
             0.5555555555555556,
             "#d8576b"
            ],
            [
             0.6666666666666666,
             "#ed7953"
            ],
            [
             0.7777777777777778,
             "#fb9f3a"
            ],
            [
             0.8888888888888888,
             "#fdca26"
            ],
            [
             1,
             "#f0f921"
            ]
           ]
          },
          "colorway": [
           "#636efa",
           "#EF553B",
           "#00cc96",
           "#ab63fa",
           "#FFA15A",
           "#19d3f3",
           "#FF6692",
           "#B6E880",
           "#FF97FF",
           "#FECB52"
          ],
          "font": {
           "color": "#2a3f5f"
          },
          "geo": {
           "bgcolor": "white",
           "lakecolor": "white",
           "landcolor": "#E5ECF6",
           "showlakes": true,
           "showland": true,
           "subunitcolor": "white"
          },
          "hoverlabel": {
           "align": "left"
          },
          "hovermode": "closest",
          "mapbox": {
           "style": "light"
          },
          "paper_bgcolor": "white",
          "plot_bgcolor": "#E5ECF6",
          "polar": {
           "angularaxis": {
            "gridcolor": "white",
            "linecolor": "white",
            "ticks": ""
           },
           "bgcolor": "#E5ECF6",
           "radialaxis": {
            "gridcolor": "white",
            "linecolor": "white",
            "ticks": ""
           }
          },
          "scene": {
           "xaxis": {
            "backgroundcolor": "#E5ECF6",
            "gridcolor": "white",
            "gridwidth": 2,
            "linecolor": "white",
            "showbackground": true,
            "ticks": "",
            "zerolinecolor": "white"
           },
           "yaxis": {
            "backgroundcolor": "#E5ECF6",
            "gridcolor": "white",
            "gridwidth": 2,
            "linecolor": "white",
            "showbackground": true,
            "ticks": "",
            "zerolinecolor": "white"
           },
           "zaxis": {
            "backgroundcolor": "#E5ECF6",
            "gridcolor": "white",
            "gridwidth": 2,
            "linecolor": "white",
            "showbackground": true,
            "ticks": "",
            "zerolinecolor": "white"
           }
          },
          "shapedefaults": {
           "line": {
            "color": "#2a3f5f"
           }
          },
          "ternary": {
           "aaxis": {
            "gridcolor": "white",
            "linecolor": "white",
            "ticks": ""
           },
           "baxis": {
            "gridcolor": "white",
            "linecolor": "white",
            "ticks": ""
           },
           "bgcolor": "#E5ECF6",
           "caxis": {
            "gridcolor": "white",
            "linecolor": "white",
            "ticks": ""
           }
          },
          "title": {
           "x": 0.05
          },
          "xaxis": {
           "automargin": true,
           "gridcolor": "white",
           "linecolor": "white",
           "ticks": "",
           "title": {
            "standoff": 15
           },
           "zerolinecolor": "white",
           "zerolinewidth": 2
          },
          "yaxis": {
           "automargin": true,
           "gridcolor": "white",
           "linecolor": "white",
           "ticks": "",
           "title": {
            "standoff": 15
           },
           "zerolinecolor": "white",
           "zerolinewidth": 2
          }
         }
        },
        "title": {
         "text": "Evolución Porcentaje de Variación Mensual de Kilos por Servicio"
        },
        "xaxis": {
         "anchor": "y",
         "domain": [
          0,
          0.49
         ],
         "title": {
          "text": "Mes"
         }
        },
        "xaxis2": {
         "anchor": "y2",
         "domain": [
          0.51,
          1
         ],
         "matches": "x",
         "title": {
          "text": "Mes"
         }
        },
        "yaxis": {
         "anchor": "x",
         "domain": [
          0,
          1
         ],
         "title": {
          "text": "Variación"
         }
        },
        "yaxis2": {
         "anchor": "x2",
         "domain": [
          0,
          1
         ],
         "matches": "y",
         "showticklabels": false
        }
       }
      },
      "text/html": [
       "<div>                            <div id=\"68475ed3-1fc5-4e61-aa5d-1ae12349ef15\" class=\"plotly-graph-div\" style=\"height:525px; width:100%;\"></div>            <script type=\"text/javascript\">                require([\"plotly\"], function(Plotly) {                    window.PLOTLYENV=window.PLOTLYENV || {};                                    if (document.getElementById(\"68475ed3-1fc5-4e61-aa5d-1ae12349ef15\")) {                    Plotly.newPlot(                        \"68475ed3-1fc5-4e61-aa5d-1ae12349ef15\",                        [{\"fillpattern\":{\"shape\":\"\"},\"hovertemplate\":\"Servicio=Impo<br>Mes=%{x}<br>Variación=%{y}<extra></extra>\",\"legendgroup\":\"Impo\",\"line\":{\"color\":\"#636efa\"},\"marker\":{\"symbol\":\"circle\"},\"mode\":\"lines\",\"name\":\"Impo\",\"orientation\":\"v\",\"showlegend\":true,\"stackgroup\":\"1\",\"x\":[\"2019-01-31T00:00:00\",\"2019-02-28T00:00:00\",\"2019-03-31T00:00:00\",\"2019-04-30T00:00:00\",\"2019-05-31T00:00:00\",\"2019-06-30T00:00:00\",\"2019-07-31T00:00:00\",\"2019-08-31T00:00:00\",\"2019-09-30T00:00:00\",\"2019-10-31T00:00:00\",\"2019-11-30T00:00:00\",\"2019-12-31T00:00:00\",\"2020-01-31T00:00:00\",\"2020-02-29T00:00:00\",\"2020-03-31T00:00:00\",\"2020-04-30T00:00:00\",\"2020-05-31T00:00:00\",\"2020-06-30T00:00:00\",\"2020-07-31T00:00:00\",\"2020-08-31T00:00:00\",\"2020-09-30T00:00:00\",\"2020-10-31T00:00:00\",\"2020-11-30T00:00:00\",\"2020-12-31T00:00:00\",\"2021-01-31T00:00:00\",\"2021-02-28T00:00:00\",\"2021-03-31T00:00:00\",\"2021-04-30T00:00:00\",\"2021-05-31T00:00:00\",\"2021-06-30T00:00:00\",\"2021-07-31T00:00:00\",\"2021-08-31T00:00:00\",\"2021-09-30T00:00:00\",\"2021-10-31T00:00:00\",\"2021-11-30T00:00:00\",\"2021-12-31T00:00:00\",\"2022-01-31T00:00:00\",\"2022-02-28T00:00:00\",\"2022-03-31T00:00:00\",\"2022-04-30T00:00:00\",\"2022-05-31T00:00:00\",\"2022-06-30T00:00:00\",\"2022-07-31T00:00:00\",\"2022-08-31T00:00:00\",\"2022-09-30T00:00:00\",\"2022-10-31T00:00:00\",\"2022-11-30T00:00:00\",\"2022-12-31T00:00:00\",\"2023-01-31T00:00:00\",\"2023-02-28T00:00:00\",\"2023-03-31T00:00:00\",\"2023-04-30T00:00:00\",\"2023-05-31T00:00:00\",\"2023-06-30T00:00:00\"],\"xaxis\":\"x\",\"y\":[null,-0.09274272212949508,0.015571404110271025,0.08465268231247647,0.1542582611241854,-0.1686381729977232,0.14191551800130342,-0.00820882745033491,-0.15428128178671519,0.21729254996971537,-0.1917686990208448,-0.016809195167036606,-0.08127053312949306,-0.07679371205013352,-0.02291183294663579,-0.32647449153561026,0.5538785410945433,0.12585154557983858,0.20721555734321995,0.14667944215538764,0.11853563017172153,0.046074785204307966,0.038393968512997034,0.0032616730761327872,-0.20031521182041845,0.07482103585824573,0.14059367112156385,0.05750020450927229,0.0693528704572246,-0.08200708430879478,0.03873933791090822,0.10108443302439118,0.028188926501165,-0.07549379838424186,0.05449096935427966,-0.07627452552075387,-0.05385470097015754,-0.16908143237030682,0.2352830337591414,-0.11584095624292723,0.2062369725316906,0.013837379183228471,-0.17162060360400633,0.33903096033253477,-0.21318243246563695,-0.16423815017695476,-0.15743760161586984,0.17622151108335915,0.2175453836629373,-0.13739516814097463,0.2450430445241436,-0.09347620991831995,0.3180631612803251,-0.049711676753636636],\"yaxis\":\"y\",\"type\":\"scatter\"},{\"fillpattern\":{\"shape\":\"\"},\"hovertemplate\":\"Servicio=Expo<br>Mes=%{x}<br>Variación=%{y}<extra></extra>\",\"legendgroup\":\"Expo\",\"line\":{\"color\":\"#EF553B\"},\"marker\":{\"symbol\":\"circle\"},\"mode\":\"lines\",\"name\":\"Expo\",\"orientation\":\"v\",\"showlegend\":true,\"stackgroup\":\"1\",\"x\":[\"2019-01-31T00:00:00\",\"2019-02-28T00:00:00\",\"2019-03-31T00:00:00\",\"2019-04-30T00:00:00\",\"2019-05-31T00:00:00\",\"2019-06-30T00:00:00\",\"2019-07-31T00:00:00\",\"2019-08-31T00:00:00\",\"2019-09-30T00:00:00\",\"2019-10-31T00:00:00\",\"2019-11-30T00:00:00\",\"2019-12-31T00:00:00\",\"2020-01-31T00:00:00\",\"2020-02-29T00:00:00\",\"2020-03-31T00:00:00\",\"2020-04-30T00:00:00\",\"2020-05-31T00:00:00\",\"2020-06-30T00:00:00\",\"2020-07-31T00:00:00\",\"2020-08-31T00:00:00\",\"2020-09-30T00:00:00\",\"2020-10-31T00:00:00\",\"2020-11-30T00:00:00\",\"2020-12-31T00:00:00\",\"2021-01-31T00:00:00\",\"2021-02-28T00:00:00\",\"2021-03-31T00:00:00\",\"2021-04-30T00:00:00\",\"2021-05-31T00:00:00\",\"2021-06-30T00:00:00\",\"2021-07-31T00:00:00\",\"2021-08-31T00:00:00\",\"2021-09-30T00:00:00\",\"2021-10-31T00:00:00\",\"2021-11-30T00:00:00\",\"2021-12-31T00:00:00\",\"2022-01-31T00:00:00\",\"2022-02-28T00:00:00\",\"2022-03-31T00:00:00\",\"2022-04-30T00:00:00\",\"2022-05-31T00:00:00\",\"2022-06-30T00:00:00\",\"2022-07-31T00:00:00\",\"2022-08-31T00:00:00\",\"2022-09-30T00:00:00\",\"2022-10-31T00:00:00\",\"2022-11-30T00:00:00\",\"2022-12-31T00:00:00\",\"2023-01-31T00:00:00\",\"2023-02-28T00:00:00\",\"2023-03-31T00:00:00\",\"2023-04-30T00:00:00\",\"2023-05-31T00:00:00\",\"2023-06-30T00:00:00\"],\"xaxis\":\"x2\",\"y\":[null,0.1271870893105569,0.25330016680341005,0.2175743080011059,0.3266826845561617,-0.29623524649770183,0.5795774206121811,-0.016262495281221367,0.027310610854299755,0.34028549856279344,-0.4789487173743169,0.3148464859731659,0.1817891992923717,-0.24268943505978813,-0.14653797715911687,-0.3347499880389101,-0.3731091594045455,0.8161549376566131,-0.14904790006067503,0.04102535050585754,0.4922640850884963,-0.11915494002704874,0.14001805910967868,0.2238387491437681,-0.34203498396099474,-0.30571160866674696,1.4710818680703328,0.08332060537637975,-0.2344672359189548,-0.10426214457080707,0.13457629062724208,0.025983733279559162,0.004179889881521737,-0.09944308739404573,-0.15232164229060596,0.19342189828932432,-0.22162448617138597,0.395017793594306,-0.23392355908237128,0.04297639053417446,-0.0570089014501175,-0.010069830563546489,0.15067187871379595,0.10301940497158246,-0.3200809710732401,0.10753529930118666,-0.05586443738851765,-0.128487783692933,-0.16784861045147736,-0.4080860336862222,1.2909175576840553,-0.3265050877046143,0.8989319395523239,-0.4784966342557966],\"yaxis\":\"y2\",\"type\":\"scatter\"}],                        {\"template\":{\"data\":{\"histogram2dcontour\":[{\"type\":\"histogram2dcontour\",\"colorbar\":{\"outlinewidth\":0,\"ticks\":\"\"},\"colorscale\":[[0.0,\"#0d0887\"],[0.1111111111111111,\"#46039f\"],[0.2222222222222222,\"#7201a8\"],[0.3333333333333333,\"#9c179e\"],[0.4444444444444444,\"#bd3786\"],[0.5555555555555556,\"#d8576b\"],[0.6666666666666666,\"#ed7953\"],[0.7777777777777778,\"#fb9f3a\"],[0.8888888888888888,\"#fdca26\"],[1.0,\"#f0f921\"]]}],\"choropleth\":[{\"type\":\"choropleth\",\"colorbar\":{\"outlinewidth\":0,\"ticks\":\"\"}}],\"histogram2d\":[{\"type\":\"histogram2d\",\"colorbar\":{\"outlinewidth\":0,\"ticks\":\"\"},\"colorscale\":[[0.0,\"#0d0887\"],[0.1111111111111111,\"#46039f\"],[0.2222222222222222,\"#7201a8\"],[0.3333333333333333,\"#9c179e\"],[0.4444444444444444,\"#bd3786\"],[0.5555555555555556,\"#d8576b\"],[0.6666666666666666,\"#ed7953\"],[0.7777777777777778,\"#fb9f3a\"],[0.8888888888888888,\"#fdca26\"],[1.0,\"#f0f921\"]]}],\"heatmap\":[{\"type\":\"heatmap\",\"colorbar\":{\"outlinewidth\":0,\"ticks\":\"\"},\"colorscale\":[[0.0,\"#0d0887\"],[0.1111111111111111,\"#46039f\"],[0.2222222222222222,\"#7201a8\"],[0.3333333333333333,\"#9c179e\"],[0.4444444444444444,\"#bd3786\"],[0.5555555555555556,\"#d8576b\"],[0.6666666666666666,\"#ed7953\"],[0.7777777777777778,\"#fb9f3a\"],[0.8888888888888888,\"#fdca26\"],[1.0,\"#f0f921\"]]}],\"heatmapgl\":[{\"type\":\"heatmapgl\",\"colorbar\":{\"outlinewidth\":0,\"ticks\":\"\"},\"colorscale\":[[0.0,\"#0d0887\"],[0.1111111111111111,\"#46039f\"],[0.2222222222222222,\"#7201a8\"],[0.3333333333333333,\"#9c179e\"],[0.4444444444444444,\"#bd3786\"],[0.5555555555555556,\"#d8576b\"],[0.6666666666666666,\"#ed7953\"],[0.7777777777777778,\"#fb9f3a\"],[0.8888888888888888,\"#fdca26\"],[1.0,\"#f0f921\"]]}],\"contourcarpet\":[{\"type\":\"contourcarpet\",\"colorbar\":{\"outlinewidth\":0,\"ticks\":\"\"}}],\"contour\":[{\"type\":\"contour\",\"colorbar\":{\"outlinewidth\":0,\"ticks\":\"\"},\"colorscale\":[[0.0,\"#0d0887\"],[0.1111111111111111,\"#46039f\"],[0.2222222222222222,\"#7201a8\"],[0.3333333333333333,\"#9c179e\"],[0.4444444444444444,\"#bd3786\"],[0.5555555555555556,\"#d8576b\"],[0.6666666666666666,\"#ed7953\"],[0.7777777777777778,\"#fb9f3a\"],[0.8888888888888888,\"#fdca26\"],[1.0,\"#f0f921\"]]}],\"surface\":[{\"type\":\"surface\",\"colorbar\":{\"outlinewidth\":0,\"ticks\":\"\"},\"colorscale\":[[0.0,\"#0d0887\"],[0.1111111111111111,\"#46039f\"],[0.2222222222222222,\"#7201a8\"],[0.3333333333333333,\"#9c179e\"],[0.4444444444444444,\"#bd3786\"],[0.5555555555555556,\"#d8576b\"],[0.6666666666666666,\"#ed7953\"],[0.7777777777777778,\"#fb9f3a\"],[0.8888888888888888,\"#fdca26\"],[1.0,\"#f0f921\"]]}],\"mesh3d\":[{\"type\":\"mesh3d\",\"colorbar\":{\"outlinewidth\":0,\"ticks\":\"\"}}],\"scatter\":[{\"fillpattern\":{\"fillmode\":\"overlay\",\"size\":10,\"solidity\":0.2},\"type\":\"scatter\"}],\"parcoords\":[{\"type\":\"parcoords\",\"line\":{\"colorbar\":{\"outlinewidth\":0,\"ticks\":\"\"}}}],\"scatterpolargl\":[{\"type\":\"scatterpolargl\",\"marker\":{\"colorbar\":{\"outlinewidth\":0,\"ticks\":\"\"}}}],\"bar\":[{\"error_x\":{\"color\":\"#2a3f5f\"},\"error_y\":{\"color\":\"#2a3f5f\"},\"marker\":{\"line\":{\"color\":\"#E5ECF6\",\"width\":0.5},\"pattern\":{\"fillmode\":\"overlay\",\"size\":10,\"solidity\":0.2}},\"type\":\"bar\"}],\"scattergeo\":[{\"type\":\"scattergeo\",\"marker\":{\"colorbar\":{\"outlinewidth\":0,\"ticks\":\"\"}}}],\"scatterpolar\":[{\"type\":\"scatterpolar\",\"marker\":{\"colorbar\":{\"outlinewidth\":0,\"ticks\":\"\"}}}],\"histogram\":[{\"marker\":{\"pattern\":{\"fillmode\":\"overlay\",\"size\":10,\"solidity\":0.2}},\"type\":\"histogram\"}],\"scattergl\":[{\"type\":\"scattergl\",\"marker\":{\"colorbar\":{\"outlinewidth\":0,\"ticks\":\"\"}}}],\"scatter3d\":[{\"type\":\"scatter3d\",\"line\":{\"colorbar\":{\"outlinewidth\":0,\"ticks\":\"\"}},\"marker\":{\"colorbar\":{\"outlinewidth\":0,\"ticks\":\"\"}}}],\"scattermapbox\":[{\"type\":\"scattermapbox\",\"marker\":{\"colorbar\":{\"outlinewidth\":0,\"ticks\":\"\"}}}],\"scatterternary\":[{\"type\":\"scatterternary\",\"marker\":{\"colorbar\":{\"outlinewidth\":0,\"ticks\":\"\"}}}],\"scattercarpet\":[{\"type\":\"scattercarpet\",\"marker\":{\"colorbar\":{\"outlinewidth\":0,\"ticks\":\"\"}}}],\"carpet\":[{\"aaxis\":{\"endlinecolor\":\"#2a3f5f\",\"gridcolor\":\"white\",\"linecolor\":\"white\",\"minorgridcolor\":\"white\",\"startlinecolor\":\"#2a3f5f\"},\"baxis\":{\"endlinecolor\":\"#2a3f5f\",\"gridcolor\":\"white\",\"linecolor\":\"white\",\"minorgridcolor\":\"white\",\"startlinecolor\":\"#2a3f5f\"},\"type\":\"carpet\"}],\"table\":[{\"cells\":{\"fill\":{\"color\":\"#EBF0F8\"},\"line\":{\"color\":\"white\"}},\"header\":{\"fill\":{\"color\":\"#C8D4E3\"},\"line\":{\"color\":\"white\"}},\"type\":\"table\"}],\"barpolar\":[{\"marker\":{\"line\":{\"color\":\"#E5ECF6\",\"width\":0.5},\"pattern\":{\"fillmode\":\"overlay\",\"size\":10,\"solidity\":0.2}},\"type\":\"barpolar\"}],\"pie\":[{\"automargin\":true,\"type\":\"pie\"}]},\"layout\":{\"autotypenumbers\":\"strict\",\"colorway\":[\"#636efa\",\"#EF553B\",\"#00cc96\",\"#ab63fa\",\"#FFA15A\",\"#19d3f3\",\"#FF6692\",\"#B6E880\",\"#FF97FF\",\"#FECB52\"],\"font\":{\"color\":\"#2a3f5f\"},\"hovermode\":\"closest\",\"hoverlabel\":{\"align\":\"left\"},\"paper_bgcolor\":\"white\",\"plot_bgcolor\":\"#E5ECF6\",\"polar\":{\"bgcolor\":\"#E5ECF6\",\"angularaxis\":{\"gridcolor\":\"white\",\"linecolor\":\"white\",\"ticks\":\"\"},\"radialaxis\":{\"gridcolor\":\"white\",\"linecolor\":\"white\",\"ticks\":\"\"}},\"ternary\":{\"bgcolor\":\"#E5ECF6\",\"aaxis\":{\"gridcolor\":\"white\",\"linecolor\":\"white\",\"ticks\":\"\"},\"baxis\":{\"gridcolor\":\"white\",\"linecolor\":\"white\",\"ticks\":\"\"},\"caxis\":{\"gridcolor\":\"white\",\"linecolor\":\"white\",\"ticks\":\"\"}},\"coloraxis\":{\"colorbar\":{\"outlinewidth\":0,\"ticks\":\"\"}},\"colorscale\":{\"sequential\":[[0.0,\"#0d0887\"],[0.1111111111111111,\"#46039f\"],[0.2222222222222222,\"#7201a8\"],[0.3333333333333333,\"#9c179e\"],[0.4444444444444444,\"#bd3786\"],[0.5555555555555556,\"#d8576b\"],[0.6666666666666666,\"#ed7953\"],[0.7777777777777778,\"#fb9f3a\"],[0.8888888888888888,\"#fdca26\"],[1.0,\"#f0f921\"]],\"sequentialminus\":[[0.0,\"#0d0887\"],[0.1111111111111111,\"#46039f\"],[0.2222222222222222,\"#7201a8\"],[0.3333333333333333,\"#9c179e\"],[0.4444444444444444,\"#bd3786\"],[0.5555555555555556,\"#d8576b\"],[0.6666666666666666,\"#ed7953\"],[0.7777777777777778,\"#fb9f3a\"],[0.8888888888888888,\"#fdca26\"],[1.0,\"#f0f921\"]],\"diverging\":[[0,\"#8e0152\"],[0.1,\"#c51b7d\"],[0.2,\"#de77ae\"],[0.3,\"#f1b6da\"],[0.4,\"#fde0ef\"],[0.5,\"#f7f7f7\"],[0.6,\"#e6f5d0\"],[0.7,\"#b8e186\"],[0.8,\"#7fbc41\"],[0.9,\"#4d9221\"],[1,\"#276419\"]]},\"xaxis\":{\"gridcolor\":\"white\",\"linecolor\":\"white\",\"ticks\":\"\",\"title\":{\"standoff\":15},\"zerolinecolor\":\"white\",\"automargin\":true,\"zerolinewidth\":2},\"yaxis\":{\"gridcolor\":\"white\",\"linecolor\":\"white\",\"ticks\":\"\",\"title\":{\"standoff\":15},\"zerolinecolor\":\"white\",\"automargin\":true,\"zerolinewidth\":2},\"scene\":{\"xaxis\":{\"backgroundcolor\":\"#E5ECF6\",\"gridcolor\":\"white\",\"linecolor\":\"white\",\"showbackground\":true,\"ticks\":\"\",\"zerolinecolor\":\"white\",\"gridwidth\":2},\"yaxis\":{\"backgroundcolor\":\"#E5ECF6\",\"gridcolor\":\"white\",\"linecolor\":\"white\",\"showbackground\":true,\"ticks\":\"\",\"zerolinecolor\":\"white\",\"gridwidth\":2},\"zaxis\":{\"backgroundcolor\":\"#E5ECF6\",\"gridcolor\":\"white\",\"linecolor\":\"white\",\"showbackground\":true,\"ticks\":\"\",\"zerolinecolor\":\"white\",\"gridwidth\":2}},\"shapedefaults\":{\"line\":{\"color\":\"#2a3f5f\"}},\"annotationdefaults\":{\"arrowcolor\":\"#2a3f5f\",\"arrowhead\":0,\"arrowwidth\":1},\"geo\":{\"bgcolor\":\"white\",\"landcolor\":\"#E5ECF6\",\"subunitcolor\":\"white\",\"showland\":true,\"showlakes\":true,\"lakecolor\":\"white\"},\"title\":{\"x\":0.05},\"mapbox\":{\"style\":\"light\"}}},\"xaxis\":{\"anchor\":\"y\",\"domain\":[0.0,0.49],\"title\":{\"text\":\"Mes\"}},\"yaxis\":{\"anchor\":\"x\",\"domain\":[0.0,1.0],\"title\":{\"text\":\"Variación\"}},\"xaxis2\":{\"anchor\":\"y2\",\"domain\":[0.51,1.0],\"matches\":\"x\",\"title\":{\"text\":\"Mes\"}},\"yaxis2\":{\"anchor\":\"x2\",\"domain\":[0.0,1.0],\"matches\":\"y\",\"showticklabels\":false},\"annotations\":[{\"font\":{},\"showarrow\":false,\"text\":\"Servicio=Impo\",\"x\":0.245,\"xanchor\":\"center\",\"xref\":\"paper\",\"y\":1.0,\"yanchor\":\"bottom\",\"yref\":\"paper\"},{\"font\":{},\"showarrow\":false,\"text\":\"Servicio=Expo\",\"x\":0.755,\"xanchor\":\"center\",\"xref\":\"paper\",\"y\":1.0,\"yanchor\":\"bottom\",\"yref\":\"paper\"}],\"legend\":{\"title\":{\"text\":\"Servicio\"},\"tracegroupgap\":0},\"title\":{\"text\":\"Evolución Porcentaje de Variación Mensual de Kilos por Servicio\"}},                        {\"responsive\": true}                    ).then(function(){\n",
       "                            \n",
       "var gd = document.getElementById('68475ed3-1fc5-4e61-aa5d-1ae12349ef15');\n",
       "var x = new MutationObserver(function (mutations, observer) {{\n",
       "        var display = window.getComputedStyle(gd).display;\n",
       "        if (!display || display === 'none') {{\n",
       "            console.log([gd, 'removed!']);\n",
       "            Plotly.purge(gd);\n",
       "            observer.disconnect();\n",
       "        }}\n",
       "}});\n",
       "\n",
       "// Listen for the removal of the full notebook cells\n",
       "var notebookContainer = gd.closest('#notebook-container');\n",
       "if (notebookContainer) {{\n",
       "    x.observe(notebookContainer, {childList: true});\n",
       "}}\n",
       "\n",
       "// Listen for the clearing of the current output cell\n",
       "var outputEl = gd.closest('.output');\n",
       "if (outputEl) {{\n",
       "    x.observe(outputEl, {childList: true});\n",
       "}}\n",
       "\n",
       "                        })                };                });            </script>        </div>"
      ]
     },
     "metadata": {},
     "output_type": "display_data"
    }
   ],
   "source": [
    "fig = px.area(df_aumento_mensual, facet_col=\"Servicio\", \n",
    "              facet_col_wrap=2, \n",
    "              #width=800, height=400,\n",
    "              title = 'Evolución Porcentaje de Variación Mensual de Kilos por Servicio', \n",
    "              labels={\n",
    "                     \"Guias_Fecha\": \"Mes\",\n",
    "                     \"value\": \"Variación\",\n",
    "                 },)\n",
    "fig.show()"
   ]
  },
  {
   "cell_type": "markdown",
   "metadata": {},
   "source": [
    "#### Comparativo Kilos Semanales por Servicio <a id='5'></a>\n",
    "\n",
    "* El analisis diario se dificulta ya que los fines de semana y feriados no hay guias cargadas, aunque esos dias si hay operaciones y entregas.Por este motivo, hay fechas donde la cantidad de kilos es 0, cuando en realidad las guias si estan en transito. Asimismo, es controversial medir los kilos por dia ya que una carga puede encontrarse en el warehouse de la sede y por asuntos de cupos de importacion o incluso demoras en los vuelos la carga no puede ser subida al vuelo, y aun asi la guia posee fecha anterior al evento. Ya que la fecha de la guia corresponde al momento en el que fue creada y existe un defasaje por los tiempos de tránsito y entrega de cada operacion con la fecha efectiva en que la carga llega a origen. Por ello, considero prudente realizar un análisis semanal, para optimizar la toma de decisiones y gestion de la carga en los vuelos en las distintas areas de operacion tanto de importacion como para exportacion. \n",
    "\n",
    "* Para optimizar el análisis, tomaremos datos desde Enero 2019 hasta Enero 2023, de esta forma realizare un analisis en el periodo completo de 5 años que nos permitirá analizar comportamientos y patrones. "
   ]
  },
  {
   "cell_type": "code",
   "execution_count": 87,
   "metadata": {},
   "outputs": [],
   "source": [
    "#Definicion del periodo de analisis de 5 años \n",
    "df_guias_impo = df_guias_impo.loc[df_guias_impo[\"Guias_Fecha\"].between(\"2019-01-01\", \"2023-01-01\")]\n",
    "df_guias_impo.reset_index(inplace=True)\n",
    "\n",
    "df_guias_expo = df_guias_expo.loc[df_guias_expo[\"Guias_Fecha\"].between(\"2019-01-01\", \"2023-01-01\")]\n",
    "df_guias_expo.reset_index(inplace=True)"
   ]
  },
  {
   "cell_type": "code",
   "execution_count": 88,
   "metadata": {},
   "outputs": [],
   "source": [
    "#agrupamos los datos para ver las distribuciones semanales para impo y expo\n",
    "df_guias_impo_group_semanal= df_guias_impo.groupby(pd.Grouper(key='Guias_Fecha', axis=0, \n",
    "                      freq='W')).sum()\n",
    "df_guias_expo_group_semanal= df_guias_expo.groupby(pd.Grouper(key='Guias_Fecha', axis=0, \n",
    "                      freq='W')).sum()"
   ]
  },
  {
   "cell_type": "code",
   "execution_count": 89,
   "metadata": {},
   "outputs": [
    {
     "data": {
      "text/html": [
       "<div>\n",
       "<style scoped>\n",
       "    .dataframe tbody tr th:only-of-type {\n",
       "        vertical-align: middle;\n",
       "    }\n",
       "\n",
       "    .dataframe tbody tr th {\n",
       "        vertical-align: top;\n",
       "    }\n",
       "\n",
       "    .dataframe thead th {\n",
       "        text-align: right;\n",
       "    }\n",
       "</style>\n",
       "<table border=\"1\" class=\"dataframe\">\n",
       "  <thead>\n",
       "    <tr style=\"text-align: right;\">\n",
       "      <th></th>\n",
       "      <th>Guias_Id</th>\n",
       "      <th>Motivos_Id</th>\n",
       "      <th>Proveedores_Id</th>\n",
       "      <th>Paises_Id</th>\n",
       "      <th>Paises2_Id</th>\n",
       "      <th>Ciudades_Id</th>\n",
       "      <th>Ciudades2_Id</th>\n",
       "      <th>ZonasV_Id</th>\n",
       "      <th>Contenidos_Id</th>\n",
       "      <th>Guias_Bultos</th>\n",
       "      <th>Guias_Peso</th>\n",
       "      <th>Guias_PesoVol</th>\n",
       "      <th>Guias_FOB</th>\n",
       "      <th>Clientes_Id</th>\n",
       "      <th>Guias_ExpoTotVta</th>\n",
       "      <th>Guias_ImpoTotVta</th>\n",
       "      <th>Guias_VentaI</th>\n",
       "      <th>kilos_facturables</th>\n",
       "    </tr>\n",
       "    <tr>\n",
       "      <th>Guias_Fecha</th>\n",
       "      <th></th>\n",
       "      <th></th>\n",
       "      <th></th>\n",
       "      <th></th>\n",
       "      <th></th>\n",
       "      <th></th>\n",
       "      <th></th>\n",
       "      <th></th>\n",
       "      <th></th>\n",
       "      <th></th>\n",
       "      <th></th>\n",
       "      <th></th>\n",
       "      <th></th>\n",
       "      <th></th>\n",
       "      <th></th>\n",
       "      <th></th>\n",
       "      <th></th>\n",
       "      <th></th>\n",
       "    </tr>\n",
       "  </thead>\n",
       "  <tbody>\n",
       "    <tr>\n",
       "      <th>2023-03-31</th>\n",
       "      <td>1569239512</td>\n",
       "      <td>234616</td>\n",
       "      <td>6762149.0</td>\n",
       "      <td>223737.0</td>\n",
       "      <td>1.0</td>\n",
       "      <td>27.0</td>\n",
       "      <td>5649.0</td>\n",
       "      <td>72495.0</td>\n",
       "      <td>8712</td>\n",
       "      <td>4381.0</td>\n",
       "      <td>43352.10</td>\n",
       "      <td>40225.02</td>\n",
       "      <td>2259387.66</td>\n",
       "      <td>105767554</td>\n",
       "      <td>420.0</td>\n",
       "      <td>2136770.21</td>\n",
       "      <td>1096771.82</td>\n",
       "      <td>53752.92</td>\n",
       "    </tr>\n",
       "    <tr>\n",
       "      <th>2023-04-30</th>\n",
       "      <td>1374993595</td>\n",
       "      <td>190405</td>\n",
       "      <td>5606540.0</td>\n",
       "      <td>204403.0</td>\n",
       "      <td>0.0</td>\n",
       "      <td>0.0</td>\n",
       "      <td>4996.0</td>\n",
       "      <td>59017.0</td>\n",
       "      <td>7587</td>\n",
       "      <td>4291.0</td>\n",
       "      <td>39299.71</td>\n",
       "      <td>32498.00</td>\n",
       "      <td>1973019.39</td>\n",
       "      <td>91070023</td>\n",
       "      <td>0.0</td>\n",
       "      <td>1836567.87</td>\n",
       "      <td>916357.75</td>\n",
       "      <td>46077.71</td>\n",
       "    </tr>\n",
       "    <tr>\n",
       "      <th>2023-05-31</th>\n",
       "      <td>1848024034</td>\n",
       "      <td>284446</td>\n",
       "      <td>7959308.0</td>\n",
       "      <td>258196.0</td>\n",
       "      <td>0.0</td>\n",
       "      <td>0.0</td>\n",
       "      <td>6625.0</td>\n",
       "      <td>49969.0</td>\n",
       "      <td>10125</td>\n",
       "      <td>5888.0</td>\n",
       "      <td>51799.50</td>\n",
       "      <td>46124.25</td>\n",
       "      <td>2702582.68</td>\n",
       "      <td>121669039</td>\n",
       "      <td>0.0</td>\n",
       "      <td>2480450.01</td>\n",
       "      <td>1224957.98</td>\n",
       "      <td>61983.35</td>\n",
       "    </tr>\n",
       "    <tr>\n",
       "      <th>2023-06-30</th>\n",
       "      <td>1777093978</td>\n",
       "      <td>262431</td>\n",
       "      <td>7802378.0</td>\n",
       "      <td>249619.0</td>\n",
       "      <td>0.0</td>\n",
       "      <td>0.0</td>\n",
       "      <td>6397.0</td>\n",
       "      <td>10328.0</td>\n",
       "      <td>9655</td>\n",
       "      <td>4971.0</td>\n",
       "      <td>49224.46</td>\n",
       "      <td>43423.88</td>\n",
       "      <td>2576068.59</td>\n",
       "      <td>116326445</td>\n",
       "      <td>0.0</td>\n",
       "      <td>2351166.42</td>\n",
       "      <td>1144797.73</td>\n",
       "      <td>59744.25</td>\n",
       "    </tr>\n",
       "    <tr>\n",
       "      <th>2023-07-31</th>\n",
       "      <td>1859726611</td>\n",
       "      <td>272780</td>\n",
       "      <td>7828554.0</td>\n",
       "      <td>264790.0</td>\n",
       "      <td>0.0</td>\n",
       "      <td>0.0</td>\n",
       "      <td>6690.0</td>\n",
       "      <td>0.0</td>\n",
       "      <td>10035</td>\n",
       "      <td>5323.0</td>\n",
       "      <td>52103.20</td>\n",
       "      <td>50625.19</td>\n",
       "      <td>2679719.12</td>\n",
       "      <td>122393934</td>\n",
       "      <td>0.0</td>\n",
       "      <td>2534336.85</td>\n",
       "      <td>1278003.77</td>\n",
       "      <td>66848.65</td>\n",
       "    </tr>\n",
       "  </tbody>\n",
       "</table>\n",
       "</div>"
      ],
      "text/plain": [
       "               Guias_Id  Motivos_Id  Proveedores_Id  Paises_Id  Paises2_Id  \\\n",
       "Guias_Fecha                                                                  \n",
       "2023-03-31   1569239512      234616       6762149.0   223737.0         1.0   \n",
       "2023-04-30   1374993595      190405       5606540.0   204403.0         0.0   \n",
       "2023-05-31   1848024034      284446       7959308.0   258196.0         0.0   \n",
       "2023-06-30   1777093978      262431       7802378.0   249619.0         0.0   \n",
       "2023-07-31   1859726611      272780       7828554.0   264790.0         0.0   \n",
       "\n",
       "             Ciudades_Id  Ciudades2_Id  ZonasV_Id  Contenidos_Id  \\\n",
       "Guias_Fecha                                                        \n",
       "2023-03-31          27.0        5649.0    72495.0           8712   \n",
       "2023-04-30           0.0        4996.0    59017.0           7587   \n",
       "2023-05-31           0.0        6625.0    49969.0          10125   \n",
       "2023-06-30           0.0        6397.0    10328.0           9655   \n",
       "2023-07-31           0.0        6690.0        0.0          10035   \n",
       "\n",
       "             Guias_Bultos  Guias_Peso  Guias_PesoVol   Guias_FOB  Clientes_Id  \\\n",
       "Guias_Fecha                                                                     \n",
       "2023-03-31         4381.0    43352.10       40225.02  2259387.66    105767554   \n",
       "2023-04-30         4291.0    39299.71       32498.00  1973019.39     91070023   \n",
       "2023-05-31         5888.0    51799.50       46124.25  2702582.68    121669039   \n",
       "2023-06-30         4971.0    49224.46       43423.88  2576068.59    116326445   \n",
       "2023-07-31         5323.0    52103.20       50625.19  2679719.12    122393934   \n",
       "\n",
       "             Guias_ExpoTotVta  Guias_ImpoTotVta  Guias_VentaI  \\\n",
       "Guias_Fecha                                                     \n",
       "2023-03-31              420.0        2136770.21    1096771.82   \n",
       "2023-04-30                0.0        1836567.87     916357.75   \n",
       "2023-05-31                0.0        2480450.01    1224957.98   \n",
       "2023-06-30                0.0        2351166.42    1144797.73   \n",
       "2023-07-31                0.0        2534336.85    1278003.77   \n",
       "\n",
       "             kilos_facturables  \n",
       "Guias_Fecha                     \n",
       "2023-03-31            53752.92  \n",
       "2023-04-30            46077.71  \n",
       "2023-05-31            61983.35  \n",
       "2023-06-30            59744.25  \n",
       "2023-07-31            66848.65  "
      ]
     },
     "execution_count": 89,
     "metadata": {},
     "output_type": "execute_result"
    }
   ],
   "source": [
    "df_guias_impo_group_mensual.tail()"
   ]
  },
  {
   "cell_type": "code",
   "execution_count": 90,
   "metadata": {},
   "outputs": [
    {
     "data": {
      "application/vnd.plotly.v1+json": {
       "config": {
        "plotlyServerURL": "https://plot.ly"
       },
       "data": [
        {
         "hovertemplate": " =Kilos Expo<br>Semana=%{x}<br>Kilos=%{y}<extra></extra>",
         "legendgroup": "Kilos Expo",
         "line": {
          "color": "#636efa",
          "dash": "solid"
         },
         "marker": {
          "symbol": "circle"
         },
         "mode": "lines",
         "name": "Kilos Expo",
         "orientation": "v",
         "showlegend": true,
         "type": "scatter",
         "x": [
          "2019-01-06T00:00:00",
          "2019-01-13T00:00:00",
          "2019-01-20T00:00:00",
          "2019-01-27T00:00:00",
          "2019-02-03T00:00:00",
          "2019-02-10T00:00:00",
          "2019-02-17T00:00:00",
          "2019-02-24T00:00:00",
          "2019-03-03T00:00:00",
          "2019-03-10T00:00:00",
          "2019-03-17T00:00:00",
          "2019-03-24T00:00:00",
          "2019-03-31T00:00:00",
          "2019-04-07T00:00:00",
          "2019-04-14T00:00:00",
          "2019-04-21T00:00:00",
          "2019-04-28T00:00:00",
          "2019-05-05T00:00:00",
          "2019-05-12T00:00:00",
          "2019-05-19T00:00:00",
          "2019-05-26T00:00:00",
          "2019-06-02T00:00:00",
          "2019-06-09T00:00:00",
          "2019-06-16T00:00:00",
          "2019-06-23T00:00:00",
          "2019-06-30T00:00:00",
          "2019-07-07T00:00:00",
          "2019-07-14T00:00:00",
          "2019-07-21T00:00:00",
          "2019-07-28T00:00:00",
          "2019-08-04T00:00:00",
          "2019-08-11T00:00:00",
          "2019-08-18T00:00:00",
          "2019-08-25T00:00:00",
          "2019-09-01T00:00:00",
          "2019-09-08T00:00:00",
          "2019-09-15T00:00:00",
          "2019-09-22T00:00:00",
          "2019-09-29T00:00:00",
          "2019-10-06T00:00:00",
          "2019-10-13T00:00:00",
          "2019-10-20T00:00:00",
          "2019-10-27T00:00:00",
          "2019-11-03T00:00:00",
          "2019-11-10T00:00:00",
          "2019-11-17T00:00:00",
          "2019-11-24T00:00:00",
          "2019-12-01T00:00:00",
          "2019-12-08T00:00:00",
          "2019-12-15T00:00:00",
          "2019-12-22T00:00:00",
          "2019-12-29T00:00:00",
          "2020-01-05T00:00:00",
          "2020-01-12T00:00:00",
          "2020-01-19T00:00:00",
          "2020-01-26T00:00:00",
          "2020-02-02T00:00:00",
          "2020-02-09T00:00:00",
          "2020-02-16T00:00:00",
          "2020-02-23T00:00:00",
          "2020-03-01T00:00:00",
          "2020-03-08T00:00:00",
          "2020-03-15T00:00:00",
          "2020-03-22T00:00:00",
          "2020-03-29T00:00:00",
          "2020-04-05T00:00:00",
          "2020-04-12T00:00:00",
          "2020-04-19T00:00:00",
          "2020-04-26T00:00:00",
          "2020-05-03T00:00:00",
          "2020-05-10T00:00:00",
          "2020-05-17T00:00:00",
          "2020-05-24T00:00:00",
          "2020-05-31T00:00:00",
          "2020-06-07T00:00:00",
          "2020-06-14T00:00:00",
          "2020-06-21T00:00:00",
          "2020-06-28T00:00:00",
          "2020-07-05T00:00:00",
          "2020-07-12T00:00:00",
          "2020-07-19T00:00:00",
          "2020-07-26T00:00:00",
          "2020-08-02T00:00:00",
          "2020-08-09T00:00:00",
          "2020-08-16T00:00:00",
          "2020-08-23T00:00:00",
          "2020-08-30T00:00:00",
          "2020-09-06T00:00:00",
          "2020-09-13T00:00:00",
          "2020-09-20T00:00:00",
          "2020-09-27T00:00:00",
          "2020-10-04T00:00:00",
          "2020-10-11T00:00:00",
          "2020-10-18T00:00:00",
          "2020-10-25T00:00:00",
          "2020-11-01T00:00:00",
          "2020-11-08T00:00:00",
          "2020-11-15T00:00:00",
          "2020-11-22T00:00:00",
          "2020-11-29T00:00:00",
          "2020-12-06T00:00:00",
          "2020-12-13T00:00:00",
          "2020-12-20T00:00:00",
          "2020-12-27T00:00:00",
          "2021-01-03T00:00:00",
          "2021-01-10T00:00:00",
          "2021-01-17T00:00:00",
          "2021-01-24T00:00:00",
          "2021-01-31T00:00:00",
          "2021-02-07T00:00:00",
          "2021-02-14T00:00:00",
          "2021-02-21T00:00:00",
          "2021-02-28T00:00:00",
          "2021-03-07T00:00:00",
          "2021-03-14T00:00:00",
          "2021-03-21T00:00:00",
          "2021-03-28T00:00:00",
          "2021-04-04T00:00:00",
          "2021-04-11T00:00:00",
          "2021-04-18T00:00:00",
          "2021-04-25T00:00:00",
          "2021-05-02T00:00:00",
          "2021-05-09T00:00:00",
          "2021-05-16T00:00:00",
          "2021-05-23T00:00:00",
          "2021-05-30T00:00:00",
          "2021-06-06T00:00:00",
          "2021-06-13T00:00:00",
          "2021-06-20T00:00:00",
          "2021-06-27T00:00:00",
          "2021-07-04T00:00:00",
          "2021-07-11T00:00:00",
          "2021-07-18T00:00:00",
          "2021-07-25T00:00:00",
          "2021-08-01T00:00:00",
          "2021-08-08T00:00:00",
          "2021-08-15T00:00:00",
          "2021-08-22T00:00:00",
          "2021-08-29T00:00:00",
          "2021-09-05T00:00:00",
          "2021-09-12T00:00:00",
          "2021-09-19T00:00:00",
          "2021-09-26T00:00:00",
          "2021-10-03T00:00:00",
          "2021-10-10T00:00:00",
          "2021-10-17T00:00:00",
          "2021-10-24T00:00:00",
          "2021-10-31T00:00:00",
          "2021-11-07T00:00:00",
          "2021-11-14T00:00:00",
          "2021-11-21T00:00:00",
          "2021-11-28T00:00:00",
          "2021-12-05T00:00:00",
          "2021-12-12T00:00:00",
          "2021-12-19T00:00:00",
          "2021-12-26T00:00:00",
          "2022-01-02T00:00:00",
          "2022-01-09T00:00:00",
          "2022-01-16T00:00:00",
          "2022-01-23T00:00:00",
          "2022-01-30T00:00:00",
          "2022-02-06T00:00:00",
          "2022-02-13T00:00:00",
          "2022-02-20T00:00:00",
          "2022-02-27T00:00:00",
          "2022-03-06T00:00:00",
          "2022-03-13T00:00:00",
          "2022-03-20T00:00:00",
          "2022-03-27T00:00:00",
          "2022-04-03T00:00:00",
          "2022-04-10T00:00:00",
          "2022-04-17T00:00:00",
          "2022-04-24T00:00:00",
          "2022-05-01T00:00:00",
          "2022-05-08T00:00:00",
          "2022-05-15T00:00:00",
          "2022-05-22T00:00:00",
          "2022-05-29T00:00:00",
          "2022-06-05T00:00:00",
          "2022-06-12T00:00:00",
          "2022-06-19T00:00:00",
          "2022-06-26T00:00:00",
          "2022-07-03T00:00:00",
          "2022-07-10T00:00:00",
          "2022-07-17T00:00:00",
          "2022-07-24T00:00:00",
          "2022-07-31T00:00:00",
          "2022-08-07T00:00:00",
          "2022-08-14T00:00:00",
          "2022-08-21T00:00:00",
          "2022-08-28T00:00:00",
          "2022-09-04T00:00:00",
          "2022-09-11T00:00:00",
          "2022-09-18T00:00:00",
          "2022-09-25T00:00:00",
          "2022-10-02T00:00:00",
          "2022-10-09T00:00:00",
          "2022-10-16T00:00:00",
          "2022-10-23T00:00:00",
          "2022-10-30T00:00:00",
          "2022-11-06T00:00:00",
          "2022-11-13T00:00:00",
          "2022-11-20T00:00:00",
          "2022-11-27T00:00:00",
          "2022-12-04T00:00:00",
          "2022-12-11T00:00:00",
          "2022-12-18T00:00:00",
          "2022-12-25T00:00:00",
          "2023-01-01T00:00:00"
         ],
         "xaxis": "x",
         "y": [
          1592.03,
          2542.55,
          1424.3,
          1802.65,
          2226.55,
          3827.18,
          1793.7,
          1280.2,
          3820.9,
          778.4,
          2494.3,
          2812.8,
          4876.65,
          3907.74,
          3183.55,
          936.82,
          5354,
          2805.07,
          3587.2,
          3191.4,
          7960,
          4454.85,
          2826.8,
          2750.33,
          2604.5,
          5980.5,
          3613.67,
          1897.1,
          3491,
          7239.65,
          6449.04,
          2422.58,
          9238.58,
          2120.76,
          7985.09,
          4551.52,
          5446.9800000000005,
          6669.8,
          4835,
          7120.7,
          5956.27,
          4084.05,
          5284.099999999999,
          9337.1,
          3413.25,
          4018.6,
          3921.7000000000003,
          4179.42,
          2124.8,
          8488.63,
          6475,
          2474.1,
          3925.3,
          4700.05,
          4231.95,
          4805.0599999999995,
          8198.1,
          4019.06,
          6826.4,
          6249.88,
          1466.9,
          9216.34,
          2481.3,
          3949,
          238.20000000000002,
          437.7,
          247.4,
          3926.3,
          1405.7,
          4558.79,
          690.7,
          764,
          1980.2,
          3181.2,
          2327.9,
          2029.5,
          2066.7,
          4227.5,
          2058.2,
          1429.2,
          2559.81,
          2295.5,
          3275.05,
          3386.3,
          1982.88,
          1662.8,
          2831,
          1990.2,
          2366.5,
          4001,
          5433.37,
          4140.2,
          3240,
          3558.9,
          3099.75,
          2879.4,
          5400.64,
          2727.2,
          2803.4,
          3385.2,
          5822.3,
          2220.1,
          3829,
          3650.3,
          5679.1,
          2053.85,
          2589,
          1483.4,
          6734.400000000001,
          1440.4,
          1612.4,
          2006.3,
          3869.9,
          4048.9,
          4033.3,
          8521.19,
          2280.3,
          3245.4,
          4785.5,
          6174.8,
          5264.9,
          7859.7,
          3904.4,
          4822.8,
          3989.6,
          2832.5,
          5376.6,
          5025.38,
          3456.7,
          3133.3,
          3923.7,
          4039.25,
          4497.4,
          4212.1,
          3824.3,
          3850.6,
          2103.9500000000003,
          5415.8,
          4457.4,
          4869.1,
          4685.6,
          5009.6,
          3146.2,
          5876.7,
          3526.65,
          3470.7,
          4646.9,
          4433.4,
          1876.1,
          3462.7,
          4388.5,
          3604.7,
          3638.2,
          4923,
          4122.9,
          2342.7,
          3721.75,
          2899.75,
          3430,
          4091.3,
          2999.9,
          5308.900000000001,
          3388.7,
          6594.4,
          3826.6,
          1184.8,
          3191.4,
          4220.9,
          3954.5,
          2388.9,
          4247.9,
          4115,
          2630.6,
          3729.2,
          3183.3,
          2362.75,
          6315.03,
          1238.9,
          2582.3,
          2084.3,
          4883.38,
          3653.8,
          2703.7,
          2362.79,
          3816,
          3080.3,
          6416.66,
          3917.61,
          3668.3,
          2266.1,
          6292.5,
          2117.1,
          2294,
          2443.9,
          2252.6,
          4905.35,
          2626.8,
          1923,
          2503.3,
          4936.4,
          3712.35,
          2582.5,
          3896.96,
          3329.7,
          1246.2,
          2441.15,
          1545.5,
          3176,
          2302.33
         ],
         "yaxis": "y"
        },
        {
         "hovertemplate": " =Kilos Impo<br>Semana=%{x}<br>Kilos=%{y}<extra></extra>",
         "legendgroup": "Kilos Impo",
         "line": {
          "color": "#EF553B",
          "dash": "solid"
         },
         "marker": {
          "symbol": "circle"
         },
         "mode": "lines",
         "name": "Kilos Impo",
         "orientation": "v",
         "showlegend": true,
         "type": "scatter",
         "x": [
          "2019-01-06T00:00:00",
          "2019-01-13T00:00:00",
          "2019-01-20T00:00:00",
          "2019-01-27T00:00:00",
          "2019-02-03T00:00:00",
          "2019-02-10T00:00:00",
          "2019-02-17T00:00:00",
          "2019-02-24T00:00:00",
          "2019-03-03T00:00:00",
          "2019-03-10T00:00:00",
          "2019-03-17T00:00:00",
          "2019-03-24T00:00:00",
          "2019-03-31T00:00:00",
          "2019-04-07T00:00:00",
          "2019-04-14T00:00:00",
          "2019-04-21T00:00:00",
          "2019-04-28T00:00:00",
          "2019-05-05T00:00:00",
          "2019-05-12T00:00:00",
          "2019-05-19T00:00:00",
          "2019-05-26T00:00:00",
          "2019-06-02T00:00:00",
          "2019-06-09T00:00:00",
          "2019-06-16T00:00:00",
          "2019-06-23T00:00:00",
          "2019-06-30T00:00:00",
          "2019-07-07T00:00:00",
          "2019-07-14T00:00:00",
          "2019-07-21T00:00:00",
          "2019-07-28T00:00:00",
          "2019-08-04T00:00:00",
          "2019-08-11T00:00:00",
          "2019-08-18T00:00:00",
          "2019-08-25T00:00:00",
          "2019-09-01T00:00:00",
          "2019-09-08T00:00:00",
          "2019-09-15T00:00:00",
          "2019-09-22T00:00:00",
          "2019-09-29T00:00:00",
          "2019-10-06T00:00:00",
          "2019-10-13T00:00:00",
          "2019-10-20T00:00:00",
          "2019-10-27T00:00:00",
          "2019-11-03T00:00:00",
          "2019-11-10T00:00:00",
          "2019-11-17T00:00:00",
          "2019-11-24T00:00:00",
          "2019-12-01T00:00:00",
          "2019-12-08T00:00:00",
          "2019-12-15T00:00:00",
          "2019-12-22T00:00:00",
          "2019-12-29T00:00:00",
          "2020-01-05T00:00:00",
          "2020-01-12T00:00:00",
          "2020-01-19T00:00:00",
          "2020-01-26T00:00:00",
          "2020-02-02T00:00:00",
          "2020-02-09T00:00:00",
          "2020-02-16T00:00:00",
          "2020-02-23T00:00:00",
          "2020-03-01T00:00:00",
          "2020-03-08T00:00:00",
          "2020-03-15T00:00:00",
          "2020-03-22T00:00:00",
          "2020-03-29T00:00:00",
          "2020-04-05T00:00:00",
          "2020-04-12T00:00:00",
          "2020-04-19T00:00:00",
          "2020-04-26T00:00:00",
          "2020-05-03T00:00:00",
          "2020-05-10T00:00:00",
          "2020-05-17T00:00:00",
          "2020-05-24T00:00:00",
          "2020-05-31T00:00:00",
          "2020-06-07T00:00:00",
          "2020-06-14T00:00:00",
          "2020-06-21T00:00:00",
          "2020-06-28T00:00:00",
          "2020-07-05T00:00:00",
          "2020-07-12T00:00:00",
          "2020-07-19T00:00:00",
          "2020-07-26T00:00:00",
          "2020-08-02T00:00:00",
          "2020-08-09T00:00:00",
          "2020-08-16T00:00:00",
          "2020-08-23T00:00:00",
          "2020-08-30T00:00:00",
          "2020-09-06T00:00:00",
          "2020-09-13T00:00:00",
          "2020-09-20T00:00:00",
          "2020-09-27T00:00:00",
          "2020-10-04T00:00:00",
          "2020-10-11T00:00:00",
          "2020-10-18T00:00:00",
          "2020-10-25T00:00:00",
          "2020-11-01T00:00:00",
          "2020-11-08T00:00:00",
          "2020-11-15T00:00:00",
          "2020-11-22T00:00:00",
          "2020-11-29T00:00:00",
          "2020-12-06T00:00:00",
          "2020-12-13T00:00:00",
          "2020-12-20T00:00:00",
          "2020-12-27T00:00:00",
          "2021-01-03T00:00:00",
          "2021-01-10T00:00:00",
          "2021-01-17T00:00:00",
          "2021-01-24T00:00:00",
          "2021-01-31T00:00:00",
          "2021-02-07T00:00:00",
          "2021-02-14T00:00:00",
          "2021-02-21T00:00:00",
          "2021-02-28T00:00:00",
          "2021-03-07T00:00:00",
          "2021-03-14T00:00:00",
          "2021-03-21T00:00:00",
          "2021-03-28T00:00:00",
          "2021-04-04T00:00:00",
          "2021-04-11T00:00:00",
          "2021-04-18T00:00:00",
          "2021-04-25T00:00:00",
          "2021-05-02T00:00:00",
          "2021-05-09T00:00:00",
          "2021-05-16T00:00:00",
          "2021-05-23T00:00:00",
          "2021-05-30T00:00:00",
          "2021-06-06T00:00:00",
          "2021-06-13T00:00:00",
          "2021-06-20T00:00:00",
          "2021-06-27T00:00:00",
          "2021-07-04T00:00:00",
          "2021-07-11T00:00:00",
          "2021-07-18T00:00:00",
          "2021-07-25T00:00:00",
          "2021-08-01T00:00:00",
          "2021-08-08T00:00:00",
          "2021-08-15T00:00:00",
          "2021-08-22T00:00:00",
          "2021-08-29T00:00:00",
          "2021-09-05T00:00:00",
          "2021-09-12T00:00:00",
          "2021-09-19T00:00:00",
          "2021-09-26T00:00:00",
          "2021-10-03T00:00:00",
          "2021-10-10T00:00:00",
          "2021-10-17T00:00:00",
          "2021-10-24T00:00:00",
          "2021-10-31T00:00:00",
          "2021-11-07T00:00:00",
          "2021-11-14T00:00:00",
          "2021-11-21T00:00:00",
          "2021-11-28T00:00:00",
          "2021-12-05T00:00:00",
          "2021-12-12T00:00:00",
          "2021-12-19T00:00:00",
          "2021-12-26T00:00:00",
          "2022-01-02T00:00:00",
          "2022-01-09T00:00:00",
          "2022-01-16T00:00:00",
          "2022-01-23T00:00:00",
          "2022-01-30T00:00:00",
          "2022-02-06T00:00:00",
          "2022-02-13T00:00:00",
          "2022-02-20T00:00:00",
          "2022-02-27T00:00:00",
          "2022-03-06T00:00:00",
          "2022-03-13T00:00:00",
          "2022-03-20T00:00:00",
          "2022-03-27T00:00:00",
          "2022-04-03T00:00:00",
          "2022-04-10T00:00:00",
          "2022-04-17T00:00:00",
          "2022-04-24T00:00:00",
          "2022-05-01T00:00:00",
          "2022-05-08T00:00:00",
          "2022-05-15T00:00:00",
          "2022-05-22T00:00:00",
          "2022-05-29T00:00:00",
          "2022-06-05T00:00:00",
          "2022-06-12T00:00:00",
          "2022-06-19T00:00:00",
          "2022-06-26T00:00:00",
          "2022-07-03T00:00:00",
          "2022-07-10T00:00:00",
          "2022-07-17T00:00:00",
          "2022-07-24T00:00:00",
          "2022-07-31T00:00:00",
          "2022-08-07T00:00:00",
          "2022-08-14T00:00:00",
          "2022-08-21T00:00:00",
          "2022-08-28T00:00:00",
          "2022-09-04T00:00:00",
          "2022-09-11T00:00:00",
          "2022-09-18T00:00:00",
          "2022-09-25T00:00:00",
          "2022-10-02T00:00:00",
          "2022-10-09T00:00:00",
          "2022-10-16T00:00:00",
          "2022-10-23T00:00:00",
          "2022-10-30T00:00:00",
          "2022-11-06T00:00:00",
          "2022-11-13T00:00:00",
          "2022-11-20T00:00:00",
          "2022-11-27T00:00:00",
          "2022-12-04T00:00:00",
          "2022-12-11T00:00:00",
          "2022-12-18T00:00:00",
          "2022-12-25T00:00:00",
          "2023-01-01T00:00:00"
         ],
         "xaxis": "x",
         "y": [
          3894.9,
          4403.7,
          6515.5,
          6744.2,
          7366.5,
          5945.3,
          5934.8,
          5947.5,
          7120.1,
          5931.4,
          5136.9,
          6007.8,
          7347.64,
          6432,
          6305.1,
          3499.5,
          9360.2,
          6710.4,
          6914.6,
          6715.9,
          8003.7,
          5651.2,
          7522.3,
          6797.9,
          6027.5,
          6197.6,
          6042.3,
          6203.79,
          7573.1,
          6179.8,
          6866,
          6332.7,
          8137.18,
          5518.88,
          7522.4,
          5532.8,
          5644.8,
          6394.6,
          6573.7,
          6965.8,
          5435,
          7748.05,
          6796.1,
          6306.28,
          6140,
          5745.7,
          6045.1,
          6062.5,
          5249.7,
          5494.4,
          6845.9,
          5303.4,
          3713.2,
          3454.9,
          5697.4,
          5968.1,
          5463,
          4760.1,
          5679.7,
          5994.8,
          4425.8,
          5344.2,
          6550.35,
          4164,
          4231.4,
          1865,
          1070,
          3932.3,
          3470.2,
          3483.1,
          4258.3,
          4752.1,
          6204.8,
          6116.6,
          4714.2,
          5694.96,
          4909.1,
          5896.58,
          6030.1,
          6489.62,
          6514.4,
          6223.3,
          6537.2,
          7996.9,
          8890.1,
          8114.7,
          6894,
          8337.2,
          6836.8,
          9379.3,
          9045.2,
          8176.3,
          7597.46,
          8895.7,
          9483.5,
          9684.9,
          10504.6,
          9445.8,
          10461.539999999999,
          8189.99,
          8554.210000000001,
          11295.24,
          7540.43,
          7714.15,
          7212.55,
          7586.6,
          8950.87,
          8607.84,
          7262.02,
          9334.9,
          10534.78,
          8637.5,
          6324.9,
          7431.4,
          8653.02,
          9943.5,
          7132.18,
          6569.15,
          11096.12,
          10836.04,
          8789.9,
          11291.63,
          9920.43,
          11435.1,
          9672.93,
          12021.5,
          9826.74,
          9342.78,
          8905.5,
          11001.63,
          7517.5,
          7745.8,
          11486.6,
          10258.4,
          9876.46,
          11002.94,
          9958.7,
          11132.32,
          10030.5,
          11910.56,
          8783.47,
          9617.83,
          12004.9,
          13901.91,
          7432.76,
          13431.75,
          10999.18,
          10305.15,
          10606.56,
          12018.6,
          11858.53,
          10082.2,
          10288.3,
          10343.4,
          9951.38,
          9201.53,
          6608.8,
          8913.15,
          8391.94,
          6669.72,
          14232.22,
          10008,
          7958.58,
          9578.29,
          9909.4,
          7561.75,
          9077.25,
          8665.62,
          8097.37,
          9820.76,
          10546.8,
          5176.89,
          10460.25,
          10511.8,
          10932.72,
          9319.85,
          10595.4,
          10408.42,
          9875.37,
          9168.66,
          9447.12,
          13011.7,
          9516.5,
          3986.45,
          9636.49,
          12266.6,
          10926.3,
          12979.36,
          9334,
          9886.65,
          11159.34,
          9737.4,
          9396.34,
          10251.1,
          9508.49,
          8646.75,
          5685.9,
          9824.15,
          7533.35,
          7250.3,
          9104.789999999999,
          6486.25,
          6051.65,
          5609.05,
          6024.55,
          7417.1,
          9586.45,
          7258.4,
          6961.1
         ],
         "yaxis": "y"
        }
       ],
       "layout": {
        "legend": {
         "title": {
          "text": " "
         },
         "tracegroupgap": 0
        },
        "template": {
         "data": {
          "bar": [
           {
            "error_x": {
             "color": "#2a3f5f"
            },
            "error_y": {
             "color": "#2a3f5f"
            },
            "marker": {
             "line": {
              "color": "#E5ECF6",
              "width": 0.5
             },
             "pattern": {
              "fillmode": "overlay",
              "size": 10,
              "solidity": 0.2
             }
            },
            "type": "bar"
           }
          ],
          "barpolar": [
           {
            "marker": {
             "line": {
              "color": "#E5ECF6",
              "width": 0.5
             },
             "pattern": {
              "fillmode": "overlay",
              "size": 10,
              "solidity": 0.2
             }
            },
            "type": "barpolar"
           }
          ],
          "carpet": [
           {
            "aaxis": {
             "endlinecolor": "#2a3f5f",
             "gridcolor": "white",
             "linecolor": "white",
             "minorgridcolor": "white",
             "startlinecolor": "#2a3f5f"
            },
            "baxis": {
             "endlinecolor": "#2a3f5f",
             "gridcolor": "white",
             "linecolor": "white",
             "minorgridcolor": "white",
             "startlinecolor": "#2a3f5f"
            },
            "type": "carpet"
           }
          ],
          "choropleth": [
           {
            "colorbar": {
             "outlinewidth": 0,
             "ticks": ""
            },
            "type": "choropleth"
           }
          ],
          "contour": [
           {
            "colorbar": {
             "outlinewidth": 0,
             "ticks": ""
            },
            "colorscale": [
             [
              0,
              "#0d0887"
             ],
             [
              0.1111111111111111,
              "#46039f"
             ],
             [
              0.2222222222222222,
              "#7201a8"
             ],
             [
              0.3333333333333333,
              "#9c179e"
             ],
             [
              0.4444444444444444,
              "#bd3786"
             ],
             [
              0.5555555555555556,
              "#d8576b"
             ],
             [
              0.6666666666666666,
              "#ed7953"
             ],
             [
              0.7777777777777778,
              "#fb9f3a"
             ],
             [
              0.8888888888888888,
              "#fdca26"
             ],
             [
              1,
              "#f0f921"
             ]
            ],
            "type": "contour"
           }
          ],
          "contourcarpet": [
           {
            "colorbar": {
             "outlinewidth": 0,
             "ticks": ""
            },
            "type": "contourcarpet"
           }
          ],
          "heatmap": [
           {
            "colorbar": {
             "outlinewidth": 0,
             "ticks": ""
            },
            "colorscale": [
             [
              0,
              "#0d0887"
             ],
             [
              0.1111111111111111,
              "#46039f"
             ],
             [
              0.2222222222222222,
              "#7201a8"
             ],
             [
              0.3333333333333333,
              "#9c179e"
             ],
             [
              0.4444444444444444,
              "#bd3786"
             ],
             [
              0.5555555555555556,
              "#d8576b"
             ],
             [
              0.6666666666666666,
              "#ed7953"
             ],
             [
              0.7777777777777778,
              "#fb9f3a"
             ],
             [
              0.8888888888888888,
              "#fdca26"
             ],
             [
              1,
              "#f0f921"
             ]
            ],
            "type": "heatmap"
           }
          ],
          "heatmapgl": [
           {
            "colorbar": {
             "outlinewidth": 0,
             "ticks": ""
            },
            "colorscale": [
             [
              0,
              "#0d0887"
             ],
             [
              0.1111111111111111,
              "#46039f"
             ],
             [
              0.2222222222222222,
              "#7201a8"
             ],
             [
              0.3333333333333333,
              "#9c179e"
             ],
             [
              0.4444444444444444,
              "#bd3786"
             ],
             [
              0.5555555555555556,
              "#d8576b"
             ],
             [
              0.6666666666666666,
              "#ed7953"
             ],
             [
              0.7777777777777778,
              "#fb9f3a"
             ],
             [
              0.8888888888888888,
              "#fdca26"
             ],
             [
              1,
              "#f0f921"
             ]
            ],
            "type": "heatmapgl"
           }
          ],
          "histogram": [
           {
            "marker": {
             "pattern": {
              "fillmode": "overlay",
              "size": 10,
              "solidity": 0.2
             }
            },
            "type": "histogram"
           }
          ],
          "histogram2d": [
           {
            "colorbar": {
             "outlinewidth": 0,
             "ticks": ""
            },
            "colorscale": [
             [
              0,
              "#0d0887"
             ],
             [
              0.1111111111111111,
              "#46039f"
             ],
             [
              0.2222222222222222,
              "#7201a8"
             ],
             [
              0.3333333333333333,
              "#9c179e"
             ],
             [
              0.4444444444444444,
              "#bd3786"
             ],
             [
              0.5555555555555556,
              "#d8576b"
             ],
             [
              0.6666666666666666,
              "#ed7953"
             ],
             [
              0.7777777777777778,
              "#fb9f3a"
             ],
             [
              0.8888888888888888,
              "#fdca26"
             ],
             [
              1,
              "#f0f921"
             ]
            ],
            "type": "histogram2d"
           }
          ],
          "histogram2dcontour": [
           {
            "colorbar": {
             "outlinewidth": 0,
             "ticks": ""
            },
            "colorscale": [
             [
              0,
              "#0d0887"
             ],
             [
              0.1111111111111111,
              "#46039f"
             ],
             [
              0.2222222222222222,
              "#7201a8"
             ],
             [
              0.3333333333333333,
              "#9c179e"
             ],
             [
              0.4444444444444444,
              "#bd3786"
             ],
             [
              0.5555555555555556,
              "#d8576b"
             ],
             [
              0.6666666666666666,
              "#ed7953"
             ],
             [
              0.7777777777777778,
              "#fb9f3a"
             ],
             [
              0.8888888888888888,
              "#fdca26"
             ],
             [
              1,
              "#f0f921"
             ]
            ],
            "type": "histogram2dcontour"
           }
          ],
          "mesh3d": [
           {
            "colorbar": {
             "outlinewidth": 0,
             "ticks": ""
            },
            "type": "mesh3d"
           }
          ],
          "parcoords": [
           {
            "line": {
             "colorbar": {
              "outlinewidth": 0,
              "ticks": ""
             }
            },
            "type": "parcoords"
           }
          ],
          "pie": [
           {
            "automargin": true,
            "type": "pie"
           }
          ],
          "scatter": [
           {
            "fillpattern": {
             "fillmode": "overlay",
             "size": 10,
             "solidity": 0.2
            },
            "type": "scatter"
           }
          ],
          "scatter3d": [
           {
            "line": {
             "colorbar": {
              "outlinewidth": 0,
              "ticks": ""
             }
            },
            "marker": {
             "colorbar": {
              "outlinewidth": 0,
              "ticks": ""
             }
            },
            "type": "scatter3d"
           }
          ],
          "scattercarpet": [
           {
            "marker": {
             "colorbar": {
              "outlinewidth": 0,
              "ticks": ""
             }
            },
            "type": "scattercarpet"
           }
          ],
          "scattergeo": [
           {
            "marker": {
             "colorbar": {
              "outlinewidth": 0,
              "ticks": ""
             }
            },
            "type": "scattergeo"
           }
          ],
          "scattergl": [
           {
            "marker": {
             "colorbar": {
              "outlinewidth": 0,
              "ticks": ""
             }
            },
            "type": "scattergl"
           }
          ],
          "scattermapbox": [
           {
            "marker": {
             "colorbar": {
              "outlinewidth": 0,
              "ticks": ""
             }
            },
            "type": "scattermapbox"
           }
          ],
          "scatterpolar": [
           {
            "marker": {
             "colorbar": {
              "outlinewidth": 0,
              "ticks": ""
             }
            },
            "type": "scatterpolar"
           }
          ],
          "scatterpolargl": [
           {
            "marker": {
             "colorbar": {
              "outlinewidth": 0,
              "ticks": ""
             }
            },
            "type": "scatterpolargl"
           }
          ],
          "scatterternary": [
           {
            "marker": {
             "colorbar": {
              "outlinewidth": 0,
              "ticks": ""
             }
            },
            "type": "scatterternary"
           }
          ],
          "surface": [
           {
            "colorbar": {
             "outlinewidth": 0,
             "ticks": ""
            },
            "colorscale": [
             [
              0,
              "#0d0887"
             ],
             [
              0.1111111111111111,
              "#46039f"
             ],
             [
              0.2222222222222222,
              "#7201a8"
             ],
             [
              0.3333333333333333,
              "#9c179e"
             ],
             [
              0.4444444444444444,
              "#bd3786"
             ],
             [
              0.5555555555555556,
              "#d8576b"
             ],
             [
              0.6666666666666666,
              "#ed7953"
             ],
             [
              0.7777777777777778,
              "#fb9f3a"
             ],
             [
              0.8888888888888888,
              "#fdca26"
             ],
             [
              1,
              "#f0f921"
             ]
            ],
            "type": "surface"
           }
          ],
          "table": [
           {
            "cells": {
             "fill": {
              "color": "#EBF0F8"
             },
             "line": {
              "color": "white"
             }
            },
            "header": {
             "fill": {
              "color": "#C8D4E3"
             },
             "line": {
              "color": "white"
             }
            },
            "type": "table"
           }
          ]
         },
         "layout": {
          "annotationdefaults": {
           "arrowcolor": "#2a3f5f",
           "arrowhead": 0,
           "arrowwidth": 1
          },
          "autotypenumbers": "strict",
          "coloraxis": {
           "colorbar": {
            "outlinewidth": 0,
            "ticks": ""
           }
          },
          "colorscale": {
           "diverging": [
            [
             0,
             "#8e0152"
            ],
            [
             0.1,
             "#c51b7d"
            ],
            [
             0.2,
             "#de77ae"
            ],
            [
             0.3,
             "#f1b6da"
            ],
            [
             0.4,
             "#fde0ef"
            ],
            [
             0.5,
             "#f7f7f7"
            ],
            [
             0.6,
             "#e6f5d0"
            ],
            [
             0.7,
             "#b8e186"
            ],
            [
             0.8,
             "#7fbc41"
            ],
            [
             0.9,
             "#4d9221"
            ],
            [
             1,
             "#276419"
            ]
           ],
           "sequential": [
            [
             0,
             "#0d0887"
            ],
            [
             0.1111111111111111,
             "#46039f"
            ],
            [
             0.2222222222222222,
             "#7201a8"
            ],
            [
             0.3333333333333333,
             "#9c179e"
            ],
            [
             0.4444444444444444,
             "#bd3786"
            ],
            [
             0.5555555555555556,
             "#d8576b"
            ],
            [
             0.6666666666666666,
             "#ed7953"
            ],
            [
             0.7777777777777778,
             "#fb9f3a"
            ],
            [
             0.8888888888888888,
             "#fdca26"
            ],
            [
             1,
             "#f0f921"
            ]
           ],
           "sequentialminus": [
            [
             0,
             "#0d0887"
            ],
            [
             0.1111111111111111,
             "#46039f"
            ],
            [
             0.2222222222222222,
             "#7201a8"
            ],
            [
             0.3333333333333333,
             "#9c179e"
            ],
            [
             0.4444444444444444,
             "#bd3786"
            ],
            [
             0.5555555555555556,
             "#d8576b"
            ],
            [
             0.6666666666666666,
             "#ed7953"
            ],
            [
             0.7777777777777778,
             "#fb9f3a"
            ],
            [
             0.8888888888888888,
             "#fdca26"
            ],
            [
             1,
             "#f0f921"
            ]
           ]
          },
          "colorway": [
           "#636efa",
           "#EF553B",
           "#00cc96",
           "#ab63fa",
           "#FFA15A",
           "#19d3f3",
           "#FF6692",
           "#B6E880",
           "#FF97FF",
           "#FECB52"
          ],
          "font": {
           "color": "#2a3f5f"
          },
          "geo": {
           "bgcolor": "white",
           "lakecolor": "white",
           "landcolor": "#E5ECF6",
           "showlakes": true,
           "showland": true,
           "subunitcolor": "white"
          },
          "hoverlabel": {
           "align": "left"
          },
          "hovermode": "closest",
          "mapbox": {
           "style": "light"
          },
          "paper_bgcolor": "white",
          "plot_bgcolor": "#E5ECF6",
          "polar": {
           "angularaxis": {
            "gridcolor": "white",
            "linecolor": "white",
            "ticks": ""
           },
           "bgcolor": "#E5ECF6",
           "radialaxis": {
            "gridcolor": "white",
            "linecolor": "white",
            "ticks": ""
           }
          },
          "scene": {
           "xaxis": {
            "backgroundcolor": "#E5ECF6",
            "gridcolor": "white",
            "gridwidth": 2,
            "linecolor": "white",
            "showbackground": true,
            "ticks": "",
            "zerolinecolor": "white"
           },
           "yaxis": {
            "backgroundcolor": "#E5ECF6",
            "gridcolor": "white",
            "gridwidth": 2,
            "linecolor": "white",
            "showbackground": true,
            "ticks": "",
            "zerolinecolor": "white"
           },
           "zaxis": {
            "backgroundcolor": "#E5ECF6",
            "gridcolor": "white",
            "gridwidth": 2,
            "linecolor": "white",
            "showbackground": true,
            "ticks": "",
            "zerolinecolor": "white"
           }
          },
          "shapedefaults": {
           "line": {
            "color": "#2a3f5f"
           }
          },
          "ternary": {
           "aaxis": {
            "gridcolor": "white",
            "linecolor": "white",
            "ticks": ""
           },
           "baxis": {
            "gridcolor": "white",
            "linecolor": "white",
            "ticks": ""
           },
           "bgcolor": "#E5ECF6",
           "caxis": {
            "gridcolor": "white",
            "linecolor": "white",
            "ticks": ""
           }
          },
          "title": {
           "x": 0.05
          },
          "xaxis": {
           "automargin": true,
           "gridcolor": "white",
           "linecolor": "white",
           "ticks": "",
           "title": {
            "standoff": 15
           },
           "zerolinecolor": "white",
           "zerolinewidth": 2
          },
          "yaxis": {
           "automargin": true,
           "gridcolor": "white",
           "linecolor": "white",
           "ticks": "",
           "title": {
            "standoff": 15
           },
           "zerolinecolor": "white",
           "zerolinewidth": 2
          }
         }
        },
        "title": {
         "text": "Comparativo Semanal Kilos de Carga por Servicio"
        },
        "xaxis": {
         "anchor": "y",
         "domain": [
          0,
          1
         ],
         "title": {
          "text": "Semana"
         }
        },
        "yaxis": {
         "anchor": "x",
         "domain": [
          0,
          1
         ],
         "title": {
          "text": "Kilos"
         }
        }
       }
      },
      "text/html": [
       "<div>                            <div id=\"b75aa11f-66cd-4220-99dc-ae42ae4ba50a\" class=\"plotly-graph-div\" style=\"height:525px; width:100%;\"></div>            <script type=\"text/javascript\">                require([\"plotly\"], function(Plotly) {                    window.PLOTLYENV=window.PLOTLYENV || {};                                    if (document.getElementById(\"b75aa11f-66cd-4220-99dc-ae42ae4ba50a\")) {                    Plotly.newPlot(                        \"b75aa11f-66cd-4220-99dc-ae42ae4ba50a\",                        [{\"hovertemplate\":\" =Kilos Expo<br>Semana=%{x}<br>Kilos=%{y}<extra></extra>\",\"legendgroup\":\"Kilos Expo\",\"line\":{\"color\":\"#636efa\",\"dash\":\"solid\"},\"marker\":{\"symbol\":\"circle\"},\"mode\":\"lines\",\"name\":\"Kilos Expo\",\"orientation\":\"v\",\"showlegend\":true,\"x\":[\"2019-01-06T00:00:00\",\"2019-01-13T00:00:00\",\"2019-01-20T00:00:00\",\"2019-01-27T00:00:00\",\"2019-02-03T00:00:00\",\"2019-02-10T00:00:00\",\"2019-02-17T00:00:00\",\"2019-02-24T00:00:00\",\"2019-03-03T00:00:00\",\"2019-03-10T00:00:00\",\"2019-03-17T00:00:00\",\"2019-03-24T00:00:00\",\"2019-03-31T00:00:00\",\"2019-04-07T00:00:00\",\"2019-04-14T00:00:00\",\"2019-04-21T00:00:00\",\"2019-04-28T00:00:00\",\"2019-05-05T00:00:00\",\"2019-05-12T00:00:00\",\"2019-05-19T00:00:00\",\"2019-05-26T00:00:00\",\"2019-06-02T00:00:00\",\"2019-06-09T00:00:00\",\"2019-06-16T00:00:00\",\"2019-06-23T00:00:00\",\"2019-06-30T00:00:00\",\"2019-07-07T00:00:00\",\"2019-07-14T00:00:00\",\"2019-07-21T00:00:00\",\"2019-07-28T00:00:00\",\"2019-08-04T00:00:00\",\"2019-08-11T00:00:00\",\"2019-08-18T00:00:00\",\"2019-08-25T00:00:00\",\"2019-09-01T00:00:00\",\"2019-09-08T00:00:00\",\"2019-09-15T00:00:00\",\"2019-09-22T00:00:00\",\"2019-09-29T00:00:00\",\"2019-10-06T00:00:00\",\"2019-10-13T00:00:00\",\"2019-10-20T00:00:00\",\"2019-10-27T00:00:00\",\"2019-11-03T00:00:00\",\"2019-11-10T00:00:00\",\"2019-11-17T00:00:00\",\"2019-11-24T00:00:00\",\"2019-12-01T00:00:00\",\"2019-12-08T00:00:00\",\"2019-12-15T00:00:00\",\"2019-12-22T00:00:00\",\"2019-12-29T00:00:00\",\"2020-01-05T00:00:00\",\"2020-01-12T00:00:00\",\"2020-01-19T00:00:00\",\"2020-01-26T00:00:00\",\"2020-02-02T00:00:00\",\"2020-02-09T00:00:00\",\"2020-02-16T00:00:00\",\"2020-02-23T00:00:00\",\"2020-03-01T00:00:00\",\"2020-03-08T00:00:00\",\"2020-03-15T00:00:00\",\"2020-03-22T00:00:00\",\"2020-03-29T00:00:00\",\"2020-04-05T00:00:00\",\"2020-04-12T00:00:00\",\"2020-04-19T00:00:00\",\"2020-04-26T00:00:00\",\"2020-05-03T00:00:00\",\"2020-05-10T00:00:00\",\"2020-05-17T00:00:00\",\"2020-05-24T00:00:00\",\"2020-05-31T00:00:00\",\"2020-06-07T00:00:00\",\"2020-06-14T00:00:00\",\"2020-06-21T00:00:00\",\"2020-06-28T00:00:00\",\"2020-07-05T00:00:00\",\"2020-07-12T00:00:00\",\"2020-07-19T00:00:00\",\"2020-07-26T00:00:00\",\"2020-08-02T00:00:00\",\"2020-08-09T00:00:00\",\"2020-08-16T00:00:00\",\"2020-08-23T00:00:00\",\"2020-08-30T00:00:00\",\"2020-09-06T00:00:00\",\"2020-09-13T00:00:00\",\"2020-09-20T00:00:00\",\"2020-09-27T00:00:00\",\"2020-10-04T00:00:00\",\"2020-10-11T00:00:00\",\"2020-10-18T00:00:00\",\"2020-10-25T00:00:00\",\"2020-11-01T00:00:00\",\"2020-11-08T00:00:00\",\"2020-11-15T00:00:00\",\"2020-11-22T00:00:00\",\"2020-11-29T00:00:00\",\"2020-12-06T00:00:00\",\"2020-12-13T00:00:00\",\"2020-12-20T00:00:00\",\"2020-12-27T00:00:00\",\"2021-01-03T00:00:00\",\"2021-01-10T00:00:00\",\"2021-01-17T00:00:00\",\"2021-01-24T00:00:00\",\"2021-01-31T00:00:00\",\"2021-02-07T00:00:00\",\"2021-02-14T00:00:00\",\"2021-02-21T00:00:00\",\"2021-02-28T00:00:00\",\"2021-03-07T00:00:00\",\"2021-03-14T00:00:00\",\"2021-03-21T00:00:00\",\"2021-03-28T00:00:00\",\"2021-04-04T00:00:00\",\"2021-04-11T00:00:00\",\"2021-04-18T00:00:00\",\"2021-04-25T00:00:00\",\"2021-05-02T00:00:00\",\"2021-05-09T00:00:00\",\"2021-05-16T00:00:00\",\"2021-05-23T00:00:00\",\"2021-05-30T00:00:00\",\"2021-06-06T00:00:00\",\"2021-06-13T00:00:00\",\"2021-06-20T00:00:00\",\"2021-06-27T00:00:00\",\"2021-07-04T00:00:00\",\"2021-07-11T00:00:00\",\"2021-07-18T00:00:00\",\"2021-07-25T00:00:00\",\"2021-08-01T00:00:00\",\"2021-08-08T00:00:00\",\"2021-08-15T00:00:00\",\"2021-08-22T00:00:00\",\"2021-08-29T00:00:00\",\"2021-09-05T00:00:00\",\"2021-09-12T00:00:00\",\"2021-09-19T00:00:00\",\"2021-09-26T00:00:00\",\"2021-10-03T00:00:00\",\"2021-10-10T00:00:00\",\"2021-10-17T00:00:00\",\"2021-10-24T00:00:00\",\"2021-10-31T00:00:00\",\"2021-11-07T00:00:00\",\"2021-11-14T00:00:00\",\"2021-11-21T00:00:00\",\"2021-11-28T00:00:00\",\"2021-12-05T00:00:00\",\"2021-12-12T00:00:00\",\"2021-12-19T00:00:00\",\"2021-12-26T00:00:00\",\"2022-01-02T00:00:00\",\"2022-01-09T00:00:00\",\"2022-01-16T00:00:00\",\"2022-01-23T00:00:00\",\"2022-01-30T00:00:00\",\"2022-02-06T00:00:00\",\"2022-02-13T00:00:00\",\"2022-02-20T00:00:00\",\"2022-02-27T00:00:00\",\"2022-03-06T00:00:00\",\"2022-03-13T00:00:00\",\"2022-03-20T00:00:00\",\"2022-03-27T00:00:00\",\"2022-04-03T00:00:00\",\"2022-04-10T00:00:00\",\"2022-04-17T00:00:00\",\"2022-04-24T00:00:00\",\"2022-05-01T00:00:00\",\"2022-05-08T00:00:00\",\"2022-05-15T00:00:00\",\"2022-05-22T00:00:00\",\"2022-05-29T00:00:00\",\"2022-06-05T00:00:00\",\"2022-06-12T00:00:00\",\"2022-06-19T00:00:00\",\"2022-06-26T00:00:00\",\"2022-07-03T00:00:00\",\"2022-07-10T00:00:00\",\"2022-07-17T00:00:00\",\"2022-07-24T00:00:00\",\"2022-07-31T00:00:00\",\"2022-08-07T00:00:00\",\"2022-08-14T00:00:00\",\"2022-08-21T00:00:00\",\"2022-08-28T00:00:00\",\"2022-09-04T00:00:00\",\"2022-09-11T00:00:00\",\"2022-09-18T00:00:00\",\"2022-09-25T00:00:00\",\"2022-10-02T00:00:00\",\"2022-10-09T00:00:00\",\"2022-10-16T00:00:00\",\"2022-10-23T00:00:00\",\"2022-10-30T00:00:00\",\"2022-11-06T00:00:00\",\"2022-11-13T00:00:00\",\"2022-11-20T00:00:00\",\"2022-11-27T00:00:00\",\"2022-12-04T00:00:00\",\"2022-12-11T00:00:00\",\"2022-12-18T00:00:00\",\"2022-12-25T00:00:00\",\"2023-01-01T00:00:00\"],\"xaxis\":\"x\",\"y\":[1592.03,2542.55,1424.3,1802.65,2226.55,3827.18,1793.7,1280.2,3820.9,778.4,2494.3,2812.8,4876.65,3907.74,3183.55,936.82,5354.0,2805.07,3587.2,3191.4,7960.0,4454.85,2826.8,2750.33,2604.5,5980.5,3613.67,1897.1,3491.0,7239.65,6449.04,2422.58,9238.58,2120.76,7985.09,4551.52,5446.9800000000005,6669.8,4835.0,7120.7,5956.27,4084.05,5284.099999999999,9337.1,3413.25,4018.6,3921.7000000000003,4179.42,2124.8,8488.63,6475.0,2474.1,3925.3,4700.05,4231.95,4805.0599999999995,8198.1,4019.06,6826.4,6249.88,1466.9,9216.34,2481.3,3949.0,238.20000000000002,437.7,247.4,3926.3,1405.7,4558.79,690.7,764.0,1980.2,3181.2,2327.9,2029.5,2066.7,4227.5,2058.2,1429.2,2559.81,2295.5,3275.05,3386.3,1982.88,1662.8,2831.0,1990.2,2366.5,4001.0,5433.37,4140.2,3240.0,3558.9,3099.75,2879.4,5400.64,2727.2,2803.4,3385.2,5822.3,2220.1,3829.0,3650.3,5679.1,2053.85,2589.0,1483.4,6734.400000000001,1440.4,1612.4,2006.3,3869.9,4048.9,4033.3,8521.19,2280.3,3245.4,4785.5,6174.8,5264.9,7859.7,3904.4,4822.8,3989.6,2832.5,5376.6,5025.38,3456.7,3133.3,3923.7,4039.25,4497.4,4212.1,3824.3,3850.6,2103.9500000000003,5415.8,4457.4,4869.1,4685.6,5009.6,3146.2,5876.7,3526.65,3470.7,4646.9,4433.4,1876.1,3462.7,4388.5,3604.7,3638.2,4923.0,4122.9,2342.7,3721.75,2899.75,3430.0,4091.3,2999.9,5308.900000000001,3388.7,6594.4,3826.6,1184.8,3191.4,4220.9,3954.5,2388.9,4247.9,4115.0,2630.6,3729.2,3183.3,2362.75,6315.03,1238.9,2582.3,2084.3,4883.38,3653.8,2703.7,2362.79,3816.0,3080.3,6416.66,3917.61,3668.3,2266.1,6292.5,2117.1,2294.0,2443.9,2252.6,4905.35,2626.8,1923.0,2503.3,4936.4,3712.35,2582.5,3896.96,3329.7,1246.2,2441.15,1545.5,3176.0,2302.33],\"yaxis\":\"y\",\"type\":\"scatter\"},{\"hovertemplate\":\" =Kilos Impo<br>Semana=%{x}<br>Kilos=%{y}<extra></extra>\",\"legendgroup\":\"Kilos Impo\",\"line\":{\"color\":\"#EF553B\",\"dash\":\"solid\"},\"marker\":{\"symbol\":\"circle\"},\"mode\":\"lines\",\"name\":\"Kilos Impo\",\"orientation\":\"v\",\"showlegend\":true,\"x\":[\"2019-01-06T00:00:00\",\"2019-01-13T00:00:00\",\"2019-01-20T00:00:00\",\"2019-01-27T00:00:00\",\"2019-02-03T00:00:00\",\"2019-02-10T00:00:00\",\"2019-02-17T00:00:00\",\"2019-02-24T00:00:00\",\"2019-03-03T00:00:00\",\"2019-03-10T00:00:00\",\"2019-03-17T00:00:00\",\"2019-03-24T00:00:00\",\"2019-03-31T00:00:00\",\"2019-04-07T00:00:00\",\"2019-04-14T00:00:00\",\"2019-04-21T00:00:00\",\"2019-04-28T00:00:00\",\"2019-05-05T00:00:00\",\"2019-05-12T00:00:00\",\"2019-05-19T00:00:00\",\"2019-05-26T00:00:00\",\"2019-06-02T00:00:00\",\"2019-06-09T00:00:00\",\"2019-06-16T00:00:00\",\"2019-06-23T00:00:00\",\"2019-06-30T00:00:00\",\"2019-07-07T00:00:00\",\"2019-07-14T00:00:00\",\"2019-07-21T00:00:00\",\"2019-07-28T00:00:00\",\"2019-08-04T00:00:00\",\"2019-08-11T00:00:00\",\"2019-08-18T00:00:00\",\"2019-08-25T00:00:00\",\"2019-09-01T00:00:00\",\"2019-09-08T00:00:00\",\"2019-09-15T00:00:00\",\"2019-09-22T00:00:00\",\"2019-09-29T00:00:00\",\"2019-10-06T00:00:00\",\"2019-10-13T00:00:00\",\"2019-10-20T00:00:00\",\"2019-10-27T00:00:00\",\"2019-11-03T00:00:00\",\"2019-11-10T00:00:00\",\"2019-11-17T00:00:00\",\"2019-11-24T00:00:00\",\"2019-12-01T00:00:00\",\"2019-12-08T00:00:00\",\"2019-12-15T00:00:00\",\"2019-12-22T00:00:00\",\"2019-12-29T00:00:00\",\"2020-01-05T00:00:00\",\"2020-01-12T00:00:00\",\"2020-01-19T00:00:00\",\"2020-01-26T00:00:00\",\"2020-02-02T00:00:00\",\"2020-02-09T00:00:00\",\"2020-02-16T00:00:00\",\"2020-02-23T00:00:00\",\"2020-03-01T00:00:00\",\"2020-03-08T00:00:00\",\"2020-03-15T00:00:00\",\"2020-03-22T00:00:00\",\"2020-03-29T00:00:00\",\"2020-04-05T00:00:00\",\"2020-04-12T00:00:00\",\"2020-04-19T00:00:00\",\"2020-04-26T00:00:00\",\"2020-05-03T00:00:00\",\"2020-05-10T00:00:00\",\"2020-05-17T00:00:00\",\"2020-05-24T00:00:00\",\"2020-05-31T00:00:00\",\"2020-06-07T00:00:00\",\"2020-06-14T00:00:00\",\"2020-06-21T00:00:00\",\"2020-06-28T00:00:00\",\"2020-07-05T00:00:00\",\"2020-07-12T00:00:00\",\"2020-07-19T00:00:00\",\"2020-07-26T00:00:00\",\"2020-08-02T00:00:00\",\"2020-08-09T00:00:00\",\"2020-08-16T00:00:00\",\"2020-08-23T00:00:00\",\"2020-08-30T00:00:00\",\"2020-09-06T00:00:00\",\"2020-09-13T00:00:00\",\"2020-09-20T00:00:00\",\"2020-09-27T00:00:00\",\"2020-10-04T00:00:00\",\"2020-10-11T00:00:00\",\"2020-10-18T00:00:00\",\"2020-10-25T00:00:00\",\"2020-11-01T00:00:00\",\"2020-11-08T00:00:00\",\"2020-11-15T00:00:00\",\"2020-11-22T00:00:00\",\"2020-11-29T00:00:00\",\"2020-12-06T00:00:00\",\"2020-12-13T00:00:00\",\"2020-12-20T00:00:00\",\"2020-12-27T00:00:00\",\"2021-01-03T00:00:00\",\"2021-01-10T00:00:00\",\"2021-01-17T00:00:00\",\"2021-01-24T00:00:00\",\"2021-01-31T00:00:00\",\"2021-02-07T00:00:00\",\"2021-02-14T00:00:00\",\"2021-02-21T00:00:00\",\"2021-02-28T00:00:00\",\"2021-03-07T00:00:00\",\"2021-03-14T00:00:00\",\"2021-03-21T00:00:00\",\"2021-03-28T00:00:00\",\"2021-04-04T00:00:00\",\"2021-04-11T00:00:00\",\"2021-04-18T00:00:00\",\"2021-04-25T00:00:00\",\"2021-05-02T00:00:00\",\"2021-05-09T00:00:00\",\"2021-05-16T00:00:00\",\"2021-05-23T00:00:00\",\"2021-05-30T00:00:00\",\"2021-06-06T00:00:00\",\"2021-06-13T00:00:00\",\"2021-06-20T00:00:00\",\"2021-06-27T00:00:00\",\"2021-07-04T00:00:00\",\"2021-07-11T00:00:00\",\"2021-07-18T00:00:00\",\"2021-07-25T00:00:00\",\"2021-08-01T00:00:00\",\"2021-08-08T00:00:00\",\"2021-08-15T00:00:00\",\"2021-08-22T00:00:00\",\"2021-08-29T00:00:00\",\"2021-09-05T00:00:00\",\"2021-09-12T00:00:00\",\"2021-09-19T00:00:00\",\"2021-09-26T00:00:00\",\"2021-10-03T00:00:00\",\"2021-10-10T00:00:00\",\"2021-10-17T00:00:00\",\"2021-10-24T00:00:00\",\"2021-10-31T00:00:00\",\"2021-11-07T00:00:00\",\"2021-11-14T00:00:00\",\"2021-11-21T00:00:00\",\"2021-11-28T00:00:00\",\"2021-12-05T00:00:00\",\"2021-12-12T00:00:00\",\"2021-12-19T00:00:00\",\"2021-12-26T00:00:00\",\"2022-01-02T00:00:00\",\"2022-01-09T00:00:00\",\"2022-01-16T00:00:00\",\"2022-01-23T00:00:00\",\"2022-01-30T00:00:00\",\"2022-02-06T00:00:00\",\"2022-02-13T00:00:00\",\"2022-02-20T00:00:00\",\"2022-02-27T00:00:00\",\"2022-03-06T00:00:00\",\"2022-03-13T00:00:00\",\"2022-03-20T00:00:00\",\"2022-03-27T00:00:00\",\"2022-04-03T00:00:00\",\"2022-04-10T00:00:00\",\"2022-04-17T00:00:00\",\"2022-04-24T00:00:00\",\"2022-05-01T00:00:00\",\"2022-05-08T00:00:00\",\"2022-05-15T00:00:00\",\"2022-05-22T00:00:00\",\"2022-05-29T00:00:00\",\"2022-06-05T00:00:00\",\"2022-06-12T00:00:00\",\"2022-06-19T00:00:00\",\"2022-06-26T00:00:00\",\"2022-07-03T00:00:00\",\"2022-07-10T00:00:00\",\"2022-07-17T00:00:00\",\"2022-07-24T00:00:00\",\"2022-07-31T00:00:00\",\"2022-08-07T00:00:00\",\"2022-08-14T00:00:00\",\"2022-08-21T00:00:00\",\"2022-08-28T00:00:00\",\"2022-09-04T00:00:00\",\"2022-09-11T00:00:00\",\"2022-09-18T00:00:00\",\"2022-09-25T00:00:00\",\"2022-10-02T00:00:00\",\"2022-10-09T00:00:00\",\"2022-10-16T00:00:00\",\"2022-10-23T00:00:00\",\"2022-10-30T00:00:00\",\"2022-11-06T00:00:00\",\"2022-11-13T00:00:00\",\"2022-11-20T00:00:00\",\"2022-11-27T00:00:00\",\"2022-12-04T00:00:00\",\"2022-12-11T00:00:00\",\"2022-12-18T00:00:00\",\"2022-12-25T00:00:00\",\"2023-01-01T00:00:00\"],\"xaxis\":\"x\",\"y\":[3894.9,4403.7,6515.5,6744.2,7366.5,5945.3,5934.8,5947.5,7120.1,5931.4,5136.9,6007.8,7347.64,6432.0,6305.1,3499.5,9360.2,6710.4,6914.6,6715.9,8003.7,5651.2,7522.3,6797.9,6027.5,6197.6,6042.3,6203.79,7573.1,6179.8,6866.0,6332.7,8137.18,5518.88,7522.4,5532.8,5644.8,6394.6,6573.7,6965.8,5435.0,7748.05,6796.1,6306.28,6140.0,5745.7,6045.1,6062.5,5249.7,5494.4,6845.9,5303.4,3713.2,3454.9,5697.4,5968.1,5463.0,4760.1,5679.7,5994.8,4425.8,5344.2,6550.35,4164.0,4231.4,1865.0,1070.0,3932.3,3470.2,3483.1,4258.3,4752.1,6204.8,6116.6,4714.2,5694.96,4909.1,5896.58,6030.1,6489.62,6514.4,6223.3,6537.2,7996.9,8890.1,8114.7,6894.0,8337.2,6836.8,9379.3,9045.2,8176.3,7597.46,8895.7,9483.5,9684.9,10504.6,9445.8,10461.539999999999,8189.99,8554.210000000001,11295.24,7540.43,7714.15,7212.55,7586.6,8950.87,8607.84,7262.02,9334.9,10534.78,8637.5,6324.9,7431.4,8653.02,9943.5,7132.18,6569.15,11096.12,10836.04,8789.9,11291.63,9920.43,11435.1,9672.93,12021.5,9826.74,9342.78,8905.5,11001.63,7517.5,7745.8,11486.6,10258.4,9876.46,11002.94,9958.7,11132.32,10030.5,11910.56,8783.47,9617.83,12004.9,13901.91,7432.76,13431.75,10999.18,10305.15,10606.56,12018.6,11858.53,10082.2,10288.3,10343.4,9951.38,9201.53,6608.8,8913.15,8391.94,6669.72,14232.22,10008.0,7958.58,9578.29,9909.4,7561.75,9077.25,8665.62,8097.37,9820.76,10546.8,5176.89,10460.25,10511.8,10932.72,9319.85,10595.4,10408.42,9875.37,9168.66,9447.12,13011.7,9516.5,3986.45,9636.49,12266.6,10926.3,12979.36,9334.0,9886.65,11159.34,9737.4,9396.34,10251.1,9508.49,8646.75,5685.9,9824.15,7533.35,7250.3,9104.789999999999,6486.25,6051.65,5609.05,6024.55,7417.1,9586.45,7258.4,6961.1],\"yaxis\":\"y\",\"type\":\"scatter\"}],                        {\"template\":{\"data\":{\"histogram2dcontour\":[{\"type\":\"histogram2dcontour\",\"colorbar\":{\"outlinewidth\":0,\"ticks\":\"\"},\"colorscale\":[[0.0,\"#0d0887\"],[0.1111111111111111,\"#46039f\"],[0.2222222222222222,\"#7201a8\"],[0.3333333333333333,\"#9c179e\"],[0.4444444444444444,\"#bd3786\"],[0.5555555555555556,\"#d8576b\"],[0.6666666666666666,\"#ed7953\"],[0.7777777777777778,\"#fb9f3a\"],[0.8888888888888888,\"#fdca26\"],[1.0,\"#f0f921\"]]}],\"choropleth\":[{\"type\":\"choropleth\",\"colorbar\":{\"outlinewidth\":0,\"ticks\":\"\"}}],\"histogram2d\":[{\"type\":\"histogram2d\",\"colorbar\":{\"outlinewidth\":0,\"ticks\":\"\"},\"colorscale\":[[0.0,\"#0d0887\"],[0.1111111111111111,\"#46039f\"],[0.2222222222222222,\"#7201a8\"],[0.3333333333333333,\"#9c179e\"],[0.4444444444444444,\"#bd3786\"],[0.5555555555555556,\"#d8576b\"],[0.6666666666666666,\"#ed7953\"],[0.7777777777777778,\"#fb9f3a\"],[0.8888888888888888,\"#fdca26\"],[1.0,\"#f0f921\"]]}],\"heatmap\":[{\"type\":\"heatmap\",\"colorbar\":{\"outlinewidth\":0,\"ticks\":\"\"},\"colorscale\":[[0.0,\"#0d0887\"],[0.1111111111111111,\"#46039f\"],[0.2222222222222222,\"#7201a8\"],[0.3333333333333333,\"#9c179e\"],[0.4444444444444444,\"#bd3786\"],[0.5555555555555556,\"#d8576b\"],[0.6666666666666666,\"#ed7953\"],[0.7777777777777778,\"#fb9f3a\"],[0.8888888888888888,\"#fdca26\"],[1.0,\"#f0f921\"]]}],\"heatmapgl\":[{\"type\":\"heatmapgl\",\"colorbar\":{\"outlinewidth\":0,\"ticks\":\"\"},\"colorscale\":[[0.0,\"#0d0887\"],[0.1111111111111111,\"#46039f\"],[0.2222222222222222,\"#7201a8\"],[0.3333333333333333,\"#9c179e\"],[0.4444444444444444,\"#bd3786\"],[0.5555555555555556,\"#d8576b\"],[0.6666666666666666,\"#ed7953\"],[0.7777777777777778,\"#fb9f3a\"],[0.8888888888888888,\"#fdca26\"],[1.0,\"#f0f921\"]]}],\"contourcarpet\":[{\"type\":\"contourcarpet\",\"colorbar\":{\"outlinewidth\":0,\"ticks\":\"\"}}],\"contour\":[{\"type\":\"contour\",\"colorbar\":{\"outlinewidth\":0,\"ticks\":\"\"},\"colorscale\":[[0.0,\"#0d0887\"],[0.1111111111111111,\"#46039f\"],[0.2222222222222222,\"#7201a8\"],[0.3333333333333333,\"#9c179e\"],[0.4444444444444444,\"#bd3786\"],[0.5555555555555556,\"#d8576b\"],[0.6666666666666666,\"#ed7953\"],[0.7777777777777778,\"#fb9f3a\"],[0.8888888888888888,\"#fdca26\"],[1.0,\"#f0f921\"]]}],\"surface\":[{\"type\":\"surface\",\"colorbar\":{\"outlinewidth\":0,\"ticks\":\"\"},\"colorscale\":[[0.0,\"#0d0887\"],[0.1111111111111111,\"#46039f\"],[0.2222222222222222,\"#7201a8\"],[0.3333333333333333,\"#9c179e\"],[0.4444444444444444,\"#bd3786\"],[0.5555555555555556,\"#d8576b\"],[0.6666666666666666,\"#ed7953\"],[0.7777777777777778,\"#fb9f3a\"],[0.8888888888888888,\"#fdca26\"],[1.0,\"#f0f921\"]]}],\"mesh3d\":[{\"type\":\"mesh3d\",\"colorbar\":{\"outlinewidth\":0,\"ticks\":\"\"}}],\"scatter\":[{\"fillpattern\":{\"fillmode\":\"overlay\",\"size\":10,\"solidity\":0.2},\"type\":\"scatter\"}],\"parcoords\":[{\"type\":\"parcoords\",\"line\":{\"colorbar\":{\"outlinewidth\":0,\"ticks\":\"\"}}}],\"scatterpolargl\":[{\"type\":\"scatterpolargl\",\"marker\":{\"colorbar\":{\"outlinewidth\":0,\"ticks\":\"\"}}}],\"bar\":[{\"error_x\":{\"color\":\"#2a3f5f\"},\"error_y\":{\"color\":\"#2a3f5f\"},\"marker\":{\"line\":{\"color\":\"#E5ECF6\",\"width\":0.5},\"pattern\":{\"fillmode\":\"overlay\",\"size\":10,\"solidity\":0.2}},\"type\":\"bar\"}],\"scattergeo\":[{\"type\":\"scattergeo\",\"marker\":{\"colorbar\":{\"outlinewidth\":0,\"ticks\":\"\"}}}],\"scatterpolar\":[{\"type\":\"scatterpolar\",\"marker\":{\"colorbar\":{\"outlinewidth\":0,\"ticks\":\"\"}}}],\"histogram\":[{\"marker\":{\"pattern\":{\"fillmode\":\"overlay\",\"size\":10,\"solidity\":0.2}},\"type\":\"histogram\"}],\"scattergl\":[{\"type\":\"scattergl\",\"marker\":{\"colorbar\":{\"outlinewidth\":0,\"ticks\":\"\"}}}],\"scatter3d\":[{\"type\":\"scatter3d\",\"line\":{\"colorbar\":{\"outlinewidth\":0,\"ticks\":\"\"}},\"marker\":{\"colorbar\":{\"outlinewidth\":0,\"ticks\":\"\"}}}],\"scattermapbox\":[{\"type\":\"scattermapbox\",\"marker\":{\"colorbar\":{\"outlinewidth\":0,\"ticks\":\"\"}}}],\"scatterternary\":[{\"type\":\"scatterternary\",\"marker\":{\"colorbar\":{\"outlinewidth\":0,\"ticks\":\"\"}}}],\"scattercarpet\":[{\"type\":\"scattercarpet\",\"marker\":{\"colorbar\":{\"outlinewidth\":0,\"ticks\":\"\"}}}],\"carpet\":[{\"aaxis\":{\"endlinecolor\":\"#2a3f5f\",\"gridcolor\":\"white\",\"linecolor\":\"white\",\"minorgridcolor\":\"white\",\"startlinecolor\":\"#2a3f5f\"},\"baxis\":{\"endlinecolor\":\"#2a3f5f\",\"gridcolor\":\"white\",\"linecolor\":\"white\",\"minorgridcolor\":\"white\",\"startlinecolor\":\"#2a3f5f\"},\"type\":\"carpet\"}],\"table\":[{\"cells\":{\"fill\":{\"color\":\"#EBF0F8\"},\"line\":{\"color\":\"white\"}},\"header\":{\"fill\":{\"color\":\"#C8D4E3\"},\"line\":{\"color\":\"white\"}},\"type\":\"table\"}],\"barpolar\":[{\"marker\":{\"line\":{\"color\":\"#E5ECF6\",\"width\":0.5},\"pattern\":{\"fillmode\":\"overlay\",\"size\":10,\"solidity\":0.2}},\"type\":\"barpolar\"}],\"pie\":[{\"automargin\":true,\"type\":\"pie\"}]},\"layout\":{\"autotypenumbers\":\"strict\",\"colorway\":[\"#636efa\",\"#EF553B\",\"#00cc96\",\"#ab63fa\",\"#FFA15A\",\"#19d3f3\",\"#FF6692\",\"#B6E880\",\"#FF97FF\",\"#FECB52\"],\"font\":{\"color\":\"#2a3f5f\"},\"hovermode\":\"closest\",\"hoverlabel\":{\"align\":\"left\"},\"paper_bgcolor\":\"white\",\"plot_bgcolor\":\"#E5ECF6\",\"polar\":{\"bgcolor\":\"#E5ECF6\",\"angularaxis\":{\"gridcolor\":\"white\",\"linecolor\":\"white\",\"ticks\":\"\"},\"radialaxis\":{\"gridcolor\":\"white\",\"linecolor\":\"white\",\"ticks\":\"\"}},\"ternary\":{\"bgcolor\":\"#E5ECF6\",\"aaxis\":{\"gridcolor\":\"white\",\"linecolor\":\"white\",\"ticks\":\"\"},\"baxis\":{\"gridcolor\":\"white\",\"linecolor\":\"white\",\"ticks\":\"\"},\"caxis\":{\"gridcolor\":\"white\",\"linecolor\":\"white\",\"ticks\":\"\"}},\"coloraxis\":{\"colorbar\":{\"outlinewidth\":0,\"ticks\":\"\"}},\"colorscale\":{\"sequential\":[[0.0,\"#0d0887\"],[0.1111111111111111,\"#46039f\"],[0.2222222222222222,\"#7201a8\"],[0.3333333333333333,\"#9c179e\"],[0.4444444444444444,\"#bd3786\"],[0.5555555555555556,\"#d8576b\"],[0.6666666666666666,\"#ed7953\"],[0.7777777777777778,\"#fb9f3a\"],[0.8888888888888888,\"#fdca26\"],[1.0,\"#f0f921\"]],\"sequentialminus\":[[0.0,\"#0d0887\"],[0.1111111111111111,\"#46039f\"],[0.2222222222222222,\"#7201a8\"],[0.3333333333333333,\"#9c179e\"],[0.4444444444444444,\"#bd3786\"],[0.5555555555555556,\"#d8576b\"],[0.6666666666666666,\"#ed7953\"],[0.7777777777777778,\"#fb9f3a\"],[0.8888888888888888,\"#fdca26\"],[1.0,\"#f0f921\"]],\"diverging\":[[0,\"#8e0152\"],[0.1,\"#c51b7d\"],[0.2,\"#de77ae\"],[0.3,\"#f1b6da\"],[0.4,\"#fde0ef\"],[0.5,\"#f7f7f7\"],[0.6,\"#e6f5d0\"],[0.7,\"#b8e186\"],[0.8,\"#7fbc41\"],[0.9,\"#4d9221\"],[1,\"#276419\"]]},\"xaxis\":{\"gridcolor\":\"white\",\"linecolor\":\"white\",\"ticks\":\"\",\"title\":{\"standoff\":15},\"zerolinecolor\":\"white\",\"automargin\":true,\"zerolinewidth\":2},\"yaxis\":{\"gridcolor\":\"white\",\"linecolor\":\"white\",\"ticks\":\"\",\"title\":{\"standoff\":15},\"zerolinecolor\":\"white\",\"automargin\":true,\"zerolinewidth\":2},\"scene\":{\"xaxis\":{\"backgroundcolor\":\"#E5ECF6\",\"gridcolor\":\"white\",\"linecolor\":\"white\",\"showbackground\":true,\"ticks\":\"\",\"zerolinecolor\":\"white\",\"gridwidth\":2},\"yaxis\":{\"backgroundcolor\":\"#E5ECF6\",\"gridcolor\":\"white\",\"linecolor\":\"white\",\"showbackground\":true,\"ticks\":\"\",\"zerolinecolor\":\"white\",\"gridwidth\":2},\"zaxis\":{\"backgroundcolor\":\"#E5ECF6\",\"gridcolor\":\"white\",\"linecolor\":\"white\",\"showbackground\":true,\"ticks\":\"\",\"zerolinecolor\":\"white\",\"gridwidth\":2}},\"shapedefaults\":{\"line\":{\"color\":\"#2a3f5f\"}},\"annotationdefaults\":{\"arrowcolor\":\"#2a3f5f\",\"arrowhead\":0,\"arrowwidth\":1},\"geo\":{\"bgcolor\":\"white\",\"landcolor\":\"#E5ECF6\",\"subunitcolor\":\"white\",\"showland\":true,\"showlakes\":true,\"lakecolor\":\"white\"},\"title\":{\"x\":0.05},\"mapbox\":{\"style\":\"light\"}}},\"xaxis\":{\"anchor\":\"y\",\"domain\":[0.0,1.0],\"title\":{\"text\":\"Semana\"}},\"yaxis\":{\"anchor\":\"x\",\"domain\":[0.0,1.0],\"title\":{\"text\":\"Kilos\"}},\"legend\":{\"title\":{\"text\":\" \"},\"tracegroupgap\":0},\"title\":{\"text\":\"Comparativo Semanal Kilos de Carga por Servicio\"}},                        {\"responsive\": true}                    ).then(function(){\n",
       "                            \n",
       "var gd = document.getElementById('b75aa11f-66cd-4220-99dc-ae42ae4ba50a');\n",
       "var x = new MutationObserver(function (mutations, observer) {{\n",
       "        var display = window.getComputedStyle(gd).display;\n",
       "        if (!display || display === 'none') {{\n",
       "            console.log([gd, 'removed!']);\n",
       "            Plotly.purge(gd);\n",
       "            observer.disconnect();\n",
       "        }}\n",
       "}});\n",
       "\n",
       "// Listen for the removal of the full notebook cells\n",
       "var notebookContainer = gd.closest('#notebook-container');\n",
       "if (notebookContainer) {{\n",
       "    x.observe(notebookContainer, {childList: true});\n",
       "}}\n",
       "\n",
       "// Listen for the clearing of the current output cell\n",
       "var outputEl = gd.closest('.output');\n",
       "if (outputEl) {{\n",
       "    x.observe(outputEl, {childList: true});\n",
       "}}\n",
       "\n",
       "                        })                };                });            </script>        </div>"
      ]
     },
     "metadata": {},
     "output_type": "display_data"
    }
   ],
   "source": [
    "df_semanal_comparativo= df_guias_expo_group_semanal[['Guias_Peso']]\n",
    "df_semanal_comparativo[['Kilos Impo']]= df_guias_impo_group_semanal[['Guias_Peso']]\n",
    "df_semanal_comparativo.rename(columns={'Guias_Peso': 'Kilos Expo'}, inplace=True)\n",
    "\n",
    "fig = px.line(df_semanal_comparativo, x=df_semanal_comparativo.index, y=df_semanal_comparativo.columns,\n",
    "              title='Comparativo Semanal Kilos de Carga por Servicio', \n",
    "              labels={\n",
    "                     \"Guias_Fecha\": \"Semana\",\n",
    "                     \"value\": \"Kilos\",\n",
    "                     \"variable\": ' '\n",
    "                 }, \n",
    "              #width=800, height=600\n",
    "              )\n",
    "\n",
    "fig.show()"
   ]
  },
  {
   "cell_type": "markdown",
   "metadata": {},
   "source": [
    "En este gráfico se observa claramente como semana a semana hay grandes variaciones, las mismas son el resultado de diversos factores como: la cantidad de vuelos semanales que se esten coordinando en el momento, los regimenes aduaneros presentes y los limites que presentan para el comercio internacional, el tipo de cambio y la gestión en las distintas sedes: Miami, Shenzhen, Madrid y Amsterdam, donde de acuerdo al volumen, frecuencia de vuelos y cupos enviarán carga hacia Buenos Aires para realizar la nacionalización y liberacion de la carga. Del mismo modo, para exportación dependerá de las condiciones no solo aduaneras sino financieras y bancarias que permitiran o entorpeceran los procesos de exportacion, por ende la disposición del cliente a contratar este tipo de servicios."
   ]
  },
  {
   "cell_type": "markdown",
   "metadata": {},
   "source": [
    "#### Porcentaje de Variación semanal <a id='7'></a>"
   ]
  },
  {
   "cell_type": "code",
   "execution_count": 91,
   "metadata": {},
   "outputs": [
    {
     "data": {
      "application/vnd.plotly.v1+json": {
       "config": {
        "plotlyServerURL": "https://plot.ly"
       },
       "data": [
        {
         "fillpattern": {
          "shape": ""
         },
         "hovertemplate": "Servicio=Impo<br>Mes=%{x}<br>Variación=%{y}<extra></extra>",
         "legendgroup": "Impo",
         "line": {
          "color": "#636efa"
         },
         "marker": {
          "symbol": "circle"
         },
         "mode": "lines",
         "name": "Impo",
         "orientation": "v",
         "showlegend": true,
         "stackgroup": "1",
         "type": "scatter",
         "x": [
          "2019-01-06T00:00:00",
          "2019-01-13T00:00:00",
          "2019-01-20T00:00:00",
          "2019-01-27T00:00:00",
          "2019-02-03T00:00:00",
          "2019-02-10T00:00:00",
          "2019-02-17T00:00:00",
          "2019-02-24T00:00:00",
          "2019-03-03T00:00:00",
          "2019-03-10T00:00:00",
          "2019-03-17T00:00:00",
          "2019-03-24T00:00:00",
          "2019-03-31T00:00:00",
          "2019-04-07T00:00:00",
          "2019-04-14T00:00:00",
          "2019-04-21T00:00:00",
          "2019-04-28T00:00:00",
          "2019-05-05T00:00:00",
          "2019-05-12T00:00:00",
          "2019-05-19T00:00:00",
          "2019-05-26T00:00:00",
          "2019-06-02T00:00:00",
          "2019-06-09T00:00:00",
          "2019-06-16T00:00:00",
          "2019-06-23T00:00:00",
          "2019-06-30T00:00:00",
          "2019-07-07T00:00:00",
          "2019-07-14T00:00:00",
          "2019-07-21T00:00:00",
          "2019-07-28T00:00:00",
          "2019-08-04T00:00:00",
          "2019-08-11T00:00:00",
          "2019-08-18T00:00:00",
          "2019-08-25T00:00:00",
          "2019-09-01T00:00:00",
          "2019-09-08T00:00:00",
          "2019-09-15T00:00:00",
          "2019-09-22T00:00:00",
          "2019-09-29T00:00:00",
          "2019-10-06T00:00:00",
          "2019-10-13T00:00:00",
          "2019-10-20T00:00:00",
          "2019-10-27T00:00:00",
          "2019-11-03T00:00:00",
          "2019-11-10T00:00:00",
          "2019-11-17T00:00:00",
          "2019-11-24T00:00:00",
          "2019-12-01T00:00:00",
          "2019-12-08T00:00:00",
          "2019-12-15T00:00:00",
          "2019-12-22T00:00:00",
          "2019-12-29T00:00:00",
          "2020-01-05T00:00:00",
          "2020-01-12T00:00:00",
          "2020-01-19T00:00:00",
          "2020-01-26T00:00:00",
          "2020-02-02T00:00:00",
          "2020-02-09T00:00:00",
          "2020-02-16T00:00:00",
          "2020-02-23T00:00:00",
          "2020-03-01T00:00:00",
          "2020-03-08T00:00:00",
          "2020-03-15T00:00:00",
          "2020-03-22T00:00:00",
          "2020-03-29T00:00:00",
          "2020-04-05T00:00:00",
          "2020-04-12T00:00:00",
          "2020-04-19T00:00:00",
          "2020-04-26T00:00:00",
          "2020-05-03T00:00:00",
          "2020-05-10T00:00:00",
          "2020-05-17T00:00:00",
          "2020-05-24T00:00:00",
          "2020-05-31T00:00:00",
          "2020-06-07T00:00:00",
          "2020-06-14T00:00:00",
          "2020-06-21T00:00:00",
          "2020-06-28T00:00:00",
          "2020-07-05T00:00:00",
          "2020-07-12T00:00:00",
          "2020-07-19T00:00:00",
          "2020-07-26T00:00:00",
          "2020-08-02T00:00:00",
          "2020-08-09T00:00:00",
          "2020-08-16T00:00:00",
          "2020-08-23T00:00:00",
          "2020-08-30T00:00:00",
          "2020-09-06T00:00:00",
          "2020-09-13T00:00:00",
          "2020-09-20T00:00:00",
          "2020-09-27T00:00:00",
          "2020-10-04T00:00:00",
          "2020-10-11T00:00:00",
          "2020-10-18T00:00:00",
          "2020-10-25T00:00:00",
          "2020-11-01T00:00:00",
          "2020-11-08T00:00:00",
          "2020-11-15T00:00:00",
          "2020-11-22T00:00:00",
          "2020-11-29T00:00:00",
          "2020-12-06T00:00:00",
          "2020-12-13T00:00:00",
          "2020-12-20T00:00:00",
          "2020-12-27T00:00:00",
          "2021-01-03T00:00:00",
          "2021-01-10T00:00:00",
          "2021-01-17T00:00:00",
          "2021-01-24T00:00:00",
          "2021-01-31T00:00:00",
          "2021-02-07T00:00:00",
          "2021-02-14T00:00:00",
          "2021-02-21T00:00:00",
          "2021-02-28T00:00:00",
          "2021-03-07T00:00:00",
          "2021-03-14T00:00:00",
          "2021-03-21T00:00:00",
          "2021-03-28T00:00:00",
          "2021-04-04T00:00:00",
          "2021-04-11T00:00:00",
          "2021-04-18T00:00:00",
          "2021-04-25T00:00:00",
          "2021-05-02T00:00:00",
          "2021-05-09T00:00:00",
          "2021-05-16T00:00:00",
          "2021-05-23T00:00:00",
          "2021-05-30T00:00:00",
          "2021-06-06T00:00:00",
          "2021-06-13T00:00:00",
          "2021-06-20T00:00:00",
          "2021-06-27T00:00:00",
          "2021-07-04T00:00:00",
          "2021-07-11T00:00:00",
          "2021-07-18T00:00:00",
          "2021-07-25T00:00:00",
          "2021-08-01T00:00:00",
          "2021-08-08T00:00:00",
          "2021-08-15T00:00:00",
          "2021-08-22T00:00:00",
          "2021-08-29T00:00:00",
          "2021-09-05T00:00:00",
          "2021-09-12T00:00:00",
          "2021-09-19T00:00:00",
          "2021-09-26T00:00:00",
          "2021-10-03T00:00:00",
          "2021-10-10T00:00:00",
          "2021-10-17T00:00:00",
          "2021-10-24T00:00:00",
          "2021-10-31T00:00:00",
          "2021-11-07T00:00:00",
          "2021-11-14T00:00:00",
          "2021-11-21T00:00:00",
          "2021-11-28T00:00:00",
          "2021-12-05T00:00:00",
          "2021-12-12T00:00:00",
          "2021-12-19T00:00:00",
          "2021-12-26T00:00:00",
          "2022-01-02T00:00:00",
          "2022-01-09T00:00:00",
          "2022-01-16T00:00:00",
          "2022-01-23T00:00:00",
          "2022-01-30T00:00:00",
          "2022-02-06T00:00:00",
          "2022-02-13T00:00:00",
          "2022-02-20T00:00:00",
          "2022-02-27T00:00:00",
          "2022-03-06T00:00:00",
          "2022-03-13T00:00:00",
          "2022-03-20T00:00:00",
          "2022-03-27T00:00:00",
          "2022-04-03T00:00:00",
          "2022-04-10T00:00:00",
          "2022-04-17T00:00:00",
          "2022-04-24T00:00:00",
          "2022-05-01T00:00:00",
          "2022-05-08T00:00:00",
          "2022-05-15T00:00:00",
          "2022-05-22T00:00:00",
          "2022-05-29T00:00:00",
          "2022-06-05T00:00:00",
          "2022-06-12T00:00:00",
          "2022-06-19T00:00:00",
          "2022-06-26T00:00:00",
          "2022-07-03T00:00:00",
          "2022-07-10T00:00:00",
          "2022-07-17T00:00:00",
          "2022-07-24T00:00:00",
          "2022-07-31T00:00:00",
          "2022-08-07T00:00:00",
          "2022-08-14T00:00:00",
          "2022-08-21T00:00:00",
          "2022-08-28T00:00:00",
          "2022-09-04T00:00:00",
          "2022-09-11T00:00:00",
          "2022-09-18T00:00:00",
          "2022-09-25T00:00:00",
          "2022-10-02T00:00:00",
          "2022-10-09T00:00:00",
          "2022-10-16T00:00:00",
          "2022-10-23T00:00:00",
          "2022-10-30T00:00:00",
          "2022-11-06T00:00:00",
          "2022-11-13T00:00:00",
          "2022-11-20T00:00:00",
          "2022-11-27T00:00:00",
          "2022-12-04T00:00:00",
          "2022-12-11T00:00:00",
          "2022-12-18T00:00:00",
          "2022-12-25T00:00:00",
          "2023-01-01T00:00:00"
         ],
         "xaxis": "x",
         "y": [
          null,
          0.13063236540090872,
          0.4795512864182392,
          0.035100913206967954,
          0.09227187805818327,
          -0.19292744179732568,
          -0.0017661009536945604,
          0.0021399204690975004,
          0.19715846994535524,
          -0.16694990238901153,
          -0.13394814040530056,
          0.1695380482392106,
          0.22301674489829892,
          -0.12461688378853619,
          -0.019729477611940216,
          -0.44497311700052344,
          1.674724960708673,
          -0.2830922416187689,
          0.030430376728660002,
          -0.028736297110461995,
          0.19175389746720484,
          -0.293926558966478,
          0.33109781993205,
          -0.09630033367454105,
          -0.11332911634475351,
          0.02822065532973883,
          -0.025058087001419982,
          0.026726577627724568,
          0.22072152667965872,
          -0.18398014023319387,
          0.11103919220686742,
          -0.07767258957180312,
          0.28494638937577976,
          -0.3217699497860438,
          0.363030180036529,
          -0.2644900563649898,
          0.020242914979757165,
          0.13283021541950113,
          0.028008006755700032,
          0.05964677426715559,
          -0.2197593959057108,
          0.4255841766329347,
          -0.1228631720239286,
          -0.07207368932181701,
          -0.026367367132445696,
          -0.0642182410423453,
          0.052108533337974494,
          0.00287836429504873,
          -0.13407010309278355,
          0.046612187363087365,
          0.24597772277227725,
          -0.2253173432273332,
          -0.29984538220764034,
          -0.06956264138748247,
          0.6490781209296939,
          0.047512900621336174,
          -0.08463330038035566,
          -0.12866556836902798,
          0.19318921871389239,
          0.05547828230364282,
          -0.2617268299192633,
          0.2075105065750824,
          0.22569327495228486,
          -0.3643087773935745,
          0.016186359269932726,
          -0.5592475303681996,
          -0.42627345844504017,
          2.675046728971963,
          -0.11751392314930198,
          0.003717364993372163,
          0.22256036289512227,
          0.11596176878096887,
          0.30569642894720217,
          -0.014214801444043301,
          -0.2292777032992186,
          0.2080437826142294,
          -0.137992189585177,
          0.20115296082785017,
          0.022643634106549904,
          0.07620437472015373,
          0.0038184053919951833,
          -0.04468561955053407,
          0.05043947744765642,
          0.22329131738358932,
          0.11169328114644439,
          -0.08722061619104404,
          -0.1504306998410292,
          0.20934145633884538,
          -0.17996449647363633,
          0.37188450737186973,
          -0.03562099517021511,
          -0.096061999734666,
          -0.07079485830999355,
          0.17087816191200744,
          0.06607686859943551,
          0.021236885116254545,
          0.0846369090026744,
          -0.10079393789387514,
          0.10753350695547237,
          -0.21713342395096702,
          0.04447136077089242,
          0.32043052485267465,
          -0.3324241007716524,
          0.023038473933184145,
          -0.06502336615181181,
          0.051860992298147,
          0.17982627263859974,
          -0.03832364898607632,
          -0.15634816632279402,
          0.28544124086686606,
          0.12853699557574272,
          -0.1800967841758443,
          -0.2677395079594791,
          0.17494347736723115,
          0.16438625292677034,
          0.14913637088554044,
          -0.28272942122994915,
          -0.07894220280475261,
          0.6891256859715491,
          -0.023438823660883235,
          -0.18882728376787106,
          0.2846141594329856,
          -0.12143508067480058,
          0.1526818897971156,
          -0.15410184432143137,
          0.24279820075199554,
          -0.1825695628665308,
          -0.04924929325493488,
          -0.046804056180280496,
          0.23537476840154947,
          -0.31669216288859015,
          0.03036913867642177,
          0.4829455963231688,
          -0.10692459039228319,
          -0.03723192700616085,
          0.11405706093073853,
          -0.09490554342748392,
          0.11784871519375018,
          -0.09897487675524952,
          0.18743432530781123,
          -0.26254768877365975,
          0.09499207033211254,
          0.24819215976992726,
          0.158019641979525,
          -0.4653425320693343,
          0.8071012652096932,
          -0.18110596162078652,
          -0.06309834005807713,
          0.02924848255483914,
          0.13312893152916705,
          -0.01331852295608471,
          -0.1497934398277021,
          0.02044196703100498,
          0.005355598106587145,
          -0.03790049693524378,
          -0.07535135830407425,
          -0.28177161841563303,
          0.34867903401525235,
          -0.05847652064646047,
          -0.20522310693355772,
          1.1338556940921056,
          -0.2968068228287646,
          -0.20477817745803362,
          0.2035174616577331,
          0.03456880090287506,
          -0.2369114174420247,
          0.20041657023837067,
          -0.045347434520366714,
          -0.06557522716204967,
          0.21283330266493938,
          0.07392910528309415,
          -0.5091506428490158,
          1.0205664018358513,
          0.004928180492818068,
          0.040042618771285676,
          -0.14752687345875493,
          0.13686379072624555,
          -0.017647280895482953,
          -0.05121334458063753,
          -0.0715628882765913,
          0.030370850266014937,
          0.3773192253300477,
          -0.26861978065894543,
          -0.5811012452056954,
          1.4173111414918034,
          0.27293236437748614,
          -0.10926418078359135,
          0.1879007532284489,
          -0.28085822413431794,
          0.05920827083779723,
          0.1287281333919983,
          -0.12742151417556957,
          -0.035025776901431493,
          0.09096733408965618,
          -0.07244198183609574,
          -0.09062848044221528,
          -0.34242345389886375,
          0.7278091419124502,
          -0.23318047871826053,
          -0.0375729257236157,
          0.2557811400907548,
          -0.28760026315818366,
          -0.06700327616111013,
          -0.07313707831748362,
          0.0740767153082964,
          0.23114589471412805,
          0.29247954052122793,
          -0.24284797813580639,
          -0.04095944009699093
         ],
         "yaxis": "y"
        },
        {
         "fillpattern": {
          "shape": ""
         },
         "hovertemplate": "Servicio=Expo<br>Mes=%{x}<br>Variación=%{y}<extra></extra>",
         "legendgroup": "Expo",
         "line": {
          "color": "#EF553B"
         },
         "marker": {
          "symbol": "circle"
         },
         "mode": "lines",
         "name": "Expo",
         "orientation": "v",
         "showlegend": true,
         "stackgroup": "1",
         "type": "scatter",
         "x": [
          "2019-01-06T00:00:00",
          "2019-01-13T00:00:00",
          "2019-01-20T00:00:00",
          "2019-01-27T00:00:00",
          "2019-02-03T00:00:00",
          "2019-02-10T00:00:00",
          "2019-02-17T00:00:00",
          "2019-02-24T00:00:00",
          "2019-03-03T00:00:00",
          "2019-03-10T00:00:00",
          "2019-03-17T00:00:00",
          "2019-03-24T00:00:00",
          "2019-03-31T00:00:00",
          "2019-04-07T00:00:00",
          "2019-04-14T00:00:00",
          "2019-04-21T00:00:00",
          "2019-04-28T00:00:00",
          "2019-05-05T00:00:00",
          "2019-05-12T00:00:00",
          "2019-05-19T00:00:00",
          "2019-05-26T00:00:00",
          "2019-06-02T00:00:00",
          "2019-06-09T00:00:00",
          "2019-06-16T00:00:00",
          "2019-06-23T00:00:00",
          "2019-06-30T00:00:00",
          "2019-07-07T00:00:00",
          "2019-07-14T00:00:00",
          "2019-07-21T00:00:00",
          "2019-07-28T00:00:00",
          "2019-08-04T00:00:00",
          "2019-08-11T00:00:00",
          "2019-08-18T00:00:00",
          "2019-08-25T00:00:00",
          "2019-09-01T00:00:00",
          "2019-09-08T00:00:00",
          "2019-09-15T00:00:00",
          "2019-09-22T00:00:00",
          "2019-09-29T00:00:00",
          "2019-10-06T00:00:00",
          "2019-10-13T00:00:00",
          "2019-10-20T00:00:00",
          "2019-10-27T00:00:00",
          "2019-11-03T00:00:00",
          "2019-11-10T00:00:00",
          "2019-11-17T00:00:00",
          "2019-11-24T00:00:00",
          "2019-12-01T00:00:00",
          "2019-12-08T00:00:00",
          "2019-12-15T00:00:00",
          "2019-12-22T00:00:00",
          "2019-12-29T00:00:00",
          "2020-01-05T00:00:00",
          "2020-01-12T00:00:00",
          "2020-01-19T00:00:00",
          "2020-01-26T00:00:00",
          "2020-02-02T00:00:00",
          "2020-02-09T00:00:00",
          "2020-02-16T00:00:00",
          "2020-02-23T00:00:00",
          "2020-03-01T00:00:00",
          "2020-03-08T00:00:00",
          "2020-03-15T00:00:00",
          "2020-03-22T00:00:00",
          "2020-03-29T00:00:00",
          "2020-04-05T00:00:00",
          "2020-04-12T00:00:00",
          "2020-04-19T00:00:00",
          "2020-04-26T00:00:00",
          "2020-05-03T00:00:00",
          "2020-05-10T00:00:00",
          "2020-05-17T00:00:00",
          "2020-05-24T00:00:00",
          "2020-05-31T00:00:00",
          "2020-06-07T00:00:00",
          "2020-06-14T00:00:00",
          "2020-06-21T00:00:00",
          "2020-06-28T00:00:00",
          "2020-07-05T00:00:00",
          "2020-07-12T00:00:00",
          "2020-07-19T00:00:00",
          "2020-07-26T00:00:00",
          "2020-08-02T00:00:00",
          "2020-08-09T00:00:00",
          "2020-08-16T00:00:00",
          "2020-08-23T00:00:00",
          "2020-08-30T00:00:00",
          "2020-09-06T00:00:00",
          "2020-09-13T00:00:00",
          "2020-09-20T00:00:00",
          "2020-09-27T00:00:00",
          "2020-10-04T00:00:00",
          "2020-10-11T00:00:00",
          "2020-10-18T00:00:00",
          "2020-10-25T00:00:00",
          "2020-11-01T00:00:00",
          "2020-11-08T00:00:00",
          "2020-11-15T00:00:00",
          "2020-11-22T00:00:00",
          "2020-11-29T00:00:00",
          "2020-12-06T00:00:00",
          "2020-12-13T00:00:00",
          "2020-12-20T00:00:00",
          "2020-12-27T00:00:00",
          "2021-01-03T00:00:00",
          "2021-01-10T00:00:00",
          "2021-01-17T00:00:00",
          "2021-01-24T00:00:00",
          "2021-01-31T00:00:00",
          "2021-02-07T00:00:00",
          "2021-02-14T00:00:00",
          "2021-02-21T00:00:00",
          "2021-02-28T00:00:00",
          "2021-03-07T00:00:00",
          "2021-03-14T00:00:00",
          "2021-03-21T00:00:00",
          "2021-03-28T00:00:00",
          "2021-04-04T00:00:00",
          "2021-04-11T00:00:00",
          "2021-04-18T00:00:00",
          "2021-04-25T00:00:00",
          "2021-05-02T00:00:00",
          "2021-05-09T00:00:00",
          "2021-05-16T00:00:00",
          "2021-05-23T00:00:00",
          "2021-05-30T00:00:00",
          "2021-06-06T00:00:00",
          "2021-06-13T00:00:00",
          "2021-06-20T00:00:00",
          "2021-06-27T00:00:00",
          "2021-07-04T00:00:00",
          "2021-07-11T00:00:00",
          "2021-07-18T00:00:00",
          "2021-07-25T00:00:00",
          "2021-08-01T00:00:00",
          "2021-08-08T00:00:00",
          "2021-08-15T00:00:00",
          "2021-08-22T00:00:00",
          "2021-08-29T00:00:00",
          "2021-09-05T00:00:00",
          "2021-09-12T00:00:00",
          "2021-09-19T00:00:00",
          "2021-09-26T00:00:00",
          "2021-10-03T00:00:00",
          "2021-10-10T00:00:00",
          "2021-10-17T00:00:00",
          "2021-10-24T00:00:00",
          "2021-10-31T00:00:00",
          "2021-11-07T00:00:00",
          "2021-11-14T00:00:00",
          "2021-11-21T00:00:00",
          "2021-11-28T00:00:00",
          "2021-12-05T00:00:00",
          "2021-12-12T00:00:00",
          "2021-12-19T00:00:00",
          "2021-12-26T00:00:00",
          "2022-01-02T00:00:00",
          "2022-01-09T00:00:00",
          "2022-01-16T00:00:00",
          "2022-01-23T00:00:00",
          "2022-01-30T00:00:00",
          "2022-02-06T00:00:00",
          "2022-02-13T00:00:00",
          "2022-02-20T00:00:00",
          "2022-02-27T00:00:00",
          "2022-03-06T00:00:00",
          "2022-03-13T00:00:00",
          "2022-03-20T00:00:00",
          "2022-03-27T00:00:00",
          "2022-04-03T00:00:00",
          "2022-04-10T00:00:00",
          "2022-04-17T00:00:00",
          "2022-04-24T00:00:00",
          "2022-05-01T00:00:00",
          "2022-05-08T00:00:00",
          "2022-05-15T00:00:00",
          "2022-05-22T00:00:00",
          "2022-05-29T00:00:00",
          "2022-06-05T00:00:00",
          "2022-06-12T00:00:00",
          "2022-06-19T00:00:00",
          "2022-06-26T00:00:00",
          "2022-07-03T00:00:00",
          "2022-07-10T00:00:00",
          "2022-07-17T00:00:00",
          "2022-07-24T00:00:00",
          "2022-07-31T00:00:00",
          "2022-08-07T00:00:00",
          "2022-08-14T00:00:00",
          "2022-08-21T00:00:00",
          "2022-08-28T00:00:00",
          "2022-09-04T00:00:00",
          "2022-09-11T00:00:00",
          "2022-09-18T00:00:00",
          "2022-09-25T00:00:00",
          "2022-10-02T00:00:00",
          "2022-10-09T00:00:00",
          "2022-10-16T00:00:00",
          "2022-10-23T00:00:00",
          "2022-10-30T00:00:00",
          "2022-11-06T00:00:00",
          "2022-11-13T00:00:00",
          "2022-11-20T00:00:00",
          "2022-11-27T00:00:00",
          "2022-12-04T00:00:00",
          "2022-12-11T00:00:00",
          "2022-12-18T00:00:00",
          "2022-12-25T00:00:00",
          "2023-01-01T00:00:00"
         ],
         "xaxis": "x2",
         "y": [
          null,
          0.5970490505832178,
          -0.43981435959961457,
          0.2656392613915608,
          0.23515380134801545,
          0.7188834744335404,
          -0.5313259371129657,
          -0.28627975692702234,
          1.9846117794094673,
          -0.7962783637362925,
          2.2043936279547793,
          0.12769113578960023,
          0.7337350682593855,
          -0.19868352250007693,
          -0.18532195079508862,
          -0.7057310235429002,
          4.715078670395593,
          -0.47607956667911844,
          0.27882726634272936,
          -0.11033675289919709,
          1.494203171022122,
          -0.44034547738693464,
          -0.3654556270132552,
          -0.02705179000990532,
          -0.053022728181709056,
          1.296218084085237,
          -0.39575787977593846,
          -0.4750212387960163,
          0.840177112434769,
          1.0738040676024059,
          -0.10920555551718658,
          -0.6243502908960094,
          2.8135293777708066,
          -0.7704452415847457,
          2.765202097361323,
          -0.42999765813534974,
          0.19673867191619498,
          0.22449504128893438,
          -0.27509070736753727,
          0.4727404343329886,
          -0.1635274621877062,
          -0.31432759092519313,
          0.2938382243116513,
          0.7670180352377891,
          -0.6344421715521951,
          0.1773529627188164,
          -0.02411287513064242,
          0.06571639850065014,
          -0.4916040981763019,
          2.995025414156626,
          -0.2372149569482943,
          -0.6178996138996139,
          0.5865567276989614,
          0.19737344916312138,
          -0.09959468516292391,
          0.13542456787060342,
          0.7061389451952735,
          -0.5097571388492456,
          0.6985066159748796,
          -0.08445447087776858,
          -0.765291493596677,
          5.282868634535414,
          -0.7307716512194645,
          0.5915044533107645,
          -0.9396809318814889,
          0.8375314861460956,
          -0.43477267534841213,
          14.870250606305579,
          -0.6419784529964598,
          2.243074624742121,
          -0.8484904985752798,
          0.10612422180396686,
          1.5918848167539266,
          0.6065043934956065,
          -0.2682321136677982,
          -0.12818420035224887,
          0.018329637841832946,
          1.045531523685102,
          -0.5131401537551745,
          -0.30560684092896695,
          0.7910789252728798,
          -0.1032537571147858,
          0.426726203441516,
          0.03396894703897657,
          -0.41444053982222484,
          -0.16142177035423233,
          0.7025499158046669,
          -0.2969975273754857,
          0.18907647472615818,
          0.6906824424255229,
          0.3580029992501874,
          -0.23800514229658576,
          -0.2174291097048452,
          0.09842592592592592,
          -0.1290145831577173,
          -0.07108637793370431,
          0.8756129749253316,
          -0.4950228121111573,
          0.027940745086535657,
          0.20753370906756063,
          0.719927921540825,
          -0.6186902083369116,
          0.7246970857168598,
          -0.04667014886393306,
          0.5557899350738296,
          -0.6383493863464282,
          0.26055943715461205,
          -0.4270374662031672,
          3.5398409060266953,
          -0.7861130909954859,
          0.11941127464593171,
          0.2442942197965765,
          0.928874046752729,
          0.04625442517894518,
          -0.0038528983180616816,
          1.112709195943768,
          -0.7323965314703698,
          0.4232337850282857,
          0.4745485918530843,
          0.290314491693658,
          -0.1473569994169852,
          0.49284886702501485,
          -0.5032380370752064,
          0.23522180104497492,
          -0.17276271045865477,
          -0.290029075596551,
          0.8981818181818184,
          -0.06532381058661607,
          -0.31215151889011383,
          -0.09355743917609272,
          0.2522580027447099,
          0.029449244335703506,
          0.11342452187906171,
          -0.06343665228798845,
          -0.09206808955153012,
          0.006877075543236577,
          -0.45360463304420084,
          1.5741106014876776,
          -0.17696369880719387,
          0.09236326109391135,
          -0.037686636133987816,
          0.06914802800068287,
          -0.3719658256148196,
          0.8678723539507978,
          -0.3998927969778957,
          -0.01586491429543624,
          0.33889417120465604,
          -0.04594460823344593,
          -0.5768259123922949,
          0.8456905282234422,
          0.26736361798596486,
          -0.17860316736926063,
          0.009293422476211566,
          0.3531416634599527,
          -0.16252285191956128,
          -0.43178345339445534,
          0.588658385623426,
          -0.22086384093504396,
          0.18286059143029565,
          0.19279883381924212,
          -0.26676117615427863,
          0.769692323077436,
          -0.3616945129876247,
          0.9459969899961638,
          -0.41971976222249174,
          -0.6903778811477552,
          1.6936191762322759,
          0.32258569906624035,
          -0.06311450164656818,
          -0.3959034011885194,
          0.7781824270584785,
          -0.031286047223333835,
          -0.3607290400972054,
          0.4176233558883904,
          -0.14638528370696113,
          -0.2577670970376653,
          1.6727457411914082,
          -0.8038172423567267,
          1.0843490192913068,
          -0.19285133408201993,
          1.3429352780309936,
          -0.2517887201077942,
          -0.26003065301877504,
          -0.126090172726264,
          0.6150398469605847,
          -0.19279350104821802,
          1.0831282667272668,
          -0.38946274229895306,
          -0.06363828967150886,
          -0.382247907750184,
          1.776797140461586,
          -0.6635518474374256,
          0.08355769684946401,
          0.06534437663469927,
          -0.0782765252260732,
          1.1776391725117645,
          -0.4645030425963489,
          -0.2679305619004112,
          0.30176807072282896,
          0.9719570167379057,
          -0.2479641033951867,
          -0.3043489972658828,
          0.5089874152952565,
          -0.1455647479060601,
          -0.6257320479322461,
          0.9588749799390146,
          -0.3668967494828257,
          1.0549983824005178,
          -0.2750850125944585
         ],
         "yaxis": "y2"
        }
       ],
       "layout": {
        "annotations": [
         {
          "font": {},
          "showarrow": false,
          "text": "Servicio=Impo",
          "x": 0.245,
          "xanchor": "center",
          "xref": "paper",
          "y": 1,
          "yanchor": "bottom",
          "yref": "paper"
         },
         {
          "font": {},
          "showarrow": false,
          "text": "Servicio=Expo",
          "x": 0.755,
          "xanchor": "center",
          "xref": "paper",
          "y": 1,
          "yanchor": "bottom",
          "yref": "paper"
         }
        ],
        "legend": {
         "title": {
          "text": "Servicio"
         },
         "tracegroupgap": 0
        },
        "template": {
         "data": {
          "bar": [
           {
            "error_x": {
             "color": "#2a3f5f"
            },
            "error_y": {
             "color": "#2a3f5f"
            },
            "marker": {
             "line": {
              "color": "#E5ECF6",
              "width": 0.5
             },
             "pattern": {
              "fillmode": "overlay",
              "size": 10,
              "solidity": 0.2
             }
            },
            "type": "bar"
           }
          ],
          "barpolar": [
           {
            "marker": {
             "line": {
              "color": "#E5ECF6",
              "width": 0.5
             },
             "pattern": {
              "fillmode": "overlay",
              "size": 10,
              "solidity": 0.2
             }
            },
            "type": "barpolar"
           }
          ],
          "carpet": [
           {
            "aaxis": {
             "endlinecolor": "#2a3f5f",
             "gridcolor": "white",
             "linecolor": "white",
             "minorgridcolor": "white",
             "startlinecolor": "#2a3f5f"
            },
            "baxis": {
             "endlinecolor": "#2a3f5f",
             "gridcolor": "white",
             "linecolor": "white",
             "minorgridcolor": "white",
             "startlinecolor": "#2a3f5f"
            },
            "type": "carpet"
           }
          ],
          "choropleth": [
           {
            "colorbar": {
             "outlinewidth": 0,
             "ticks": ""
            },
            "type": "choropleth"
           }
          ],
          "contour": [
           {
            "colorbar": {
             "outlinewidth": 0,
             "ticks": ""
            },
            "colorscale": [
             [
              0,
              "#0d0887"
             ],
             [
              0.1111111111111111,
              "#46039f"
             ],
             [
              0.2222222222222222,
              "#7201a8"
             ],
             [
              0.3333333333333333,
              "#9c179e"
             ],
             [
              0.4444444444444444,
              "#bd3786"
             ],
             [
              0.5555555555555556,
              "#d8576b"
             ],
             [
              0.6666666666666666,
              "#ed7953"
             ],
             [
              0.7777777777777778,
              "#fb9f3a"
             ],
             [
              0.8888888888888888,
              "#fdca26"
             ],
             [
              1,
              "#f0f921"
             ]
            ],
            "type": "contour"
           }
          ],
          "contourcarpet": [
           {
            "colorbar": {
             "outlinewidth": 0,
             "ticks": ""
            },
            "type": "contourcarpet"
           }
          ],
          "heatmap": [
           {
            "colorbar": {
             "outlinewidth": 0,
             "ticks": ""
            },
            "colorscale": [
             [
              0,
              "#0d0887"
             ],
             [
              0.1111111111111111,
              "#46039f"
             ],
             [
              0.2222222222222222,
              "#7201a8"
             ],
             [
              0.3333333333333333,
              "#9c179e"
             ],
             [
              0.4444444444444444,
              "#bd3786"
             ],
             [
              0.5555555555555556,
              "#d8576b"
             ],
             [
              0.6666666666666666,
              "#ed7953"
             ],
             [
              0.7777777777777778,
              "#fb9f3a"
             ],
             [
              0.8888888888888888,
              "#fdca26"
             ],
             [
              1,
              "#f0f921"
             ]
            ],
            "type": "heatmap"
           }
          ],
          "heatmapgl": [
           {
            "colorbar": {
             "outlinewidth": 0,
             "ticks": ""
            },
            "colorscale": [
             [
              0,
              "#0d0887"
             ],
             [
              0.1111111111111111,
              "#46039f"
             ],
             [
              0.2222222222222222,
              "#7201a8"
             ],
             [
              0.3333333333333333,
              "#9c179e"
             ],
             [
              0.4444444444444444,
              "#bd3786"
             ],
             [
              0.5555555555555556,
              "#d8576b"
             ],
             [
              0.6666666666666666,
              "#ed7953"
             ],
             [
              0.7777777777777778,
              "#fb9f3a"
             ],
             [
              0.8888888888888888,
              "#fdca26"
             ],
             [
              1,
              "#f0f921"
             ]
            ],
            "type": "heatmapgl"
           }
          ],
          "histogram": [
           {
            "marker": {
             "pattern": {
              "fillmode": "overlay",
              "size": 10,
              "solidity": 0.2
             }
            },
            "type": "histogram"
           }
          ],
          "histogram2d": [
           {
            "colorbar": {
             "outlinewidth": 0,
             "ticks": ""
            },
            "colorscale": [
             [
              0,
              "#0d0887"
             ],
             [
              0.1111111111111111,
              "#46039f"
             ],
             [
              0.2222222222222222,
              "#7201a8"
             ],
             [
              0.3333333333333333,
              "#9c179e"
             ],
             [
              0.4444444444444444,
              "#bd3786"
             ],
             [
              0.5555555555555556,
              "#d8576b"
             ],
             [
              0.6666666666666666,
              "#ed7953"
             ],
             [
              0.7777777777777778,
              "#fb9f3a"
             ],
             [
              0.8888888888888888,
              "#fdca26"
             ],
             [
              1,
              "#f0f921"
             ]
            ],
            "type": "histogram2d"
           }
          ],
          "histogram2dcontour": [
           {
            "colorbar": {
             "outlinewidth": 0,
             "ticks": ""
            },
            "colorscale": [
             [
              0,
              "#0d0887"
             ],
             [
              0.1111111111111111,
              "#46039f"
             ],
             [
              0.2222222222222222,
              "#7201a8"
             ],
             [
              0.3333333333333333,
              "#9c179e"
             ],
             [
              0.4444444444444444,
              "#bd3786"
             ],
             [
              0.5555555555555556,
              "#d8576b"
             ],
             [
              0.6666666666666666,
              "#ed7953"
             ],
             [
              0.7777777777777778,
              "#fb9f3a"
             ],
             [
              0.8888888888888888,
              "#fdca26"
             ],
             [
              1,
              "#f0f921"
             ]
            ],
            "type": "histogram2dcontour"
           }
          ],
          "mesh3d": [
           {
            "colorbar": {
             "outlinewidth": 0,
             "ticks": ""
            },
            "type": "mesh3d"
           }
          ],
          "parcoords": [
           {
            "line": {
             "colorbar": {
              "outlinewidth": 0,
              "ticks": ""
             }
            },
            "type": "parcoords"
           }
          ],
          "pie": [
           {
            "automargin": true,
            "type": "pie"
           }
          ],
          "scatter": [
           {
            "fillpattern": {
             "fillmode": "overlay",
             "size": 10,
             "solidity": 0.2
            },
            "type": "scatter"
           }
          ],
          "scatter3d": [
           {
            "line": {
             "colorbar": {
              "outlinewidth": 0,
              "ticks": ""
             }
            },
            "marker": {
             "colorbar": {
              "outlinewidth": 0,
              "ticks": ""
             }
            },
            "type": "scatter3d"
           }
          ],
          "scattercarpet": [
           {
            "marker": {
             "colorbar": {
              "outlinewidth": 0,
              "ticks": ""
             }
            },
            "type": "scattercarpet"
           }
          ],
          "scattergeo": [
           {
            "marker": {
             "colorbar": {
              "outlinewidth": 0,
              "ticks": ""
             }
            },
            "type": "scattergeo"
           }
          ],
          "scattergl": [
           {
            "marker": {
             "colorbar": {
              "outlinewidth": 0,
              "ticks": ""
             }
            },
            "type": "scattergl"
           }
          ],
          "scattermapbox": [
           {
            "marker": {
             "colorbar": {
              "outlinewidth": 0,
              "ticks": ""
             }
            },
            "type": "scattermapbox"
           }
          ],
          "scatterpolar": [
           {
            "marker": {
             "colorbar": {
              "outlinewidth": 0,
              "ticks": ""
             }
            },
            "type": "scatterpolar"
           }
          ],
          "scatterpolargl": [
           {
            "marker": {
             "colorbar": {
              "outlinewidth": 0,
              "ticks": ""
             }
            },
            "type": "scatterpolargl"
           }
          ],
          "scatterternary": [
           {
            "marker": {
             "colorbar": {
              "outlinewidth": 0,
              "ticks": ""
             }
            },
            "type": "scatterternary"
           }
          ],
          "surface": [
           {
            "colorbar": {
             "outlinewidth": 0,
             "ticks": ""
            },
            "colorscale": [
             [
              0,
              "#0d0887"
             ],
             [
              0.1111111111111111,
              "#46039f"
             ],
             [
              0.2222222222222222,
              "#7201a8"
             ],
             [
              0.3333333333333333,
              "#9c179e"
             ],
             [
              0.4444444444444444,
              "#bd3786"
             ],
             [
              0.5555555555555556,
              "#d8576b"
             ],
             [
              0.6666666666666666,
              "#ed7953"
             ],
             [
              0.7777777777777778,
              "#fb9f3a"
             ],
             [
              0.8888888888888888,
              "#fdca26"
             ],
             [
              1,
              "#f0f921"
             ]
            ],
            "type": "surface"
           }
          ],
          "table": [
           {
            "cells": {
             "fill": {
              "color": "#EBF0F8"
             },
             "line": {
              "color": "white"
             }
            },
            "header": {
             "fill": {
              "color": "#C8D4E3"
             },
             "line": {
              "color": "white"
             }
            },
            "type": "table"
           }
          ]
         },
         "layout": {
          "annotationdefaults": {
           "arrowcolor": "#2a3f5f",
           "arrowhead": 0,
           "arrowwidth": 1
          },
          "autotypenumbers": "strict",
          "coloraxis": {
           "colorbar": {
            "outlinewidth": 0,
            "ticks": ""
           }
          },
          "colorscale": {
           "diverging": [
            [
             0,
             "#8e0152"
            ],
            [
             0.1,
             "#c51b7d"
            ],
            [
             0.2,
             "#de77ae"
            ],
            [
             0.3,
             "#f1b6da"
            ],
            [
             0.4,
             "#fde0ef"
            ],
            [
             0.5,
             "#f7f7f7"
            ],
            [
             0.6,
             "#e6f5d0"
            ],
            [
             0.7,
             "#b8e186"
            ],
            [
             0.8,
             "#7fbc41"
            ],
            [
             0.9,
             "#4d9221"
            ],
            [
             1,
             "#276419"
            ]
           ],
           "sequential": [
            [
             0,
             "#0d0887"
            ],
            [
             0.1111111111111111,
             "#46039f"
            ],
            [
             0.2222222222222222,
             "#7201a8"
            ],
            [
             0.3333333333333333,
             "#9c179e"
            ],
            [
             0.4444444444444444,
             "#bd3786"
            ],
            [
             0.5555555555555556,
             "#d8576b"
            ],
            [
             0.6666666666666666,
             "#ed7953"
            ],
            [
             0.7777777777777778,
             "#fb9f3a"
            ],
            [
             0.8888888888888888,
             "#fdca26"
            ],
            [
             1,
             "#f0f921"
            ]
           ],
           "sequentialminus": [
            [
             0,
             "#0d0887"
            ],
            [
             0.1111111111111111,
             "#46039f"
            ],
            [
             0.2222222222222222,
             "#7201a8"
            ],
            [
             0.3333333333333333,
             "#9c179e"
            ],
            [
             0.4444444444444444,
             "#bd3786"
            ],
            [
             0.5555555555555556,
             "#d8576b"
            ],
            [
             0.6666666666666666,
             "#ed7953"
            ],
            [
             0.7777777777777778,
             "#fb9f3a"
            ],
            [
             0.8888888888888888,
             "#fdca26"
            ],
            [
             1,
             "#f0f921"
            ]
           ]
          },
          "colorway": [
           "#636efa",
           "#EF553B",
           "#00cc96",
           "#ab63fa",
           "#FFA15A",
           "#19d3f3",
           "#FF6692",
           "#B6E880",
           "#FF97FF",
           "#FECB52"
          ],
          "font": {
           "color": "#2a3f5f"
          },
          "geo": {
           "bgcolor": "white",
           "lakecolor": "white",
           "landcolor": "#E5ECF6",
           "showlakes": true,
           "showland": true,
           "subunitcolor": "white"
          },
          "hoverlabel": {
           "align": "left"
          },
          "hovermode": "closest",
          "mapbox": {
           "style": "light"
          },
          "paper_bgcolor": "white",
          "plot_bgcolor": "#E5ECF6",
          "polar": {
           "angularaxis": {
            "gridcolor": "white",
            "linecolor": "white",
            "ticks": ""
           },
           "bgcolor": "#E5ECF6",
           "radialaxis": {
            "gridcolor": "white",
            "linecolor": "white",
            "ticks": ""
           }
          },
          "scene": {
           "xaxis": {
            "backgroundcolor": "#E5ECF6",
            "gridcolor": "white",
            "gridwidth": 2,
            "linecolor": "white",
            "showbackground": true,
            "ticks": "",
            "zerolinecolor": "white"
           },
           "yaxis": {
            "backgroundcolor": "#E5ECF6",
            "gridcolor": "white",
            "gridwidth": 2,
            "linecolor": "white",
            "showbackground": true,
            "ticks": "",
            "zerolinecolor": "white"
           },
           "zaxis": {
            "backgroundcolor": "#E5ECF6",
            "gridcolor": "white",
            "gridwidth": 2,
            "linecolor": "white",
            "showbackground": true,
            "ticks": "",
            "zerolinecolor": "white"
           }
          },
          "shapedefaults": {
           "line": {
            "color": "#2a3f5f"
           }
          },
          "ternary": {
           "aaxis": {
            "gridcolor": "white",
            "linecolor": "white",
            "ticks": ""
           },
           "baxis": {
            "gridcolor": "white",
            "linecolor": "white",
            "ticks": ""
           },
           "bgcolor": "#E5ECF6",
           "caxis": {
            "gridcolor": "white",
            "linecolor": "white",
            "ticks": ""
           }
          },
          "title": {
           "x": 0.05
          },
          "xaxis": {
           "automargin": true,
           "gridcolor": "white",
           "linecolor": "white",
           "ticks": "",
           "title": {
            "standoff": 15
           },
           "zerolinecolor": "white",
           "zerolinewidth": 2
          },
          "yaxis": {
           "automargin": true,
           "gridcolor": "white",
           "linecolor": "white",
           "ticks": "",
           "title": {
            "standoff": 15
           },
           "zerolinecolor": "white",
           "zerolinewidth": 2
          }
         }
        },
        "title": {
         "text": "Evolución Porcentaje de Variación Semanal de Kilos por Servicio"
        },
        "xaxis": {
         "anchor": "y",
         "domain": [
          0,
          0.49
         ],
         "title": {
          "text": "Mes"
         }
        },
        "xaxis2": {
         "anchor": "y2",
         "domain": [
          0.51,
          1
         ],
         "matches": "x",
         "title": {
          "text": "Mes"
         }
        },
        "yaxis": {
         "anchor": "x",
         "domain": [
          0,
          1
         ],
         "title": {
          "text": "Variación"
         }
        },
        "yaxis2": {
         "anchor": "x2",
         "domain": [
          0,
          1
         ],
         "matches": "y",
         "showticklabels": false
        }
       }
      },
      "text/html": [
       "<div>                            <div id=\"d79fdade-296f-41c6-9208-e1eb386a9568\" class=\"plotly-graph-div\" style=\"height:525px; width:100%;\"></div>            <script type=\"text/javascript\">                require([\"plotly\"], function(Plotly) {                    window.PLOTLYENV=window.PLOTLYENV || {};                                    if (document.getElementById(\"d79fdade-296f-41c6-9208-e1eb386a9568\")) {                    Plotly.newPlot(                        \"d79fdade-296f-41c6-9208-e1eb386a9568\",                        [{\"fillpattern\":{\"shape\":\"\"},\"hovertemplate\":\"Servicio=Impo<br>Mes=%{x}<br>Variación=%{y}<extra></extra>\",\"legendgroup\":\"Impo\",\"line\":{\"color\":\"#636efa\"},\"marker\":{\"symbol\":\"circle\"},\"mode\":\"lines\",\"name\":\"Impo\",\"orientation\":\"v\",\"showlegend\":true,\"stackgroup\":\"1\",\"x\":[\"2019-01-06T00:00:00\",\"2019-01-13T00:00:00\",\"2019-01-20T00:00:00\",\"2019-01-27T00:00:00\",\"2019-02-03T00:00:00\",\"2019-02-10T00:00:00\",\"2019-02-17T00:00:00\",\"2019-02-24T00:00:00\",\"2019-03-03T00:00:00\",\"2019-03-10T00:00:00\",\"2019-03-17T00:00:00\",\"2019-03-24T00:00:00\",\"2019-03-31T00:00:00\",\"2019-04-07T00:00:00\",\"2019-04-14T00:00:00\",\"2019-04-21T00:00:00\",\"2019-04-28T00:00:00\",\"2019-05-05T00:00:00\",\"2019-05-12T00:00:00\",\"2019-05-19T00:00:00\",\"2019-05-26T00:00:00\",\"2019-06-02T00:00:00\",\"2019-06-09T00:00:00\",\"2019-06-16T00:00:00\",\"2019-06-23T00:00:00\",\"2019-06-30T00:00:00\",\"2019-07-07T00:00:00\",\"2019-07-14T00:00:00\",\"2019-07-21T00:00:00\",\"2019-07-28T00:00:00\",\"2019-08-04T00:00:00\",\"2019-08-11T00:00:00\",\"2019-08-18T00:00:00\",\"2019-08-25T00:00:00\",\"2019-09-01T00:00:00\",\"2019-09-08T00:00:00\",\"2019-09-15T00:00:00\",\"2019-09-22T00:00:00\",\"2019-09-29T00:00:00\",\"2019-10-06T00:00:00\",\"2019-10-13T00:00:00\",\"2019-10-20T00:00:00\",\"2019-10-27T00:00:00\",\"2019-11-03T00:00:00\",\"2019-11-10T00:00:00\",\"2019-11-17T00:00:00\",\"2019-11-24T00:00:00\",\"2019-12-01T00:00:00\",\"2019-12-08T00:00:00\",\"2019-12-15T00:00:00\",\"2019-12-22T00:00:00\",\"2019-12-29T00:00:00\",\"2020-01-05T00:00:00\",\"2020-01-12T00:00:00\",\"2020-01-19T00:00:00\",\"2020-01-26T00:00:00\",\"2020-02-02T00:00:00\",\"2020-02-09T00:00:00\",\"2020-02-16T00:00:00\",\"2020-02-23T00:00:00\",\"2020-03-01T00:00:00\",\"2020-03-08T00:00:00\",\"2020-03-15T00:00:00\",\"2020-03-22T00:00:00\",\"2020-03-29T00:00:00\",\"2020-04-05T00:00:00\",\"2020-04-12T00:00:00\",\"2020-04-19T00:00:00\",\"2020-04-26T00:00:00\",\"2020-05-03T00:00:00\",\"2020-05-10T00:00:00\",\"2020-05-17T00:00:00\",\"2020-05-24T00:00:00\",\"2020-05-31T00:00:00\",\"2020-06-07T00:00:00\",\"2020-06-14T00:00:00\",\"2020-06-21T00:00:00\",\"2020-06-28T00:00:00\",\"2020-07-05T00:00:00\",\"2020-07-12T00:00:00\",\"2020-07-19T00:00:00\",\"2020-07-26T00:00:00\",\"2020-08-02T00:00:00\",\"2020-08-09T00:00:00\",\"2020-08-16T00:00:00\",\"2020-08-23T00:00:00\",\"2020-08-30T00:00:00\",\"2020-09-06T00:00:00\",\"2020-09-13T00:00:00\",\"2020-09-20T00:00:00\",\"2020-09-27T00:00:00\",\"2020-10-04T00:00:00\",\"2020-10-11T00:00:00\",\"2020-10-18T00:00:00\",\"2020-10-25T00:00:00\",\"2020-11-01T00:00:00\",\"2020-11-08T00:00:00\",\"2020-11-15T00:00:00\",\"2020-11-22T00:00:00\",\"2020-11-29T00:00:00\",\"2020-12-06T00:00:00\",\"2020-12-13T00:00:00\",\"2020-12-20T00:00:00\",\"2020-12-27T00:00:00\",\"2021-01-03T00:00:00\",\"2021-01-10T00:00:00\",\"2021-01-17T00:00:00\",\"2021-01-24T00:00:00\",\"2021-01-31T00:00:00\",\"2021-02-07T00:00:00\",\"2021-02-14T00:00:00\",\"2021-02-21T00:00:00\",\"2021-02-28T00:00:00\",\"2021-03-07T00:00:00\",\"2021-03-14T00:00:00\",\"2021-03-21T00:00:00\",\"2021-03-28T00:00:00\",\"2021-04-04T00:00:00\",\"2021-04-11T00:00:00\",\"2021-04-18T00:00:00\",\"2021-04-25T00:00:00\",\"2021-05-02T00:00:00\",\"2021-05-09T00:00:00\",\"2021-05-16T00:00:00\",\"2021-05-23T00:00:00\",\"2021-05-30T00:00:00\",\"2021-06-06T00:00:00\",\"2021-06-13T00:00:00\",\"2021-06-20T00:00:00\",\"2021-06-27T00:00:00\",\"2021-07-04T00:00:00\",\"2021-07-11T00:00:00\",\"2021-07-18T00:00:00\",\"2021-07-25T00:00:00\",\"2021-08-01T00:00:00\",\"2021-08-08T00:00:00\",\"2021-08-15T00:00:00\",\"2021-08-22T00:00:00\",\"2021-08-29T00:00:00\",\"2021-09-05T00:00:00\",\"2021-09-12T00:00:00\",\"2021-09-19T00:00:00\",\"2021-09-26T00:00:00\",\"2021-10-03T00:00:00\",\"2021-10-10T00:00:00\",\"2021-10-17T00:00:00\",\"2021-10-24T00:00:00\",\"2021-10-31T00:00:00\",\"2021-11-07T00:00:00\",\"2021-11-14T00:00:00\",\"2021-11-21T00:00:00\",\"2021-11-28T00:00:00\",\"2021-12-05T00:00:00\",\"2021-12-12T00:00:00\",\"2021-12-19T00:00:00\",\"2021-12-26T00:00:00\",\"2022-01-02T00:00:00\",\"2022-01-09T00:00:00\",\"2022-01-16T00:00:00\",\"2022-01-23T00:00:00\",\"2022-01-30T00:00:00\",\"2022-02-06T00:00:00\",\"2022-02-13T00:00:00\",\"2022-02-20T00:00:00\",\"2022-02-27T00:00:00\",\"2022-03-06T00:00:00\",\"2022-03-13T00:00:00\",\"2022-03-20T00:00:00\",\"2022-03-27T00:00:00\",\"2022-04-03T00:00:00\",\"2022-04-10T00:00:00\",\"2022-04-17T00:00:00\",\"2022-04-24T00:00:00\",\"2022-05-01T00:00:00\",\"2022-05-08T00:00:00\",\"2022-05-15T00:00:00\",\"2022-05-22T00:00:00\",\"2022-05-29T00:00:00\",\"2022-06-05T00:00:00\",\"2022-06-12T00:00:00\",\"2022-06-19T00:00:00\",\"2022-06-26T00:00:00\",\"2022-07-03T00:00:00\",\"2022-07-10T00:00:00\",\"2022-07-17T00:00:00\",\"2022-07-24T00:00:00\",\"2022-07-31T00:00:00\",\"2022-08-07T00:00:00\",\"2022-08-14T00:00:00\",\"2022-08-21T00:00:00\",\"2022-08-28T00:00:00\",\"2022-09-04T00:00:00\",\"2022-09-11T00:00:00\",\"2022-09-18T00:00:00\",\"2022-09-25T00:00:00\",\"2022-10-02T00:00:00\",\"2022-10-09T00:00:00\",\"2022-10-16T00:00:00\",\"2022-10-23T00:00:00\",\"2022-10-30T00:00:00\",\"2022-11-06T00:00:00\",\"2022-11-13T00:00:00\",\"2022-11-20T00:00:00\",\"2022-11-27T00:00:00\",\"2022-12-04T00:00:00\",\"2022-12-11T00:00:00\",\"2022-12-18T00:00:00\",\"2022-12-25T00:00:00\",\"2023-01-01T00:00:00\"],\"xaxis\":\"x\",\"y\":[null,0.13063236540090872,0.4795512864182392,0.035100913206967954,0.09227187805818327,-0.19292744179732568,-0.0017661009536945604,0.0021399204690975004,0.19715846994535524,-0.16694990238901153,-0.13394814040530056,0.1695380482392106,0.22301674489829892,-0.12461688378853619,-0.019729477611940216,-0.44497311700052344,1.674724960708673,-0.2830922416187689,0.030430376728660002,-0.028736297110461995,0.19175389746720484,-0.293926558966478,0.33109781993205,-0.09630033367454105,-0.11332911634475351,0.02822065532973883,-0.025058087001419982,0.026726577627724568,0.22072152667965872,-0.18398014023319387,0.11103919220686742,-0.07767258957180312,0.28494638937577976,-0.3217699497860438,0.363030180036529,-0.2644900563649898,0.020242914979757165,0.13283021541950113,0.028008006755700032,0.05964677426715559,-0.2197593959057108,0.4255841766329347,-0.1228631720239286,-0.07207368932181701,-0.026367367132445696,-0.0642182410423453,0.052108533337974494,0.00287836429504873,-0.13407010309278355,0.046612187363087365,0.24597772277227725,-0.2253173432273332,-0.29984538220764034,-0.06956264138748247,0.6490781209296939,0.047512900621336174,-0.08463330038035566,-0.12866556836902798,0.19318921871389239,0.05547828230364282,-0.2617268299192633,0.2075105065750824,0.22569327495228486,-0.3643087773935745,0.016186359269932726,-0.5592475303681996,-0.42627345844504017,2.675046728971963,-0.11751392314930198,0.003717364993372163,0.22256036289512227,0.11596176878096887,0.30569642894720217,-0.014214801444043301,-0.2292777032992186,0.2080437826142294,-0.137992189585177,0.20115296082785017,0.022643634106549904,0.07620437472015373,0.0038184053919951833,-0.04468561955053407,0.05043947744765642,0.22329131738358932,0.11169328114644439,-0.08722061619104404,-0.1504306998410292,0.20934145633884538,-0.17996449647363633,0.37188450737186973,-0.03562099517021511,-0.096061999734666,-0.07079485830999355,0.17087816191200744,0.06607686859943551,0.021236885116254545,0.0846369090026744,-0.10079393789387514,0.10753350695547237,-0.21713342395096702,0.04447136077089242,0.32043052485267465,-0.3324241007716524,0.023038473933184145,-0.06502336615181181,0.051860992298147,0.17982627263859974,-0.03832364898607632,-0.15634816632279402,0.28544124086686606,0.12853699557574272,-0.1800967841758443,-0.2677395079594791,0.17494347736723115,0.16438625292677034,0.14913637088554044,-0.28272942122994915,-0.07894220280475261,0.6891256859715491,-0.023438823660883235,-0.18882728376787106,0.2846141594329856,-0.12143508067480058,0.1526818897971156,-0.15410184432143137,0.24279820075199554,-0.1825695628665308,-0.04924929325493488,-0.046804056180280496,0.23537476840154947,-0.31669216288859015,0.03036913867642177,0.4829455963231688,-0.10692459039228319,-0.03723192700616085,0.11405706093073853,-0.09490554342748392,0.11784871519375018,-0.09897487675524952,0.18743432530781123,-0.26254768877365975,0.09499207033211254,0.24819215976992726,0.158019641979525,-0.4653425320693343,0.8071012652096932,-0.18110596162078652,-0.06309834005807713,0.02924848255483914,0.13312893152916705,-0.01331852295608471,-0.1497934398277021,0.02044196703100498,0.005355598106587145,-0.03790049693524378,-0.07535135830407425,-0.28177161841563303,0.34867903401525235,-0.05847652064646047,-0.20522310693355772,1.1338556940921056,-0.2968068228287646,-0.20477817745803362,0.2035174616577331,0.03456880090287506,-0.2369114174420247,0.20041657023837067,-0.045347434520366714,-0.06557522716204967,0.21283330266493938,0.07392910528309415,-0.5091506428490158,1.0205664018358513,0.004928180492818068,0.040042618771285676,-0.14752687345875493,0.13686379072624555,-0.017647280895482953,-0.05121334458063753,-0.0715628882765913,0.030370850266014937,0.3773192253300477,-0.26861978065894543,-0.5811012452056954,1.4173111414918034,0.27293236437748614,-0.10926418078359135,0.1879007532284489,-0.28085822413431794,0.05920827083779723,0.1287281333919983,-0.12742151417556957,-0.035025776901431493,0.09096733408965618,-0.07244198183609574,-0.09062848044221528,-0.34242345389886375,0.7278091419124502,-0.23318047871826053,-0.0375729257236157,0.2557811400907548,-0.28760026315818366,-0.06700327616111013,-0.07313707831748362,0.0740767153082964,0.23114589471412805,0.29247954052122793,-0.24284797813580639,-0.04095944009699093],\"yaxis\":\"y\",\"type\":\"scatter\"},{\"fillpattern\":{\"shape\":\"\"},\"hovertemplate\":\"Servicio=Expo<br>Mes=%{x}<br>Variación=%{y}<extra></extra>\",\"legendgroup\":\"Expo\",\"line\":{\"color\":\"#EF553B\"},\"marker\":{\"symbol\":\"circle\"},\"mode\":\"lines\",\"name\":\"Expo\",\"orientation\":\"v\",\"showlegend\":true,\"stackgroup\":\"1\",\"x\":[\"2019-01-06T00:00:00\",\"2019-01-13T00:00:00\",\"2019-01-20T00:00:00\",\"2019-01-27T00:00:00\",\"2019-02-03T00:00:00\",\"2019-02-10T00:00:00\",\"2019-02-17T00:00:00\",\"2019-02-24T00:00:00\",\"2019-03-03T00:00:00\",\"2019-03-10T00:00:00\",\"2019-03-17T00:00:00\",\"2019-03-24T00:00:00\",\"2019-03-31T00:00:00\",\"2019-04-07T00:00:00\",\"2019-04-14T00:00:00\",\"2019-04-21T00:00:00\",\"2019-04-28T00:00:00\",\"2019-05-05T00:00:00\",\"2019-05-12T00:00:00\",\"2019-05-19T00:00:00\",\"2019-05-26T00:00:00\",\"2019-06-02T00:00:00\",\"2019-06-09T00:00:00\",\"2019-06-16T00:00:00\",\"2019-06-23T00:00:00\",\"2019-06-30T00:00:00\",\"2019-07-07T00:00:00\",\"2019-07-14T00:00:00\",\"2019-07-21T00:00:00\",\"2019-07-28T00:00:00\",\"2019-08-04T00:00:00\",\"2019-08-11T00:00:00\",\"2019-08-18T00:00:00\",\"2019-08-25T00:00:00\",\"2019-09-01T00:00:00\",\"2019-09-08T00:00:00\",\"2019-09-15T00:00:00\",\"2019-09-22T00:00:00\",\"2019-09-29T00:00:00\",\"2019-10-06T00:00:00\",\"2019-10-13T00:00:00\",\"2019-10-20T00:00:00\",\"2019-10-27T00:00:00\",\"2019-11-03T00:00:00\",\"2019-11-10T00:00:00\",\"2019-11-17T00:00:00\",\"2019-11-24T00:00:00\",\"2019-12-01T00:00:00\",\"2019-12-08T00:00:00\",\"2019-12-15T00:00:00\",\"2019-12-22T00:00:00\",\"2019-12-29T00:00:00\",\"2020-01-05T00:00:00\",\"2020-01-12T00:00:00\",\"2020-01-19T00:00:00\",\"2020-01-26T00:00:00\",\"2020-02-02T00:00:00\",\"2020-02-09T00:00:00\",\"2020-02-16T00:00:00\",\"2020-02-23T00:00:00\",\"2020-03-01T00:00:00\",\"2020-03-08T00:00:00\",\"2020-03-15T00:00:00\",\"2020-03-22T00:00:00\",\"2020-03-29T00:00:00\",\"2020-04-05T00:00:00\",\"2020-04-12T00:00:00\",\"2020-04-19T00:00:00\",\"2020-04-26T00:00:00\",\"2020-05-03T00:00:00\",\"2020-05-10T00:00:00\",\"2020-05-17T00:00:00\",\"2020-05-24T00:00:00\",\"2020-05-31T00:00:00\",\"2020-06-07T00:00:00\",\"2020-06-14T00:00:00\",\"2020-06-21T00:00:00\",\"2020-06-28T00:00:00\",\"2020-07-05T00:00:00\",\"2020-07-12T00:00:00\",\"2020-07-19T00:00:00\",\"2020-07-26T00:00:00\",\"2020-08-02T00:00:00\",\"2020-08-09T00:00:00\",\"2020-08-16T00:00:00\",\"2020-08-23T00:00:00\",\"2020-08-30T00:00:00\",\"2020-09-06T00:00:00\",\"2020-09-13T00:00:00\",\"2020-09-20T00:00:00\",\"2020-09-27T00:00:00\",\"2020-10-04T00:00:00\",\"2020-10-11T00:00:00\",\"2020-10-18T00:00:00\",\"2020-10-25T00:00:00\",\"2020-11-01T00:00:00\",\"2020-11-08T00:00:00\",\"2020-11-15T00:00:00\",\"2020-11-22T00:00:00\",\"2020-11-29T00:00:00\",\"2020-12-06T00:00:00\",\"2020-12-13T00:00:00\",\"2020-12-20T00:00:00\",\"2020-12-27T00:00:00\",\"2021-01-03T00:00:00\",\"2021-01-10T00:00:00\",\"2021-01-17T00:00:00\",\"2021-01-24T00:00:00\",\"2021-01-31T00:00:00\",\"2021-02-07T00:00:00\",\"2021-02-14T00:00:00\",\"2021-02-21T00:00:00\",\"2021-02-28T00:00:00\",\"2021-03-07T00:00:00\",\"2021-03-14T00:00:00\",\"2021-03-21T00:00:00\",\"2021-03-28T00:00:00\",\"2021-04-04T00:00:00\",\"2021-04-11T00:00:00\",\"2021-04-18T00:00:00\",\"2021-04-25T00:00:00\",\"2021-05-02T00:00:00\",\"2021-05-09T00:00:00\",\"2021-05-16T00:00:00\",\"2021-05-23T00:00:00\",\"2021-05-30T00:00:00\",\"2021-06-06T00:00:00\",\"2021-06-13T00:00:00\",\"2021-06-20T00:00:00\",\"2021-06-27T00:00:00\",\"2021-07-04T00:00:00\",\"2021-07-11T00:00:00\",\"2021-07-18T00:00:00\",\"2021-07-25T00:00:00\",\"2021-08-01T00:00:00\",\"2021-08-08T00:00:00\",\"2021-08-15T00:00:00\",\"2021-08-22T00:00:00\",\"2021-08-29T00:00:00\",\"2021-09-05T00:00:00\",\"2021-09-12T00:00:00\",\"2021-09-19T00:00:00\",\"2021-09-26T00:00:00\",\"2021-10-03T00:00:00\",\"2021-10-10T00:00:00\",\"2021-10-17T00:00:00\",\"2021-10-24T00:00:00\",\"2021-10-31T00:00:00\",\"2021-11-07T00:00:00\",\"2021-11-14T00:00:00\",\"2021-11-21T00:00:00\",\"2021-11-28T00:00:00\",\"2021-12-05T00:00:00\",\"2021-12-12T00:00:00\",\"2021-12-19T00:00:00\",\"2021-12-26T00:00:00\",\"2022-01-02T00:00:00\",\"2022-01-09T00:00:00\",\"2022-01-16T00:00:00\",\"2022-01-23T00:00:00\",\"2022-01-30T00:00:00\",\"2022-02-06T00:00:00\",\"2022-02-13T00:00:00\",\"2022-02-20T00:00:00\",\"2022-02-27T00:00:00\",\"2022-03-06T00:00:00\",\"2022-03-13T00:00:00\",\"2022-03-20T00:00:00\",\"2022-03-27T00:00:00\",\"2022-04-03T00:00:00\",\"2022-04-10T00:00:00\",\"2022-04-17T00:00:00\",\"2022-04-24T00:00:00\",\"2022-05-01T00:00:00\",\"2022-05-08T00:00:00\",\"2022-05-15T00:00:00\",\"2022-05-22T00:00:00\",\"2022-05-29T00:00:00\",\"2022-06-05T00:00:00\",\"2022-06-12T00:00:00\",\"2022-06-19T00:00:00\",\"2022-06-26T00:00:00\",\"2022-07-03T00:00:00\",\"2022-07-10T00:00:00\",\"2022-07-17T00:00:00\",\"2022-07-24T00:00:00\",\"2022-07-31T00:00:00\",\"2022-08-07T00:00:00\",\"2022-08-14T00:00:00\",\"2022-08-21T00:00:00\",\"2022-08-28T00:00:00\",\"2022-09-04T00:00:00\",\"2022-09-11T00:00:00\",\"2022-09-18T00:00:00\",\"2022-09-25T00:00:00\",\"2022-10-02T00:00:00\",\"2022-10-09T00:00:00\",\"2022-10-16T00:00:00\",\"2022-10-23T00:00:00\",\"2022-10-30T00:00:00\",\"2022-11-06T00:00:00\",\"2022-11-13T00:00:00\",\"2022-11-20T00:00:00\",\"2022-11-27T00:00:00\",\"2022-12-04T00:00:00\",\"2022-12-11T00:00:00\",\"2022-12-18T00:00:00\",\"2022-12-25T00:00:00\",\"2023-01-01T00:00:00\"],\"xaxis\":\"x2\",\"y\":[null,0.5970490505832178,-0.43981435959961457,0.2656392613915608,0.23515380134801545,0.7188834744335404,-0.5313259371129657,-0.28627975692702234,1.9846117794094673,-0.7962783637362925,2.2043936279547793,0.12769113578960023,0.7337350682593855,-0.19868352250007693,-0.18532195079508862,-0.7057310235429002,4.715078670395593,-0.47607956667911844,0.27882726634272936,-0.11033675289919709,1.494203171022122,-0.44034547738693464,-0.3654556270132552,-0.02705179000990532,-0.053022728181709056,1.296218084085237,-0.39575787977593846,-0.4750212387960163,0.840177112434769,1.0738040676024059,-0.10920555551718658,-0.6243502908960094,2.8135293777708066,-0.7704452415847457,2.765202097361323,-0.42999765813534974,0.19673867191619498,0.22449504128893438,-0.27509070736753727,0.4727404343329886,-0.1635274621877062,-0.31432759092519313,0.2938382243116513,0.7670180352377891,-0.6344421715521951,0.1773529627188164,-0.02411287513064242,0.06571639850065014,-0.4916040981763019,2.995025414156626,-0.2372149569482943,-0.6178996138996139,0.5865567276989614,0.19737344916312138,-0.09959468516292391,0.13542456787060342,0.7061389451952735,-0.5097571388492456,0.6985066159748796,-0.08445447087776858,-0.765291493596677,5.282868634535414,-0.7307716512194645,0.5915044533107645,-0.9396809318814889,0.8375314861460956,-0.43477267534841213,14.870250606305579,-0.6419784529964598,2.243074624742121,-0.8484904985752798,0.10612422180396686,1.5918848167539266,0.6065043934956065,-0.2682321136677982,-0.12818420035224887,0.018329637841832946,1.045531523685102,-0.5131401537551745,-0.30560684092896695,0.7910789252728798,-0.1032537571147858,0.426726203441516,0.03396894703897657,-0.41444053982222484,-0.16142177035423233,0.7025499158046669,-0.2969975273754857,0.18907647472615818,0.6906824424255229,0.3580029992501874,-0.23800514229658576,-0.2174291097048452,0.09842592592592592,-0.1290145831577173,-0.07108637793370431,0.8756129749253316,-0.4950228121111573,0.027940745086535657,0.20753370906756063,0.719927921540825,-0.6186902083369116,0.7246970857168598,-0.04667014886393306,0.5557899350738296,-0.6383493863464282,0.26055943715461205,-0.4270374662031672,3.5398409060266953,-0.7861130909954859,0.11941127464593171,0.2442942197965765,0.928874046752729,0.04625442517894518,-0.0038528983180616816,1.112709195943768,-0.7323965314703698,0.4232337850282857,0.4745485918530843,0.290314491693658,-0.1473569994169852,0.49284886702501485,-0.5032380370752064,0.23522180104497492,-0.17276271045865477,-0.290029075596551,0.8981818181818184,-0.06532381058661607,-0.31215151889011383,-0.09355743917609272,0.2522580027447099,0.029449244335703506,0.11342452187906171,-0.06343665228798845,-0.09206808955153012,0.006877075543236577,-0.45360463304420084,1.5741106014876776,-0.17696369880719387,0.09236326109391135,-0.037686636133987816,0.06914802800068287,-0.3719658256148196,0.8678723539507978,-0.3998927969778957,-0.01586491429543624,0.33889417120465604,-0.04594460823344593,-0.5768259123922949,0.8456905282234422,0.26736361798596486,-0.17860316736926063,0.009293422476211566,0.3531416634599527,-0.16252285191956128,-0.43178345339445534,0.588658385623426,-0.22086384093504396,0.18286059143029565,0.19279883381924212,-0.26676117615427863,0.769692323077436,-0.3616945129876247,0.9459969899961638,-0.41971976222249174,-0.6903778811477552,1.6936191762322759,0.32258569906624035,-0.06311450164656818,-0.3959034011885194,0.7781824270584785,-0.031286047223333835,-0.3607290400972054,0.4176233558883904,-0.14638528370696113,-0.2577670970376653,1.6727457411914082,-0.8038172423567267,1.0843490192913068,-0.19285133408201993,1.3429352780309936,-0.2517887201077942,-0.26003065301877504,-0.126090172726264,0.6150398469605847,-0.19279350104821802,1.0831282667272668,-0.38946274229895306,-0.06363828967150886,-0.382247907750184,1.776797140461586,-0.6635518474374256,0.08355769684946401,0.06534437663469927,-0.0782765252260732,1.1776391725117645,-0.4645030425963489,-0.2679305619004112,0.30176807072282896,0.9719570167379057,-0.2479641033951867,-0.3043489972658828,0.5089874152952565,-0.1455647479060601,-0.6257320479322461,0.9588749799390146,-0.3668967494828257,1.0549983824005178,-0.2750850125944585],\"yaxis\":\"y2\",\"type\":\"scatter\"}],                        {\"template\":{\"data\":{\"histogram2dcontour\":[{\"type\":\"histogram2dcontour\",\"colorbar\":{\"outlinewidth\":0,\"ticks\":\"\"},\"colorscale\":[[0.0,\"#0d0887\"],[0.1111111111111111,\"#46039f\"],[0.2222222222222222,\"#7201a8\"],[0.3333333333333333,\"#9c179e\"],[0.4444444444444444,\"#bd3786\"],[0.5555555555555556,\"#d8576b\"],[0.6666666666666666,\"#ed7953\"],[0.7777777777777778,\"#fb9f3a\"],[0.8888888888888888,\"#fdca26\"],[1.0,\"#f0f921\"]]}],\"choropleth\":[{\"type\":\"choropleth\",\"colorbar\":{\"outlinewidth\":0,\"ticks\":\"\"}}],\"histogram2d\":[{\"type\":\"histogram2d\",\"colorbar\":{\"outlinewidth\":0,\"ticks\":\"\"},\"colorscale\":[[0.0,\"#0d0887\"],[0.1111111111111111,\"#46039f\"],[0.2222222222222222,\"#7201a8\"],[0.3333333333333333,\"#9c179e\"],[0.4444444444444444,\"#bd3786\"],[0.5555555555555556,\"#d8576b\"],[0.6666666666666666,\"#ed7953\"],[0.7777777777777778,\"#fb9f3a\"],[0.8888888888888888,\"#fdca26\"],[1.0,\"#f0f921\"]]}],\"heatmap\":[{\"type\":\"heatmap\",\"colorbar\":{\"outlinewidth\":0,\"ticks\":\"\"},\"colorscale\":[[0.0,\"#0d0887\"],[0.1111111111111111,\"#46039f\"],[0.2222222222222222,\"#7201a8\"],[0.3333333333333333,\"#9c179e\"],[0.4444444444444444,\"#bd3786\"],[0.5555555555555556,\"#d8576b\"],[0.6666666666666666,\"#ed7953\"],[0.7777777777777778,\"#fb9f3a\"],[0.8888888888888888,\"#fdca26\"],[1.0,\"#f0f921\"]]}],\"heatmapgl\":[{\"type\":\"heatmapgl\",\"colorbar\":{\"outlinewidth\":0,\"ticks\":\"\"},\"colorscale\":[[0.0,\"#0d0887\"],[0.1111111111111111,\"#46039f\"],[0.2222222222222222,\"#7201a8\"],[0.3333333333333333,\"#9c179e\"],[0.4444444444444444,\"#bd3786\"],[0.5555555555555556,\"#d8576b\"],[0.6666666666666666,\"#ed7953\"],[0.7777777777777778,\"#fb9f3a\"],[0.8888888888888888,\"#fdca26\"],[1.0,\"#f0f921\"]]}],\"contourcarpet\":[{\"type\":\"contourcarpet\",\"colorbar\":{\"outlinewidth\":0,\"ticks\":\"\"}}],\"contour\":[{\"type\":\"contour\",\"colorbar\":{\"outlinewidth\":0,\"ticks\":\"\"},\"colorscale\":[[0.0,\"#0d0887\"],[0.1111111111111111,\"#46039f\"],[0.2222222222222222,\"#7201a8\"],[0.3333333333333333,\"#9c179e\"],[0.4444444444444444,\"#bd3786\"],[0.5555555555555556,\"#d8576b\"],[0.6666666666666666,\"#ed7953\"],[0.7777777777777778,\"#fb9f3a\"],[0.8888888888888888,\"#fdca26\"],[1.0,\"#f0f921\"]]}],\"surface\":[{\"type\":\"surface\",\"colorbar\":{\"outlinewidth\":0,\"ticks\":\"\"},\"colorscale\":[[0.0,\"#0d0887\"],[0.1111111111111111,\"#46039f\"],[0.2222222222222222,\"#7201a8\"],[0.3333333333333333,\"#9c179e\"],[0.4444444444444444,\"#bd3786\"],[0.5555555555555556,\"#d8576b\"],[0.6666666666666666,\"#ed7953\"],[0.7777777777777778,\"#fb9f3a\"],[0.8888888888888888,\"#fdca26\"],[1.0,\"#f0f921\"]]}],\"mesh3d\":[{\"type\":\"mesh3d\",\"colorbar\":{\"outlinewidth\":0,\"ticks\":\"\"}}],\"scatter\":[{\"fillpattern\":{\"fillmode\":\"overlay\",\"size\":10,\"solidity\":0.2},\"type\":\"scatter\"}],\"parcoords\":[{\"type\":\"parcoords\",\"line\":{\"colorbar\":{\"outlinewidth\":0,\"ticks\":\"\"}}}],\"scatterpolargl\":[{\"type\":\"scatterpolargl\",\"marker\":{\"colorbar\":{\"outlinewidth\":0,\"ticks\":\"\"}}}],\"bar\":[{\"error_x\":{\"color\":\"#2a3f5f\"},\"error_y\":{\"color\":\"#2a3f5f\"},\"marker\":{\"line\":{\"color\":\"#E5ECF6\",\"width\":0.5},\"pattern\":{\"fillmode\":\"overlay\",\"size\":10,\"solidity\":0.2}},\"type\":\"bar\"}],\"scattergeo\":[{\"type\":\"scattergeo\",\"marker\":{\"colorbar\":{\"outlinewidth\":0,\"ticks\":\"\"}}}],\"scatterpolar\":[{\"type\":\"scatterpolar\",\"marker\":{\"colorbar\":{\"outlinewidth\":0,\"ticks\":\"\"}}}],\"histogram\":[{\"marker\":{\"pattern\":{\"fillmode\":\"overlay\",\"size\":10,\"solidity\":0.2}},\"type\":\"histogram\"}],\"scattergl\":[{\"type\":\"scattergl\",\"marker\":{\"colorbar\":{\"outlinewidth\":0,\"ticks\":\"\"}}}],\"scatter3d\":[{\"type\":\"scatter3d\",\"line\":{\"colorbar\":{\"outlinewidth\":0,\"ticks\":\"\"}},\"marker\":{\"colorbar\":{\"outlinewidth\":0,\"ticks\":\"\"}}}],\"scattermapbox\":[{\"type\":\"scattermapbox\",\"marker\":{\"colorbar\":{\"outlinewidth\":0,\"ticks\":\"\"}}}],\"scatterternary\":[{\"type\":\"scatterternary\",\"marker\":{\"colorbar\":{\"outlinewidth\":0,\"ticks\":\"\"}}}],\"scattercarpet\":[{\"type\":\"scattercarpet\",\"marker\":{\"colorbar\":{\"outlinewidth\":0,\"ticks\":\"\"}}}],\"carpet\":[{\"aaxis\":{\"endlinecolor\":\"#2a3f5f\",\"gridcolor\":\"white\",\"linecolor\":\"white\",\"minorgridcolor\":\"white\",\"startlinecolor\":\"#2a3f5f\"},\"baxis\":{\"endlinecolor\":\"#2a3f5f\",\"gridcolor\":\"white\",\"linecolor\":\"white\",\"minorgridcolor\":\"white\",\"startlinecolor\":\"#2a3f5f\"},\"type\":\"carpet\"}],\"table\":[{\"cells\":{\"fill\":{\"color\":\"#EBF0F8\"},\"line\":{\"color\":\"white\"}},\"header\":{\"fill\":{\"color\":\"#C8D4E3\"},\"line\":{\"color\":\"white\"}},\"type\":\"table\"}],\"barpolar\":[{\"marker\":{\"line\":{\"color\":\"#E5ECF6\",\"width\":0.5},\"pattern\":{\"fillmode\":\"overlay\",\"size\":10,\"solidity\":0.2}},\"type\":\"barpolar\"}],\"pie\":[{\"automargin\":true,\"type\":\"pie\"}]},\"layout\":{\"autotypenumbers\":\"strict\",\"colorway\":[\"#636efa\",\"#EF553B\",\"#00cc96\",\"#ab63fa\",\"#FFA15A\",\"#19d3f3\",\"#FF6692\",\"#B6E880\",\"#FF97FF\",\"#FECB52\"],\"font\":{\"color\":\"#2a3f5f\"},\"hovermode\":\"closest\",\"hoverlabel\":{\"align\":\"left\"},\"paper_bgcolor\":\"white\",\"plot_bgcolor\":\"#E5ECF6\",\"polar\":{\"bgcolor\":\"#E5ECF6\",\"angularaxis\":{\"gridcolor\":\"white\",\"linecolor\":\"white\",\"ticks\":\"\"},\"radialaxis\":{\"gridcolor\":\"white\",\"linecolor\":\"white\",\"ticks\":\"\"}},\"ternary\":{\"bgcolor\":\"#E5ECF6\",\"aaxis\":{\"gridcolor\":\"white\",\"linecolor\":\"white\",\"ticks\":\"\"},\"baxis\":{\"gridcolor\":\"white\",\"linecolor\":\"white\",\"ticks\":\"\"},\"caxis\":{\"gridcolor\":\"white\",\"linecolor\":\"white\",\"ticks\":\"\"}},\"coloraxis\":{\"colorbar\":{\"outlinewidth\":0,\"ticks\":\"\"}},\"colorscale\":{\"sequential\":[[0.0,\"#0d0887\"],[0.1111111111111111,\"#46039f\"],[0.2222222222222222,\"#7201a8\"],[0.3333333333333333,\"#9c179e\"],[0.4444444444444444,\"#bd3786\"],[0.5555555555555556,\"#d8576b\"],[0.6666666666666666,\"#ed7953\"],[0.7777777777777778,\"#fb9f3a\"],[0.8888888888888888,\"#fdca26\"],[1.0,\"#f0f921\"]],\"sequentialminus\":[[0.0,\"#0d0887\"],[0.1111111111111111,\"#46039f\"],[0.2222222222222222,\"#7201a8\"],[0.3333333333333333,\"#9c179e\"],[0.4444444444444444,\"#bd3786\"],[0.5555555555555556,\"#d8576b\"],[0.6666666666666666,\"#ed7953\"],[0.7777777777777778,\"#fb9f3a\"],[0.8888888888888888,\"#fdca26\"],[1.0,\"#f0f921\"]],\"diverging\":[[0,\"#8e0152\"],[0.1,\"#c51b7d\"],[0.2,\"#de77ae\"],[0.3,\"#f1b6da\"],[0.4,\"#fde0ef\"],[0.5,\"#f7f7f7\"],[0.6,\"#e6f5d0\"],[0.7,\"#b8e186\"],[0.8,\"#7fbc41\"],[0.9,\"#4d9221\"],[1,\"#276419\"]]},\"xaxis\":{\"gridcolor\":\"white\",\"linecolor\":\"white\",\"ticks\":\"\",\"title\":{\"standoff\":15},\"zerolinecolor\":\"white\",\"automargin\":true,\"zerolinewidth\":2},\"yaxis\":{\"gridcolor\":\"white\",\"linecolor\":\"white\",\"ticks\":\"\",\"title\":{\"standoff\":15},\"zerolinecolor\":\"white\",\"automargin\":true,\"zerolinewidth\":2},\"scene\":{\"xaxis\":{\"backgroundcolor\":\"#E5ECF6\",\"gridcolor\":\"white\",\"linecolor\":\"white\",\"showbackground\":true,\"ticks\":\"\",\"zerolinecolor\":\"white\",\"gridwidth\":2},\"yaxis\":{\"backgroundcolor\":\"#E5ECF6\",\"gridcolor\":\"white\",\"linecolor\":\"white\",\"showbackground\":true,\"ticks\":\"\",\"zerolinecolor\":\"white\",\"gridwidth\":2},\"zaxis\":{\"backgroundcolor\":\"#E5ECF6\",\"gridcolor\":\"white\",\"linecolor\":\"white\",\"showbackground\":true,\"ticks\":\"\",\"zerolinecolor\":\"white\",\"gridwidth\":2}},\"shapedefaults\":{\"line\":{\"color\":\"#2a3f5f\"}},\"annotationdefaults\":{\"arrowcolor\":\"#2a3f5f\",\"arrowhead\":0,\"arrowwidth\":1},\"geo\":{\"bgcolor\":\"white\",\"landcolor\":\"#E5ECF6\",\"subunitcolor\":\"white\",\"showland\":true,\"showlakes\":true,\"lakecolor\":\"white\"},\"title\":{\"x\":0.05},\"mapbox\":{\"style\":\"light\"}}},\"xaxis\":{\"anchor\":\"y\",\"domain\":[0.0,0.49],\"title\":{\"text\":\"Mes\"}},\"yaxis\":{\"anchor\":\"x\",\"domain\":[0.0,1.0],\"title\":{\"text\":\"Variación\"}},\"xaxis2\":{\"anchor\":\"y2\",\"domain\":[0.51,1.0],\"matches\":\"x\",\"title\":{\"text\":\"Mes\"}},\"yaxis2\":{\"anchor\":\"x2\",\"domain\":[0.0,1.0],\"matches\":\"y\",\"showticklabels\":false},\"annotations\":[{\"font\":{},\"showarrow\":false,\"text\":\"Servicio=Impo\",\"x\":0.245,\"xanchor\":\"center\",\"xref\":\"paper\",\"y\":1.0,\"yanchor\":\"bottom\",\"yref\":\"paper\"},{\"font\":{},\"showarrow\":false,\"text\":\"Servicio=Expo\",\"x\":0.755,\"xanchor\":\"center\",\"xref\":\"paper\",\"y\":1.0,\"yanchor\":\"bottom\",\"yref\":\"paper\"}],\"legend\":{\"title\":{\"text\":\"Servicio\"},\"tracegroupgap\":0},\"title\":{\"text\":\"Evolución Porcentaje de Variación Semanal de Kilos por Servicio\"}},                        {\"responsive\": true}                    ).then(function(){\n",
       "                            \n",
       "var gd = document.getElementById('d79fdade-296f-41c6-9208-e1eb386a9568');\n",
       "var x = new MutationObserver(function (mutations, observer) {{\n",
       "        var display = window.getComputedStyle(gd).display;\n",
       "        if (!display || display === 'none') {{\n",
       "            console.log([gd, 'removed!']);\n",
       "            Plotly.purge(gd);\n",
       "            observer.disconnect();\n",
       "        }}\n",
       "}});\n",
       "\n",
       "// Listen for the removal of the full notebook cells\n",
       "var notebookContainer = gd.closest('#notebook-container');\n",
       "if (notebookContainer) {{\n",
       "    x.observe(notebookContainer, {childList: true});\n",
       "}}\n",
       "\n",
       "// Listen for the clearing of the current output cell\n",
       "var outputEl = gd.closest('.output');\n",
       "if (outputEl) {{\n",
       "    x.observe(outputEl, {childList: true});\n",
       "}}\n",
       "\n",
       "                        })                };                });            </script>        </div>"
      ]
     },
     "metadata": {},
     "output_type": "display_data"
    }
   ],
   "source": [
    "df_aumento_semanal = df_guias_impo_group_semanal[['Guias_Peso']].pct_change()\n",
    "df_aumento_semanal.rename(columns={'Guias_Peso': 'Impo'}, inplace=True)\n",
    "df_aumento_semanal['Expo']= df_guias_expo_group_semanal[['Guias_Peso']].pct_change()\n",
    "\n",
    "df_aumento_semanal.rename_axis('Servicio', axis=1, inplace=True)\n",
    "\n",
    "\n",
    "fig = px.area(df_aumento_semanal, facet_col=\"Servicio\", \n",
    "              facet_col_wrap=2, \n",
    "              title = 'Evolución Porcentaje de Variación Semanal de Kilos por Servicio', \n",
    "              labels={\n",
    "                     \"Guias_Fecha\": \"Mes\",\n",
    "                     \"value\": \"Variación\",\n",
    "                 },)\n",
    "fig.show()"
   ]
  },
  {
   "cell_type": "markdown",
   "metadata": {},
   "source": [
    "#### Variables exógenas que afectan el análisis <a id='6'></a>\n",
    "\n",
    "En un pais como Argentina donde la sensibilidad politica y economica es inestable, analizaremos como el cambio en la cotizacion del dolar afecta el servicio, si hay alguna tendencia evidente entre ellas y si existe algun impacto directo en las preferencias del consumidor respecto a los servicios.m"
   ]
  },
  {
   "cell_type": "code",
   "execution_count": null,
   "metadata": {},
   "outputs": [],
   "source": []
  },
  {
   "cell_type": "markdown",
   "metadata": {},
   "source": [
    "#### Limpieza por Motivos"
   ]
  },
  {
   "cell_type": "markdown",
   "metadata": {},
   "source": [
    "En esta parte del EDA asignamos cada guia con su motivo de venta correspondiente para conocer un poco mas cada motivo dentro de cada servicio (Importacion o Exportacion)"
   ]
  },
  {
   "cell_type": "code",
   "execution_count": 92,
   "metadata": {},
   "outputs": [],
   "source": [
    "dic_clientes= dict(df_clientes.values)\n",
    "dic_ciudades= dict(df_ciudades.values)\n",
    "dic_proveedores= dict(df_proveedores.values)\n",
    "dic_motivos= dict(df_motivos[['Motivos_Id', 'MotivosFac_Nombre']].values)\n",
    "dic_paises_cod= dict(df_paises[['Paises_Id', 'Paises_Codigo']].values )\n",
    "dic_paises_nombre= dict(df_paises[['Paises_Id', 'Paises_Nombre']].values)"
   ]
  },
  {
   "cell_type": "code",
   "execution_count": 93,
   "metadata": {},
   "outputs": [
    {
     "data": {
      "text/plain": [
       "Index(['index', 'Guias_Id', 'Guias_Numero', 'Guias_Fecha', 'Motivos_Id',\n",
       "       'Proveedores_Id', 'Guias_ContraGuia', 'Guias_GuiaMadre',\n",
       "       'Guias_Tracking', 'Paises_Id', 'Paises2_Id', 'Ciudades_Id',\n",
       "       'Ciudades2_Id', 'ZonasV_Id', 'ZonasIV_Id', 'Contenidos_Id',\n",
       "       'Guias_Bultos', 'Guias_Peso', 'Guias_VolLargo', 'Guias_VolAncho',\n",
       "       'Guias_VolAlto', 'Guias_PesoVol', 'Guias_FOB', 'Clientes_Id',\n",
       "       'Guias_ExpoTotVta', 'Guias_ImpoTotVta', 'Guias_VentaI',\n",
       "       'kilos_facturables'],\n",
       "      dtype='object')"
      ]
     },
     "execution_count": 93,
     "metadata": {},
     "output_type": "execute_result"
    }
   ],
   "source": [
    "df_guias_expo.columns"
   ]
  },
  {
   "cell_type": "code",
   "execution_count": 94,
   "metadata": {},
   "outputs": [],
   "source": [
    "df_guias_expo_new= df_guias_expo[['Guias_Fecha', 'Motivos_Id', 'Guias_Peso',\n",
    "                                  'Guias_ExpoTotVta', \n",
    "                                  'Proveedores_Id','Clientes_Id',\n",
    "                                  'Paises2_Id','Ciudades_Id']]\n",
    "df_guias_expo_new[['Servicio']]='Expo'\n",
    "df_guias_expo_new.reset_index(inplace=True)\n",
    "df_guias_expo_new.drop(columns='index', inplace=True)\n",
    "df_guias_expo_new.rename(columns={'Guias_ExpoTotVta': 'Venta', \n",
    "                                  'Paises2_Id': 'Pais', \n",
    "                                  'Ciudades_Id':'Ciudad',\n",
    "                                  'Proveedores_Id': 'Proveedor', \n",
    "                                  'Clientes_Id': 'Cliente', \n",
    "                                  'Motivos_Id':'Motivo'}, inplace=True)"
   ]
  },
  {
   "cell_type": "code",
   "execution_count": 95,
   "metadata": {},
   "outputs": [
    {
     "data": {
      "text/html": [
       "<div>\n",
       "<style scoped>\n",
       "    .dataframe tbody tr th:only-of-type {\n",
       "        vertical-align: middle;\n",
       "    }\n",
       "\n",
       "    .dataframe tbody tr th {\n",
       "        vertical-align: top;\n",
       "    }\n",
       "\n",
       "    .dataframe thead th {\n",
       "        text-align: right;\n",
       "    }\n",
       "</style>\n",
       "<table border=\"1\" class=\"dataframe\">\n",
       "  <thead>\n",
       "    <tr style=\"text-align: right;\">\n",
       "      <th></th>\n",
       "      <th>Guias_Fecha</th>\n",
       "      <th>Motivo</th>\n",
       "      <th>Guias_Peso</th>\n",
       "      <th>Venta</th>\n",
       "      <th>Proveedor</th>\n",
       "      <th>Cliente</th>\n",
       "      <th>Pais</th>\n",
       "      <th>Ciudad</th>\n",
       "      <th>Servicio</th>\n",
       "      <th>Paises_Codigo</th>\n",
       "    </tr>\n",
       "  </thead>\n",
       "  <tbody>\n",
       "    <tr>\n",
       "      <th>0</th>\n",
       "      <td>2019-08-30</td>\n",
       "      <td>Exporta Simple - Puerta-Aeropuerto</td>\n",
       "      <td>144.0</td>\n",
       "      <td>1298.10</td>\n",
       "      <td>AIR CLASS CARGO S.A.</td>\n",
       "      <td>COLL FLORIT MARIA INES</td>\n",
       "      <td>ESPAÑA</td>\n",
       "      <td>CAPITAL FEDERAL</td>\n",
       "      <td>Expo</td>\n",
       "      <td>ESP</td>\n",
       "    </tr>\n",
       "    <tr>\n",
       "      <th>1</th>\n",
       "      <td>2019-01-02</td>\n",
       "      <td>3-Expo - PTY FEDEX</td>\n",
       "      <td>2.8</td>\n",
       "      <td>129.99</td>\n",
       "      <td>FEDERAL EXPRESS CORP.</td>\n",
       "      <td>ALMANZA AGUSTIN</td>\n",
       "      <td>AUSTRALIA</td>\n",
       "      <td>CAPITAL FEDERAL</td>\n",
       "      <td>Expo</td>\n",
       "      <td>ALI</td>\n",
       "    </tr>\n",
       "    <tr>\n",
       "      <th>2</th>\n",
       "      <td>2019-01-02</td>\n",
       "      <td>6-Expo-UPS Express</td>\n",
       "      <td>1.0</td>\n",
       "      <td>55.78</td>\n",
       "      <td>UPS DE ARGENTINA S.A.</td>\n",
       "      <td>EDITORIAL PGQ SA</td>\n",
       "      <td>CANADA</td>\n",
       "      <td>CAPITAL FEDERAL</td>\n",
       "      <td>Expo</td>\n",
       "      <td>CAN</td>\n",
       "    </tr>\n",
       "    <tr>\n",
       "      <th>3</th>\n",
       "      <td>2019-01-02</td>\n",
       "      <td>2-Expo - PTY FEDEX PAK</td>\n",
       "      <td>1.2</td>\n",
       "      <td>43.60</td>\n",
       "      <td>FEDERAL EXPRESS CORP.</td>\n",
       "      <td>BANCO ITAU ARGENTINA S A</td>\n",
       "      <td>BRASIL</td>\n",
       "      <td>CAPITAL FEDERAL</td>\n",
       "      <td>Expo</td>\n",
       "      <td>BRA</td>\n",
       "    </tr>\n",
       "    <tr>\n",
       "      <th>4</th>\n",
       "      <td>2019-01-02</td>\n",
       "      <td>1-Expo - PTY FEDEX Envelope</td>\n",
       "      <td>0.5</td>\n",
       "      <td>22.71</td>\n",
       "      <td>FEDERAL EXPRESS CORP.</td>\n",
       "      <td>NAVICON S.A.</td>\n",
       "      <td>URUGUAY</td>\n",
       "      <td>CAPITAL FEDERAL</td>\n",
       "      <td>Expo</td>\n",
       "      <td>URU</td>\n",
       "    </tr>\n",
       "  </tbody>\n",
       "</table>\n",
       "</div>"
      ],
      "text/plain": [
       "  Guias_Fecha                              Motivo  Guias_Peso    Venta  \\\n",
       "0  2019-08-30  Exporta Simple - Puerta-Aeropuerto       144.0  1298.10   \n",
       "1  2019-01-02                  3-Expo - PTY FEDEX         2.8   129.99   \n",
       "2  2019-01-02                  6-Expo-UPS Express         1.0    55.78   \n",
       "3  2019-01-02              2-Expo - PTY FEDEX PAK         1.2    43.60   \n",
       "4  2019-01-02         1-Expo - PTY FEDEX Envelope         0.5    22.71   \n",
       "\n",
       "               Proveedor                    Cliente       Pais  \\\n",
       "0   AIR CLASS CARGO S.A.     COLL FLORIT MARIA INES     ESPAÑA   \n",
       "1  FEDERAL EXPRESS CORP.            ALMANZA AGUSTIN  AUSTRALIA   \n",
       "2  UPS DE ARGENTINA S.A.           EDITORIAL PGQ SA     CANADA   \n",
       "3  FEDERAL EXPRESS CORP.  BANCO ITAU ARGENTINA S A      BRASIL   \n",
       "4  FEDERAL EXPRESS CORP.               NAVICON S.A.    URUGUAY   \n",
       "\n",
       "            Ciudad Servicio Paises_Codigo  \n",
       "0  CAPITAL FEDERAL     Expo           ESP  \n",
       "1  CAPITAL FEDERAL     Expo           ALI  \n",
       "2  CAPITAL FEDERAL     Expo           CAN  \n",
       "3  CAPITAL FEDERAL     Expo           BRA  \n",
       "4  CAPITAL FEDERAL     Expo           URU  "
      ]
     },
     "execution_count": 95,
     "metadata": {},
     "output_type": "execute_result"
    }
   ],
   "source": [
    "df_guias_expo_new['Motivo']= df_guias_expo_new['Motivo'].map(dic_motivos)\n",
    "df_guias_expo_new['Cliente']=df_guias_expo_new['Cliente'].map(dic_clientes)\n",
    "df_guias_expo_new['Proveedor']=df_guias_expo_new['Proveedor'].map(dic_proveedores)\n",
    "df_guias_expo_new['Ciudad']=df_guias_expo_new['Ciudad'].map(dic_ciudades)\n",
    "df_guias_expo_new['Paises_Codigo']= df_guias_expo_new['Pais'].map(dic_paises_cod)\n",
    "df_guias_expo_new['Pais']= df_guias_expo_new['Pais'].map(dic_paises_nombre)\n",
    "df_guias_expo_new.head()"
   ]
  },
  {
   "cell_type": "code",
   "execution_count": 96,
   "metadata": {},
   "outputs": [],
   "source": [
    "df_guias_impo_new=df_guias_impo[['Guias_Fecha', 'Motivos_Id', 'Guias_Peso',\n",
    "                                'Proveedores_Id','Clientes_Id', 'Guias_VentaI',\n",
    "                                'Paises_Id','Ciudades2_Id']]\n",
    "\n",
    "df_guias_impo_new[['Servicio']]='Impo'\n",
    "\n",
    "df_guias_impo_new.reset_index(inplace=True)\n",
    "df_guias_impo_new.dropna(inplace=True)\n",
    "df_guias_impo_new.drop(columns='index', inplace=True)\n",
    "df_guias_impo_new.rename(columns={'Guias_VentaI': 'Venta', \n",
    "                                  'Paises_Id': 'Pais', \n",
    "                                  'Ciudades2_Id':'Ciudad',\n",
    "                                  'Proveedores_Id': 'Proveedor', \n",
    "                                  'Clientes_Id': 'Cliente', \n",
    "                                  'Motivos_Id':'Motivo'}, inplace=True)"
   ]
  },
  {
   "cell_type": "code",
   "execution_count": 97,
   "metadata": {},
   "outputs": [
    {
     "data": {
      "text/html": [
       "<div>\n",
       "<style scoped>\n",
       "    .dataframe tbody tr th:only-of-type {\n",
       "        vertical-align: middle;\n",
       "    }\n",
       "\n",
       "    .dataframe tbody tr th {\n",
       "        vertical-align: top;\n",
       "    }\n",
       "\n",
       "    .dataframe thead th {\n",
       "        text-align: right;\n",
       "    }\n",
       "</style>\n",
       "<table border=\"1\" class=\"dataframe\">\n",
       "  <thead>\n",
       "    <tr style=\"text-align: right;\">\n",
       "      <th></th>\n",
       "      <th>Guias_Fecha</th>\n",
       "      <th>Motivo</th>\n",
       "      <th>Guias_Peso</th>\n",
       "      <th>Proveedor</th>\n",
       "      <th>Cliente</th>\n",
       "      <th>Venta</th>\n",
       "      <th>Pais</th>\n",
       "      <th>Ciudad</th>\n",
       "      <th>Servicio</th>\n",
       "      <th>Paises_Codigo</th>\n",
       "    </tr>\n",
       "  </thead>\n",
       "  <tbody>\n",
       "    <tr>\n",
       "      <th>0</th>\n",
       "      <td>2019-01-02</td>\n",
       "      <td>USA FLAT</td>\n",
       "      <td>13.0</td>\n",
       "      <td>RAICO INTERNATIONAL</td>\n",
       "      <td>HTM S.A.</td>\n",
       "      <td>161.36</td>\n",
       "      <td>ESTADOS UNIDOS</td>\n",
       "      <td>CAPITAL FEDERAL</td>\n",
       "      <td>Impo</td>\n",
       "      <td>EST</td>\n",
       "    </tr>\n",
       "    <tr>\n",
       "      <th>1</th>\n",
       "      <td>2019-01-02</td>\n",
       "      <td>NO USAR IB IMPO MUNDIAL  Geobox 53</td>\n",
       "      <td>23.0</td>\n",
       "      <td>EUROPA GEOBOX , S.L.</td>\n",
       "      <td>HTM S.A.</td>\n",
       "      <td>434.01</td>\n",
       "      <td>INGLATERRA</td>\n",
       "      <td>CAPITAL FEDERAL</td>\n",
       "      <td>Impo</td>\n",
       "      <td>ING</td>\n",
       "    </tr>\n",
       "    <tr>\n",
       "      <th>2</th>\n",
       "      <td>2019-01-02</td>\n",
       "      <td>USA FLAT</td>\n",
       "      <td>1.0</td>\n",
       "      <td>RAICO INTERNATIONAL</td>\n",
       "      <td>TRACK-MAR SACI</td>\n",
       "      <td>92.83</td>\n",
       "      <td>ESTADOS UNIDOS</td>\n",
       "      <td>CAPITAL FEDERAL</td>\n",
       "      <td>Impo</td>\n",
       "      <td>EST</td>\n",
       "    </tr>\n",
       "    <tr>\n",
       "      <th>3</th>\n",
       "      <td>2019-01-02</td>\n",
       "      <td>ORIENTE FEDEX</td>\n",
       "      <td>32.0</td>\n",
       "      <td>TNT ARGENTINA S.R.L.</td>\n",
       "      <td>INDUSTRIAS MOVILIFT S.R.L.</td>\n",
       "      <td>567.92</td>\n",
       "      <td>CHINA</td>\n",
       "      <td>CAPITAL FEDERAL</td>\n",
       "      <td>Impo</td>\n",
       "      <td>CHN</td>\n",
       "    </tr>\n",
       "    <tr>\n",
       "      <th>4</th>\n",
       "      <td>2019-01-02</td>\n",
       "      <td>USA FLAT</td>\n",
       "      <td>5.0</td>\n",
       "      <td>RAICO INTERNATIONAL</td>\n",
       "      <td>TRACK-MAR SACI</td>\n",
       "      <td>92.24</td>\n",
       "      <td>ESTADOS UNIDOS</td>\n",
       "      <td>CAPITAL FEDERAL</td>\n",
       "      <td>Impo</td>\n",
       "      <td>EST</td>\n",
       "    </tr>\n",
       "  </tbody>\n",
       "</table>\n",
       "</div>"
      ],
      "text/plain": [
       "  Guias_Fecha                              Motivo  Guias_Peso  \\\n",
       "0  2019-01-02                            USA FLAT        13.0   \n",
       "1  2019-01-02  NO USAR IB IMPO MUNDIAL  Geobox 53        23.0   \n",
       "2  2019-01-02                            USA FLAT         1.0   \n",
       "3  2019-01-02                       ORIENTE FEDEX        32.0   \n",
       "4  2019-01-02                            USA FLAT         5.0   \n",
       "\n",
       "              Proveedor                     Cliente   Venta            Pais  \\\n",
       "0   RAICO INTERNATIONAL                    HTM S.A.  161.36  ESTADOS UNIDOS   \n",
       "1  EUROPA GEOBOX , S.L.                    HTM S.A.  434.01      INGLATERRA   \n",
       "2   RAICO INTERNATIONAL              TRACK-MAR SACI   92.83  ESTADOS UNIDOS   \n",
       "3  TNT ARGENTINA S.R.L.  INDUSTRIAS MOVILIFT S.R.L.  567.92           CHINA   \n",
       "4   RAICO INTERNATIONAL              TRACK-MAR SACI   92.24  ESTADOS UNIDOS   \n",
       "\n",
       "            Ciudad Servicio Paises_Codigo  \n",
       "0  CAPITAL FEDERAL     Impo           EST  \n",
       "1  CAPITAL FEDERAL     Impo           ING  \n",
       "2  CAPITAL FEDERAL     Impo           EST  \n",
       "3  CAPITAL FEDERAL     Impo           CHN  \n",
       "4  CAPITAL FEDERAL     Impo           EST  "
      ]
     },
     "execution_count": 97,
     "metadata": {},
     "output_type": "execute_result"
    }
   ],
   "source": [
    "df_guias_impo_new['Motivo']= df_guias_impo_new['Motivo'].map(dic_motivos)\n",
    "df_guias_impo_new['Cliente']=df_guias_impo_new['Cliente'].map(dic_clientes)\n",
    "df_guias_impo_new['Proveedor']=df_guias_impo_new['Proveedor'].map(dic_proveedores)\n",
    "df_guias_impo_new['Ciudad']=df_guias_impo_new['Ciudad'].map(dic_ciudades)\n",
    "df_guias_impo_new['Paises_Codigo']= df_guias_impo_new['Pais'].map(dic_paises_cod)\n",
    "df_guias_impo_new['Pais']= df_guias_impo_new['Pais'].map(dic_paises_nombre)\n",
    "df_guias_impo_new.head()"
   ]
  },
  {
   "cell_type": "markdown",
   "metadata": {},
   "source": [
    "### Análisis de los servicios por motivo \n",
    "\n",
    "Antes de comenzar a analizar las distribuciones de cada motivo, es prudente observar que representa ese motivo en el servicio y que impacto a nivel de kilos posee. De esta forma, podemos conocer que motivos son mas relevantes que otros y de que forma interactuan entre si. \n",
    "Por este motivo, analizare el ultimo año (enero 2022- enero 2023) para conocer que motivos fueron los principales. "
   ]
  },
  {
   "cell_type": "code",
   "execution_count": 98,
   "metadata": {},
   "outputs": [],
   "source": [
    "df_servicios_ultimo_ano = pd.concat([df_guias_expo_new, df_guias_impo_new])"
   ]
  },
  {
   "cell_type": "code",
   "execution_count": 101,
   "metadata": {},
   "outputs": [
    {
     "data": {
      "application/vnd.plotly.v1+json": {
       "config": {
        "plotlyServerURL": "https://plot.ly"
       },
       "data": [
        {
         "branchvalues": "total",
         "customdata": [
          [
           "FEDEX RESTO DEL MUNDO ZONA B",
           "FEDEX RESTO DEL MUNDO ZONA B"
          ],
          [
           "Exporta Simple - Puerta a Puerta",
           "Exporta Simple - Puerta a Puerta"
          ],
          [
           "ECOMM-SZX",
           "ECOMM-SZX"
          ],
          [
           "Exporta Simple - Puerta-Aeropuerto",
           "Exporta Simple - Puerta-Aeropuerto"
          ],
          [
           "ECOMM - MAYORISTA",
           "ECOMM - MAYORISTA"
          ],
          [
           "COURIER - LISTADO ADJUNTO",
           "COURIER - LISTADO ADJUNTO"
          ],
          [
           "CARGA - COURIER FEDEX ECONOMY",
           "CARGA - COURIER FEDEX ECONOMY"
          ],
          [
           "Expo Raico Courier",
           "Expo Raico Courier"
          ],
          [
           "4-Expo - Fedex Economy",
           "4-Expo - Fedex Economy"
          ],
          [
           "Impo Imaca Flat Europa",
           "Impo Imaca Flat Europa"
          ],
          [
           "3-Expo - PTY FEDEX",
           "3-Expo - PTY FEDEX"
          ],
          [
           "CARGA AEREA EXPO - Q",
           "CARGA AEREA EXPO - Q"
          ],
          [
           "1-Expo - PTY FEDEX Envelope",
           "1-Expo - PTY FEDEX Envelope"
          ],
          [
           "Mercosur FEDEX",
           "Mercosur FEDEX"
          ],
          [
           "ORIENTE FEDEX",
           "ORIENTE FEDEX"
          ],
          [
           "MEDICAMENTOS - QUICK ",
           "MEDICAMENTOS - QUICK "
          ],
          [
           "TVH USA",
           "TVH USA"
          ],
          [
           "Impo Geobox Flat ",
           "Impo Geobox Flat "
          ],
          [
           "ORIENTE UPS",
           "ORIENTE UPS"
          ],
          [
           "IMPO - QUICK",
           "IMPO - QUICK"
          ],
          [
           "FEDEX RESTO DEL MUNDO ZONA A",
           "FEDEX RESTO DEL MUNDO ZONA A"
          ],
          [
           "RAIBOX",
           "RAIBOX"
          ],
          [
           "NO USAR IB IMPO MUNDIAL  Geobox 53",
           "NO USAR IB IMPO MUNDIAL  Geobox 53"
          ],
          [
           "TVH PPD USA",
           "TVH PPD USA"
          ],
          [
           "STANDARD MAIL",
           "STANDARD MAIL"
          ],
          [
           "Courier Oriente FLAT Wish/Latin logistic",
           "Courier Oriente FLAT Wish/Latin logistic"
          ],
          [
           "CARGA AEREA EXPO PREPAID",
           "CARGA AEREA EXPO PREPAID"
          ],
          [
           "8-Expo-TNT",
           "8-Expo-TNT"
          ],
          [
           "8 Expo DHL ",
           "8 Expo DHL "
          ],
          [
           "6-Expo-UPS Express",
           "6-Expo-UPS Express"
          ],
          [
           "EUROPA FEDEX ",
           "EUROPA FEDEX "
          ],
          [
           "ECOMM-MAD",
           "ECOMM-MAD"
          ],
          [
           "DESCO AGENTE  MAYORISTA MAY",
           "DESCO AGENTE  MAYORISTA MAY"
          ],
          [
           "CHINA LATIN LOGISTIC  CO via UPS/FEDEX",
           "CHINA LATIN LOGISTIC  CO via UPS/FEDEX"
          ],
          [
           "5-EXPO - UPS Envelope",
           "5-EXPO - UPS Envelope"
          ],
          [
           "2-Expo - PTY FEDEX PAK",
           "2-Expo - PTY FEDEX PAK"
          ],
          [
           "EUROPA UPS",
           "EUROPA UPS"
          ],
          [
           "CARGA - COURIER FEDEX PRIORITY",
           "CARGA - COURIER FEDEX PRIORITY"
          ],
          [
           "ECOMM-MIA",
           "ECOMM-MIA"
          ],
          [
           " -Expo - IMEX x DHL",
           " -Expo - IMEX x DHL"
          ],
          [
           "UPS CENTROAMERICA",
           "UPS CENTROAMERICA"
          ],
          [
           "UPS MERCOSUR",
           "UPS MERCOSUR"
          ],
          [
           "UPS TVH - BELGICA",
           "UPS TVH - BELGICA"
          ],
          [
           "USA - UPS",
           "USA - UPS"
          ],
          [
           "USA FLAT",
           "USA FLAT"
          ],
          [
           "USA INSUA",
           "USA INSUA"
          ],
          [
           "USA MIX",
           "USA MIX"
          ],
          [
           "VUELO AMAZON",
           "VUELO AMAZON"
          ],
          [
           "(?)",
           "(?)"
          ],
          [
           "(?)",
           "(?)"
          ]
         ],
         "domain": {
          "x": [
           0,
           1
          ],
          "y": [
           0,
           1
          ]
         },
         "hovertemplate": "labels=%{label}<br>Guias_Peso=%{value}<br>parent=%{parent}<br>id=%{id}<br>Motivo=%{customdata[1]}<extra></extra>",
         "ids": [
          "Impo/FEDEX RESTO DEL MUNDO ZONA B",
          "Expo/Exporta Simple - Puerta a Puerta",
          "Impo/ECOMM-SZX",
          "Expo/Exporta Simple - Puerta-Aeropuerto",
          "Impo/ECOMM - MAYORISTA",
          "Expo/COURIER - LISTADO ADJUNTO",
          "Expo/CARGA - COURIER FEDEX ECONOMY",
          "Expo/Expo Raico Courier",
          "Expo/4-Expo - Fedex Economy",
          "Impo/Impo Imaca Flat Europa",
          "Expo/3-Expo - PTY FEDEX",
          "Expo/CARGA AEREA EXPO - Q",
          "Expo/1-Expo - PTY FEDEX Envelope",
          "Impo/Mercosur FEDEX",
          "Impo/ORIENTE FEDEX",
          "Expo/MEDICAMENTOS - QUICK ",
          "Impo/TVH USA",
          "Impo/Impo Geobox Flat ",
          "Impo/ORIENTE UPS",
          "Impo/IMPO - QUICK",
          "Impo/FEDEX RESTO DEL MUNDO ZONA A",
          "Impo/RAIBOX",
          "Impo/NO USAR IB IMPO MUNDIAL  Geobox 53",
          "Impo/TVH PPD USA",
          "Expo/STANDARD MAIL",
          "Impo/Courier Oriente FLAT Wish/Latin logistic",
          "Expo/CARGA AEREA EXPO PREPAID",
          "Expo/8-Expo-TNT",
          "Expo/8 Expo DHL ",
          "Expo/6-Expo-UPS Express",
          "Impo/EUROPA FEDEX ",
          "Impo/ECOMM-MAD",
          "Impo/DESCO AGENTE  MAYORISTA MAY",
          "Impo/CHINA LATIN LOGISTIC  CO via UPS/FEDEX",
          "Expo/5-EXPO - UPS Envelope",
          "Expo/2-Expo - PTY FEDEX PAK",
          "Impo/EUROPA UPS",
          "Expo/CARGA - COURIER FEDEX PRIORITY",
          "Impo/ECOMM-MIA",
          "Expo/ -Expo - IMEX x DHL",
          "Impo/UPS CENTROAMERICA",
          "Impo/UPS MERCOSUR",
          "Impo/UPS TVH - BELGICA",
          "Impo/USA - UPS",
          "Impo/USA FLAT",
          "Impo/USA INSUA",
          "Impo/USA MIX",
          "Expo/VUELO AMAZON",
          "Expo",
          "Impo"
         ],
         "labels": [
          "FEDEX RESTO DEL MUNDO ZONA B",
          "Exporta Simple - Puerta a Puerta",
          "ECOMM-SZX",
          "Exporta Simple - Puerta-Aeropuerto",
          "ECOMM - MAYORISTA",
          "COURIER - LISTADO ADJUNTO",
          "CARGA - COURIER FEDEX ECONOMY",
          "Expo Raico Courier",
          "4-Expo - Fedex Economy",
          "Impo Imaca Flat Europa",
          "3-Expo - PTY FEDEX",
          "CARGA AEREA EXPO - Q",
          "1-Expo - PTY FEDEX Envelope",
          "Mercosur FEDEX",
          "ORIENTE FEDEX",
          "MEDICAMENTOS - QUICK ",
          "TVH USA",
          "Impo Geobox Flat ",
          "ORIENTE UPS",
          "IMPO - QUICK",
          "FEDEX RESTO DEL MUNDO ZONA A",
          "RAIBOX",
          "NO USAR IB IMPO MUNDIAL  Geobox 53",
          "TVH PPD USA",
          "STANDARD MAIL",
          "Courier Oriente FLAT Wish/Latin logistic",
          "CARGA AEREA EXPO PREPAID",
          "8-Expo-TNT",
          "8 Expo DHL ",
          "6-Expo-UPS Express",
          "EUROPA FEDEX ",
          "ECOMM-MAD",
          "DESCO AGENTE  MAYORISTA MAY",
          "CHINA LATIN LOGISTIC  CO via UPS/FEDEX",
          "5-EXPO - UPS Envelope",
          "2-Expo - PTY FEDEX PAK",
          "EUROPA UPS",
          "CARGA - COURIER FEDEX PRIORITY",
          "ECOMM-MIA",
          " -Expo - IMEX x DHL",
          "UPS CENTROAMERICA",
          "UPS MERCOSUR",
          "UPS TVH - BELGICA",
          "USA - UPS",
          "USA FLAT",
          "USA INSUA",
          "USA MIX",
          "VUELO AMAZON",
          "Expo",
          "Impo"
         ],
         "marker": {
          "colors": [
           "#636efa",
           "#EF553B",
           "#00cc96",
           "#ab63fa",
           "#FFA15A",
           "#19d3f3",
           "#FF6692",
           "#B6E880",
           "#FF97FF",
           "#FECB52",
           "#636efa",
           "#EF553B",
           "#00cc96",
           "#ab63fa",
           "#FFA15A",
           "#19d3f3",
           "#FF6692",
           "#B6E880",
           "#FF97FF",
           "#FECB52",
           "#636efa",
           "#EF553B",
           "#00cc96",
           "#ab63fa",
           "#FFA15A",
           "#19d3f3",
           "#FF6692",
           "#B6E880",
           "#FF97FF",
           "#FECB52",
           "#636efa",
           "#EF553B",
           "#00cc96",
           "#ab63fa",
           "#FFA15A",
           "#19d3f3",
           "#FF6692",
           "#B6E880",
           "#FF97FF",
           "#FECB52",
           "#636efa",
           "#EF553B",
           "#00cc96",
           "#ab63fa",
           "#FFA15A",
           "#19d3f3",
           "#FF6692",
           "#B6E880",
           "#FF97FF",
           "#FF97FF"
          ]
         },
         "name": "",
         "parents": [
          "Impo",
          "Expo",
          "Impo",
          "Expo",
          "Impo",
          "Expo",
          "Expo",
          "Expo",
          "Expo",
          "Impo",
          "Expo",
          "Expo",
          "Expo",
          "Impo",
          "Impo",
          "Expo",
          "Impo",
          "Impo",
          "Impo",
          "Impo",
          "Impo",
          "Impo",
          "Impo",
          "Impo",
          "Expo",
          "Impo",
          "Expo",
          "Expo",
          "Expo",
          "Expo",
          "Impo",
          "Impo",
          "Impo",
          "Impo",
          "Expo",
          "Expo",
          "Impo",
          "Expo",
          "Impo",
          "Expo",
          "Impo",
          "Impo",
          "Impo",
          "Impo",
          "Impo",
          "Impo",
          "Impo",
          "Expo",
          "",
          ""
         ],
         "type": "sunburst",
         "values": [
          109,
          28577.45,
          1280.22,
          448001.95,
          15184.37,
          130.2,
          1820.25,
          30,
          46282,
          6444.02,
          19520.07,
          57592.6,
          1138.05,
          24,
          19413.74,
          11524.7,
          18186,
          15875.02,
          237058.38,
          26,
          334.4,
          594.8,
          129644.11,
          75605,
          696.71,
          87072.31,
          90786.65,
          778.1,
          12047.05,
          41262.65,
          3508.5,
          1580.15,
          489.78,
          8350.23,
          399.88,
          650.58,
          54374.95,
          2483.43,
          8022.43,
          984,
          711,
          63206.37,
          43503.3,
          11924.19,
          671980.8,
          101597.6,
          40863.5,
          6686,
          771392.32,
          1616964.17
         ]
        }
       ],
       "layout": {
        "height": 600,
        "legend": {
         "tracegroupgap": 0
        },
        "margin": {
         "t": 60
        },
        "template": {
         "data": {
          "bar": [
           {
            "error_x": {
             "color": "#2a3f5f"
            },
            "error_y": {
             "color": "#2a3f5f"
            },
            "marker": {
             "line": {
              "color": "#E5ECF6",
              "width": 0.5
             },
             "pattern": {
              "fillmode": "overlay",
              "size": 10,
              "solidity": 0.2
             }
            },
            "type": "bar"
           }
          ],
          "barpolar": [
           {
            "marker": {
             "line": {
              "color": "#E5ECF6",
              "width": 0.5
             },
             "pattern": {
              "fillmode": "overlay",
              "size": 10,
              "solidity": 0.2
             }
            },
            "type": "barpolar"
           }
          ],
          "carpet": [
           {
            "aaxis": {
             "endlinecolor": "#2a3f5f",
             "gridcolor": "white",
             "linecolor": "white",
             "minorgridcolor": "white",
             "startlinecolor": "#2a3f5f"
            },
            "baxis": {
             "endlinecolor": "#2a3f5f",
             "gridcolor": "white",
             "linecolor": "white",
             "minorgridcolor": "white",
             "startlinecolor": "#2a3f5f"
            },
            "type": "carpet"
           }
          ],
          "choropleth": [
           {
            "colorbar": {
             "outlinewidth": 0,
             "ticks": ""
            },
            "type": "choropleth"
           }
          ],
          "contour": [
           {
            "colorbar": {
             "outlinewidth": 0,
             "ticks": ""
            },
            "colorscale": [
             [
              0,
              "#0d0887"
             ],
             [
              0.1111111111111111,
              "#46039f"
             ],
             [
              0.2222222222222222,
              "#7201a8"
             ],
             [
              0.3333333333333333,
              "#9c179e"
             ],
             [
              0.4444444444444444,
              "#bd3786"
             ],
             [
              0.5555555555555556,
              "#d8576b"
             ],
             [
              0.6666666666666666,
              "#ed7953"
             ],
             [
              0.7777777777777778,
              "#fb9f3a"
             ],
             [
              0.8888888888888888,
              "#fdca26"
             ],
             [
              1,
              "#f0f921"
             ]
            ],
            "type": "contour"
           }
          ],
          "contourcarpet": [
           {
            "colorbar": {
             "outlinewidth": 0,
             "ticks": ""
            },
            "type": "contourcarpet"
           }
          ],
          "heatmap": [
           {
            "colorbar": {
             "outlinewidth": 0,
             "ticks": ""
            },
            "colorscale": [
             [
              0,
              "#0d0887"
             ],
             [
              0.1111111111111111,
              "#46039f"
             ],
             [
              0.2222222222222222,
              "#7201a8"
             ],
             [
              0.3333333333333333,
              "#9c179e"
             ],
             [
              0.4444444444444444,
              "#bd3786"
             ],
             [
              0.5555555555555556,
              "#d8576b"
             ],
             [
              0.6666666666666666,
              "#ed7953"
             ],
             [
              0.7777777777777778,
              "#fb9f3a"
             ],
             [
              0.8888888888888888,
              "#fdca26"
             ],
             [
              1,
              "#f0f921"
             ]
            ],
            "type": "heatmap"
           }
          ],
          "heatmapgl": [
           {
            "colorbar": {
             "outlinewidth": 0,
             "ticks": ""
            },
            "colorscale": [
             [
              0,
              "#0d0887"
             ],
             [
              0.1111111111111111,
              "#46039f"
             ],
             [
              0.2222222222222222,
              "#7201a8"
             ],
             [
              0.3333333333333333,
              "#9c179e"
             ],
             [
              0.4444444444444444,
              "#bd3786"
             ],
             [
              0.5555555555555556,
              "#d8576b"
             ],
             [
              0.6666666666666666,
              "#ed7953"
             ],
             [
              0.7777777777777778,
              "#fb9f3a"
             ],
             [
              0.8888888888888888,
              "#fdca26"
             ],
             [
              1,
              "#f0f921"
             ]
            ],
            "type": "heatmapgl"
           }
          ],
          "histogram": [
           {
            "marker": {
             "pattern": {
              "fillmode": "overlay",
              "size": 10,
              "solidity": 0.2
             }
            },
            "type": "histogram"
           }
          ],
          "histogram2d": [
           {
            "colorbar": {
             "outlinewidth": 0,
             "ticks": ""
            },
            "colorscale": [
             [
              0,
              "#0d0887"
             ],
             [
              0.1111111111111111,
              "#46039f"
             ],
             [
              0.2222222222222222,
              "#7201a8"
             ],
             [
              0.3333333333333333,
              "#9c179e"
             ],
             [
              0.4444444444444444,
              "#bd3786"
             ],
             [
              0.5555555555555556,
              "#d8576b"
             ],
             [
              0.6666666666666666,
              "#ed7953"
             ],
             [
              0.7777777777777778,
              "#fb9f3a"
             ],
             [
              0.8888888888888888,
              "#fdca26"
             ],
             [
              1,
              "#f0f921"
             ]
            ],
            "type": "histogram2d"
           }
          ],
          "histogram2dcontour": [
           {
            "colorbar": {
             "outlinewidth": 0,
             "ticks": ""
            },
            "colorscale": [
             [
              0,
              "#0d0887"
             ],
             [
              0.1111111111111111,
              "#46039f"
             ],
             [
              0.2222222222222222,
              "#7201a8"
             ],
             [
              0.3333333333333333,
              "#9c179e"
             ],
             [
              0.4444444444444444,
              "#bd3786"
             ],
             [
              0.5555555555555556,
              "#d8576b"
             ],
             [
              0.6666666666666666,
              "#ed7953"
             ],
             [
              0.7777777777777778,
              "#fb9f3a"
             ],
             [
              0.8888888888888888,
              "#fdca26"
             ],
             [
              1,
              "#f0f921"
             ]
            ],
            "type": "histogram2dcontour"
           }
          ],
          "mesh3d": [
           {
            "colorbar": {
             "outlinewidth": 0,
             "ticks": ""
            },
            "type": "mesh3d"
           }
          ],
          "parcoords": [
           {
            "line": {
             "colorbar": {
              "outlinewidth": 0,
              "ticks": ""
             }
            },
            "type": "parcoords"
           }
          ],
          "pie": [
           {
            "automargin": true,
            "type": "pie"
           }
          ],
          "scatter": [
           {
            "fillpattern": {
             "fillmode": "overlay",
             "size": 10,
             "solidity": 0.2
            },
            "type": "scatter"
           }
          ],
          "scatter3d": [
           {
            "line": {
             "colorbar": {
              "outlinewidth": 0,
              "ticks": ""
             }
            },
            "marker": {
             "colorbar": {
              "outlinewidth": 0,
              "ticks": ""
             }
            },
            "type": "scatter3d"
           }
          ],
          "scattercarpet": [
           {
            "marker": {
             "colorbar": {
              "outlinewidth": 0,
              "ticks": ""
             }
            },
            "type": "scattercarpet"
           }
          ],
          "scattergeo": [
           {
            "marker": {
             "colorbar": {
              "outlinewidth": 0,
              "ticks": ""
             }
            },
            "type": "scattergeo"
           }
          ],
          "scattergl": [
           {
            "marker": {
             "colorbar": {
              "outlinewidth": 0,
              "ticks": ""
             }
            },
            "type": "scattergl"
           }
          ],
          "scattermapbox": [
           {
            "marker": {
             "colorbar": {
              "outlinewidth": 0,
              "ticks": ""
             }
            },
            "type": "scattermapbox"
           }
          ],
          "scatterpolar": [
           {
            "marker": {
             "colorbar": {
              "outlinewidth": 0,
              "ticks": ""
             }
            },
            "type": "scatterpolar"
           }
          ],
          "scatterpolargl": [
           {
            "marker": {
             "colorbar": {
              "outlinewidth": 0,
              "ticks": ""
             }
            },
            "type": "scatterpolargl"
           }
          ],
          "scatterternary": [
           {
            "marker": {
             "colorbar": {
              "outlinewidth": 0,
              "ticks": ""
             }
            },
            "type": "scatterternary"
           }
          ],
          "surface": [
           {
            "colorbar": {
             "outlinewidth": 0,
             "ticks": ""
            },
            "colorscale": [
             [
              0,
              "#0d0887"
             ],
             [
              0.1111111111111111,
              "#46039f"
             ],
             [
              0.2222222222222222,
              "#7201a8"
             ],
             [
              0.3333333333333333,
              "#9c179e"
             ],
             [
              0.4444444444444444,
              "#bd3786"
             ],
             [
              0.5555555555555556,
              "#d8576b"
             ],
             [
              0.6666666666666666,
              "#ed7953"
             ],
             [
              0.7777777777777778,
              "#fb9f3a"
             ],
             [
              0.8888888888888888,
              "#fdca26"
             ],
             [
              1,
              "#f0f921"
             ]
            ],
            "type": "surface"
           }
          ],
          "table": [
           {
            "cells": {
             "fill": {
              "color": "#EBF0F8"
             },
             "line": {
              "color": "white"
             }
            },
            "header": {
             "fill": {
              "color": "#C8D4E3"
             },
             "line": {
              "color": "white"
             }
            },
            "type": "table"
           }
          ]
         },
         "layout": {
          "annotationdefaults": {
           "arrowcolor": "#2a3f5f",
           "arrowhead": 0,
           "arrowwidth": 1
          },
          "autotypenumbers": "strict",
          "coloraxis": {
           "colorbar": {
            "outlinewidth": 0,
            "ticks": ""
           }
          },
          "colorscale": {
           "diverging": [
            [
             0,
             "#8e0152"
            ],
            [
             0.1,
             "#c51b7d"
            ],
            [
             0.2,
             "#de77ae"
            ],
            [
             0.3,
             "#f1b6da"
            ],
            [
             0.4,
             "#fde0ef"
            ],
            [
             0.5,
             "#f7f7f7"
            ],
            [
             0.6,
             "#e6f5d0"
            ],
            [
             0.7,
             "#b8e186"
            ],
            [
             0.8,
             "#7fbc41"
            ],
            [
             0.9,
             "#4d9221"
            ],
            [
             1,
             "#276419"
            ]
           ],
           "sequential": [
            [
             0,
             "#0d0887"
            ],
            [
             0.1111111111111111,
             "#46039f"
            ],
            [
             0.2222222222222222,
             "#7201a8"
            ],
            [
             0.3333333333333333,
             "#9c179e"
            ],
            [
             0.4444444444444444,
             "#bd3786"
            ],
            [
             0.5555555555555556,
             "#d8576b"
            ],
            [
             0.6666666666666666,
             "#ed7953"
            ],
            [
             0.7777777777777778,
             "#fb9f3a"
            ],
            [
             0.8888888888888888,
             "#fdca26"
            ],
            [
             1,
             "#f0f921"
            ]
           ],
           "sequentialminus": [
            [
             0,
             "#0d0887"
            ],
            [
             0.1111111111111111,
             "#46039f"
            ],
            [
             0.2222222222222222,
             "#7201a8"
            ],
            [
             0.3333333333333333,
             "#9c179e"
            ],
            [
             0.4444444444444444,
             "#bd3786"
            ],
            [
             0.5555555555555556,
             "#d8576b"
            ],
            [
             0.6666666666666666,
             "#ed7953"
            ],
            [
             0.7777777777777778,
             "#fb9f3a"
            ],
            [
             0.8888888888888888,
             "#fdca26"
            ],
            [
             1,
             "#f0f921"
            ]
           ]
          },
          "colorway": [
           "#636efa",
           "#EF553B",
           "#00cc96",
           "#ab63fa",
           "#FFA15A",
           "#19d3f3",
           "#FF6692",
           "#B6E880",
           "#FF97FF",
           "#FECB52"
          ],
          "font": {
           "color": "#2a3f5f"
          },
          "geo": {
           "bgcolor": "white",
           "lakecolor": "white",
           "landcolor": "#E5ECF6",
           "showlakes": true,
           "showland": true,
           "subunitcolor": "white"
          },
          "hoverlabel": {
           "align": "left"
          },
          "hovermode": "closest",
          "mapbox": {
           "style": "light"
          },
          "paper_bgcolor": "white",
          "plot_bgcolor": "#E5ECF6",
          "polar": {
           "angularaxis": {
            "gridcolor": "white",
            "linecolor": "white",
            "ticks": ""
           },
           "bgcolor": "#E5ECF6",
           "radialaxis": {
            "gridcolor": "white",
            "linecolor": "white",
            "ticks": ""
           }
          },
          "scene": {
           "xaxis": {
            "backgroundcolor": "#E5ECF6",
            "gridcolor": "white",
            "gridwidth": 2,
            "linecolor": "white",
            "showbackground": true,
            "ticks": "",
            "zerolinecolor": "white"
           },
           "yaxis": {
            "backgroundcolor": "#E5ECF6",
            "gridcolor": "white",
            "gridwidth": 2,
            "linecolor": "white",
            "showbackground": true,
            "ticks": "",
            "zerolinecolor": "white"
           },
           "zaxis": {
            "backgroundcolor": "#E5ECF6",
            "gridcolor": "white",
            "gridwidth": 2,
            "linecolor": "white",
            "showbackground": true,
            "ticks": "",
            "zerolinecolor": "white"
           }
          },
          "shapedefaults": {
           "line": {
            "color": "#2a3f5f"
           }
          },
          "ternary": {
           "aaxis": {
            "gridcolor": "white",
            "linecolor": "white",
            "ticks": ""
           },
           "baxis": {
            "gridcolor": "white",
            "linecolor": "white",
            "ticks": ""
           },
           "bgcolor": "#E5ECF6",
           "caxis": {
            "gridcolor": "white",
            "linecolor": "white",
            "ticks": ""
           }
          },
          "title": {
           "x": 0.05
          },
          "xaxis": {
           "automargin": true,
           "gridcolor": "white",
           "linecolor": "white",
           "ticks": "",
           "title": {
            "standoff": 15
           },
           "zerolinecolor": "white",
           "zerolinewidth": 2
          },
          "yaxis": {
           "automargin": true,
           "gridcolor": "white",
           "linecolor": "white",
           "ticks": "",
           "title": {
            "standoff": 15
           },
           "zerolinecolor": "white",
           "zerolinewidth": 2
          }
         }
        },
        "title": {
         "text": "Composición de las ventas por kilo por servicio"
        },
        "width": 900
       }
      },
      "text/html": [
       "<div>                            <div id=\"d74d8467-08a7-4380-b0ba-634724d4c4c3\" class=\"plotly-graph-div\" style=\"height:600px; width:900px;\"></div>            <script type=\"text/javascript\">                require([\"plotly\"], function(Plotly) {                    window.PLOTLYENV=window.PLOTLYENV || {};                                    if (document.getElementById(\"d74d8467-08a7-4380-b0ba-634724d4c4c3\")) {                    Plotly.newPlot(                        \"d74d8467-08a7-4380-b0ba-634724d4c4c3\",                        [{\"branchvalues\":\"total\",\"customdata\":[[\"FEDEX RESTO DEL MUNDO ZONA B\",\"FEDEX RESTO DEL MUNDO ZONA B\"],[\"Exporta Simple - Puerta a Puerta\",\"Exporta Simple - Puerta a Puerta\"],[\"ECOMM-SZX\",\"ECOMM-SZX\"],[\"Exporta Simple - Puerta-Aeropuerto\",\"Exporta Simple - Puerta-Aeropuerto\"],[\"ECOMM - MAYORISTA\",\"ECOMM - MAYORISTA\"],[\"COURIER - LISTADO ADJUNTO\",\"COURIER - LISTADO ADJUNTO\"],[\"CARGA - COURIER FEDEX ECONOMY\",\"CARGA - COURIER FEDEX ECONOMY\"],[\"Expo Raico Courier\",\"Expo Raico Courier\"],[\"4-Expo - Fedex Economy\",\"4-Expo - Fedex Economy\"],[\"Impo Imaca Flat Europa\",\"Impo Imaca Flat Europa\"],[\"3-Expo - PTY FEDEX\",\"3-Expo - PTY FEDEX\"],[\"CARGA AEREA EXPO - Q\",\"CARGA AEREA EXPO - Q\"],[\"1-Expo - PTY FEDEX Envelope\",\"1-Expo - PTY FEDEX Envelope\"],[\"Mercosur FEDEX\",\"Mercosur FEDEX\"],[\"ORIENTE FEDEX\",\"ORIENTE FEDEX\"],[\"MEDICAMENTOS - QUICK \",\"MEDICAMENTOS - QUICK \"],[\"TVH USA\",\"TVH USA\"],[\"Impo Geobox Flat \",\"Impo Geobox Flat \"],[\"ORIENTE UPS\",\"ORIENTE UPS\"],[\"IMPO - QUICK\",\"IMPO - QUICK\"],[\"FEDEX RESTO DEL MUNDO ZONA A\",\"FEDEX RESTO DEL MUNDO ZONA A\"],[\"RAIBOX\",\"RAIBOX\"],[\"NO USAR IB IMPO MUNDIAL  Geobox 53\",\"NO USAR IB IMPO MUNDIAL  Geobox 53\"],[\"TVH PPD USA\",\"TVH PPD USA\"],[\"STANDARD MAIL\",\"STANDARD MAIL\"],[\"Courier Oriente FLAT Wish/Latin logistic\",\"Courier Oriente FLAT Wish/Latin logistic\"],[\"CARGA AEREA EXPO PREPAID\",\"CARGA AEREA EXPO PREPAID\"],[\"8-Expo-TNT\",\"8-Expo-TNT\"],[\"8 Expo DHL \",\"8 Expo DHL \"],[\"6-Expo-UPS Express\",\"6-Expo-UPS Express\"],[\"EUROPA FEDEX \",\"EUROPA FEDEX \"],[\"ECOMM-MAD\",\"ECOMM-MAD\"],[\"DESCO AGENTE  MAYORISTA MAY\",\"DESCO AGENTE  MAYORISTA MAY\"],[\"CHINA LATIN LOGISTIC  CO via UPS/FEDEX\",\"CHINA LATIN LOGISTIC  CO via UPS/FEDEX\"],[\"5-EXPO - UPS Envelope\",\"5-EXPO - UPS Envelope\"],[\"2-Expo - PTY FEDEX PAK\",\"2-Expo - PTY FEDEX PAK\"],[\"EUROPA UPS\",\"EUROPA UPS\"],[\"CARGA - COURIER FEDEX PRIORITY\",\"CARGA - COURIER FEDEX PRIORITY\"],[\"ECOMM-MIA\",\"ECOMM-MIA\"],[\" -Expo - IMEX x DHL\",\" -Expo - IMEX x DHL\"],[\"UPS CENTROAMERICA\",\"UPS CENTROAMERICA\"],[\"UPS MERCOSUR\",\"UPS MERCOSUR\"],[\"UPS TVH - BELGICA\",\"UPS TVH - BELGICA\"],[\"USA - UPS\",\"USA - UPS\"],[\"USA FLAT\",\"USA FLAT\"],[\"USA INSUA\",\"USA INSUA\"],[\"USA MIX\",\"USA MIX\"],[\"VUELO AMAZON\",\"VUELO AMAZON\"],[\"(?)\",\"(?)\"],[\"(?)\",\"(?)\"]],\"domain\":{\"x\":[0.0,1.0],\"y\":[0.0,1.0]},\"hovertemplate\":\"labels=%{label}<br>Guias_Peso=%{value}<br>parent=%{parent}<br>id=%{id}<br>Motivo=%{customdata[1]}<extra></extra>\",\"ids\":[\"Impo/FEDEX RESTO DEL MUNDO ZONA B\",\"Expo/Exporta Simple - Puerta a Puerta\",\"Impo/ECOMM-SZX\",\"Expo/Exporta Simple - Puerta-Aeropuerto\",\"Impo/ECOMM - MAYORISTA\",\"Expo/COURIER - LISTADO ADJUNTO\",\"Expo/CARGA - COURIER FEDEX ECONOMY\",\"Expo/Expo Raico Courier\",\"Expo/4-Expo - Fedex Economy\",\"Impo/Impo Imaca Flat Europa\",\"Expo/3-Expo - PTY FEDEX\",\"Expo/CARGA AEREA EXPO - Q\",\"Expo/1-Expo - PTY FEDEX Envelope\",\"Impo/Mercosur FEDEX\",\"Impo/ORIENTE FEDEX\",\"Expo/MEDICAMENTOS - QUICK \",\"Impo/TVH USA\",\"Impo/Impo Geobox Flat \",\"Impo/ORIENTE UPS\",\"Impo/IMPO - QUICK\",\"Impo/FEDEX RESTO DEL MUNDO ZONA A\",\"Impo/RAIBOX\",\"Impo/NO USAR IB IMPO MUNDIAL  Geobox 53\",\"Impo/TVH PPD USA\",\"Expo/STANDARD MAIL\",\"Impo/Courier Oriente FLAT Wish/Latin logistic\",\"Expo/CARGA AEREA EXPO PREPAID\",\"Expo/8-Expo-TNT\",\"Expo/8 Expo DHL \",\"Expo/6-Expo-UPS Express\",\"Impo/EUROPA FEDEX \",\"Impo/ECOMM-MAD\",\"Impo/DESCO AGENTE  MAYORISTA MAY\",\"Impo/CHINA LATIN LOGISTIC  CO via UPS/FEDEX\",\"Expo/5-EXPO - UPS Envelope\",\"Expo/2-Expo - PTY FEDEX PAK\",\"Impo/EUROPA UPS\",\"Expo/CARGA - COURIER FEDEX PRIORITY\",\"Impo/ECOMM-MIA\",\"Expo/ -Expo - IMEX x DHL\",\"Impo/UPS CENTROAMERICA\",\"Impo/UPS MERCOSUR\",\"Impo/UPS TVH - BELGICA\",\"Impo/USA - UPS\",\"Impo/USA FLAT\",\"Impo/USA INSUA\",\"Impo/USA MIX\",\"Expo/VUELO AMAZON\",\"Expo\",\"Impo\"],\"labels\":[\"FEDEX RESTO DEL MUNDO ZONA B\",\"Exporta Simple - Puerta a Puerta\",\"ECOMM-SZX\",\"Exporta Simple - Puerta-Aeropuerto\",\"ECOMM - MAYORISTA\",\"COURIER - LISTADO ADJUNTO\",\"CARGA - COURIER FEDEX ECONOMY\",\"Expo Raico Courier\",\"4-Expo - Fedex Economy\",\"Impo Imaca Flat Europa\",\"3-Expo - PTY FEDEX\",\"CARGA AEREA EXPO - Q\",\"1-Expo - PTY FEDEX Envelope\",\"Mercosur FEDEX\",\"ORIENTE FEDEX\",\"MEDICAMENTOS - QUICK \",\"TVH USA\",\"Impo Geobox Flat \",\"ORIENTE UPS\",\"IMPO - QUICK\",\"FEDEX RESTO DEL MUNDO ZONA A\",\"RAIBOX\",\"NO USAR IB IMPO MUNDIAL  Geobox 53\",\"TVH PPD USA\",\"STANDARD MAIL\",\"Courier Oriente FLAT Wish/Latin logistic\",\"CARGA AEREA EXPO PREPAID\",\"8-Expo-TNT\",\"8 Expo DHL \",\"6-Expo-UPS Express\",\"EUROPA FEDEX \",\"ECOMM-MAD\",\"DESCO AGENTE  MAYORISTA MAY\",\"CHINA LATIN LOGISTIC  CO via UPS/FEDEX\",\"5-EXPO - UPS Envelope\",\"2-Expo - PTY FEDEX PAK\",\"EUROPA UPS\",\"CARGA - COURIER FEDEX PRIORITY\",\"ECOMM-MIA\",\" -Expo - IMEX x DHL\",\"UPS CENTROAMERICA\",\"UPS MERCOSUR\",\"UPS TVH - BELGICA\",\"USA - UPS\",\"USA FLAT\",\"USA INSUA\",\"USA MIX\",\"VUELO AMAZON\",\"Expo\",\"Impo\"],\"marker\":{\"colors\":[\"#636efa\",\"#EF553B\",\"#00cc96\",\"#ab63fa\",\"#FFA15A\",\"#19d3f3\",\"#FF6692\",\"#B6E880\",\"#FF97FF\",\"#FECB52\",\"#636efa\",\"#EF553B\",\"#00cc96\",\"#ab63fa\",\"#FFA15A\",\"#19d3f3\",\"#FF6692\",\"#B6E880\",\"#FF97FF\",\"#FECB52\",\"#636efa\",\"#EF553B\",\"#00cc96\",\"#ab63fa\",\"#FFA15A\",\"#19d3f3\",\"#FF6692\",\"#B6E880\",\"#FF97FF\",\"#FECB52\",\"#636efa\",\"#EF553B\",\"#00cc96\",\"#ab63fa\",\"#FFA15A\",\"#19d3f3\",\"#FF6692\",\"#B6E880\",\"#FF97FF\",\"#FECB52\",\"#636efa\",\"#EF553B\",\"#00cc96\",\"#ab63fa\",\"#FFA15A\",\"#19d3f3\",\"#FF6692\",\"#B6E880\",\"#FF97FF\",\"#FF97FF\"]},\"name\":\"\",\"parents\":[\"Impo\",\"Expo\",\"Impo\",\"Expo\",\"Impo\",\"Expo\",\"Expo\",\"Expo\",\"Expo\",\"Impo\",\"Expo\",\"Expo\",\"Expo\",\"Impo\",\"Impo\",\"Expo\",\"Impo\",\"Impo\",\"Impo\",\"Impo\",\"Impo\",\"Impo\",\"Impo\",\"Impo\",\"Expo\",\"Impo\",\"Expo\",\"Expo\",\"Expo\",\"Expo\",\"Impo\",\"Impo\",\"Impo\",\"Impo\",\"Expo\",\"Expo\",\"Impo\",\"Expo\",\"Impo\",\"Expo\",\"Impo\",\"Impo\",\"Impo\",\"Impo\",\"Impo\",\"Impo\",\"Impo\",\"Expo\",\"\",\"\"],\"values\":[109.0,28577.45,1280.22,448001.95,15184.37,130.2,1820.25,30.0,46282.0,6444.02,19520.07,57592.6,1138.05,24.0,19413.74,11524.7,18186.0,15875.02,237058.38,26.0,334.4,594.8,129644.11,75605.0,696.71,87072.31,90786.65,778.1,12047.05,41262.65,3508.5,1580.15,489.78,8350.23,399.88,650.58,54374.95,2483.43,8022.43,984.0,711.0,63206.37,43503.3,11924.19,671980.8,101597.6,40863.5,6686.0,771392.32,1616964.17],\"type\":\"sunburst\"}],                        {\"template\":{\"data\":{\"histogram2dcontour\":[{\"type\":\"histogram2dcontour\",\"colorbar\":{\"outlinewidth\":0,\"ticks\":\"\"},\"colorscale\":[[0.0,\"#0d0887\"],[0.1111111111111111,\"#46039f\"],[0.2222222222222222,\"#7201a8\"],[0.3333333333333333,\"#9c179e\"],[0.4444444444444444,\"#bd3786\"],[0.5555555555555556,\"#d8576b\"],[0.6666666666666666,\"#ed7953\"],[0.7777777777777778,\"#fb9f3a\"],[0.8888888888888888,\"#fdca26\"],[1.0,\"#f0f921\"]]}],\"choropleth\":[{\"type\":\"choropleth\",\"colorbar\":{\"outlinewidth\":0,\"ticks\":\"\"}}],\"histogram2d\":[{\"type\":\"histogram2d\",\"colorbar\":{\"outlinewidth\":0,\"ticks\":\"\"},\"colorscale\":[[0.0,\"#0d0887\"],[0.1111111111111111,\"#46039f\"],[0.2222222222222222,\"#7201a8\"],[0.3333333333333333,\"#9c179e\"],[0.4444444444444444,\"#bd3786\"],[0.5555555555555556,\"#d8576b\"],[0.6666666666666666,\"#ed7953\"],[0.7777777777777778,\"#fb9f3a\"],[0.8888888888888888,\"#fdca26\"],[1.0,\"#f0f921\"]]}],\"heatmap\":[{\"type\":\"heatmap\",\"colorbar\":{\"outlinewidth\":0,\"ticks\":\"\"},\"colorscale\":[[0.0,\"#0d0887\"],[0.1111111111111111,\"#46039f\"],[0.2222222222222222,\"#7201a8\"],[0.3333333333333333,\"#9c179e\"],[0.4444444444444444,\"#bd3786\"],[0.5555555555555556,\"#d8576b\"],[0.6666666666666666,\"#ed7953\"],[0.7777777777777778,\"#fb9f3a\"],[0.8888888888888888,\"#fdca26\"],[1.0,\"#f0f921\"]]}],\"heatmapgl\":[{\"type\":\"heatmapgl\",\"colorbar\":{\"outlinewidth\":0,\"ticks\":\"\"},\"colorscale\":[[0.0,\"#0d0887\"],[0.1111111111111111,\"#46039f\"],[0.2222222222222222,\"#7201a8\"],[0.3333333333333333,\"#9c179e\"],[0.4444444444444444,\"#bd3786\"],[0.5555555555555556,\"#d8576b\"],[0.6666666666666666,\"#ed7953\"],[0.7777777777777778,\"#fb9f3a\"],[0.8888888888888888,\"#fdca26\"],[1.0,\"#f0f921\"]]}],\"contourcarpet\":[{\"type\":\"contourcarpet\",\"colorbar\":{\"outlinewidth\":0,\"ticks\":\"\"}}],\"contour\":[{\"type\":\"contour\",\"colorbar\":{\"outlinewidth\":0,\"ticks\":\"\"},\"colorscale\":[[0.0,\"#0d0887\"],[0.1111111111111111,\"#46039f\"],[0.2222222222222222,\"#7201a8\"],[0.3333333333333333,\"#9c179e\"],[0.4444444444444444,\"#bd3786\"],[0.5555555555555556,\"#d8576b\"],[0.6666666666666666,\"#ed7953\"],[0.7777777777777778,\"#fb9f3a\"],[0.8888888888888888,\"#fdca26\"],[1.0,\"#f0f921\"]]}],\"surface\":[{\"type\":\"surface\",\"colorbar\":{\"outlinewidth\":0,\"ticks\":\"\"},\"colorscale\":[[0.0,\"#0d0887\"],[0.1111111111111111,\"#46039f\"],[0.2222222222222222,\"#7201a8\"],[0.3333333333333333,\"#9c179e\"],[0.4444444444444444,\"#bd3786\"],[0.5555555555555556,\"#d8576b\"],[0.6666666666666666,\"#ed7953\"],[0.7777777777777778,\"#fb9f3a\"],[0.8888888888888888,\"#fdca26\"],[1.0,\"#f0f921\"]]}],\"mesh3d\":[{\"type\":\"mesh3d\",\"colorbar\":{\"outlinewidth\":0,\"ticks\":\"\"}}],\"scatter\":[{\"fillpattern\":{\"fillmode\":\"overlay\",\"size\":10,\"solidity\":0.2},\"type\":\"scatter\"}],\"parcoords\":[{\"type\":\"parcoords\",\"line\":{\"colorbar\":{\"outlinewidth\":0,\"ticks\":\"\"}}}],\"scatterpolargl\":[{\"type\":\"scatterpolargl\",\"marker\":{\"colorbar\":{\"outlinewidth\":0,\"ticks\":\"\"}}}],\"bar\":[{\"error_x\":{\"color\":\"#2a3f5f\"},\"error_y\":{\"color\":\"#2a3f5f\"},\"marker\":{\"line\":{\"color\":\"#E5ECF6\",\"width\":0.5},\"pattern\":{\"fillmode\":\"overlay\",\"size\":10,\"solidity\":0.2}},\"type\":\"bar\"}],\"scattergeo\":[{\"type\":\"scattergeo\",\"marker\":{\"colorbar\":{\"outlinewidth\":0,\"ticks\":\"\"}}}],\"scatterpolar\":[{\"type\":\"scatterpolar\",\"marker\":{\"colorbar\":{\"outlinewidth\":0,\"ticks\":\"\"}}}],\"histogram\":[{\"marker\":{\"pattern\":{\"fillmode\":\"overlay\",\"size\":10,\"solidity\":0.2}},\"type\":\"histogram\"}],\"scattergl\":[{\"type\":\"scattergl\",\"marker\":{\"colorbar\":{\"outlinewidth\":0,\"ticks\":\"\"}}}],\"scatter3d\":[{\"type\":\"scatter3d\",\"line\":{\"colorbar\":{\"outlinewidth\":0,\"ticks\":\"\"}},\"marker\":{\"colorbar\":{\"outlinewidth\":0,\"ticks\":\"\"}}}],\"scattermapbox\":[{\"type\":\"scattermapbox\",\"marker\":{\"colorbar\":{\"outlinewidth\":0,\"ticks\":\"\"}}}],\"scatterternary\":[{\"type\":\"scatterternary\",\"marker\":{\"colorbar\":{\"outlinewidth\":0,\"ticks\":\"\"}}}],\"scattercarpet\":[{\"type\":\"scattercarpet\",\"marker\":{\"colorbar\":{\"outlinewidth\":0,\"ticks\":\"\"}}}],\"carpet\":[{\"aaxis\":{\"endlinecolor\":\"#2a3f5f\",\"gridcolor\":\"white\",\"linecolor\":\"white\",\"minorgridcolor\":\"white\",\"startlinecolor\":\"#2a3f5f\"},\"baxis\":{\"endlinecolor\":\"#2a3f5f\",\"gridcolor\":\"white\",\"linecolor\":\"white\",\"minorgridcolor\":\"white\",\"startlinecolor\":\"#2a3f5f\"},\"type\":\"carpet\"}],\"table\":[{\"cells\":{\"fill\":{\"color\":\"#EBF0F8\"},\"line\":{\"color\":\"white\"}},\"header\":{\"fill\":{\"color\":\"#C8D4E3\"},\"line\":{\"color\":\"white\"}},\"type\":\"table\"}],\"barpolar\":[{\"marker\":{\"line\":{\"color\":\"#E5ECF6\",\"width\":0.5},\"pattern\":{\"fillmode\":\"overlay\",\"size\":10,\"solidity\":0.2}},\"type\":\"barpolar\"}],\"pie\":[{\"automargin\":true,\"type\":\"pie\"}]},\"layout\":{\"autotypenumbers\":\"strict\",\"colorway\":[\"#636efa\",\"#EF553B\",\"#00cc96\",\"#ab63fa\",\"#FFA15A\",\"#19d3f3\",\"#FF6692\",\"#B6E880\",\"#FF97FF\",\"#FECB52\"],\"font\":{\"color\":\"#2a3f5f\"},\"hovermode\":\"closest\",\"hoverlabel\":{\"align\":\"left\"},\"paper_bgcolor\":\"white\",\"plot_bgcolor\":\"#E5ECF6\",\"polar\":{\"bgcolor\":\"#E5ECF6\",\"angularaxis\":{\"gridcolor\":\"white\",\"linecolor\":\"white\",\"ticks\":\"\"},\"radialaxis\":{\"gridcolor\":\"white\",\"linecolor\":\"white\",\"ticks\":\"\"}},\"ternary\":{\"bgcolor\":\"#E5ECF6\",\"aaxis\":{\"gridcolor\":\"white\",\"linecolor\":\"white\",\"ticks\":\"\"},\"baxis\":{\"gridcolor\":\"white\",\"linecolor\":\"white\",\"ticks\":\"\"},\"caxis\":{\"gridcolor\":\"white\",\"linecolor\":\"white\",\"ticks\":\"\"}},\"coloraxis\":{\"colorbar\":{\"outlinewidth\":0,\"ticks\":\"\"}},\"colorscale\":{\"sequential\":[[0.0,\"#0d0887\"],[0.1111111111111111,\"#46039f\"],[0.2222222222222222,\"#7201a8\"],[0.3333333333333333,\"#9c179e\"],[0.4444444444444444,\"#bd3786\"],[0.5555555555555556,\"#d8576b\"],[0.6666666666666666,\"#ed7953\"],[0.7777777777777778,\"#fb9f3a\"],[0.8888888888888888,\"#fdca26\"],[1.0,\"#f0f921\"]],\"sequentialminus\":[[0.0,\"#0d0887\"],[0.1111111111111111,\"#46039f\"],[0.2222222222222222,\"#7201a8\"],[0.3333333333333333,\"#9c179e\"],[0.4444444444444444,\"#bd3786\"],[0.5555555555555556,\"#d8576b\"],[0.6666666666666666,\"#ed7953\"],[0.7777777777777778,\"#fb9f3a\"],[0.8888888888888888,\"#fdca26\"],[1.0,\"#f0f921\"]],\"diverging\":[[0,\"#8e0152\"],[0.1,\"#c51b7d\"],[0.2,\"#de77ae\"],[0.3,\"#f1b6da\"],[0.4,\"#fde0ef\"],[0.5,\"#f7f7f7\"],[0.6,\"#e6f5d0\"],[0.7,\"#b8e186\"],[0.8,\"#7fbc41\"],[0.9,\"#4d9221\"],[1,\"#276419\"]]},\"xaxis\":{\"gridcolor\":\"white\",\"linecolor\":\"white\",\"ticks\":\"\",\"title\":{\"standoff\":15},\"zerolinecolor\":\"white\",\"automargin\":true,\"zerolinewidth\":2},\"yaxis\":{\"gridcolor\":\"white\",\"linecolor\":\"white\",\"ticks\":\"\",\"title\":{\"standoff\":15},\"zerolinecolor\":\"white\",\"automargin\":true,\"zerolinewidth\":2},\"scene\":{\"xaxis\":{\"backgroundcolor\":\"#E5ECF6\",\"gridcolor\":\"white\",\"linecolor\":\"white\",\"showbackground\":true,\"ticks\":\"\",\"zerolinecolor\":\"white\",\"gridwidth\":2},\"yaxis\":{\"backgroundcolor\":\"#E5ECF6\",\"gridcolor\":\"white\",\"linecolor\":\"white\",\"showbackground\":true,\"ticks\":\"\",\"zerolinecolor\":\"white\",\"gridwidth\":2},\"zaxis\":{\"backgroundcolor\":\"#E5ECF6\",\"gridcolor\":\"white\",\"linecolor\":\"white\",\"showbackground\":true,\"ticks\":\"\",\"zerolinecolor\":\"white\",\"gridwidth\":2}},\"shapedefaults\":{\"line\":{\"color\":\"#2a3f5f\"}},\"annotationdefaults\":{\"arrowcolor\":\"#2a3f5f\",\"arrowhead\":0,\"arrowwidth\":1},\"geo\":{\"bgcolor\":\"white\",\"landcolor\":\"#E5ECF6\",\"subunitcolor\":\"white\",\"showland\":true,\"showlakes\":true,\"lakecolor\":\"white\"},\"title\":{\"x\":0.05},\"mapbox\":{\"style\":\"light\"}}},\"legend\":{\"tracegroupgap\":0},\"margin\":{\"t\":60},\"height\":600,\"width\":900,\"title\":{\"text\":\"Composición de las ventas por kilo por servicio\"}},                        {\"responsive\": true}                    ).then(function(){\n",
       "                            \n",
       "var gd = document.getElementById('d74d8467-08a7-4380-b0ba-634724d4c4c3');\n",
       "var x = new MutationObserver(function (mutations, observer) {{\n",
       "        var display = window.getComputedStyle(gd).display;\n",
       "        if (!display || display === 'none') {{\n",
       "            console.log([gd, 'removed!']);\n",
       "            Plotly.purge(gd);\n",
       "            observer.disconnect();\n",
       "        }}\n",
       "}});\n",
       "\n",
       "// Listen for the removal of the full notebook cells\n",
       "var notebookContainer = gd.closest('#notebook-container');\n",
       "if (notebookContainer) {{\n",
       "    x.observe(notebookContainer, {childList: true});\n",
       "}}\n",
       "\n",
       "// Listen for the clearing of the current output cell\n",
       "var outputEl = gd.closest('.output');\n",
       "if (outputEl) {{\n",
       "    x.observe(outputEl, {childList: true});\n",
       "}}\n",
       "\n",
       "                        })                };                });            </script>        </div>"
      ]
     },
     "metadata": {},
     "output_type": "display_data"
    }
   ],
   "source": [
    "fig = px.sunburst(df_servicios_ultimo_ano, path=['Servicio', 'Motivo'], values='Guias_Peso',\n",
    "                  color='Motivo', hover_data=['Motivo'], \n",
    "                  width=900, height=600)\n",
    "fig.update_layout(title= 'Composición de las ventas por kilo por servicio')\n",
    "fig.show()"
   ]
  },
  {
   "cell_type": "markdown",
   "metadata": {},
   "source": [
    "#### Top 10 Motivos "
   ]
  },
  {
   "cell_type": "code",
   "execution_count": 117,
   "metadata": {},
   "outputs": [
    {
     "name": "stderr",
     "output_type": "stream",
     "text": [
      "C:\\Users\\Bravo15\\AppData\\Local\\Temp\\ipykernel_17820\\1944926756.py:1: FutureWarning:\n",
      "\n",
      "Indexing with multiple keys (implicitly converted to a tuple of keys) will be deprecated, use a list instead.\n",
      "\n"
     ]
    },
    {
     "data": {
      "text/html": [
       "<div>\n",
       "<style scoped>\n",
       "    .dataframe tbody tr th:only-of-type {\n",
       "        vertical-align: middle;\n",
       "    }\n",
       "\n",
       "    .dataframe tbody tr th {\n",
       "        vertical-align: top;\n",
       "    }\n",
       "\n",
       "    .dataframe thead th {\n",
       "        text-align: right;\n",
       "    }\n",
       "</style>\n",
       "<table border=\"1\" class=\"dataframe\">\n",
       "  <thead>\n",
       "    <tr style=\"text-align: right;\">\n",
       "      <th></th>\n",
       "      <th></th>\n",
       "      <th>Guias_Peso</th>\n",
       "    </tr>\n",
       "    <tr>\n",
       "      <th>Servicio</th>\n",
       "      <th>Motivo</th>\n",
       "      <th></th>\n",
       "    </tr>\n",
       "  </thead>\n",
       "  <tbody>\n",
       "    <tr>\n",
       "      <th>Impo</th>\n",
       "      <th>USA FLAT</th>\n",
       "      <td>671980.80</td>\n",
       "    </tr>\n",
       "    <tr>\n",
       "      <th>Expo</th>\n",
       "      <th>Exporta Simple - Puerta-Aeropuerto</th>\n",
       "      <td>448001.95</td>\n",
       "    </tr>\n",
       "    <tr>\n",
       "      <th rowspan=\"3\" valign=\"top\">Impo</th>\n",
       "      <th>ORIENTE UPS</th>\n",
       "      <td>237058.38</td>\n",
       "    </tr>\n",
       "    <tr>\n",
       "      <th>NO USAR IB IMPO MUNDIAL  Geobox 53</th>\n",
       "      <td>129644.11</td>\n",
       "    </tr>\n",
       "    <tr>\n",
       "      <th>USA INSUA</th>\n",
       "      <td>101597.60</td>\n",
       "    </tr>\n",
       "    <tr>\n",
       "      <th>Expo</th>\n",
       "      <th>CARGA AEREA EXPO PREPAID</th>\n",
       "      <td>90786.65</td>\n",
       "    </tr>\n",
       "    <tr>\n",
       "      <th rowspan=\"3\" valign=\"top\">Impo</th>\n",
       "      <th>Courier Oriente FLAT Wish/Latin logistic</th>\n",
       "      <td>87072.31</td>\n",
       "    </tr>\n",
       "    <tr>\n",
       "      <th>TVH PPD USA</th>\n",
       "      <td>75605.00</td>\n",
       "    </tr>\n",
       "    <tr>\n",
       "      <th>UPS MERCOSUR</th>\n",
       "      <td>63206.37</td>\n",
       "    </tr>\n",
       "    <tr>\n",
       "      <th>Expo</th>\n",
       "      <th>CARGA AEREA EXPO - Q</th>\n",
       "      <td>57592.60</td>\n",
       "    </tr>\n",
       "  </tbody>\n",
       "</table>\n",
       "</div>"
      ],
      "text/plain": [
       "                                                   Guias_Peso\n",
       "Servicio Motivo                                              \n",
       "Impo     USA FLAT                                   671980.80\n",
       "Expo     Exporta Simple - Puerta-Aeropuerto         448001.95\n",
       "Impo     ORIENTE UPS                                237058.38\n",
       "         NO USAR IB IMPO MUNDIAL  Geobox 53         129644.11\n",
       "         USA INSUA                                  101597.60\n",
       "Expo     CARGA AEREA EXPO PREPAID                    90786.65\n",
       "Impo     Courier Oriente FLAT Wish/Latin logistic    87072.31\n",
       "         TVH PPD USA                                 75605.00\n",
       "         UPS MERCOSUR                                63206.37\n",
       "Expo     CARGA AEREA EXPO - Q                        57592.60"
      ]
     },
     "execution_count": 117,
     "metadata": {},
     "output_type": "execute_result"
    }
   ],
   "source": [
    "df_resumen= df_servicios_ultimo_ano.groupby(['Servicio','Motivo'])['Guias_Peso', 'Servicio'].sum().sort_values(by='Guias_Peso', ascending= False)\n",
    "df_resumen.head(10)"
   ]
  },
  {
   "cell_type": "markdown",
   "metadata": {},
   "source": [
    "Una vez obtenidos los motivos mas relevantes y los mas utilizados por los clientes, se puede observar como algunas rutas son utilizadas con mayor frecuencia que otras. Una ruta esta compuesta de varios motivos, ya que para un mismo origen o destino se pueden elegir entre varios agentes y proveedores de acuerdo a las necesidades del cliente lo que determinara cual sera su motivo de venta. En este sentido, podemos observar como la ruta USA que integra los motivos: 528 USA FLAT, 599 TVH PPD USA, USA MIX y USA INSUA, es la ruta que en su conjunto suma mas.  "
   ]
  },
  {
   "cell_type": "markdown",
   "metadata": {},
   "source": [
    "#### Top 5 Motivos Impo"
   ]
  },
  {
   "cell_type": "code",
   "execution_count": 123,
   "metadata": {},
   "outputs": [
    {
     "name": "stderr",
     "output_type": "stream",
     "text": [
      "C:\\Users\\Bravo15\\AppData\\Local\\Temp\\ipykernel_17820\\1798605061.py:1: FutureWarning:\n",
      "\n",
      "Indexing with multiple keys (implicitly converted to a tuple of keys) will be deprecated, use a list instead.\n",
      "\n"
     ]
    },
    {
     "data": {
      "text/html": [
       "<div>\n",
       "<style scoped>\n",
       "    .dataframe tbody tr th:only-of-type {\n",
       "        vertical-align: middle;\n",
       "    }\n",
       "\n",
       "    .dataframe tbody tr th {\n",
       "        vertical-align: top;\n",
       "    }\n",
       "\n",
       "    .dataframe thead th {\n",
       "        text-align: right;\n",
       "    }\n",
       "</style>\n",
       "<table border=\"1\" class=\"dataframe\">\n",
       "  <thead>\n",
       "    <tr style=\"text-align: right;\">\n",
       "      <th></th>\n",
       "      <th>Guias_Peso</th>\n",
       "    </tr>\n",
       "    <tr>\n",
       "      <th>Motivo</th>\n",
       "      <th></th>\n",
       "    </tr>\n",
       "  </thead>\n",
       "  <tbody>\n",
       "    <tr>\n",
       "      <th>USA FLAT</th>\n",
       "      <td>671980.80</td>\n",
       "    </tr>\n",
       "    <tr>\n",
       "      <th>ORIENTE UPS</th>\n",
       "      <td>237058.38</td>\n",
       "    </tr>\n",
       "    <tr>\n",
       "      <th>NO USAR IB IMPO MUNDIAL  Geobox 53</th>\n",
       "      <td>129644.11</td>\n",
       "    </tr>\n",
       "    <tr>\n",
       "      <th>USA INSUA</th>\n",
       "      <td>101597.60</td>\n",
       "    </tr>\n",
       "    <tr>\n",
       "      <th>Courier Oriente FLAT Wish/Latin logistic</th>\n",
       "      <td>87072.31</td>\n",
       "    </tr>\n",
       "  </tbody>\n",
       "</table>\n",
       "</div>"
      ],
      "text/plain": [
       "                                          Guias_Peso\n",
       "Motivo                                              \n",
       "USA FLAT                                   671980.80\n",
       "ORIENTE UPS                                237058.38\n",
       "NO USAR IB IMPO MUNDIAL  Geobox 53         129644.11\n",
       "USA INSUA                                  101597.60\n",
       "Courier Oriente FLAT Wish/Latin logistic    87072.31"
      ]
     },
     "execution_count": 123,
     "metadata": {},
     "output_type": "execute_result"
    }
   ],
   "source": [
    "df_servicios_ultimo_ano[df_servicios_ultimo_ano['Servicio'] == 'Impo'].groupby(['Motivo'])['Guias_Peso', 'Servicio'].sum().sort_values(by='Guias_Peso', ascending= False).head(5)"
   ]
  },
  {
   "cell_type": "markdown",
   "metadata": {},
   "source": [
    "Para analizar cada motivo por separado, creare un dataset por cada uno. "
   ]
  },
  {
   "cell_type": "markdown",
   "metadata": {},
   "source": []
  }
 ],
 "metadata": {
  "kernelspec": {
   "display_name": "my-proj",
   "language": "python",
   "name": "python3"
  },
  "language_info": {
   "codemirror_mode": {
    "name": "ipython",
    "version": 3
   },
   "file_extension": ".py",
   "mimetype": "text/x-python",
   "name": "python",
   "nbconvert_exporter": "python",
   "pygments_lexer": "ipython3",
   "version": "3.9.12"
  },
  "orig_nbformat": 4
 },
 "nbformat": 4,
 "nbformat_minor": 2
}
