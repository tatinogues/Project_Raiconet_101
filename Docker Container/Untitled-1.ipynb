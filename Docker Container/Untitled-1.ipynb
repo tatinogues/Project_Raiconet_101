{
 "cells": [
  {
   "cell_type": "markdown",
   "metadata": {},
   "source": [
    "prueba modelo "
   ]
  },
  {
   "cell_type": "code",
   "execution_count": 1,
   "metadata": {},
   "outputs": [],
   "source": [
    "import pandas as pd\n",
    "import boto3\n",
    "import io\n",
    "import datetime\n",
    "from datetime import date, timedelta\n",
    "from credentials import aws_access_key_id, aws_secret_access_key, region_name\n",
    "import numpy as np\n",
    "\n",
    "\n",
    "from gluonts.dataset.pandas import PandasDataset\n",
    "from gluonts.torch.model.deepar import DeepAREstimator\n",
    "from gluonts.torch.distributions import NegativeBinomialOutput"
   ]
  },
  {
   "cell_type": "code",
   "execution_count": 38,
   "metadata": {},
   "outputs": [],
   "source": [
    "def read_s3():\n",
    "    '''Descarga un archivo desde un bucket de S3 y carga los datos en un DataFrame'''\n",
    "\n",
    "    s3 = boto3.client('s3', aws_access_key_id=aws_access_key_id,\n",
    "                      aws_secret_access_key=aws_secret_access_key,\n",
    "                      region_name=region_name)\n",
    "\n",
    "    bucket_name = 'proyectotati'\n",
    "    s3_file_name = 'data.csv'\n",
    "\n",
    "    try:\n",
    "\n",
    "        response = s3.get_object(Bucket=bucket_name, Key=s3_file_name)\n",
    "\n",
    "        # Lee el contenido del archivo en un DataFrame\n",
    "        df = pd.read_csv(io.BytesIO(response['Body'].read()))\n",
    "        df['ds'] = pd.to_datetime(df['ds'])\n",
    "\n",
    "        return df\n",
    "\n",
    "    except Exception as e:\n",
    "        print(f'Error al cargar el archivo desde S3: {str(e)}')\n",
    "        return None\n",
    "\n"
   ]
  },
  {
   "cell_type": "code",
   "execution_count": 44,
   "metadata": {},
   "outputs": [],
   "source": [
    "df = read_s3()"
   ]
  },
  {
   "cell_type": "markdown",
   "metadata": {},
   "source": [
    "df = read_s3()\n",
    "df.drop_duplicates(inplace=True)\n",
    "\n",
    "df['y'] = df['y'].astype(int)"
   ]
  },
  {
   "cell_type": "markdown",
   "metadata": {},
   "source": [
    "df = df.reset_index(drop=True)\n",
    "df.index"
   ]
  },
  {
   "cell_type": "code",
   "execution_count": 33,
   "metadata": {},
   "outputs": [
    {
     "data": {
      "text/html": [
       "<div>\n",
       "<style scoped>\n",
       "    .dataframe tbody tr th:only-of-type {\n",
       "        vertical-align: middle;\n",
       "    }\n",
       "\n",
       "    .dataframe tbody tr th {\n",
       "        vertical-align: top;\n",
       "    }\n",
       "\n",
       "    .dataframe thead th {\n",
       "        text-align: right;\n",
       "    }\n",
       "</style>\n",
       "<table border=\"1\" class=\"dataframe\">\n",
       "  <thead>\n",
       "    <tr style=\"text-align: right;\">\n",
       "      <th></th>\n",
       "      <th>ds</th>\n",
       "      <th>unique_id</th>\n",
       "    </tr>\n",
       "  </thead>\n",
       "  <tbody>\n",
       "    <tr>\n",
       "      <th>0</th>\n",
       "      <td>2019-01-06</td>\n",
       "      <td>expo_4</td>\n",
       "    </tr>\n",
       "    <tr>\n",
       "      <th>1</th>\n",
       "      <td>2019-01-06</td>\n",
       "      <td>expo_5</td>\n",
       "    </tr>\n",
       "    <tr>\n",
       "      <th>2</th>\n",
       "      <td>2019-01-06</td>\n",
       "      <td>expo_3</td>\n",
       "    </tr>\n",
       "    <tr>\n",
       "      <th>3</th>\n",
       "      <td>2019-01-06</td>\n",
       "      <td>expo_2</td>\n",
       "    </tr>\n",
       "    <tr>\n",
       "      <th>4</th>\n",
       "      <td>2019-01-06</td>\n",
       "      <td>impo_3</td>\n",
       "    </tr>\n",
       "  </tbody>\n",
       "</table>\n",
       "</div>"
      ],
      "text/plain": [
       "          ds unique_id\n",
       "0 2019-01-06    expo_4\n",
       "1 2019-01-06    expo_5\n",
       "2 2019-01-06    expo_3\n",
       "3 2019-01-06    expo_2\n",
       "4 2019-01-06    impo_3"
      ]
     },
     "execution_count": 33,
     "metadata": {},
     "output_type": "execute_result"
    }
   ],
   "source": [
    "# Especifica la fecha de inicio y fin para el rango de fechas deseado\n",
    "fecha_fin= pd.to_datetime(date(2023,10,1))\n",
    "fecha_inicio= pd.to_datetime(date(2019,1,1)) # Reemplaza 'fecha_final' con la fecha de fin adecuada\n",
    "\n",
    "# Crea un rango de fechas semanal\n",
    "rango_fechas = pd.date_range(start=fecha_inicio, end=fecha_fin, freq='W')\n",
    "\n",
    "# Crea un DataFrame con todas las combinaciones posibles de 'ds' y 'unique_id' en el rango de fechas\n",
    "combinaciones = pd.MultiIndex.from_product([rango_fechas, df['unique_id'].unique()], names=['ds', 'unique_id'])\n",
    "df_combinado = pd.DataFrame(index=combinaciones).reset_index()\n",
    "df_combinado.head()"
   ]
  },
  {
   "cell_type": "code",
   "execution_count": 34,
   "metadata": {},
   "outputs": [],
   "source": [
    "\n",
    "# Fusiona tu DataFrame original con el DataFrame combinado para llenar los valores faltantes\n",
    "df2 = df_combinado.merge(df, on=['ds', 'unique_id'], how='left')\n",
    "\n",
    "# Llena los valores faltantes con 0\n",
    "df2['y'] = df['y'].fillna(0)"
   ]
  },
  {
   "cell_type": "code",
   "execution_count": 45,
   "metadata": {},
   "outputs": [],
   "source": [
    "train = df\n",
    "\n",
    "train_ds = PandasDataset.from_long_dataframe(train,\n",
    "                                             target='y',\n",
    "                                             item_id='unique_id',\n",
    "                                             timestamp='ds',\n",
    "                                             freq='W')"
   ]
  },
  {
   "cell_type": "code",
   "execution_count": 46,
   "metadata": {},
   "outputs": [],
   "source": [
    "estimator = DeepAREstimator(freq='W', #la frecuencia de los datos es semanal por lo que el modelo debe ser semanal tambien\n",
    "                            context_length=10, # el modelo va a usar las ultimas 10 semanas para predecir las siguientes 10, window de 10\n",
    "                            prediction_length=10, # va a predecir las proximas 10 semanas \n",
    "                            num_layers=4, #el modelo posee tres capas con un default de 40 nodos por capa \n",
    "                            dropout_rate= 0.2, #seteo de 20% de las units en una layer en cero de forma random\n",
    "                            trainer_kwargs={ 'max_epochs':10},#210 epochs\n",
    "                            distr_output= NegativeBinomialOutput()) #el default es Distribucion t-student, pero al usar negative binomial permite que las predicciones no tomen valores negativos"
   ]
  },
  {
   "cell_type": "code",
   "execution_count": 47,
   "metadata": {},
   "outputs": [
    {
     "name": "stderr",
     "output_type": "stream",
     "text": [
      "GPU available: False, used: False\n",
      "TPU available: False, using: 0 TPU cores\n",
      "IPU available: False, using: 0 IPUs\n",
      "HPU available: False, using: 0 HPUs\n"
     ]
    },
    {
     "name": "stderr",
     "output_type": "stream",
     "text": [
      "c:\\Users\\Bravo15\\anaconda3\\envs\\modelling-torch\\lib\\site-packages\\pytorch_lightning\\trainer\\configuration_validator.py:108: PossibleUserWarning: You defined a `validation_step` but have no `val_dataloader`. Skipping val loop.\n",
      "  rank_zero_warn(\n",
      "\n",
      "  | Name  | Type        | Params | In sizes | Out sizes   \n",
      "----------------------------------------------------------------\n",
      "0 | model | DeepARModel | 50.0 K | ?        | [1, 100, 10]\n",
      "----------------------------------------------------------------\n",
      "50.0 K    Trainable params\n",
      "0         Non-trainable params\n",
      "50.0 K    Total params\n",
      "0.200     Total estimated model params size (MB)\n"
     ]
    },
    {
     "data": {
      "application/vnd.jupyter.widget-view+json": {
       "model_id": "bc332381ed1a4e04874d515727df3efe",
       "version_major": 2,
       "version_minor": 0
      },
      "text/plain": [
       "Training: 0it [00:00, ?it/s]"
      ]
     },
     "metadata": {},
     "output_type": "display_data"
    },
    {
     "name": "stderr",
     "output_type": "stream",
     "text": [
      "Epoch 0, global step 50: 'train_loss' reached 6.48058 (best 6.48058), saving model to 'c:\\\\Users\\\\Bravo15\\\\Desktop\\\\raico\\\\Proyecto final\\\\Project_Raiconet_101\\\\Docker Container\\\\lightning_logs\\\\version_3\\\\checkpoints\\\\epoch=0-step=50.ckpt' as top 1\n",
      "c:\\Users\\Bravo15\\anaconda3\\envs\\modelling-torch\\lib\\site-packages\\pytorch_lightning\\trainer\\call.py:48: UserWarning: Detected KeyboardInterrupt, attempting graceful shutdown...\n",
      "  rank_zero_warn(\"Detected KeyboardInterrupt, attempting graceful shutdown...\")\n"
     ]
    }
   ],
   "source": [
    "predictor = estimator.train(train_ds)"
   ]
  },
  {
   "cell_type": "code",
   "execution_count": 41,
   "metadata": {},
   "outputs": [],
   "source": [
    "import datetime\n",
    "from datetime import date"
   ]
  },
  {
   "cell_type": "code",
   "execution_count": 42,
   "metadata": {},
   "outputs": [
    {
     "data": {
      "text/plain": [
       "datetime.date(2023, 10, 16)"
      ]
     },
     "execution_count": 42,
     "metadata": {},
     "output_type": "execute_result"
    }
   ],
   "source": [
    "date.today()"
   ]
  },
  {
   "cell_type": "code",
   "execution_count": 48,
   "metadata": {},
   "outputs": [
    {
     "data": {
      "text/plain": [
       "Timestamp('2023-10-09 00:00:00')"
      ]
     },
     "execution_count": 48,
     "metadata": {},
     "output_type": "execute_result"
    }
   ],
   "source": [
    "pd.to_datetime(date.today()) - timedelta(days=7)"
   ]
  },
  {
   "cell_type": "code",
   "execution_count": null,
   "metadata": {},
   "outputs": [],
   "source": []
  }
 ],
 "metadata": {
  "kernelspec": {
   "display_name": "modelling-torch",
   "language": "python",
   "name": "python3"
  },
  "language_info": {
   "codemirror_mode": {
    "name": "ipython",
    "version": 3
   },
   "file_extension": ".py",
   "mimetype": "text/x-python",
   "name": "python",
   "nbconvert_exporter": "python",
   "pygments_lexer": "ipython3",
   "version": "3.10.6"
  }
 },
 "nbformat": 4,
 "nbformat_minor": 2
}
