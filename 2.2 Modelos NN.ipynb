{
 "cells": [
  {
   "cell_type": "markdown",
   "metadata": {},
   "source": [
    "# Project 101\n",
    "### PARTE 2.3 - Modelos Redes Neuronales"
   ]
  },
  {
   "cell_type": "markdown",
   "metadata": {},
   "source": [
    "### Contenido\n",
    "- [Modelado](#modelos)\n",
    "\n",
    "    - [**2.1. Machine Learning Simple**](#1)\n",
    "        - [Dicky Fuller Test](#1.1)\n",
    "        - [Autocorrelacion y Autocorrelacion Parcial](#1.2)\n",
    "        - [SARIMAX model](#1.3)\n",
    "     - [**2.2. Machine Learning Nixtla Conjunto**](#1)\n",
    "     - [**2.1. Machine Learning Nixtla Conjunto + variable exogena**](#1)\n",
    "\n",
    "    - [Resultados](#resultados)"
   ]
  },
  {
   "cell_type": "code",
   "execution_count": 1,
   "metadata": {},
   "outputs": [
    {
     "name": "stderr",
     "output_type": "stream",
     "text": [
      "c:\\Users\\Bravo15\\anaconda3\\envs\\modelling-torch\\lib\\site-packages\\gluonts\\json.py:101: UserWarning: Using `json`-module for json-handling. Consider installing one of `orjson`, `ujson` to speed up serialization and deserialization.\n",
      "  warnings.warn(\n"
     ]
    }
   ],
   "source": [
    "import pandas as pd\n",
    "import matplotlib.pyplot as plt\n",
    "import numpy as np\n",
    "\n",
    "import time\n",
    "time.clock = time.time\n",
    "\n",
    "from gluonts.dataset.pandas import PandasDataset\n",
    "from gluonts.torch.model.deepar import DeepAREstimator\n",
    "\n",
    "from sklearn.metrics import mean_squared_error, mean_absolute_error\n"
   ]
  },
  {
   "cell_type": "markdown",
   "metadata": {},
   "source": [
    "__Importamos los datos__"
   ]
  },
  {
   "cell_type": "code",
   "execution_count": 2,
   "metadata": {},
   "outputs": [],
   "source": [
    "df_impo_1= pd.read_csv('Data/Modelado/impo 1 - USA FLAT.csv')\n",
    "df_impo_2= pd.read_csv('Data/Modelado/impo 2 - ORIENTE UPS.csv')\n",
    "df_impo_3= pd.read_csv('Data/Modelado/impo 3 - CHINA LATIN LOGISTIC.csv')\n",
    "df_impo_4= pd.read_csv('Data/Modelado/impo 4 - EUROPA UPS.csv')\n",
    "df_impo_5= pd.read_csv('Data/Modelado/impo 5 - Courier Oriente FLAT Wish.csv')\n",
    "df_impo_6= pd.read_csv('Data/Modelado/impo 6 - Impo Geobox Flat.csv')\n",
    "df_impo_7= pd.read_csv('Data/Modelado/impo 7 - UPS MERCOSUR.csv')\n",
    "\n",
    "df_expo_1= pd.read_csv('Data/Modelado/expo 1 - Exporta Simple - Puerta-Aeropuerto.csv')\n",
    "df_expo_2= pd.read_csv('Data/Modelado/expo 2 - CARGA AEREA EXPO PREPAID.csv')\n",
    "df_expo_3= pd.read_csv('Data/Modelado/expo 3 - CARGA AEREA EXPO - Q.csv')\n",
    "df_expo_4= pd.read_csv('Data/Modelado/expo 4 - 4-Expo - Fedex Economy.csv')\n",
    "df_expo_5= pd.read_csv('Data/Modelado/expo 5 - 6-Expo-UPS Express.csv')"
   ]
  },
  {
   "cell_type": "code",
   "execution_count": 3,
   "metadata": {},
   "outputs": [],
   "source": [
    "comparison_tbl= pd.read_csv('Data/Modelado/comparison_tbl.csv')"
   ]
  },
  {
   "cell_type": "markdown",
   "metadata": {},
   "source": [
    "__Funciones Utiles__"
   ]
  },
  {
   "cell_type": "code",
   "execution_count": 4,
   "metadata": {},
   "outputs": [],
   "source": [
    "#para obtener la metrica de smape\n",
    "def calculate_smape(actual_values, forecasted_values):\n",
    "    absolute_percentage_errors = []\n",
    "    \n",
    "    for actual, forecasted in zip(actual_values, forecasted_values):\n",
    "        numerator = abs(actual - forecasted)\n",
    "        denominator = (abs(actual) + abs(forecasted)) + 1e-9  # Agregar una constante para evitar división por cero\n",
    "        ape = numerator / (denominator / 2)\n",
    "        absolute_percentage_errors.append(ape)\n",
    "    \n",
    "    smape = sum(absolute_percentage_errors) / len(absolute_percentage_errors)\n",
    "    return smape\n",
    "\n",
    "def wmape(y_true, y_pred):\n",
    "    return np.abs(y_true - y_pred).sum() / np.abs(y_true).sum()\n",
    "\n",
    "def unificar_df(lista_dataframe, lista_df):\n",
    "    \n",
    "    lista_df_clean= []\n",
    "    n=0\n",
    "    \n",
    "    for df in lista_dataframe: \n",
    "        df[['family']]= lista_df[n][3:]\n",
    "        dff = df[['family','ds', 'y']]\n",
    "        lista_df_clean.append(dff)\n",
    "        n+=1\n",
    "    \n",
    "    df_unificado= pd.concat(lista_df_clean)\n",
    "    df_unificado=df_unificado[['ds', 'family', 'y']]\n",
    "    \n",
    "    return df_unificado"
   ]
  },
  {
   "cell_type": "code",
   "execution_count": 5,
   "metadata": {},
   "outputs": [],
   "source": [
    "lista_df= ['df_impo_1', 'df_impo_2', 'df_impo_3', 'df_impo_4', 'df_impo_5','df_impo_6', 'df_impo_7',\n",
    "           'df_expo_1', 'df_expo_2', 'df_expo_3', 'df_expo_4', 'df_expo_5']\n",
    "\n",
    "lista_dataframe= [df_impo_1, df_impo_2, df_impo_3, df_impo_4, df_impo_5,df_impo_6, df_impo_7,\n",
    "           df_expo_1, df_expo_2, df_expo_3, df_expo_4, df_expo_5]\n",
    "\n",
    "df = unificar_df(lista_dataframe, lista_df)"
   ]
  },
  {
   "cell_type": "code",
   "execution_count": 6,
   "metadata": {},
   "outputs": [
    {
     "data": {
      "text/html": [
       "<div>\n",
       "<style scoped>\n",
       "    .dataframe tbody tr th:only-of-type {\n",
       "        vertical-align: middle;\n",
       "    }\n",
       "\n",
       "    .dataframe tbody tr th {\n",
       "        vertical-align: top;\n",
       "    }\n",
       "\n",
       "    .dataframe thead th {\n",
       "        text-align: right;\n",
       "    }\n",
       "</style>\n",
       "<table border=\"1\" class=\"dataframe\">\n",
       "  <thead>\n",
       "    <tr style=\"text-align: right;\">\n",
       "      <th></th>\n",
       "      <th>ds</th>\n",
       "      <th>family</th>\n",
       "      <th>y</th>\n",
       "    </tr>\n",
       "  </thead>\n",
       "  <tbody>\n",
       "    <tr>\n",
       "      <th>0</th>\n",
       "      <td>2019-01-06</td>\n",
       "      <td>impo_1</td>\n",
       "      <td>1950.0</td>\n",
       "    </tr>\n",
       "    <tr>\n",
       "      <th>1</th>\n",
       "      <td>2019-01-13</td>\n",
       "      <td>impo_1</td>\n",
       "      <td>2402.0</td>\n",
       "    </tr>\n",
       "    <tr>\n",
       "      <th>2</th>\n",
       "      <td>2019-01-20</td>\n",
       "      <td>impo_1</td>\n",
       "      <td>2782.0</td>\n",
       "    </tr>\n",
       "    <tr>\n",
       "      <th>3</th>\n",
       "      <td>2019-01-27</td>\n",
       "      <td>impo_1</td>\n",
       "      <td>3263.0</td>\n",
       "    </tr>\n",
       "    <tr>\n",
       "      <th>4</th>\n",
       "      <td>2019-02-03</td>\n",
       "      <td>impo_1</td>\n",
       "      <td>3843.0</td>\n",
       "    </tr>\n",
       "  </tbody>\n",
       "</table>\n",
       "</div>"
      ],
      "text/plain": [
       "          ds  family       y\n",
       "0 2019-01-06  impo_1  1950.0\n",
       "1 2019-01-13  impo_1  2402.0\n",
       "2 2019-01-20  impo_1  2782.0\n",
       "3 2019-01-27  impo_1  3263.0\n",
       "4 2019-02-03  impo_1  3843.0"
      ]
     },
     "execution_count": 6,
     "metadata": {},
     "output_type": "execute_result"
    }
   ],
   "source": [
    "df['ds']= pd.to_datetime(df['ds'])\n",
    "df.head()"
   ]
  },
  {
   "cell_type": "markdown",
   "metadata": {},
   "source": [
    "#### 2.3.1 Glounts Deep Ar\n"
   ]
  },
  {
   "cell_type": "markdown",
   "metadata": {},
   "source": [
    "Definimos el set de train y test"
   ]
  },
  {
   "cell_type": "code",
   "execution_count": 7,
   "metadata": {},
   "outputs": [],
   "source": [
    "train = df.loc[df['ds'] < '2022-11-01']\n",
    "valid = df.loc[df['ds'] >= '2022-11-01']"
   ]
  },
  {
   "cell_type": "code",
   "execution_count": 8,
   "metadata": {},
   "outputs": [],
   "source": [
    "train_ds = PandasDataset.from_long_dataframe(train, target='y', item_id='family', \n",
    "                                       timestamp='ds', freq='W')"
   ]
  },
  {
   "cell_type": "markdown",
   "metadata": {},
   "source": [
    "__Definicion del modelo DeepAr__"
   ]
  },
  {
   "cell_type": "code",
   "execution_count": 9,
   "metadata": {},
   "outputs": [
    {
     "name": "stderr",
     "output_type": "stream",
     "text": [
      "GPU available: False, used: False\n",
      "TPU available: False, using: 0 TPU cores\n",
      "IPU available: False, using: 0 IPUs\n",
      "HPU available: False, using: 0 HPUs\n",
      "c:\\Users\\Bravo15\\anaconda3\\envs\\modelling-torch\\lib\\site-packages\\pytorch_lightning\\trainer\\configuration_validator.py:71: PossibleUserWarning: You defined a `validation_step` but have no `val_dataloader`. Skipping val loop.\n",
      "  rank_zero_warn(\n",
      "\n",
      "  | Name  | Type        | Params | In sizes | Out sizes   \n",
      "----------------------------------------------------------------\n",
      "0 | model | DeepARModel | 36.9 K | ?        | [1, 100, 10]\n",
      "----------------------------------------------------------------\n",
      "36.9 K    Trainable params\n",
      "0         Non-trainable params\n",
      "36.9 K    Total params\n",
      "0.148     Total estimated model params size (MB)\n"
     ]
    },
    {
     "data": {
      "application/vnd.jupyter.widget-view+json": {
       "model_id": "8643ac8296364f1bbd3d05912285b83f",
       "version_major": 2,
       "version_minor": 0
      },
      "text/plain": [
       "Training: 0it [00:00, ?it/s]"
      ]
     },
     "metadata": {},
     "output_type": "display_data"
    },
    {
     "name": "stderr",
     "output_type": "stream",
     "text": [
      "Epoch 0, global step 50: 'train_loss' reached 7.31498 (best 7.31498), saving model to 'c:\\\\Users\\\\Bravo15\\\\Desktop\\\\raico\\\\Proyecto final\\\\Project_Raiconet_101\\\\lightning_logs\\\\version_71\\\\checkpoints\\\\epoch=0-step=50.ckpt' as top 1\n",
      "Epoch 1, global step 100: 'train_loss' reached 6.96906 (best 6.96906), saving model to 'c:\\\\Users\\\\Bravo15\\\\Desktop\\\\raico\\\\Proyecto final\\\\Project_Raiconet_101\\\\lightning_logs\\\\version_71\\\\checkpoints\\\\epoch=1-step=100.ckpt' as top 1\n",
      "Epoch 2, global step 150: 'train_loss' reached 6.79262 (best 6.79262), saving model to 'c:\\\\Users\\\\Bravo15\\\\Desktop\\\\raico\\\\Proyecto final\\\\Project_Raiconet_101\\\\lightning_logs\\\\version_71\\\\checkpoints\\\\epoch=2-step=150.ckpt' as top 1\n",
      "Epoch 3, global step 200: 'train_loss' was not in top 1\n",
      "Epoch 4, global step 250: 'train_loss' reached 6.71023 (best 6.71023), saving model to 'c:\\\\Users\\\\Bravo15\\\\Desktop\\\\raico\\\\Proyecto final\\\\Project_Raiconet_101\\\\lightning_logs\\\\version_71\\\\checkpoints\\\\epoch=4-step=250.ckpt' as top 1\n",
      "Epoch 5, global step 300: 'train_loss' reached 6.66154 (best 6.66154), saving model to 'c:\\\\Users\\\\Bravo15\\\\Desktop\\\\raico\\\\Proyecto final\\\\Project_Raiconet_101\\\\lightning_logs\\\\version_71\\\\checkpoints\\\\epoch=5-step=300.ckpt' as top 1\n",
      "Epoch 6, global step 350: 'train_loss' reached 6.61123 (best 6.61123), saving model to 'c:\\\\Users\\\\Bravo15\\\\Desktop\\\\raico\\\\Proyecto final\\\\Project_Raiconet_101\\\\lightning_logs\\\\version_71\\\\checkpoints\\\\epoch=6-step=350.ckpt' as top 1\n"
     ]
    }
   ],
   "source": [
    "tic = time.clock()\n",
    "estimator = DeepAREstimator(freq='W', #la frecuencia de los datos es semanal por lo que el modelo debe ser semanal tambien\n",
    "                            context_length=4, # el modelo va a usar las ultimas 4 semanas para predecir la siguiente \n",
    "                            prediction_length=10, # va a predecir las proximas 10 semanas \n",
    "                            num_layers=3, #el modelo posee tres capas con un default de 40 nodos por capa \n",
    "                            dropout_rate= 0.2, #seteo de 20% de las units en una layer en cero de forma random, el default es 0.1\n",
    "                            trainer_kwargs={ 'max_epochs':30}) #en vez de poner un early stopping defino un max epoch de 30\n",
    "\n",
    "predictor = estimator.train(train_ds, num_workers=2)\n",
    "\n",
    "toc =  time.clock() #frenamos el cronometro y a continuacion creamos la variable que guarda el tiempo transcurrido desde que empezo a correr el modelo hasta q termino\n",
    "exetime = '{0:.4f}'.format(toc-tic)"
   ]
  },
  {
   "cell_type": "code",
   "execution_count": null,
   "metadata": {},
   "outputs": [
    {
     "data": {
      "text/plain": [
       "0.5394275519460465"
      ]
     },
     "execution_count": 28,
     "metadata": {},
     "output_type": "execute_result"
    }
   ],
   "source": [
    "pred = list(predictor.predict(train_ds))\n",
    "\n",
    "all_preds = list()\n",
    "for item in pred:\n",
    "    family = item.item_id\n",
    "    p = item.samples.mean(axis=0)\n",
    "    p10 = np.percentile(item.samples, 10, axis=0)\n",
    "    p90 = np.percentile(item.samples, 90, axis=0)\n",
    "    p25 = np.percentile(item.samples, 25, axis=0)\n",
    "    p75 = np.percentile(item.samples, 75, axis=0)\n",
    "    dates = pd.date_range(start=item.start_date.to_timestamp(), periods=len(p), freq='W')\n",
    "    family_pred = pd.DataFrame({'ds': dates, \n",
    "                                'family': family,\n",
    "                                'pred': p,\n",
    "                                'p25': p25,\n",
    "                                'p75': p75,\n",
    "                                'p10': p10, \n",
    "                                'p90': p90})\n",
    "    all_preds += [family_pred]\n",
    "all_preds = pd.concat(all_preds, ignore_index=True)\n",
    "all_preds = all_preds.merge(valid, on=['ds', 'family'], how='left')\n",
    "\n",
    "all_preds.dropna(inplace=True)\n",
    "\n",
    "wmape(all_preds['y'], all_preds['pred'])"
   ]
  },
  {
   "cell_type": "code",
   "execution_count": null,
   "metadata": {},
   "outputs": [
    {
     "data": {
      "text/html": [
       "<div>\n",
       "<style scoped>\n",
       "    .dataframe tbody tr th:only-of-type {\n",
       "        vertical-align: middle;\n",
       "    }\n",
       "\n",
       "    .dataframe tbody tr th {\n",
       "        vertical-align: top;\n",
       "    }\n",
       "\n",
       "    .dataframe thead th {\n",
       "        text-align: right;\n",
       "    }\n",
       "</style>\n",
       "<table border=\"1\" class=\"dataframe\">\n",
       "  <thead>\n",
       "    <tr style=\"text-align: right;\">\n",
       "      <th></th>\n",
       "      <th>ds</th>\n",
       "      <th>family</th>\n",
       "      <th>pred</th>\n",
       "      <th>p25</th>\n",
       "      <th>p75</th>\n",
       "      <th>p10</th>\n",
       "      <th>p90</th>\n",
       "      <th>y</th>\n",
       "    </tr>\n",
       "  </thead>\n",
       "  <tbody>\n",
       "    <tr>\n",
       "      <th>0</th>\n",
       "      <td>2022-11-06</td>\n",
       "      <td>expo_1</td>\n",
       "      <td>1629.792847</td>\n",
       "      <td>1000.828369</td>\n",
       "      <td>2038.413666</td>\n",
       "      <td>765.331049</td>\n",
       "      <td>2527.628076</td>\n",
       "      <td>2720.4</td>\n",
       "    </tr>\n",
       "    <tr>\n",
       "      <th>1</th>\n",
       "      <td>2022-11-13</td>\n",
       "      <td>expo_1</td>\n",
       "      <td>1187.482544</td>\n",
       "      <td>846.443069</td>\n",
       "      <td>1660.420288</td>\n",
       "      <td>328.672028</td>\n",
       "      <td>2061.896509</td>\n",
       "      <td>290.1</td>\n",
       "    </tr>\n",
       "    <tr>\n",
       "      <th>2</th>\n",
       "      <td>2022-11-20</td>\n",
       "      <td>expo_1</td>\n",
       "      <td>1234.731201</td>\n",
       "      <td>873.337112</td>\n",
       "      <td>1732.976257</td>\n",
       "      <td>475.421011</td>\n",
       "      <td>2061.514209</td>\n",
       "      <td>906.0</td>\n",
       "    </tr>\n",
       "    <tr>\n",
       "      <th>3</th>\n",
       "      <td>2022-11-27</td>\n",
       "      <td>expo_1</td>\n",
       "      <td>1358.025635</td>\n",
       "      <td>938.338333</td>\n",
       "      <td>1793.695770</td>\n",
       "      <td>321.901254</td>\n",
       "      <td>2304.432690</td>\n",
       "      <td>2408.3</td>\n",
       "    </tr>\n",
       "    <tr>\n",
       "      <th>4</th>\n",
       "      <td>2022-12-04</td>\n",
       "      <td>expo_1</td>\n",
       "      <td>1328.474976</td>\n",
       "      <td>792.002075</td>\n",
       "      <td>1891.058716</td>\n",
       "      <td>-78.740099</td>\n",
       "      <td>2501.318140</td>\n",
       "      <td>326.0</td>\n",
       "    </tr>\n",
       "  </tbody>\n",
       "</table>\n",
       "</div>"
      ],
      "text/plain": [
       "          ds  family         pred          p25          p75         p10  \\\n",
       "0 2022-11-06  expo_1  1629.792847  1000.828369  2038.413666  765.331049   \n",
       "1 2022-11-13  expo_1  1187.482544   846.443069  1660.420288  328.672028   \n",
       "2 2022-11-20  expo_1  1234.731201   873.337112  1732.976257  475.421011   \n",
       "3 2022-11-27  expo_1  1358.025635   938.338333  1793.695770  321.901254   \n",
       "4 2022-12-04  expo_1  1328.474976   792.002075  1891.058716  -78.740099   \n",
       "\n",
       "           p90       y  \n",
       "0  2527.628076  2720.4  \n",
       "1  2061.896509   290.1  \n",
       "2  2061.514209   906.0  \n",
       "3  2304.432690  2408.3  \n",
       "4  2501.318140   326.0  "
      ]
     },
     "execution_count": 29,
     "metadata": {},
     "output_type": "execute_result"
    }
   ],
   "source": [
    "all_preds.head()"
   ]
  },
  {
   "cell_type": "markdown",
   "metadata": {},
   "source": [
    "__Resultados Obtenidos: Deep AR__"
   ]
  },
  {
   "cell_type": "code",
   "execution_count": null,
   "metadata": {},
   "outputs": [
    {
     "data": {
      "text/html": [
       "\n",
       "        <iframe\n",
       "            width=\"100%\"\n",
       "            height=\"650\"\n",
       "            src=\"http://127.0.0.1:8080/\"\n",
       "            frameborder=\"0\"\n",
       "            allowfullscreen\n",
       "            \n",
       "        ></iframe>\n",
       "        "
      ],
      "text/plain": [
       "<IPython.lib.display.IFrame at 0x1f61c1999c0>"
      ]
     },
     "metadata": {},
     "output_type": "display_data"
    }
   ],
   "source": [
    "from dash import Dash, dcc, html, Input, Output\n",
    "import plotly.graph_objs as go\n",
    "import plotly.express as px\n",
    "import dash_bootstrap_components as dbc\n",
    "\n",
    "app = Dash(external_stylesheets=[dbc.themes.SLATE])\n",
    "\n",
    "\n",
    "\n",
    "dropdown = dcc.Dropdown(\n",
    "    id=\"ticker\",\n",
    "    options=[{\"label\": family, \"value\": family} for family in df[\"family\"].unique()],\n",
    "    value=\"impo_1\",\n",
    "    clearable=False, \n",
    "    style={'background-color': 'grey'}\n",
    ")\n",
    "\n",
    "app.layout = html.Div([\n",
    "    html.H4('Deep AR Resultados'),\n",
    "    html.P(\"Seleccionar motivo:\"),\n",
    "    dropdown,\n",
    "    dcc.Graph(id=\"time-series-chart\"),\n",
    "])\n",
    "\n",
    "\n",
    "@app.callback(\n",
    "    Output(\"time-series-chart\", \"figure\"), \n",
    "    Input(\"ticker\", \"value\"))\n",
    "\n",
    "def display_time_series(ticker):\n",
    "    df_pivot = df.pivot(index='ds', columns='family', values='y')\n",
    "    df_pivot = df_pivot.reset_index()\n",
    "    df_pivot = df_pivot.fillna(0)\n",
    "    \n",
    "    fig = px.line(df_pivot, x='ds', y=ticker, title=ticker, template='plotly_dark')\n",
    "    fig.update_layout(plot_bgcolor='rgba(0, 0, 0, 0)',\n",
    "                      paper_bgcolor='rgba(0, 0, 0, 0)')\n",
    "    \n",
    "    #bandas de percentiles \n",
    "    p_ = all_preds.loc[all_preds['family'] == ticker]\n",
    "    fig.add_trace(go.Scatter(x=p_['ds'], y=p_['p10'], mode='lines', line=dict(color='rgba(255, 165, 0, 0.2)'), name='p10'))\n",
    "    fig.add_trace(go.Scatter(x=p_['ds'], y=p_['p90'], mode='lines', line=dict(color='rgba(255, 165, 0, 0.2)'), name='p90', fill='tonexty', fillcolor='rgba(255, 165, 0, 0.2)'))\n",
    "    fig.add_trace(go.Scatter(x=p_['ds'], y=p_['p25'], mode='lines', line=dict(color='orange'), name='p25'))\n",
    "    fig.add_trace(go.Scatter(x=p_['ds'], y=p_['p75'], mode='lines', line=dict(color='orange'), name='p75', fill='tonexty', fillcolor='rgba(255, 165, 0, 0.2)'))\n",
    "    fig.add_trace(go.Scatter(x=p_['ds'], y=p_['pred'], mode='lines', line=dict(color='orange'), name='Forecast'))\n",
    "    return fig\n",
    "\n",
    "\n",
    "if __name__ == \"__main__\":\n",
    "    app.run_server(debug=True, port=8080, mode='inline')"
   ]
  },
  {
   "cell_type": "markdown",
   "metadata": {},
   "source": [
    "__Guardamos las métricas para cada una de las series__"
   ]
  },
  {
   "cell_type": "code",
   "execution_count": null,
   "metadata": {},
   "outputs": [],
   "source": [
    "def guardar_metricas(comparison_tbl, all_preds, exetime):\n",
    "    \n",
    "    lista_family= []\n",
    "    lista_mae=[]\n",
    "    lista_rmse=[]\n",
    "    lista_smape=[]\n",
    "    lista_exetime=[]\n",
    "    \n",
    "    for fam in list(all_preds.family.unique()): \n",
    "        df_pred= all_preds[all_preds['family']== fam]\n",
    "        actual_values= df_pred['y']\n",
    "        predicted_values= df_pred['pred']\n",
    "        \n",
    "        mae = mean_absolute_error(actual_values, predicted_values)\n",
    "        rmse = np.sqrt(mean_squared_error(actual_values, predicted_values))\n",
    "        smape = calculate_smape(actual_values, predicted_values)\n",
    "        \n",
    "        lista_family.append(fam)\n",
    "        lista_mae.append(mae)\n",
    "        lista_rmse.append(rmse)\n",
    "        lista_smape.append(smape)\n",
    "        lista_exetime.append(exetime)\n",
    "    \n",
    "    raw_data = {'Serie': lista_family,\n",
    "                'Modelo': 'Glounts Deep AR',\n",
    "                'MAE':  lista_mae,\n",
    "                'RMSE': lista_rmse,\n",
    "                'sMAPE': lista_smape, \n",
    "                'Processing Time': lista_exetime}\n",
    "    \n",
    "    df_tbl = pd.DataFrame(raw_data)\n",
    "    \n",
    "    comparison_tbl = pd.concat([comparison_tbl, df_tbl], ignore_index=True)\n",
    "    \n",
    "    return comparison_tbl"
   ]
  },
  {
   "cell_type": "code",
   "execution_count": null,
   "metadata": {},
   "outputs": [
    {
     "data": {
      "text/html": [
       "<div>\n",
       "<style scoped>\n",
       "    .dataframe tbody tr th:only-of-type {\n",
       "        vertical-align: middle;\n",
       "    }\n",
       "\n",
       "    .dataframe tbody tr th {\n",
       "        vertical-align: top;\n",
       "    }\n",
       "\n",
       "    .dataframe thead th {\n",
       "        text-align: right;\n",
       "    }\n",
       "</style>\n",
       "<table border=\"1\" class=\"dataframe\">\n",
       "  <thead>\n",
       "    <tr style=\"text-align: right;\">\n",
       "      <th></th>\n",
       "      <th>Serie</th>\n",
       "      <th>Modelo</th>\n",
       "      <th>MAE</th>\n",
       "      <th>RMSE</th>\n",
       "      <th>sMAPE</th>\n",
       "      <th>Processing Time</th>\n",
       "    </tr>\n",
       "  </thead>\n",
       "  <tbody>\n",
       "    <tr>\n",
       "      <th>130</th>\n",
       "      <td>expo_3</td>\n",
       "      <td>Glounts Deep AR</td>\n",
       "      <td>135.491901</td>\n",
       "      <td>146.753620</td>\n",
       "      <td>0.420255</td>\n",
       "      <td>0.1</td>\n",
       "    </tr>\n",
       "    <tr>\n",
       "      <th>131</th>\n",
       "      <td>expo_4</td>\n",
       "      <td>Glounts Deep AR</td>\n",
       "      <td>39.285555</td>\n",
       "      <td>55.438986</td>\n",
       "      <td>0.490382</td>\n",
       "      <td>0.1</td>\n",
       "    </tr>\n",
       "    <tr>\n",
       "      <th>132</th>\n",
       "      <td>expo_5</td>\n",
       "      <td>Glounts Deep AR</td>\n",
       "      <td>100.163306</td>\n",
       "      <td>107.438102</td>\n",
       "      <td>0.929222</td>\n",
       "      <td>0.1</td>\n",
       "    </tr>\n",
       "    <tr>\n",
       "      <th>133</th>\n",
       "      <td>impo_1</td>\n",
       "      <td>Glounts Deep AR</td>\n",
       "      <td>893.290283</td>\n",
       "      <td>976.204634</td>\n",
       "      <td>0.302469</td>\n",
       "      <td>0.1</td>\n",
       "    </tr>\n",
       "    <tr>\n",
       "      <th>134</th>\n",
       "      <td>impo_2</td>\n",
       "      <td>Glounts Deep AR</td>\n",
       "      <td>468.920086</td>\n",
       "      <td>511.354963</td>\n",
       "      <td>0.755665</td>\n",
       "      <td>0.1</td>\n",
       "    </tr>\n",
       "    <tr>\n",
       "      <th>135</th>\n",
       "      <td>impo_3</td>\n",
       "      <td>Glounts Deep AR</td>\n",
       "      <td>29.988889</td>\n",
       "      <td>39.672423</td>\n",
       "      <td>1.349579</td>\n",
       "      <td>0.1</td>\n",
       "    </tr>\n",
       "    <tr>\n",
       "      <th>136</th>\n",
       "      <td>impo_4</td>\n",
       "      <td>Glounts Deep AR</td>\n",
       "      <td>129.571404</td>\n",
       "      <td>132.943423</td>\n",
       "      <td>1.104780</td>\n",
       "      <td>0.1</td>\n",
       "    </tr>\n",
       "    <tr>\n",
       "      <th>137</th>\n",
       "      <td>impo_5</td>\n",
       "      <td>Glounts Deep AR</td>\n",
       "      <td>600.393624</td>\n",
       "      <td>913.997314</td>\n",
       "      <td>0.591386</td>\n",
       "      <td>0.1</td>\n",
       "    </tr>\n",
       "    <tr>\n",
       "      <th>138</th>\n",
       "      <td>impo_6</td>\n",
       "      <td>Glounts Deep AR</td>\n",
       "      <td>343.171177</td>\n",
       "      <td>426.975197</td>\n",
       "      <td>0.461060</td>\n",
       "      <td>0.1</td>\n",
       "    </tr>\n",
       "    <tr>\n",
       "      <th>139</th>\n",
       "      <td>impo_7</td>\n",
       "      <td>Glounts Deep AR</td>\n",
       "      <td>108.761310</td>\n",
       "      <td>118.138561</td>\n",
       "      <td>0.331779</td>\n",
       "      <td>0.1</td>\n",
       "    </tr>\n",
       "  </tbody>\n",
       "</table>\n",
       "</div>"
      ],
      "text/plain": [
       "      Serie           Modelo         MAE        RMSE     sMAPE  \\\n",
       "130  expo_3  Glounts Deep AR  135.491901  146.753620  0.420255   \n",
       "131  expo_4  Glounts Deep AR   39.285555   55.438986  0.490382   \n",
       "132  expo_5  Glounts Deep AR  100.163306  107.438102  0.929222   \n",
       "133  impo_1  Glounts Deep AR  893.290283  976.204634  0.302469   \n",
       "134  impo_2  Glounts Deep AR  468.920086  511.354963  0.755665   \n",
       "135  impo_3  Glounts Deep AR   29.988889   39.672423  1.349579   \n",
       "136  impo_4  Glounts Deep AR  129.571404  132.943423  1.104780   \n",
       "137  impo_5  Glounts Deep AR  600.393624  913.997314  0.591386   \n",
       "138  impo_6  Glounts Deep AR  343.171177  426.975197  0.461060   \n",
       "139  impo_7  Glounts Deep AR  108.761310  118.138561  0.331779   \n",
       "\n",
       "     Processing Time  \n",
       "130              0.1  \n",
       "131              0.1  \n",
       "132              0.1  \n",
       "133              0.1  \n",
       "134              0.1  \n",
       "135              0.1  \n",
       "136              0.1  \n",
       "137              0.1  \n",
       "138              0.1  \n",
       "139              0.1  "
      ]
     },
     "execution_count": 90,
     "metadata": {},
     "output_type": "execute_result"
    }
   ],
   "source": [
    "comparison_tbl=guardar_metricas(comparison_tbl, all_preds, exetime)"
   ]
  },
  {
   "cell_type": "markdown",
   "metadata": {},
   "source": [
    "#### 2.3.1 Glounts Deep AR - Variable exogena"
   ]
  },
  {
   "cell_type": "code",
   "execution_count": null,
   "metadata": {},
   "outputs": [],
   "source": []
  }
 ],
 "metadata": {
  "kernelspec": {
   "display_name": "modelling-torch",
   "language": "python",
   "name": "python3"
  },
  "language_info": {
   "codemirror_mode": {
    "name": "ipython",
    "version": 3
   },
   "file_extension": ".py",
   "mimetype": "text/x-python",
   "name": "python",
   "nbconvert_exporter": "python",
   "pygments_lexer": "ipython3",
   "version": "3.10.6"
  },
  "orig_nbformat": 4
 },
 "nbformat": 4,
 "nbformat_minor": 2
}
