{
 "cells": [
  {
   "cell_type": "markdown",
   "metadata": {},
   "source": [
    "# Project 101\n",
    "### PARTE 0 - Extracción de Datos"
   ]
  },
  {
   "cell_type": "markdown",
   "metadata": {},
   "source": [
    "### Contenido\n",
    "- [Extracción de datos](#1)"
   ]
  },
  {
   "cell_type": "markdown",
   "metadata": {},
   "source": [
    "Importamos las librerias a utilizar"
   ]
  },
  {
   "cell_type": "code",
   "execution_count": 1,
   "metadata": {},
   "outputs": [],
   "source": [
    "import pyodbc \n",
    "import pandas as pd\n",
    "from database_credentials import Server, UID, PWD"
   ]
  },
  {
   "cell_type": "markdown",
   "metadata": {},
   "source": [
    "#### EDA <a id='eda'></a>"
   ]
  },
  {
   "cell_type": "markdown",
   "metadata": {},
   "source": [
    "##### Conexion a DB"
   ]
  },
  {
   "cell_type": "code",
   "execution_count": 2,
   "metadata": {},
   "outputs": [],
   "source": [
    "cnxn_str= (\"Driver={SQL Server};\"\n",
    "            f\"Server={Server};\"\n",
    "            \"Database=Raico;\"\n",
    "            f\"UID={UID};\"\n",
    "            f\"PWD={PWD};\")\n",
    "cnxn = pyodbc.connect(cnxn_str)"
   ]
  },
  {
   "cell_type": "code",
   "execution_count": 3,
   "metadata": {},
   "outputs": [
    {
     "name": "stderr",
     "output_type": "stream",
     "text": [
      "c:\\Users\\Bravo15\\anaconda3\\lib\\site-packages\\pandas\\io\\sql.py:761: UserWarning: pandas only support SQLAlchemy connectable(engine/connection) ordatabase string URI or sqlite3 DBAPI2 connectionother DBAPI2 objects are not tested, please consider using SQLAlchemy\n",
      "  warnings.warn(\n",
      "c:\\Users\\Bravo15\\anaconda3\\lib\\site-packages\\pandas\\io\\sql.py:761: UserWarning: pandas only support SQLAlchemy connectable(engine/connection) ordatabase string URI or sqlite3 DBAPI2 connectionother DBAPI2 objects are not tested, please consider using SQLAlchemy\n",
      "  warnings.warn(\n",
      "c:\\Users\\Bravo15\\anaconda3\\lib\\site-packages\\pandas\\io\\sql.py:761: UserWarning: pandas only support SQLAlchemy connectable(engine/connection) ordatabase string URI or sqlite3 DBAPI2 connectionother DBAPI2 objects are not tested, please consider using SQLAlchemy\n",
      "  warnings.warn(\n",
      "c:\\Users\\Bravo15\\anaconda3\\lib\\site-packages\\pandas\\io\\sql.py:761: UserWarning: pandas only support SQLAlchemy connectable(engine/connection) ordatabase string URI or sqlite3 DBAPI2 connectionother DBAPI2 objects are not tested, please consider using SQLAlchemy\n",
      "  warnings.warn(\n",
      "c:\\Users\\Bravo15\\anaconda3\\lib\\site-packages\\pandas\\io\\sql.py:761: UserWarning: pandas only support SQLAlchemy connectable(engine/connection) ordatabase string URI or sqlite3 DBAPI2 connectionother DBAPI2 objects are not tested, please consider using SQLAlchemy\n",
      "  warnings.warn(\n",
      "c:\\Users\\Bravo15\\anaconda3\\lib\\site-packages\\pandas\\io\\sql.py:761: UserWarning: pandas only support SQLAlchemy connectable(engine/connection) ordatabase string URI or sqlite3 DBAPI2 connectionother DBAPI2 objects are not tested, please consider using SQLAlchemy\n",
      "  warnings.warn(\n"
     ]
    }
   ],
   "source": [
    "query_guias= '''\n",
    "    SELECT [Guias_Id]\n",
    "      ,[Guias_Numero]\n",
    "      ,[Guias_Fecha]\n",
    "      ,Guias.Motivos_Id\n",
    "      ,[Proveedores_Id]\n",
    "      ,[Guias_ContraGuia]\n",
    "      ,[Guias_GuiaMadre]\n",
    "      ,[Guias_Tracking]\n",
    "      ,[Paises_Id]\n",
    "      ,[Paises2_Id]\n",
    "      ,[Ciudades_Id]\n",
    "      ,[Ciudades2_Id]\n",
    "      ,[ZonasV_Id]\n",
    "      ,[ZonasIV_Id]\n",
    "      ,[Contenidos_Id]\n",
    "      ,[Guias_Bultos]\n",
    "      ,[Guias_Peso]\n",
    "      ,[Guias_VolLargo]\n",
    "      ,[Guias_VolAncho]\n",
    "      ,[Guias_VolAlto]\n",
    "      ,[Guias_PesoVol]\n",
    "      ,[Guias_FOB]\n",
    "      ,Guias.Clientes_Id\n",
    "      ,[Guias_ExpoTotVta]\n",
    "      ,[Guias_ImpoTotVta]\n",
    "      ,[Guias_VentaI]\n",
    "  FROM [Raico].[dbo].[Guias]\n",
    "  WHERE Guias_Fecha> '2019' \n",
    "  '''\n",
    "  \n",
    "df_guias = pd.read_sql_query(query_guias, cnxn)\n",
    "\n",
    "query_motivos= '''\n",
    "select Motivos_Id, MotivosFac.MotivosFac_Id, MotivosFac_Nombre\n",
    "from motivos\n",
    "inner join MotivosFac\n",
    "on MotivosFac.MotivosFac_Id= Motivos.MotivosFac_Id\n",
    "'''\n",
    "df_motivos= pd.read_sql_query(query_motivos, cnxn)\n",
    "\n",
    "\n",
    "query_paises= '''\n",
    "select Paises_Id, Paises_Codigo, Paises_Nombre\n",
    "from Paises\n",
    "'''\n",
    "df_paises= pd.read_sql_query(query_paises, cnxn)\n",
    "\n",
    "quey_ciudades= '''\n",
    "select Ciudades_Id, Ciudades_Nombre\n",
    "from Ciudades\n",
    "'''\n",
    "df_ciudades= pd.read_sql_query(quey_ciudades, cnxn)\n",
    "\n",
    "query_proveedores= '''\n",
    "select Proveedores_Id, Proveedores_Nombre\n",
    "from Proveedores\n",
    "'''\n",
    "df_proveedores= pd.read_sql_query(query_proveedores, cnxn)\n",
    "\n",
    "query_clientes= '''select Clientes_Id, Clientes_Nombre\n",
    "from clientes'''\n",
    "df_clientes= pd.read_sql_query(query_clientes, cnxn)"
   ]
  },
  {
   "cell_type": "markdown",
   "metadata": {},
   "source": [
    "##### Exportamos los datos"
   ]
  },
  {
   "cell_type": "code",
   "execution_count": 7,
   "metadata": {},
   "outputs": [],
   "source": [
    "df_guias.to_csv('Data/guias.csv', index=False)\n",
    "df_ciudades.to_csv('Data/ciudades.csv', index=False)\n",
    "df_clientes.to_csv('Data/clientes.csv', index=False)\n",
    "df_motivos.to_csv('Data/motivos.csv', index=False)\n",
    "df_paises.to_csv('Data/paises.csv', index=False)\n",
    "df_proveedores.to_csv('Data/proveedores.csv',index=False)"
   ]
  }
 ],
 "metadata": {
  "kernelspec": {
   "display_name": "base",
   "language": "python",
   "name": "python3"
  },
  "language_info": {
   "codemirror_mode": {
    "name": "ipython",
    "version": 3
   },
   "file_extension": ".py",
   "mimetype": "text/x-python",
   "name": "python",
   "nbconvert_exporter": "python",
   "pygments_lexer": "ipython3",
   "version": "3.9.12"
  },
  "orig_nbformat": 4
 },
 "nbformat": 4,
 "nbformat_minor": 2
}
