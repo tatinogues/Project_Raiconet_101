{
 "cells": [
  {
   "cell_type": "markdown",
   "metadata": {},
   "source": [
    "##### Prueba glounts \n",
    "https://forecastegy.com/posts/multiple-time-series-forecasting-with-deepar-in-python/\n",
    "\n",
    "cosas pro buenas definiciones \n",
    "https://medium.com/@gabri_orl/a-primer-on-gluonts-a8bff64b1096"
   ]
  },
  {
   "cell_type": "markdown",
   "metadata": {},
   "source": [
    "Por otro lado, obtenemos datos historicos semanales del tipo de cambio Dolar Blue y el contado con liquidacion para evaluar cual de ellos posee mayor correlacion con las series\n",
    "\n",
    "Cotizacion Dolar Blue obtenido de: https://es.investing.com/currencies/usd-arsb-historical-data"
   ]
  },
  {
   "cell_type": "code",
   "execution_count": 48,
   "metadata": {},
   "outputs": [],
   "source": [
    "import pandas as pd\n",
    "import numpy as np"
   ]
  },
  {
   "cell_type": "code",
   "execution_count": 49,
   "metadata": {},
   "outputs": [],
   "source": [
    "def wmape(y_true, y_pred):\n",
    "    return np.abs(y_true - y_pred).sum() / np.abs(y_true).sum()"
   ]
  },
  {
   "cell_type": "code",
   "execution_count": 50,
   "metadata": {},
   "outputs": [],
   "source": [
    "df_impo_1= pd.read_csv('Data/Modelado/impo 1 - USA FLAT.csv')\n",
    "df_impo_2= pd.read_csv('Data/Modelado/impo 2 - ORIENTE UPS.csv')\n",
    "df_impo_3= pd.read_csv('Data/Modelado/impo 3 - CHINA LATIN LOGISTIC.csv')\n",
    "df_impo_4= pd.read_csv('Data/Modelado/impo 4 - EUROPA UPS.csv')"
   ]
  },
  {
   "cell_type": "code",
   "execution_count": 51,
   "metadata": {},
   "outputs": [
    {
     "data": {
      "text/plain": [
       "209"
      ]
     },
     "execution_count": 51,
     "metadata": {},
     "output_type": "execute_result"
    }
   ],
   "source": [
    "len(df_impo_1)"
   ]
  },
  {
   "cell_type": "code",
   "execution_count": 52,
   "metadata": {},
   "outputs": [],
   "source": [
    "def unificar_df_ar(lista_df):\n",
    "    \n",
    "    lista=[]\n",
    "    for df in lista_df: \n",
    "        \n",
    "        df= df[['ds', 'family', 'y']]\n",
    "        lista.append(df)\n",
    "    \n",
    "    df_final = pd.concat(lista, ignore_index=True)\n",
    "    df_final = df_final[['ds', 'family', 'y']]\n",
    "    df_final.style.format({\"ds\": lambda t: t.strftime(\"%d-%m-%Y\")})\n",
    "    \n",
    "    return df_final    "
   ]
  },
  {
   "cell_type": "code",
   "execution_count": 53,
   "metadata": {},
   "outputs": [],
   "source": [
    "df_impo_1['family']= 'impo_1'\n",
    "df_impo_2['family']='impo_2'\n",
    "df_impo_3['family']='impo_3'"
   ]
  },
  {
   "cell_type": "code",
   "execution_count": 54,
   "metadata": {},
   "outputs": [],
   "source": [
    "lista_dataframe= [df_impo_1, df_impo_2, df_impo_3]\n",
    "df= unificar_df_ar(lista_dataframe)"
   ]
  },
  {
   "cell_type": "code",
   "execution_count": 55,
   "metadata": {},
   "outputs": [],
   "source": [
    "df['ds']= pd.to_datetime(df['ds'])"
   ]
  },
  {
   "cell_type": "code",
   "execution_count": 56,
   "metadata": {},
   "outputs": [
    {
     "data": {
      "text/html": [
       "<div>\n",
       "<style scoped>\n",
       "    .dataframe tbody tr th:only-of-type {\n",
       "        vertical-align: middle;\n",
       "    }\n",
       "\n",
       "    .dataframe tbody tr th {\n",
       "        vertical-align: top;\n",
       "    }\n",
       "\n",
       "    .dataframe thead th {\n",
       "        text-align: right;\n",
       "    }\n",
       "</style>\n",
       "<table border=\"1\" class=\"dataframe\">\n",
       "  <thead>\n",
       "    <tr style=\"text-align: right;\">\n",
       "      <th></th>\n",
       "      <th>ds</th>\n",
       "      <th>family</th>\n",
       "      <th>y</th>\n",
       "    </tr>\n",
       "  </thead>\n",
       "  <tbody>\n",
       "    <tr>\n",
       "      <th>0</th>\n",
       "      <td>2019-01-06</td>\n",
       "      <td>impo_1</td>\n",
       "      <td>1950.0</td>\n",
       "    </tr>\n",
       "    <tr>\n",
       "      <th>1</th>\n",
       "      <td>2019-01-13</td>\n",
       "      <td>impo_1</td>\n",
       "      <td>2402.0</td>\n",
       "    </tr>\n",
       "    <tr>\n",
       "      <th>2</th>\n",
       "      <td>2019-01-20</td>\n",
       "      <td>impo_1</td>\n",
       "      <td>2782.0</td>\n",
       "    </tr>\n",
       "    <tr>\n",
       "      <th>3</th>\n",
       "      <td>2019-01-27</td>\n",
       "      <td>impo_1</td>\n",
       "      <td>3263.0</td>\n",
       "    </tr>\n",
       "    <tr>\n",
       "      <th>4</th>\n",
       "      <td>2019-02-03</td>\n",
       "      <td>impo_1</td>\n",
       "      <td>3843.0</td>\n",
       "    </tr>\n",
       "  </tbody>\n",
       "</table>\n",
       "</div>"
      ],
      "text/plain": [
       "          ds  family       y\n",
       "0 2019-01-06  impo_1  1950.0\n",
       "1 2019-01-13  impo_1  2402.0\n",
       "2 2019-01-20  impo_1  2782.0\n",
       "3 2019-01-27  impo_1  3263.0\n",
       "4 2019-02-03  impo_1  3843.0"
      ]
     },
     "execution_count": 56,
     "metadata": {},
     "output_type": "execute_result"
    }
   ],
   "source": [
    "df.head()"
   ]
  },
  {
   "cell_type": "code",
   "execution_count": 57,
   "metadata": {},
   "outputs": [],
   "source": [
    "train = df.loc[df['ds'] < '2022-11-01']\n",
    "valid = df.loc[df['ds'] >= '2022-11-01']"
   ]
  },
  {
   "cell_type": "code",
   "execution_count": 58,
   "metadata": {},
   "outputs": [
    {
     "data": {
      "text/plain": [
       "27"
      ]
     },
     "execution_count": 58,
     "metadata": {},
     "output_type": "execute_result"
    }
   ],
   "source": [
    "len(valid)"
   ]
  },
  {
   "cell_type": "code",
   "execution_count": 59,
   "metadata": {},
   "outputs": [],
   "source": [
    "from gluonts.dataset.pandas import PandasDataset\n",
    "\n",
    "train_ds = PandasDataset.from_long_dataframe(train, target='y', item_id='family', \n",
    "                                       timestamp='ds', freq='W')"
   ]
  },
  {
   "cell_type": "code",
   "execution_count": 60,
   "metadata": {},
   "outputs": [
    {
     "name": "stderr",
     "output_type": "stream",
     "text": [
      "GPU available: False, used: False\n",
      "TPU available: False, using: 0 TPU cores\n",
      "IPU available: False, using: 0 IPUs\n",
      "HPU available: False, using: 0 HPUs\n",
      "c:\\Users\\Bravo15\\anaconda3\\envs\\modelling-torch\\lib\\site-packages\\pytorch_lightning\\trainer\\configuration_validator.py:71: PossibleUserWarning:\n",
      "\n",
      "You defined a `validation_step` but have no `val_dataloader`. Skipping val loop.\n",
      "\n",
      "\n",
      "  | Name  | Type        | Params | In sizes | Out sizes   \n",
      "----------------------------------------------------------------\n",
      "0 | model | DeepARModel | 36.9 K | ?        | [1, 100, 10]\n",
      "----------------------------------------------------------------\n",
      "36.9 K    Trainable params\n",
      "0         Non-trainable params\n",
      "36.9 K    Total params\n",
      "0.148     Total estimated model params size (MB)\n"
     ]
    },
    {
     "data": {
      "application/vnd.jupyter.widget-view+json": {
       "model_id": "36ed9ce4fa50442aa81e2a9ce613dbed",
       "version_major": 2,
       "version_minor": 0
      },
      "text/plain": [
       "Training: 0it [00:00, ?it/s]"
      ]
     },
     "metadata": {},
     "output_type": "display_data"
    },
    {
     "name": "stderr",
     "output_type": "stream",
     "text": [
      "Epoch 0, global step 50: 'train_loss' reached 7.13343 (best 7.13343), saving model to 'c:\\\\Users\\\\Bravo15\\\\Desktop\\\\raico\\\\Proyecto final\\\\Project_Raiconet_101\\\\lightning_logs\\\\version_69\\\\checkpoints\\\\epoch=0-step=50.ckpt' as top 1\n",
      "Epoch 1, global step 100: 'train_loss' reached 6.63537 (best 6.63537), saving model to 'c:\\\\Users\\\\Bravo15\\\\Desktop\\\\raico\\\\Proyecto final\\\\Project_Raiconet_101\\\\lightning_logs\\\\version_69\\\\checkpoints\\\\epoch=1-step=100.ckpt' as top 1\n",
      "Epoch 2, global step 150: 'train_loss' reached 6.44533 (best 6.44533), saving model to 'c:\\\\Users\\\\Bravo15\\\\Desktop\\\\raico\\\\Proyecto final\\\\Project_Raiconet_101\\\\lightning_logs\\\\version_69\\\\checkpoints\\\\epoch=2-step=150.ckpt' as top 1\n",
      "Epoch 3, global step 200: 'train_loss' was not in top 1\n",
      "Epoch 4, global step 250: 'train_loss' reached 6.21100 (best 6.21100), saving model to 'c:\\\\Users\\\\Bravo15\\\\Desktop\\\\raico\\\\Proyecto final\\\\Project_Raiconet_101\\\\lightning_logs\\\\version_69\\\\checkpoints\\\\epoch=4-step=250.ckpt' as top 1\n",
      "Epoch 5, global step 300: 'train_loss' was not in top 1\n",
      "Epoch 6, global step 350: 'train_loss' was not in top 1\n",
      "Epoch 7, global step 400: 'train_loss' was not in top 1\n",
      "Epoch 8, global step 450: 'train_loss' reached 6.13045 (best 6.13045), saving model to 'c:\\\\Users\\\\Bravo15\\\\Desktop\\\\raico\\\\Proyecto final\\\\Project_Raiconet_101\\\\lightning_logs\\\\version_69\\\\checkpoints\\\\epoch=8-step=450.ckpt' as top 1\n",
      "Epoch 9, global step 500: 'train_loss' was not in top 1\n",
      "Epoch 10, global step 550: 'train_loss' reached 5.83237 (best 5.83237), saving model to 'c:\\\\Users\\\\Bravo15\\\\Desktop\\\\raico\\\\Proyecto final\\\\Project_Raiconet_101\\\\lightning_logs\\\\version_69\\\\checkpoints\\\\epoch=10-step=550.ckpt' as top 1\n",
      "Epoch 11, global step 600: 'train_loss' was not in top 1\n",
      "Epoch 12, global step 650: 'train_loss' was not in top 1\n",
      "Epoch 13, global step 700: 'train_loss' was not in top 1\n",
      "Epoch 14, global step 750: 'train_loss' was not in top 1\n",
      "Epoch 15, global step 800: 'train_loss' reached 5.78176 (best 5.78176), saving model to 'c:\\\\Users\\\\Bravo15\\\\Desktop\\\\raico\\\\Proyecto final\\\\Project_Raiconet_101\\\\lightning_logs\\\\version_69\\\\checkpoints\\\\epoch=15-step=800.ckpt' as top 1\n",
      "Epoch 16, global step 850: 'train_loss' was not in top 1\n",
      "Epoch 17, global step 900: 'train_loss' was not in top 1\n",
      "Epoch 18, global step 950: 'train_loss' was not in top 1\n",
      "Epoch 19, global step 1000: 'train_loss' reached 5.73984 (best 5.73984), saving model to 'c:\\\\Users\\\\Bravo15\\\\Desktop\\\\raico\\\\Proyecto final\\\\Project_Raiconet_101\\\\lightning_logs\\\\version_69\\\\checkpoints\\\\epoch=19-step=1000.ckpt' as top 1\n",
      "Epoch 20, global step 1050: 'train_loss' was not in top 1\n",
      "Epoch 21, global step 1100: 'train_loss' was not in top 1\n",
      "Epoch 22, global step 1150: 'train_loss' was not in top 1\n",
      "Epoch 23, global step 1200: 'train_loss' was not in top 1\n",
      "Epoch 24, global step 1250: 'train_loss' was not in top 1\n",
      "Epoch 25, global step 1300: 'train_loss' was not in top 1\n",
      "Epoch 26, global step 1350: 'train_loss' was not in top 1\n",
      "Epoch 27, global step 1400: 'train_loss' reached 5.71733 (best 5.71733), saving model to 'c:\\\\Users\\\\Bravo15\\\\Desktop\\\\raico\\\\Proyecto final\\\\Project_Raiconet_101\\\\lightning_logs\\\\version_69\\\\checkpoints\\\\epoch=27-step=1400.ckpt' as top 1\n",
      "Epoch 28, global step 1450: 'train_loss' was not in top 1\n",
      "Epoch 29, global step 1500: 'train_loss' was not in top 1\n",
      "`Trainer.fit` stopped: `max_epochs=30` reached.\n"
     ]
    }
   ],
   "source": [
    "from gluonts.torch.model.deepar import DeepAREstimator\n",
    "\n",
    "estimator = DeepAREstimator(freq='W', #la frecuencia de los datos es semanal por lo que el modelo debe ser semanal tambien\n",
    "                            context_length=4, # el modelo va a usar las ultimas 4 semanas para predecir la siguiente \n",
    "                            prediction_length=10, # va a predecir las proximas 10 semanas \n",
    "                            num_layers=3, #el modelo posee tres capas con un default de 40 nodos por capa \n",
    "                            dropout_rate= 0.2, #seteo de 20% de las units en una layer en cero de forma random, el default es 0.1\n",
    "                            trainer_kwargs={ 'max_epochs':30}) #en vez de poner un early stopping defino un max epoch de 30\n",
    "\n",
    "predictor = estimator.train(train_ds, num_workers=2)"
   ]
  },
  {
   "cell_type": "code",
   "execution_count": 61,
   "metadata": {},
   "outputs": [],
   "source": [
    "pred = list(predictor.predict(train_ds))"
   ]
  },
  {
   "cell_type": "code",
   "execution_count": 62,
   "metadata": {},
   "outputs": [
    {
     "data": {
      "text/plain": [
       "0.4233193068858342"
      ]
     },
     "execution_count": 62,
     "metadata": {},
     "output_type": "execute_result"
    }
   ],
   "source": [
    "all_preds = list()\n",
    "for item in pred:\n",
    "    family = item.item_id\n",
    "    p = item.samples.mean(axis=0)\n",
    "    p10 = np.percentile(item.samples, 10, axis=0)\n",
    "    p90 = np.percentile(item.samples, 90, axis=0)\n",
    "    p25 = np.percentile(item.samples, 25, axis=0)\n",
    "    p75 = np.percentile(item.samples, 75, axis=0)\n",
    "    dates = pd.date_range(start=item.start_date.to_timestamp(), periods=len(p), freq='W')\n",
    "    family_pred = pd.DataFrame({'ds': dates, \n",
    "                                'family': family,\n",
    "                                'pred': p,\n",
    "                                'p25': p25,\n",
    "                                'p75': p75,\n",
    "                                'p10': p10, \n",
    "                                'p90': p90})\n",
    "    all_preds += [family_pred]\n",
    "all_preds = pd.concat(all_preds, ignore_index=True)\n",
    "all_preds = all_preds.merge(valid, on=['ds', 'family'], how='left')\n",
    "\n",
    "all_preds.dropna(inplace=True)\n",
    "\n",
    "wmape(all_preds['y'], all_preds['pred'])"
   ]
  },
  {
   "cell_type": "code",
   "execution_count": 63,
   "metadata": {},
   "outputs": [
    {
     "data": {
      "text/html": [
       "<div>\n",
       "<style scoped>\n",
       "    .dataframe tbody tr th:only-of-type {\n",
       "        vertical-align: middle;\n",
       "    }\n",
       "\n",
       "    .dataframe tbody tr th {\n",
       "        vertical-align: top;\n",
       "    }\n",
       "\n",
       "    .dataframe thead th {\n",
       "        text-align: right;\n",
       "    }\n",
       "</style>\n",
       "<table border=\"1\" class=\"dataframe\">\n",
       "  <thead>\n",
       "    <tr style=\"text-align: right;\">\n",
       "      <th></th>\n",
       "      <th>ds</th>\n",
       "      <th>family</th>\n",
       "      <th>pred</th>\n",
       "      <th>p25</th>\n",
       "      <th>p75</th>\n",
       "      <th>p10</th>\n",
       "      <th>p90</th>\n",
       "      <th>y</th>\n",
       "    </tr>\n",
       "  </thead>\n",
       "  <tbody>\n",
       "    <tr>\n",
       "      <th>0</th>\n",
       "      <td>2022-11-06</td>\n",
       "      <td>impo_1</td>\n",
       "      <td>3.534516e+03</td>\n",
       "      <td>3.016410e+03</td>\n",
       "      <td>4.136897e+03</td>\n",
       "      <td>2.586153e+03</td>\n",
       "      <td>4.603896e+03</td>\n",
       "      <td>3067.0</td>\n",
       "    </tr>\n",
       "    <tr>\n",
       "      <th>1</th>\n",
       "      <td>2022-11-13</td>\n",
       "      <td>impo_1</td>\n",
       "      <td>4.233324e+03</td>\n",
       "      <td>3.488875e+03</td>\n",
       "      <td>4.805924e+03</td>\n",
       "      <td>3.062530e+03</td>\n",
       "      <td>5.821342e+03</td>\n",
       "      <td>2557.0</td>\n",
       "    </tr>\n",
       "    <tr>\n",
       "      <th>2</th>\n",
       "      <td>2022-11-20</td>\n",
       "      <td>impo_1</td>\n",
       "      <td>4.202205e+03</td>\n",
       "      <td>3.520620e+03</td>\n",
       "      <td>5.008361e+03</td>\n",
       "      <td>2.785067e+03</td>\n",
       "      <td>5.754860e+03</td>\n",
       "      <td>1651.0</td>\n",
       "    </tr>\n",
       "    <tr>\n",
       "      <th>3</th>\n",
       "      <td>2022-11-27</td>\n",
       "      <td>impo_1</td>\n",
       "      <td>4.280624e+03</td>\n",
       "      <td>3.541265e+03</td>\n",
       "      <td>5.053482e+03</td>\n",
       "      <td>2.839637e+03</td>\n",
       "      <td>5.771206e+03</td>\n",
       "      <td>2538.0</td>\n",
       "    </tr>\n",
       "    <tr>\n",
       "      <th>4</th>\n",
       "      <td>2022-12-04</td>\n",
       "      <td>impo_1</td>\n",
       "      <td>4.237413e+03</td>\n",
       "      <td>3.199849e+03</td>\n",
       "      <td>5.216983e+03</td>\n",
       "      <td>2.418987e+03</td>\n",
       "      <td>5.923500e+03</td>\n",
       "      <td>2321.0</td>\n",
       "    </tr>\n",
       "    <tr>\n",
       "      <th>5</th>\n",
       "      <td>2022-12-11</td>\n",
       "      <td>impo_1</td>\n",
       "      <td>4.329830e+03</td>\n",
       "      <td>3.405455e+03</td>\n",
       "      <td>5.129216e+03</td>\n",
       "      <td>2.767741e+03</td>\n",
       "      <td>5.799688e+03</td>\n",
       "      <td>4285.0</td>\n",
       "    </tr>\n",
       "    <tr>\n",
       "      <th>6</th>\n",
       "      <td>2022-12-18</td>\n",
       "      <td>impo_1</td>\n",
       "      <td>4.498466e+03</td>\n",
       "      <td>3.803968e+03</td>\n",
       "      <td>5.296319e+03</td>\n",
       "      <td>2.673329e+03</td>\n",
       "      <td>6.034997e+03</td>\n",
       "      <td>4084.0</td>\n",
       "    </tr>\n",
       "    <tr>\n",
       "      <th>7</th>\n",
       "      <td>2022-12-25</td>\n",
       "      <td>impo_1</td>\n",
       "      <td>4.193477e+03</td>\n",
       "      <td>3.207196e+03</td>\n",
       "      <td>4.933800e+03</td>\n",
       "      <td>2.747939e+03</td>\n",
       "      <td>6.013289e+03</td>\n",
       "      <td>3274.0</td>\n",
       "    </tr>\n",
       "    <tr>\n",
       "      <th>8</th>\n",
       "      <td>2023-01-01</td>\n",
       "      <td>impo_1</td>\n",
       "      <td>3.903644e+03</td>\n",
       "      <td>2.978430e+03</td>\n",
       "      <td>4.917489e+03</td>\n",
       "      <td>2.388354e+03</td>\n",
       "      <td>5.630591e+03</td>\n",
       "      <td>2813.0</td>\n",
       "    </tr>\n",
       "    <tr>\n",
       "      <th>10</th>\n",
       "      <td>2022-11-06</td>\n",
       "      <td>impo_2</td>\n",
       "      <td>2.508251e+02</td>\n",
       "      <td>1.269317e+02</td>\n",
       "      <td>4.208515e+02</td>\n",
       "      <td>-1.102715e+02</td>\n",
       "      <td>6.016490e+02</td>\n",
       "      <td>446.8</td>\n",
       "    </tr>\n",
       "    <tr>\n",
       "      <th>11</th>\n",
       "      <td>2022-11-13</td>\n",
       "      <td>impo_2</td>\n",
       "      <td>2.095388e+02</td>\n",
       "      <td>1.044303e+02</td>\n",
       "      <td>3.093975e+02</td>\n",
       "      <td>-2.342538e+01</td>\n",
       "      <td>3.949237e+02</td>\n",
       "      <td>634.9</td>\n",
       "    </tr>\n",
       "    <tr>\n",
       "      <th>12</th>\n",
       "      <td>2022-11-20</td>\n",
       "      <td>impo_2</td>\n",
       "      <td>1.336593e+02</td>\n",
       "      <td>4.500060e+01</td>\n",
       "      <td>3.071277e+02</td>\n",
       "      <td>-1.351325e+02</td>\n",
       "      <td>4.259456e+02</td>\n",
       "      <td>366.8</td>\n",
       "    </tr>\n",
       "    <tr>\n",
       "      <th>13</th>\n",
       "      <td>2022-11-27</td>\n",
       "      <td>impo_2</td>\n",
       "      <td>1.777208e+02</td>\n",
       "      <td>1.716528e+01</td>\n",
       "      <td>3.034080e+02</td>\n",
       "      <td>-1.740904e+02</td>\n",
       "      <td>4.883538e+02</td>\n",
       "      <td>351.2</td>\n",
       "    </tr>\n",
       "    <tr>\n",
       "      <th>14</th>\n",
       "      <td>2022-12-04</td>\n",
       "      <td>impo_2</td>\n",
       "      <td>8.451703e+01</td>\n",
       "      <td>-3.299856e+01</td>\n",
       "      <td>2.497767e+02</td>\n",
       "      <td>-2.318023e+02</td>\n",
       "      <td>3.899801e+02</td>\n",
       "      <td>458.5</td>\n",
       "    </tr>\n",
       "    <tr>\n",
       "      <th>15</th>\n",
       "      <td>2022-12-11</td>\n",
       "      <td>impo_2</td>\n",
       "      <td>2.621480e+02</td>\n",
       "      <td>3.212300e+01</td>\n",
       "      <td>3.859015e+02</td>\n",
       "      <td>-8.959272e+01</td>\n",
       "      <td>5.341225e+02</td>\n",
       "      <td>285.5</td>\n",
       "    </tr>\n",
       "    <tr>\n",
       "      <th>16</th>\n",
       "      <td>2022-12-18</td>\n",
       "      <td>impo_2</td>\n",
       "      <td>3.193409e+02</td>\n",
       "      <td>5.775788e+01</td>\n",
       "      <td>4.761066e+02</td>\n",
       "      <td>-1.685795e+02</td>\n",
       "      <td>6.670768e+02</td>\n",
       "      <td>391.0</td>\n",
       "    </tr>\n",
       "    <tr>\n",
       "      <th>17</th>\n",
       "      <td>2022-12-25</td>\n",
       "      <td>impo_2</td>\n",
       "      <td>1.775708e+02</td>\n",
       "      <td>2.448604e+01</td>\n",
       "      <td>3.011061e+02</td>\n",
       "      <td>-1.030284e+02</td>\n",
       "      <td>4.983107e+02</td>\n",
       "      <td>317.0</td>\n",
       "    </tr>\n",
       "    <tr>\n",
       "      <th>18</th>\n",
       "      <td>2023-01-01</td>\n",
       "      <td>impo_2</td>\n",
       "      <td>1.196284e+02</td>\n",
       "      <td>-5.042941e+00</td>\n",
       "      <td>2.786878e+02</td>\n",
       "      <td>-1.175173e+02</td>\n",
       "      <td>4.527833e+02</td>\n",
       "      <td>237.0</td>\n",
       "    </tr>\n",
       "    <tr>\n",
       "      <th>20</th>\n",
       "      <td>2022-11-06</td>\n",
       "      <td>impo_3</td>\n",
       "      <td>-1.344735e-12</td>\n",
       "      <td>-1.703082e-12</td>\n",
       "      <td>-8.185724e-13</td>\n",
       "      <td>-2.410142e-12</td>\n",
       "      <td>-3.434475e-13</td>\n",
       "      <td>0.0</td>\n",
       "    </tr>\n",
       "    <tr>\n",
       "      <th>21</th>\n",
       "      <td>2022-11-13</td>\n",
       "      <td>impo_3</td>\n",
       "      <td>1.348198e-13</td>\n",
       "      <td>-1.496283e-12</td>\n",
       "      <td>1.057128e-12</td>\n",
       "      <td>-2.680149e-12</td>\n",
       "      <td>2.540998e-12</td>\n",
       "      <td>0.0</td>\n",
       "    </tr>\n",
       "  </tbody>\n",
       "</table>\n",
       "</div>"
      ],
      "text/plain": [
       "           ds  family          pred           p25           p75           p10  \\\n",
       "0  2022-11-06  impo_1  3.534516e+03  3.016410e+03  4.136897e+03  2.586153e+03   \n",
       "1  2022-11-13  impo_1  4.233324e+03  3.488875e+03  4.805924e+03  3.062530e+03   \n",
       "2  2022-11-20  impo_1  4.202205e+03  3.520620e+03  5.008361e+03  2.785067e+03   \n",
       "3  2022-11-27  impo_1  4.280624e+03  3.541265e+03  5.053482e+03  2.839637e+03   \n",
       "4  2022-12-04  impo_1  4.237413e+03  3.199849e+03  5.216983e+03  2.418987e+03   \n",
       "5  2022-12-11  impo_1  4.329830e+03  3.405455e+03  5.129216e+03  2.767741e+03   \n",
       "6  2022-12-18  impo_1  4.498466e+03  3.803968e+03  5.296319e+03  2.673329e+03   \n",
       "7  2022-12-25  impo_1  4.193477e+03  3.207196e+03  4.933800e+03  2.747939e+03   \n",
       "8  2023-01-01  impo_1  3.903644e+03  2.978430e+03  4.917489e+03  2.388354e+03   \n",
       "10 2022-11-06  impo_2  2.508251e+02  1.269317e+02  4.208515e+02 -1.102715e+02   \n",
       "11 2022-11-13  impo_2  2.095388e+02  1.044303e+02  3.093975e+02 -2.342538e+01   \n",
       "12 2022-11-20  impo_2  1.336593e+02  4.500060e+01  3.071277e+02 -1.351325e+02   \n",
       "13 2022-11-27  impo_2  1.777208e+02  1.716528e+01  3.034080e+02 -1.740904e+02   \n",
       "14 2022-12-04  impo_2  8.451703e+01 -3.299856e+01  2.497767e+02 -2.318023e+02   \n",
       "15 2022-12-11  impo_2  2.621480e+02  3.212300e+01  3.859015e+02 -8.959272e+01   \n",
       "16 2022-12-18  impo_2  3.193409e+02  5.775788e+01  4.761066e+02 -1.685795e+02   \n",
       "17 2022-12-25  impo_2  1.775708e+02  2.448604e+01  3.011061e+02 -1.030284e+02   \n",
       "18 2023-01-01  impo_2  1.196284e+02 -5.042941e+00  2.786878e+02 -1.175173e+02   \n",
       "20 2022-11-06  impo_3 -1.344735e-12 -1.703082e-12 -8.185724e-13 -2.410142e-12   \n",
       "21 2022-11-13  impo_3  1.348198e-13 -1.496283e-12  1.057128e-12 -2.680149e-12   \n",
       "\n",
       "             p90       y  \n",
       "0   4.603896e+03  3067.0  \n",
       "1   5.821342e+03  2557.0  \n",
       "2   5.754860e+03  1651.0  \n",
       "3   5.771206e+03  2538.0  \n",
       "4   5.923500e+03  2321.0  \n",
       "5   5.799688e+03  4285.0  \n",
       "6   6.034997e+03  4084.0  \n",
       "7   6.013289e+03  3274.0  \n",
       "8   5.630591e+03  2813.0  \n",
       "10  6.016490e+02   446.8  \n",
       "11  3.949237e+02   634.9  \n",
       "12  4.259456e+02   366.8  \n",
       "13  4.883538e+02   351.2  \n",
       "14  3.899801e+02   458.5  \n",
       "15  5.341225e+02   285.5  \n",
       "16  6.670768e+02   391.0  \n",
       "17  4.983107e+02   317.0  \n",
       "18  4.527833e+02   237.0  \n",
       "20 -3.434475e-13     0.0  \n",
       "21  2.540998e-12     0.0  "
      ]
     },
     "execution_count": 63,
     "metadata": {},
     "output_type": "execute_result"
    }
   ],
   "source": [
    "all_preds.head(20)"
   ]
  },
  {
   "cell_type": "code",
   "execution_count": 64,
   "metadata": {},
   "outputs": [
    {
     "data": {
      "text/html": [
       "\n",
       "        <iframe\n",
       "            width=\"100%\"\n",
       "            height=\"650\"\n",
       "            src=\"http://127.0.0.1:8050/\"\n",
       "            frameborder=\"0\"\n",
       "            allowfullscreen\n",
       "            \n",
       "        ></iframe>\n",
       "        "
      ],
      "text/plain": [
       "<IPython.lib.display.IFrame at 0x2153bed05e0>"
      ]
     },
     "metadata": {},
     "output_type": "display_data"
    }
   ],
   "source": [
    "from dash import Dash, dcc, html, Input, Output\n",
    "import plotly.graph_objs as go\n",
    "import plotly.express as px\n",
    "import dash_bootstrap_components as dbc\n",
    "\n",
    "app = Dash(external_stylesheets=[dbc.themes.DARKLY])\n",
    "\n",
    "\n",
    "\n",
    "dropdown = dcc.Dropdown(\n",
    "    id=\"ticker\",\n",
    "    options=[{\"label\": family, \"value\": family} for family in df[\"family\"].unique()],\n",
    "    value=\"impo_1\",\n",
    "    clearable=False\n",
    ")\n",
    "\n",
    "app.layout = html.Div([\n",
    "    html.H4('Deep AR Resultados'),\n",
    "    html.P(\"Seleccionar motivo:\"),\n",
    "    dropdown,\n",
    "    dcc.Graph(id=\"time-series-chart\"),\n",
    "])\n",
    "\n",
    "\n",
    "@app.callback(\n",
    "    Output(\"time-series-chart\", \"figure\"), \n",
    "    Input(\"ticker\", \"value\"))\n",
    "\n",
    "def display_time_series(ticker):\n",
    "    df_pivot = df.pivot(index='ds', columns='family', values='y')\n",
    "    df_pivot = df_pivot.reset_index()\n",
    "    df_pivot = df_pivot.fillna(0)\n",
    "    \n",
    "    fig = px.line(df_pivot, x='ds', y=ticker, title=ticker, template= \"plotly_dark\")\n",
    "    \n",
    "    #bandas de percentiles \n",
    "    p_ = all_preds.loc[all_preds['family'] == ticker]\n",
    "    fig.add_trace(go.Scatter(x=p_['ds'], y=p_['p10'], mode='lines', line=dict(color='rgba(255, 165, 0, 0.2)'), name='p10'))\n",
    "    fig.add_trace(go.Scatter(x=p_['ds'], y=p_['p90'], mode='lines', line=dict(color='rgba(255, 165, 0, 0.2)'), name='p90', fill='tonexty', fillcolor='rgba(255, 165, 0, 0.2)'))\n",
    "    fig.add_trace(go.Scatter(x=p_['ds'], y=p_['p25'], mode='lines', line=dict(color='orange'), name='p25'))\n",
    "    fig.add_trace(go.Scatter(x=p_['ds'], y=p_['p75'], mode='lines', line=dict(color='orange'), name='p75', fill='tonexty', fillcolor='rgba(255, 165, 0, 0.2)'))\n",
    "    fig.add_trace(go.Scatter(x=p_['ds'], y=p_['pred'], mode='lines', line=dict(color='orange'), name='Forecast'))\n",
    "    return fig\n",
    "\n",
    "\n",
    "if __name__ == \"__main__\":\n",
    "    app.run_server(debug=True)\n"
   ]
  },
  {
   "cell_type": "code",
   "execution_count": 65,
   "metadata": {},
   "outputs": [],
   "source": [
    "### Deep AR con serie de la cotizacion del dolar Blue"
   ]
  },
  {
   "cell_type": "code",
   "execution_count": 66,
   "metadata": {},
   "outputs": [],
   "source": [
    "df_cot_dolar_blue= pd.read_csv('Data/Datos históricos USD_ARSB.csv')"
   ]
  },
  {
   "cell_type": "code",
   "execution_count": 67,
   "metadata": {},
   "outputs": [
    {
     "data": {
      "text/html": [
       "<div>\n",
       "<style scoped>\n",
       "    .dataframe tbody tr th:only-of-type {\n",
       "        vertical-align: middle;\n",
       "    }\n",
       "\n",
       "    .dataframe tbody tr th {\n",
       "        vertical-align: top;\n",
       "    }\n",
       "\n",
       "    .dataframe thead th {\n",
       "        text-align: right;\n",
       "    }\n",
       "</style>\n",
       "<table border=\"1\" class=\"dataframe\">\n",
       "  <thead>\n",
       "    <tr style=\"text-align: right;\">\n",
       "      <th></th>\n",
       "      <th>Fecha</th>\n",
       "      <th>Último</th>\n",
       "      <th>Apertura</th>\n",
       "      <th>Máximo</th>\n",
       "      <th>Mínimo</th>\n",
       "      <th>Vol.</th>\n",
       "      <th>% var.</th>\n",
       "    </tr>\n",
       "  </thead>\n",
       "  <tbody>\n",
       "    <tr>\n",
       "      <th>0</th>\n",
       "      <td>29.01.2023</td>\n",
       "      <td>377,00</td>\n",
       "      <td>389,00</td>\n",
       "      <td>377,00</td>\n",
       "      <td>377,00</td>\n",
       "      <td>NaN</td>\n",
       "      <td>-1,82%</td>\n",
       "    </tr>\n",
       "    <tr>\n",
       "      <th>1</th>\n",
       "      <td>22.01.2023</td>\n",
       "      <td>384,00</td>\n",
       "      <td>377,00</td>\n",
       "      <td>384,00</td>\n",
       "      <td>384,00</td>\n",
       "      <td>NaN</td>\n",
       "      <td>2,67%</td>\n",
       "    </tr>\n",
       "    <tr>\n",
       "      <th>2</th>\n",
       "      <td>15.01.2023</td>\n",
       "      <td>374,00</td>\n",
       "      <td>368,00</td>\n",
       "      <td>374,00</td>\n",
       "      <td>374,00</td>\n",
       "      <td>NaN</td>\n",
       "      <td>1,91%</td>\n",
       "    </tr>\n",
       "    <tr>\n",
       "      <th>3</th>\n",
       "      <td>08.01.2023</td>\n",
       "      <td>367,00</td>\n",
       "      <td>356,00</td>\n",
       "      <td>367,00</td>\n",
       "      <td>367,00</td>\n",
       "      <td>NaN</td>\n",
       "      <td>4,26%</td>\n",
       "    </tr>\n",
       "    <tr>\n",
       "      <th>4</th>\n",
       "      <td>01.01.2023</td>\n",
       "      <td>352,00</td>\n",
       "      <td>350,00</td>\n",
       "      <td>352,00</td>\n",
       "      <td>352,00</td>\n",
       "      <td>NaN</td>\n",
       "      <td>2,33%</td>\n",
       "    </tr>\n",
       "  </tbody>\n",
       "</table>\n",
       "</div>"
      ],
      "text/plain": [
       "        Fecha  Último Apertura  Máximo  Mínimo  Vol.  % var.\n",
       "0  29.01.2023  377,00   389,00  377,00  377,00   NaN  -1,82%\n",
       "1  22.01.2023  384,00   377,00  384,00  384,00   NaN   2,67%\n",
       "2  15.01.2023  374,00   368,00  374,00  374,00   NaN   1,91%\n",
       "3  08.01.2023  367,00   356,00  367,00  367,00   NaN   4,26%\n",
       "4  01.01.2023  352,00   350,00  352,00  352,00   NaN   2,33%"
      ]
     },
     "execution_count": 67,
     "metadata": {},
     "output_type": "execute_result"
    }
   ],
   "source": [
    "df_cot_dolar_blue.head()"
   ]
  },
  {
   "cell_type": "code",
   "execution_count": 68,
   "metadata": {},
   "outputs": [
    {
     "data": {
      "text/plain": [
       "Fecha        object\n",
       "Último       object\n",
       "Apertura     object\n",
       "Máximo       object\n",
       "Mínimo       object\n",
       "Vol.        float64\n",
       "% var.       object\n",
       "dtype: object"
      ]
     },
     "execution_count": 68,
     "metadata": {},
     "output_type": "execute_result"
    }
   ],
   "source": [
    "df_cot_dolar_blue.dtypes"
   ]
  },
  {
   "cell_type": "code",
   "execution_count": 69,
   "metadata": {},
   "outputs": [],
   "source": [
    "df_cot_dolar_blue['Fecha'] = pd.to_datetime(df_cot_dolar_blue['Fecha'], format='%d.%m.%Y')"
   ]
  },
  {
   "cell_type": "code",
   "execution_count": 70,
   "metadata": {},
   "outputs": [],
   "source": [
    "df_cot_dolar_blue= df_cot_dolar_blue[['Fecha', 'Último']]"
   ]
  },
  {
   "cell_type": "code",
   "execution_count": 71,
   "metadata": {},
   "outputs": [
    {
     "data": {
      "text/html": [
       "<div>\n",
       "<style scoped>\n",
       "    .dataframe tbody tr th:only-of-type {\n",
       "        vertical-align: middle;\n",
       "    }\n",
       "\n",
       "    .dataframe tbody tr th {\n",
       "        vertical-align: top;\n",
       "    }\n",
       "\n",
       "    .dataframe thead th {\n",
       "        text-align: right;\n",
       "    }\n",
       "</style>\n",
       "<table border=\"1\" class=\"dataframe\">\n",
       "  <thead>\n",
       "    <tr style=\"text-align: right;\">\n",
       "      <th></th>\n",
       "      <th>ds</th>\n",
       "      <th>family</th>\n",
       "      <th>y</th>\n",
       "    </tr>\n",
       "  </thead>\n",
       "  <tbody>\n",
       "    <tr>\n",
       "      <th>0</th>\n",
       "      <td>2019-01-06</td>\n",
       "      <td>impo_1</td>\n",
       "      <td>1950.0</td>\n",
       "    </tr>\n",
       "    <tr>\n",
       "      <th>1</th>\n",
       "      <td>2019-01-13</td>\n",
       "      <td>impo_1</td>\n",
       "      <td>2402.0</td>\n",
       "    </tr>\n",
       "    <tr>\n",
       "      <th>2</th>\n",
       "      <td>2019-01-20</td>\n",
       "      <td>impo_1</td>\n",
       "      <td>2782.0</td>\n",
       "    </tr>\n",
       "    <tr>\n",
       "      <th>3</th>\n",
       "      <td>2019-01-27</td>\n",
       "      <td>impo_1</td>\n",
       "      <td>3263.0</td>\n",
       "    </tr>\n",
       "    <tr>\n",
       "      <th>4</th>\n",
       "      <td>2019-02-03</td>\n",
       "      <td>impo_1</td>\n",
       "      <td>3843.0</td>\n",
       "    </tr>\n",
       "  </tbody>\n",
       "</table>\n",
       "</div>"
      ],
      "text/plain": [
       "          ds  family       y\n",
       "0 2019-01-06  impo_1  1950.0\n",
       "1 2019-01-13  impo_1  2402.0\n",
       "2 2019-01-20  impo_1  2782.0\n",
       "3 2019-01-27  impo_1  3263.0\n",
       "4 2019-02-03  impo_1  3843.0"
      ]
     },
     "execution_count": 71,
     "metadata": {},
     "output_type": "execute_result"
    }
   ],
   "source": [
    "## Dataframe unificado\n",
    "df.head()"
   ]
  },
  {
   "cell_type": "markdown",
   "metadata": {},
   "source": [
    "Para cada fecha tengo que mapear la cotizacion del dolar de esa semana, para eso como ya tengo los dos datasets en el mismo formato mapeo con un dic el valor de la cotizacion de cada semana usando las fechas "
   ]
  },
  {
   "cell_type": "code",
   "execution_count": 72,
   "metadata": {},
   "outputs": [],
   "source": [
    "df_merged = df.merge(df_cot_dolar_blue, left_on='ds', right_on='Fecha', how='left')\n",
    "\n",
    "# Renombra la columna 'Último' a 'cotizacion' y elimina la columna 'fecha'\n",
    "df_merged = df_merged.rename(columns={'Último': 'cotizacion'}).drop('Fecha', axis=1)"
   ]
  },
  {
   "cell_type": "code",
   "execution_count": 73,
   "metadata": {},
   "outputs": [
    {
     "data": {
      "text/html": [
       "<div>\n",
       "<style scoped>\n",
       "    .dataframe tbody tr th:only-of-type {\n",
       "        vertical-align: middle;\n",
       "    }\n",
       "\n",
       "    .dataframe tbody tr th {\n",
       "        vertical-align: top;\n",
       "    }\n",
       "\n",
       "    .dataframe thead th {\n",
       "        text-align: right;\n",
       "    }\n",
       "</style>\n",
       "<table border=\"1\" class=\"dataframe\">\n",
       "  <thead>\n",
       "    <tr style=\"text-align: right;\">\n",
       "      <th></th>\n",
       "      <th>ds</th>\n",
       "      <th>family</th>\n",
       "      <th>y</th>\n",
       "      <th>cotizacion</th>\n",
       "    </tr>\n",
       "  </thead>\n",
       "  <tbody>\n",
       "    <tr>\n",
       "      <th>0</th>\n",
       "      <td>2019-01-06</td>\n",
       "      <td>impo_1</td>\n",
       "      <td>1950.0</td>\n",
       "      <td>39,00</td>\n",
       "    </tr>\n",
       "    <tr>\n",
       "      <th>1</th>\n",
       "      <td>2019-01-13</td>\n",
       "      <td>impo_1</td>\n",
       "      <td>2402.0</td>\n",
       "      <td>38,88</td>\n",
       "    </tr>\n",
       "    <tr>\n",
       "      <th>2</th>\n",
       "      <td>2019-01-20</td>\n",
       "      <td>impo_1</td>\n",
       "      <td>2782.0</td>\n",
       "      <td>38,12</td>\n",
       "    </tr>\n",
       "    <tr>\n",
       "      <th>3</th>\n",
       "      <td>2019-01-27</td>\n",
       "      <td>impo_1</td>\n",
       "      <td>3263.0</td>\n",
       "      <td>37,62</td>\n",
       "    </tr>\n",
       "    <tr>\n",
       "      <th>4</th>\n",
       "      <td>2019-02-03</td>\n",
       "      <td>impo_1</td>\n",
       "      <td>3843.0</td>\n",
       "      <td>37,38</td>\n",
       "    </tr>\n",
       "  </tbody>\n",
       "</table>\n",
       "</div>"
      ],
      "text/plain": [
       "          ds  family       y cotizacion\n",
       "0 2019-01-06  impo_1  1950.0      39,00\n",
       "1 2019-01-13  impo_1  2402.0      38,88\n",
       "2 2019-01-20  impo_1  2782.0      38,12\n",
       "3 2019-01-27  impo_1  3263.0      37,62\n",
       "4 2019-02-03  impo_1  3843.0      37,38"
      ]
     },
     "execution_count": 73,
     "metadata": {},
     "output_type": "execute_result"
    }
   ],
   "source": [
    "df= df_merged\n",
    "df.head()"
   ]
  },
  {
   "cell_type": "code",
   "execution_count": null,
   "metadata": {},
   "outputs": [],
   "source": []
  }
 ],
 "metadata": {
  "kernelspec": {
   "display_name": "pr_modelado2",
   "language": "python",
   "name": "python3"
  },
  "language_info": {
   "codemirror_mode": {
    "name": "ipython",
    "version": 3
   },
   "file_extension": ".py",
   "mimetype": "text/x-python",
   "name": "python",
   "nbconvert_exporter": "python",
   "pygments_lexer": "ipython3",
   "version": "3.10.6"
  },
  "orig_nbformat": 4
 },
 "nbformat": 4,
 "nbformat_minor": 2
}
